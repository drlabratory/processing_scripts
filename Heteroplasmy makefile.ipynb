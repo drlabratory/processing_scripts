{
 "metadata": {
  "name": "",
  "signature": "sha256:756962526fbf3eb1363bb11a53c48845154a29d68cc6a0c9457ec4fc8c02c938"
 },
 "nbformat": 3,
 "nbformat_minor": 0,
 "worksheets": [
  {
   "cells": [
    {
     "cell_type": "heading",
     "level": 1,
     "metadata": {},
     "source": [
      "Pipeline creation; mitochondrial heteroplasmy"
     ]
    },
    {
     "cell_type": "markdown",
     "metadata": {},
     "source": [
      "The goal of the project is to download, map, and call all the variants of *C. neoformans* samples in the EBI ENA database, specifically the mitochondrial sequences.\n",
      "\n",
      "I don't have disk space to download the read files and map all 378 (!) samples. \n",
      "\n",
      "The outline is:\n",
      "* Download Master XML from ENA of the PRJNA174567 project from Broad\n",
      "* Grep sequencing run names, download sequencing files\n",
      "* Load into pandas, sort and make directory names\n",
      "* For each directory:\n",
      "    * Download read files\n",
      "    * Trim\n",
      "    * Map to H99 reference\n",
      "    * Delete Fastq files\n",
      "    * Samtools sort\n",
      "    * samtools merge\n",
      "    * samtools index\n",
      "    * delete intermediary *.bam files\n",
      "    * Run FreeBayes to call variants\n"
     ]
    },
    {
     "cell_type": "heading",
     "level": 2,
     "metadata": {},
     "source": [
      "Parsing the master XML"
     ]
    },
    {
     "cell_type": "markdown",
     "metadata": {},
     "source": [
      "PRJNA174567 is the master project name that contains links to all the other projects. It can be [downloaded here][1]. I could parse this as XML, except all I'm really interested in is the project name. Once I have that I can format the URL to give text files back with what I need.\n",
      "\n",
      "[1]: http://www.ebi.ac.uk/ena/data/view/PRJNA174567&display=xml"
     ]
    },
    {
     "cell_type": "code",
     "collapsed": false,
     "input": [
      "!ls *xml"
     ],
     "language": "python",
     "metadata": {},
     "outputs": [
      {
       "output_type": "stream",
       "stream": "stdout",
       "text": [
        "PRJNA174567.xml\r\n",
        "\r\n",
        "other_xml:\r\n",
        "Cryptococcus_neoformans\t\t    Cryptococcus_neoformans_Bt68       Cryptococcus_neoformans_RSAMW1340  Cryptococcus_neoformans_RSAMW5913\r\n",
        "Cryptococcus_neoformans_12591\t    Cryptococcus_neoformans_Bt7        Cryptococcus_neoformans_RSAMW1485  Cryptococcus_neoformans_RSAMW628\r\n",
        "Cryptococcus_neoformans_620\t    Cryptococcus_neoformans_Bt70       Cryptococcus_neoformans_RSAMW1746  Cryptococcus_neoformans_RSAMW852\r\n",
        "Cryptococcus_neoformans_AD795\t    Cryptococcus_neoformans_Bt85       Cryptococcus_neoformans_RSAMW2015  Cryptococcus_neoformans_RSAMW913\r\n",
        "Cryptococcus_neoformans_ATCC_48184  Cryptococcus_neoformans_Bt96       Cryptococcus_neoformans_RSAMW2163  Cryptococcus_neoformans_S1\r\n",
        "Cryptococcus_neoformans_Br795\t    Cryptococcus_neoformans_Bt97       Cryptococcus_neoformans_RSAMW2364  Cryptococcus_neoformans_S3\r\n",
        "Cryptococcus_neoformans_Bt1\t    Cryptococcus_neoformans_Bt98       Cryptococcus_neoformans_RSAMW2645  Cryptococcus_neoformans_S4\r\n",
        "Cryptococcus_neoformans_Bt132\t    Cryptococcus_neoformans_Bt99       Cryptococcus_neoformans_RSAMW2799  Cryptococcus_neoformans_S6\r\n",
        "Cryptococcus_neoformans_Bt15\t    Cryptococcus_neoformans_C2\t       Cryptococcus_neoformans_RSAMW2914  Cryptococcus_neoformans_S7\r\n",
        "Cryptococcus_neoformans_Bt164\t    Cryptococcus_neoformans_C23        Cryptococcus_neoformans_RSAMW2967  Cryptococcus_neoformans_Th84\r\n",
        "Cryptococcus_neoformans_Bt17\t    Cryptococcus_neoformans_C45        Cryptococcus_neoformans_RSAMW3156  Cryptococcus_neoformans_var_neoformans_222\r\n",
        "Cryptococcus_neoformans_Bt18\t    Cryptococcus_neoformans_C8\t       Cryptococcus_neoformans_RSAMW3179  Cryptococcus_neoformans_var_neoformans_315\r\n",
        "Cryptococcus_neoformans_Bt19\t    Cryptococcus_neoformans_CHC193     Cryptococcus_neoformans_RSAMW3316  Cryptococcus_neoformans_var_neoformans_431\r\n",
        "Cryptococcus_neoformans_Bt2\t    Cryptococcus_neoformans_G0\t       Cryptococcus_neoformans_RSAMW3335  Cryptococcus_neoformans_var_neoformans_AD399\r\n",
        "Cryptococcus_neoformans_Bt20\t    Cryptococcus_neoformans_Gb118      Cryptococcus_neoformans_RSAMW3393  Cryptococcus_neoformans_var_neoformans_B3179\r\n",
        "Cryptococcus_neoformans_Bt202\t    Cryptococcus_neoformans_HC1        Cryptococcus_neoformans_RSAMW3451  Cryptococcus_neoformans_var_neoformans_CDC9218\r\n",
        "Cryptococcus_neoformans_Bt206\t    Cryptococcus_neoformans_It756      Cryptococcus_neoformans_RSAMW3474  Cryptococcus_neoformans_var_neoformans_CDC9227\r\n",
        "Cryptococcus_neoformans_Bt35\t    Cryptococcus_neoformans_IUM924686  Cryptococcus_neoformans_RSAMW3580  Cryptococcus_neoformans_var_neoformans_MMRL751\r\n",
        "Cryptococcus_neoformans_Bt43\t    Cryptococcus_neoformans_MMRL1361   Cryptococcus_neoformans_RSAMW36\t  Cryptococcus_neoformans_var_neoformans_MMRL757\r\n",
        "Cryptococcus_neoformans_Bt44\t    Cryptococcus_neoformans_MWRSA722   Cryptococcus_neoformans_RSAMW3615  Cryptococcus_neoformans_var_neoformans_MMRL760\r\n",
        "Cryptococcus_neoformans_Bt45\t    Cryptococcus_neoformans_MWRSA82    Cryptococcus_neoformans_RSAMW3747  Cryptococcus_neoformans_var_neoformans_S15\r\n",
        "Cryptococcus_neoformans_Bt46\t    Cryptococcus_neoformans_NC3421     Cryptococcus_neoformans_RSAMW3877  Cryptococcus_neoformans_var_neoformans_S17\r\n",
        "Cryptococcus_neoformans_Bt47\t    Cryptococcus_neoformans_Pr68       Cryptococcus_neoformans_RSAMW3956  Cryptococcus_neoformans_var_neoformans_VANCR461\r\n",
        "Cryptococcus_neoformans_Bt60\t    Cryptococcus_neoformans_RSAMW1052  Cryptococcus_neoformans_RSAMW4085  Cryptococcus_neoformans_Zg287\r\n",
        "Cryptococcus_neoformans_Bt62\t    Cryptococcus_neoformans_RSAMW1186  Cryptococcus_neoformans_RSAMW4119\r\n",
        "Cryptococcus_neoformans_Bt63\t    Cryptococcus_neoformans_RSAMW1281  Cryptococcus_neoformans_RSAMW506\r\n",
        "Cryptococcus_neoformans_Bt66\t    Cryptococcus_neoformans_RSAMW1327  Cryptococcus_neoformans_RSAMW5465\r\n"
       ]
      }
     ],
     "prompt_number": 1
    },
    {
     "cell_type": "code",
     "collapsed": false,
     "input": [
      "!head *.xml"
     ],
     "language": "python",
     "metadata": {},
     "outputs": [
      {
       "output_type": "stream",
       "stream": "stdout",
       "text": [
        "<?xml version=\"1.0\" encoding=\"UTF-8\"?>\r\n",
        "<ROOT request=\"PRJNA174567&amp;display=XML\">\r\n",
        "<PROJECT accession=\"PRJNA174567\" center_name=\"Broad Institute\" first_public=\"2013-05-31+01:00\">\r\n",
        "     <IDENTIFIERS>\r\n",
        "          <PRIMARY_ID>PRJNA174567</PRIMARY_ID>\r\n",
        "     </IDENTIFIERS>\r\n",
        "     <TITLE>Cryptococcus Genome sequencing</TITLE>\r\n",
        "     <DESCRIPTION>Genome Sequencing of Cryptococcus.</DESCRIPTION>\r\n",
        "     <UMBRELLA_PROJECT/>\r\n",
        "     <RELATED_PROJECTS>\r\n"
       ]
      }
     ],
     "prompt_number": 2
    },
    {
     "cell_type": "code",
     "collapsed": false,
     "input": [
      "project_names = !grep CHILD_PROJECT PRJNA174567.xml\n",
      "\n",
      "project_list = []\n",
      "for line in project_names:\n",
      "    project_list.append(line.split('\\\"')[1])\n",
      "    \n",
      "len(project_list)"
     ],
     "language": "python",
     "metadata": {},
     "outputs": [
      {
       "metadata": {},
       "output_type": "pyout",
       "prompt_number": 3,
       "text": [
        "394"
       ]
      }
     ],
     "prompt_number": 3
    },
    {
     "cell_type": "code",
     "collapsed": false,
     "input": [
      "!mkdir project_text"
     ],
     "language": "python",
     "metadata": {},
     "outputs": [
      {
       "output_type": "stream",
       "stream": "stdout",
       "text": [
        "mkdir: cannot create directory \u2018project_text\u2019: File exists\r\n"
       ]
      }
     ],
     "prompt_number": 8
    },
    {
     "cell_type": "code",
     "collapsed": true,
     "input": [
      "for projects in project_list:\n",
      "    url = 'http://www.ebi.ac.uk/ena/data/warehouse/filereport'\n",
      "    options = '?accession=' + projects\n",
      "    rest = '&result=read_run&fields=study_accession,sample_accession,experiment_accession,run_accession,scientific_name,instrument_model,library_layout,fastq_ftp'\n",
      "    full_url = url + options + rest\n",
      "    url_file_name = projects + '.txt'\n",
      "    !curl \"$full_url\" > ./project_text/$url_file_name"
     ],
     "language": "python",
     "metadata": {},
     "outputs": [
      {
       "output_type": "stream",
       "stream": "stdout",
       "text": [
        "  % Total    % Received % Xferd  Average Speed   Time    Time     Time  Current\r\n",
        "                                 Dload  Upload   Total   Spent    Left  Speed\r\n",
        "\r",
        "  0     0    0     0    0     0      0      0 --:--:-- --:--:-- --:--:--     0"
       ]
      },
      {
       "output_type": "stream",
       "stream": "stdout",
       "text": [
        "\r",
        "100   126    0   126    0     0    168      0 --:--:-- --:--:-- --:--:--   168\r\n"
       ]
      },
      {
       "output_type": "stream",
       "stream": "stdout",
       "text": [
        "  % Total    % Received % Xferd  Average Speed   Time    Time     Time  Current\r\n",
        "                                 Dload  Upload   Total   Spent    Left  Speed\r\n",
        "\r",
        "  0     0    0     0    0     0      0      0 --:--:-- --:--:-- --:--:--     0"
       ]
      },
      {
       "output_type": "stream",
       "stream": "stdout",
       "text": [
        "\r",
        "100   624    0   624    0     0   2255      0 --:--:-- --:--:-- --:--:--  2260\r\n"
       ]
      },
      {
       "output_type": "stream",
       "stream": "stdout",
       "text": [
        "  % Total    % Received % Xferd  Average Speed   Time    Time     Time  Current\r\n",
        "                                 Dload  Upload   Total   Spent    Left  Speed\r\n",
        "\r",
        "  0     0    0     0    0     0      0      0 --:--:-- --:--:-- --:--:--     0"
       ]
      },
      {
       "output_type": "stream",
       "stream": "stdout",
       "text": [
        "\r",
        "100  1494    0  1494    0     0   5337      0 --:--:-- --:--:-- --:--:--  5354\r\n"
       ]
      },
      {
       "output_type": "stream",
       "stream": "stdout",
       "text": [
        "  % Total    % Received % Xferd  Average Speed   Time    Time     Time  Current\r\n",
        "                                 Dload  Upload   Total   Spent    Left  Speed\r\n",
        "\r",
        "  0     0    0     0    0     0      0      0 --:--:-- --:--:-- --:--:--     0"
       ]
      },
      {
       "output_type": "stream",
       "stream": "stdout",
       "text": [
        "\r",
        "  0     0    0     0    0     0      0      0 --:--:-- --:--:-- --:--:--     0"
       ]
      },
      {
       "output_type": "stream",
       "stream": "stdout",
       "text": [
        "\r",
        "100   622    0   622    0     0   2456      0 --:--:-- --:--:-- --:--:--  2448\r\n"
       ]
      },
      {
       "output_type": "stream",
       "stream": "stdout",
       "text": [
        "  % Total    % Received % Xferd  Average Speed   Time    Time     Time  Current\r\n",
        "                                 Dload  Upload   Total   Spent    Left  Speed\r\n",
        "\r",
        "  0     0    0     0    0     0      0      0 --:--:-- --:--:-- --:--:--     0"
       ]
      },
      {
       "output_type": "stream",
       "stream": "stdout",
       "text": [
        "\r",
        "100  1488    0  1488    0     0   6368      0 --:--:-- --:--:-- --:--:--  6386\r\n"
       ]
      },
      {
       "output_type": "stream",
       "stream": "stdout",
       "text": [
        "  % Total    % Received % Xferd  Average Speed   Time    Time     Time  Current\r\n",
        "                                 Dload  Upload   Total   Spent    Left  Speed\r\n",
        "\r",
        "  0     0    0     0    0     0      0      0 --:--:-- --:--:-- --:--:--     0"
       ]
      },
      {
       "output_type": "stream",
       "stream": "stdout",
       "text": [
        "\r",
        "100   126    0   126    0     0    263      0 --:--:-- --:--:-- --:--:--   263\r\n"
       ]
      },
      {
       "output_type": "stream",
       "stream": "stdout",
       "text": [
        "  % Total    % Received % Xferd  Average Speed   Time    Time     Time  Current\r\n",
        "                                 Dload  Upload   Total   Spent    Left  Speed\r\n",
        "\r",
        "  0     0    0     0    0     0      0      0 --:--:-- --:--:-- --:--:--     0"
       ]
      },
      {
       "output_type": "stream",
       "stream": "stdout",
       "text": [
        "\r",
        "  0     0    0     0    0     0      0      0 --:--:--  0:00:01 --:--:--     0"
       ]
      },
      {
       "output_type": "stream",
       "stream": "stdout",
       "text": [
        "\r",
        "  0     0    0     0    0     0      0      0 --:--:--  0:00:02 --:--:--     0"
       ]
      },
      {
       "output_type": "stream",
       "stream": "stdout",
       "text": [
        "\r",
        "100   126    0   126    0     0     42      0 --:--:--  0:00:02 --:--:--    42\r",
        "100   126    0   126    0     0     42      0 --:--:--  0:00:02 --:--:--    42\r\n"
       ]
      },
      {
       "output_type": "stream",
       "stream": "stdout",
       "text": [
        "  % Total    % Received % Xferd  Average Speed   Time    Time     Time  Current\r\n",
        "                                 Dload  Upload   Total   Spent    Left  Speed\r\n",
        "\r",
        "  0     0    0     0    0     0      0      0 --:--:-- --:--:-- --:--:--     0"
       ]
      },
      {
       "output_type": "stream",
       "stream": "stdout",
       "text": [
        "\r",
        "100   628    0   628    0     0    831      0 --:--:-- --:--:-- --:--:--   832\r\n"
       ]
      },
      {
       "output_type": "stream",
       "stream": "stdout",
       "text": [
        "  % Total    % Received % Xferd  Average Speed   Time    Time     Time  Current\r\n",
        "                                 Dload  Upload   Total   Spent    Left  Speed\r\n",
        "\r",
        "  0     0    0     0    0     0      0      0 --:--:-- --:--:-- --:--:--     0"
       ]
      },
      {
       "output_type": "stream",
       "stream": "stdout",
       "text": [
        "\r",
        "100   126    0   126    0     0    257      0 --:--:-- --:--:-- --:--:--   258\r\n"
       ]
      },
      {
       "output_type": "stream",
       "stream": "stdout",
       "text": [
        "  % Total    % Received % Xferd  Average Speed   Time    Time     Time  Current\r\n",
        "                                 Dload  Upload   Total   Spent    Left  Speed\r\n",
        "\r",
        "  0     0    0     0    0     0      0      0 --:--:-- --:--:-- --:--:--     0"
       ]
      },
      {
       "output_type": "stream",
       "stream": "stdout",
       "text": [
        "\r",
        "100   126    0   126    0     0    213      0 --:--:-- --:--:-- --:--:--   213\r",
        "100   126    0   126    0     0    213      0 --:--:-- --:--:-- --:--:--   213\r\n"
       ]
      },
      {
       "output_type": "stream",
       "stream": "stdout",
       "text": [
        "  % Total    % Received % Xferd  Average Speed   Time    Time     Time  Current\r\n",
        "                                 Dload  Upload   Total   Spent    Left  Speed\r\n",
        "\r",
        "  0     0    0     0    0     0      0      0 --:--:-- --:--:-- --:--:--     0"
       ]
      },
      {
       "output_type": "stream",
       "stream": "stdout",
       "text": [
        "\r",
        "100   626    0   626    0     0   2480      0 --:--:-- --:--:-- --:--:--  2484\r\n"
       ]
      },
      {
       "output_type": "stream",
       "stream": "stdout",
       "text": [
        "  % Total    % Received % Xferd  Average Speed   Time    Time     Time  Current\r\n",
        "                                 Dload  Upload   Total   Spent    Left  Speed\r\n",
        "\r",
        "  0     0    0     0    0     0      0      0 --:--:-- --:--:-- --:--:--     0"
       ]
      },
      {
       "output_type": "stream",
       "stream": "stdout",
       "text": [
        "\r",
        "100   632    0   632    0     0   2641      0 --:--:-- --:--:-- --:--:--  2644\r\n"
       ]
      },
      {
       "output_type": "stream",
       "stream": "stdout",
       "text": [
        "  % Total    % Received % Xferd  Average Speed   Time    Time     Time  Current\r\n",
        "                                 Dload  Upload   Total   Spent    Left  Speed\r\n",
        "\r",
        "  0     0    0     0    0     0      0      0 --:--:-- --:--:-- --:--:--     0"
       ]
      },
      {
       "output_type": "stream",
       "stream": "stdout",
       "text": [
        "\r",
        "100   126    0   126    0     0    273      0 --:--:-- --:--:-- --:--:--   273\r\n"
       ]
      },
      {
       "output_type": "stream",
       "stream": "stdout",
       "text": [
        "  % Total    % Received % Xferd  Average Speed   Time    Time     Time  Current\r\n",
        "                                 Dload  Upload   Total   Spent    Left  Speed\r\n",
        "\r",
        "  0     0    0     0    0     0      0      0 --:--:-- --:--:-- --:--:--     0"
       ]
      },
      {
       "output_type": "stream",
       "stream": "stdout",
       "text": [
        "\r",
        "100   126    0   126    0     0    248      0 --:--:-- --:--:-- --:--:--   248\r",
        "100   126    0   126    0     0    248      0 --:--:-- --:--:-- --:--:--   248\r\n"
       ]
      },
      {
       "output_type": "stream",
       "stream": "stdout",
       "text": [
        "  % Total    % Received % Xferd  Average Speed   Time    Time     Time  Current\r\n",
        "                                 Dload  Upload   Total   Spent    Left  Speed\r\n",
        "\r",
        "  0     0    0     0    0     0      0      0 --:--:-- --:--:-- --:--:--     0"
       ]
      },
      {
       "output_type": "stream",
       "stream": "stdout",
       "text": [
        "\r",
        "100  1890    0  1890    0     0   3527      0 --:--:-- --:--:-- --:--:--  3532\r\n"
       ]
      },
      {
       "output_type": "stream",
       "stream": "stdout",
       "text": [
        "  % Total    % Received % Xferd  Average Speed   Time    Time     Time  Current\r\n",
        "                                 Dload  Upload   Total   Spent    Left  Speed\r\n",
        "\r",
        "  0     0    0     0    0     0      0      0 --:--:-- --:--:-- --:--:--     0"
       ]
      },
      {
       "output_type": "stream",
       "stream": "stdout",
       "text": [
        "\r",
        "  0     0    0     0    0     0      0      0 --:--:-- --:--:-- --:--:--     0"
       ]
      },
      {
       "output_type": "stream",
       "stream": "stdout",
       "text": [
        "\r",
        "100   870    0   870    0     0   2822      0 --:--:-- --:--:-- --:--:--  2815\r\n"
       ]
      },
      {
       "output_type": "stream",
       "stream": "stdout",
       "text": [
        "  % Total    % Received % Xferd  Average Speed   Time    Time     Time  Current\r\n",
        "                                 Dload  Upload   Total   Spent    Left  Speed\r\n",
        "\r",
        "  0     0    0     0    0     0      0      0 --:--:-- --:--:-- --:--:--     0"
       ]
      },
      {
       "output_type": "stream",
       "stream": "stdout",
       "text": [
        "\r",
        "100   126    0   126    0     0    240      0 --:--:-- --:--:-- --:--:--   241\r\n"
       ]
      },
      {
       "output_type": "stream",
       "stream": "stdout",
       "text": [
        "  % Total    % Received % Xferd  Average Speed   Time    Time     Time  Current\r\n",
        "                                 Dload  Upload   Total   Spent    Left  Speed\r\n",
        "\r",
        "  0     0    0     0    0     0      0      0 --:--:-- --:--:-- --:--:--     0\r",
        "  0     0    0     0    0     0      0      0 --:--:-- --:--:-- --:--:--     0"
       ]
      },
      {
       "output_type": "stream",
       "stream": "stdout",
       "text": [
        "\r",
        "100  1488    0  1488    0     0   5305      0 --:--:-- --:--:-- --:--:--  5295\r\n"
       ]
      },
      {
       "output_type": "stream",
       "stream": "stdout",
       "text": [
        "  % Total    % Received % Xferd  Average Speed   Time    Time     Time  Current\r\n",
        "                                 Dload  Upload   Total   Spent    Left  Speed\r\n",
        "\r",
        "  0     0    0     0    0     0      0      0 --:--:-- --:--:-- --:--:--     0"
       ]
      },
      {
       "output_type": "stream",
       "stream": "stdout",
       "text": [
        "\r",
        "100   126    0   126    0     0    248      0 --:--:-- --:--:-- --:--:--   248\r\n"
       ]
      },
      {
       "output_type": "stream",
       "stream": "stdout",
       "text": [
        "  % Total    % Received % Xferd  Average Speed   Time    Time     Time  Current\r\n",
        "                                 Dload  Upload   Total   Spent    Left  Speed\r\n",
        "\r",
        "  0     0    0     0    0     0      0      0 --:--:-- --:--:-- --:--:--     0"
       ]
      },
      {
       "output_type": "stream",
       "stream": "stdout",
       "text": [
        "\r",
        "100   126    0   126    0     0    253      0 --:--:-- --:--:-- --:--:--   254\r\n"
       ]
      },
      {
       "output_type": "stream",
       "stream": "stdout",
       "text": [
        "  % Total    % Received % Xferd  Average Speed   Time    Time     Time  Current\r\n",
        "                                 Dload  Upload   Total   Spent    Left  Speed\r\n",
        "\r",
        "  0     0    0     0    0     0      0      0 --:--:-- --:--:-- --:--:--     0"
       ]
      },
      {
       "output_type": "stream",
       "stream": "stdout",
       "text": [
        "\r",
        "100   126    0   126    0     0    255      0 --:--:-- --:--:-- --:--:--   255\r",
        "100   126    0   126    0     0    255      0 --:--:-- --:--:-- --:--:--   255\r\n"
       ]
      },
      {
       "output_type": "stream",
       "stream": "stdout",
       "text": [
        "  % Total    % Received % Xferd  Average Speed   Time    Time     Time  Current\r\n",
        "                                 Dload  Upload   Total   Spent    Left  Speed\r\n",
        "\r",
        "  0     0    0     0    0     0      0      0 --:--:-- --:--:-- --:--:--     0"
       ]
      },
      {
       "output_type": "stream",
       "stream": "stdout",
       "text": [
        "\r",
        "100   126    0   126    0     0    247      0 --:--:-- --:--:-- --:--:--   247\r\n"
       ]
      },
      {
       "output_type": "stream",
       "stream": "stdout",
       "text": [
        "  % Total    % Received % Xferd  Average Speed   Time    Time     Time  Current\r\n",
        "                                 Dload  Upload   Total   Spent    Left  Speed\r\n",
        "\r",
        "  0     0    0     0    0     0      0      0 --:--:-- --:--:-- --:--:--     0"
       ]
      },
      {
       "output_type": "stream",
       "stream": "stdout",
       "text": [
        "\r",
        "  0     0    0     0    0     0      0      0 --:--:-- --:--:-- --:--:--     0"
       ]
      },
      {
       "output_type": "stream",
       "stream": "stdout",
       "text": [
        "\r",
        "100  1126    0  1126    0     0   2905      0 --:--:-- --:--:-- --:--:--  2902\r\n"
       ]
      },
      {
       "output_type": "stream",
       "stream": "stdout",
       "text": [
        "  % Total    % Received % Xferd  Average Speed   Time    Time     Time  Current\r\n",
        "                                 Dload  Upload   Total   Spent    Left  Speed\r\n",
        "\r",
        "  0     0    0     0    0     0      0      0 --:--:-- --:--:-- --:--:--     0"
       ]
      },
      {
       "output_type": "stream",
       "stream": "stdout",
       "text": [
        "\r",
        "100  1482    0  1482    0     0   5166      0 --:--:-- --:--:-- --:--:--  5181\r\n"
       ]
      },
      {
       "output_type": "stream",
       "stream": "stdout",
       "text": [
        "  % Total    % Received % Xferd  Average Speed   Time    Time     Time  Current\r\n",
        "                                 Dload  Upload   Total   Spent    Left  Speed\r\n",
        "\r",
        "  0     0    0     0    0     0      0      0 --:--:-- --:--:-- --:--:--     0"
       ]
      },
      {
       "output_type": "stream",
       "stream": "stdout",
       "text": [
        "\r",
        "100   126    0   126    0     0    167      0 --:--:-- --:--:-- --:--:--   167\r",
        "100   126    0   126    0     0    167      0 --:--:-- --:--:-- --:--:--   167\r\n"
       ]
      },
      {
       "output_type": "stream",
       "stream": "stdout",
       "text": [
        "  % Total    % Received % Xferd  Average Speed   Time    Time     Time  Current\r\n",
        "                                 Dload  Upload   Total   Spent    Left  Speed\r\n",
        "\r",
        "  0     0    0     0    0     0      0      0 --:--:-- --:--:-- --:--:--     0"
       ]
      },
      {
       "output_type": "stream",
       "stream": "stdout",
       "text": [
        "\r",
        "100  1632    0  1632    0     0   6517      0 --:--:-- --:--:-- --:--:--  6528\r\n"
       ]
      },
      {
       "output_type": "stream",
       "stream": "stdout",
       "text": [
        "  % Total    % Received % Xferd  Average Speed   Time    Time     Time  Current\r\n",
        "                                 Dload  Upload   Total   Spent    Left  Speed\r\n",
        "\r",
        "  0     0    0     0    0     0      0      0 --:--:-- --:--:-- --:--:--     0\r",
        "  0     0    0     0    0     0      0      0 --:--:-- --:--:-- --:--:--     0"
       ]
      },
      {
       "output_type": "stream",
       "stream": "stdout",
       "text": [
        "\r",
        "100  1626    0  1626    0     0   6080      0 --:--:-- --:--:-- --:--:--  6067\r\n"
       ]
      },
      {
       "output_type": "stream",
       "stream": "stdout",
       "text": [
        "  % Total    % Received % Xferd  Average Speed   Time    Time     Time  Current\r\n",
        "                                 Dload  Upload   Total   Spent    Left  Speed\r\n",
        "\r",
        "  0     0    0     0    0     0      0      0 --:--:-- --:--:-- --:--:--     0"
       ]
      },
      {
       "output_type": "stream",
       "stream": "stdout",
       "text": [
        "\r",
        "100  1410    0  1410    0     0   5190      0 --:--:-- --:--:-- --:--:--  5202\r\n"
       ]
      },
      {
       "output_type": "stream",
       "stream": "stdout",
       "text": [
        "  % Total    % Received % Xferd  Average Speed   Time    Time     Time  Current\r\n",
        "                                 Dload  Upload   Total   Spent    Left  Speed\r\n",
        "\r",
        "  0     0    0     0    0     0      0      0 --:--:-- --:--:-- --:--:--     0"
       ]
      },
      {
       "output_type": "stream",
       "stream": "stdout",
       "text": [
        "\r",
        "100  1392    0  1392    0     0   5456      0 --:--:-- --:--:-- --:--:--  5458\r",
        "100  1392    0  1392    0     0   5454      0 --:--:-- --:--:-- --:--:--  5437\r\n"
       ]
      },
      {
       "output_type": "stream",
       "stream": "stdout",
       "text": [
        "  % Total    % Received % Xferd  Average Speed   Time    Time     Time  Current\r\n",
        "                                 Dload  Upload   Total   Spent    Left  Speed\r\n",
        "\r",
        "  0     0    0     0    0     0      0      0 --:--:-- --:--:-- --:--:--     0"
       ]
      },
      {
       "output_type": "stream",
       "stream": "stdout",
       "text": [
        "\r",
        "100  1392    0  1392    0     0   4964      0 --:--:-- --:--:-- --:--:--  4971\r\n"
       ]
      },
      {
       "output_type": "stream",
       "stream": "stdout",
       "text": [
        "  % Total    % Received % Xferd  Average Speed   Time    Time     Time  Current\r\n",
        "                                 Dload  Upload   Total   Spent    Left  Speed\r\n",
        "\r",
        "  0     0    0     0    0     0      0      0 --:--:-- --:--:-- --:--:--     0"
       ]
      },
      {
       "output_type": "stream",
       "stream": "stdout",
       "text": [
        "\r",
        "100  1386    0  1386    0     0   4372      0 --:--:-- --:--:-- --:--:--  4386\r\n"
       ]
      },
      {
       "output_type": "stream",
       "stream": "stdout",
       "text": [
        "  % Total    % Received % Xferd  Average Speed   Time    Time     Time  Current\r\n",
        "                                 Dload  Upload   Total   Spent    Left  Speed\r\n",
        "\r",
        "  0     0    0     0    0     0      0      0 --:--:-- --:--:-- --:--:--     0\r",
        "  0     0    0     0    0     0      0      0 --:--:-- --:--:-- --:--:--     0"
       ]
      },
      {
       "output_type": "stream",
       "stream": "stdout",
       "text": [
        "\r",
        "100  1398    0  1398    0     0   4942      0 --:--:-- --:--:-- --:--:--  4939\r\n"
       ]
      },
      {
       "output_type": "stream",
       "stream": "stdout",
       "text": [
        "  % Total    % Received % Xferd  Average Speed   Time    Time     Time  Current\r\n",
        "                                 Dload  Upload   Total   Spent    Left  Speed\r\n",
        "\r",
        "  0     0    0     0    0     0      0      0 --:--:-- --:--:-- --:--:--     0"
       ]
      },
      {
       "output_type": "stream",
       "stream": "stdout",
       "text": [
        "\r",
        "100  1404    0  1404    0     0   5099      0 --:--:-- --:--:-- --:--:--  5105\r\n"
       ]
      },
      {
       "output_type": "stream",
       "stream": "stdout",
       "text": [
        "  % Total    % Received % Xferd  Average Speed   Time    Time     Time  Current\r\n",
        "                                 Dload  Upload   Total   Spent    Left  Speed\r\n",
        "\r",
        "  0     0    0     0    0     0      0      0 --:--:-- --:--:-- --:--:--     0"
       ]
      },
      {
       "output_type": "stream",
       "stream": "stdout",
       "text": [
        "\r",
        "100  1398    0  1398    0     0   5786      0 --:--:-- --:--:-- --:--:--  5776\r",
        "100  1398    0  1398    0     0   5778      0 --:--:-- --:--:-- --:--:--  5776\r\n"
       ]
      },
      {
       "output_type": "stream",
       "stream": "stdout",
       "text": [
        "  % Total    % Received % Xferd  Average Speed   Time    Time     Time  Current\r\n",
        "                                 Dload  Upload   Total   Spent    Left  Speed\r\n",
        "\r",
        "  0     0    0     0    0     0      0      0 --:--:-- --:--:-- --:--:--     0"
       ]
      },
      {
       "output_type": "stream",
       "stream": "stdout",
       "text": [
        "\r",
        "100   594    0   594    0     0   2438      0 --:--:-- --:--:-- --:--:--  2444\r\n"
       ]
      },
      {
       "output_type": "stream",
       "stream": "stdout",
       "text": [
        "  % Total    % Received % Xferd  Average Speed   Time    Time     Time  Current\r\n",
        "                                 Dload  Upload   Total   Spent    Left  Speed\r\n",
        "\r",
        "  0     0    0     0    0     0      0      0 --:--:-- --:--:-- --:--:--     0"
       ]
      },
      {
       "output_type": "stream",
       "stream": "stdout",
       "text": [
        "\r",
        "100   598    0   598    0     0   2217      0 --:--:-- --:--:-- --:--:--  2223\r\n"
       ]
      },
      {
       "output_type": "stream",
       "stream": "stdout",
       "text": [
        "  % Total    % Received % Xferd  Average Speed   Time    Time     Time  Current\r\n",
        "                                 Dload  Upload   Total   Spent    Left  Speed\r\n",
        "\r",
        "  0     0    0     0    0     0      0      0 --:--:-- --:--:-- --:--:--     0"
       ]
      },
      {
       "output_type": "stream",
       "stream": "stdout",
       "text": [
        "\r",
        "  0     0    0     0    0     0      0      0 --:--:-- --:--:-- --:--:--     0"
       ]
      },
      {
       "output_type": "stream",
       "stream": "stdout",
       "text": [
        "\r",
        "100  1070    0  1070    0     0   3055      0 --:--:-- --:--:-- --:--:--  3048\r\n"
       ]
      },
      {
       "output_type": "stream",
       "stream": "stdout",
       "text": [
        "  % Total    % Received % Xferd  Average Speed   Time    Time     Time  Current\r\n",
        "                                 Dload  Upload   Total   Spent    Left  Speed\r\n",
        "\r",
        "  0     0    0     0    0     0      0      0 --:--:-- --:--:-- --:--:--     0"
       ]
      },
      {
       "output_type": "stream",
       "stream": "stdout",
       "text": [
        "\r",
        "100   126    0   126    0     0    234      0 --:--:-- --:--:-- --:--:--   234\r\n"
       ]
      },
      {
       "output_type": "stream",
       "stream": "stdout",
       "text": [
        "  % Total    % Received % Xferd  Average Speed   Time    Time     Time  Current\r\n",
        "                                 Dload  Upload   Total   Spent    Left  Speed\r\n",
        "\r",
        "  0     0    0     0    0     0      0      0 --:--:-- --:--:-- --:--:--     0\r",
        "  0     0    0     0    0     0      0      0 --:--:-- --:--:-- --:--:--     0"
       ]
      },
      {
       "output_type": "stream",
       "stream": "stdout",
       "text": [
        "\r",
        "100   600    0   600    0     0   2151      0 --:--:-- --:--:-- --:--:--  2150\r\n"
       ]
      },
      {
       "output_type": "stream",
       "stream": "stdout",
       "text": [
        "  % Total    % Received % Xferd  Average Speed   Time    Time     Time  Current\r\n",
        "                                 Dload  Upload   Total   Spent    Left  Speed\r\n",
        "\r",
        "  0     0    0     0    0     0      0      0 --:--:-- --:--:-- --:--:--     0"
       ]
      },
      {
       "output_type": "stream",
       "stream": "stdout",
       "text": [
        "\r",
        "100  1398    0  1398    0     0   3773      0 --:--:-- --:--:-- --:--:--  3778\r\n"
       ]
      },
      {
       "output_type": "stream",
       "stream": "stdout",
       "text": [
        "  % Total    % Received % Xferd  Average Speed   Time    Time     Time  Current\r\n",
        "                                 Dload  Upload   Total   Spent    Left  Speed\r\n",
        "\r",
        "  0     0    0     0    0     0      0      0 --:--:-- --:--:-- --:--:--     0"
       ]
      },
      {
       "output_type": "stream",
       "stream": "stdout",
       "text": [
        "\r",
        "  0     0    0     0    0     0      0      0 --:--:-- --:--:-- --:--:--     0"
       ]
      },
      {
       "output_type": "stream",
       "stream": "stdout",
       "text": [
        "\r",
        "100  1398    0  1398    0     0   3825      0 --:--:-- --:--:-- --:--:--  3819\r\n"
       ]
      },
      {
       "output_type": "stream",
       "stream": "stdout",
       "text": [
        "  % Total    % Received % Xferd  Average Speed   Time    Time     Time  Current\r\n",
        "                                 Dload  Upload   Total   Spent    Left  Speed\r\n",
        "\r",
        "  0     0    0     0    0     0      0      0 --:--:-- --:--:-- --:--:--     0"
       ]
      },
      {
       "output_type": "stream",
       "stream": "stdout",
       "text": [
        "\r",
        "100  1608    0  1608    0     0   5703      0 --:--:-- --:--:-- --:--:--  5722\r\n"
       ]
      },
      {
       "output_type": "stream",
       "stream": "stdout",
       "text": [
        "  % Total    % Received % Xferd  Average Speed   Time    Time     Time  Current\r\n",
        "                                 Dload  Upload   Total   Spent    Left  Speed\r\n",
        "\r",
        "  0     0    0     0    0     0      0      0 --:--:-- --:--:-- --:--:--     0"
       ]
      },
      {
       "output_type": "stream",
       "stream": "stdout",
       "text": [
        "\r",
        "  0     0    0     0    0     0      0      0 --:--:-- --:--:-- --:--:--     0"
       ]
      },
      {
       "output_type": "stream",
       "stream": "stdout",
       "text": [
        "\r",
        "100  1608    0  1608    0     0   5227      0 --:--:-- --:--:-- --:--:--  5220\r\n"
       ]
      },
      {
       "output_type": "stream",
       "stream": "stdout",
       "text": [
        "  % Total    % Received % Xferd  Average Speed   Time    Time     Time  Current\r\n",
        "                                 Dload  Upload   Total   Spent    Left  Speed\r\n",
        "\r",
        "  0     0    0     0    0     0      0      0 --:--:-- --:--:-- --:--:--     0"
       ]
      },
      {
       "output_type": "stream",
       "stream": "stdout",
       "text": [
        "\r",
        "100  1608    0  1608    0     0   5742      0 --:--:-- --:--:-- --:--:--  5763\r\n"
       ]
      },
      {
       "output_type": "stream",
       "stream": "stdout",
       "text": [
        "  % Total    % Received % Xferd  Average Speed   Time    Time     Time  Current\r\n",
        "                                 Dload  Upload   Total   Spent    Left  Speed\r\n",
        "\r",
        "  0     0    0     0    0     0      0      0 --:--:-- --:--:-- --:--:--     0"
       ]
      },
      {
       "output_type": "stream",
       "stream": "stdout",
       "text": [
        "\r",
        "100  2150    0  2150    0     0   6798      0 --:--:-- --:--:-- --:--:--  6803\r\n"
       ]
      },
      {
       "output_type": "stream",
       "stream": "stdout",
       "text": [
        "  % Total    % Received % Xferd  Average Speed   Time    Time     Time  Current\r\n",
        "                                 Dload  Upload   Total   Spent    Left  Speed\r\n",
        "\r",
        "  0     0    0     0    0     0      0      0 --:--:-- --:--:-- --:--:--     0"
       ]
      },
      {
       "output_type": "stream",
       "stream": "stdout",
       "text": [
        "\r",
        "100  2102    0  2102    0     0   7220      0 --:--:-- --:--:-- --:--:--  7248\r\n"
       ]
      },
      {
       "output_type": "stream",
       "stream": "stdout",
       "text": [
        "  % Total    % Received % Xferd  Average Speed   Time    Time     Time  Current\r\n",
        "                                 Dload  Upload   Total   Spent    Left  Speed\r\n",
        "\r",
        "  0     0    0     0    0     0      0      0 --:--:-- --:--:-- --:--:--     0"
       ]
      },
      {
       "output_type": "stream",
       "stream": "stdout",
       "text": [
        "\r",
        "100  1608    0  1608    0     0   5180      0 --:--:-- --:--:-- --:--:--  5187\r\n"
       ]
      },
      {
       "output_type": "stream",
       "stream": "stdout",
       "text": [
        "  % Total    % Received % Xferd  Average Speed   Time    Time     Time  Current\r\n",
        "                                 Dload  Upload   Total   Spent    Left  Speed\r\n",
        "\r",
        "  0     0    0     0    0     0      0      0 --:--:-- --:--:-- --:--:--     0"
       ]
      },
      {
       "output_type": "stream",
       "stream": "stdout",
       "text": [
        "\r",
        "  0     0    0     0    0     0      0      0 --:--:-- --:--:-- --:--:--     0"
       ]
      },
      {
       "output_type": "stream",
       "stream": "stdout",
       "text": [
        "\r",
        "100  2102    0  2102    0     0   4464      0 --:--:-- --:--:-- --:--:--  4462\r\n"
       ]
      },
      {
       "output_type": "stream",
       "stream": "stdout",
       "text": [
        "  % Total    % Received % Xferd  Average Speed   Time    Time     Time  Current\r\n",
        "                                 Dload  Upload   Total   Spent    Left  Speed\r\n",
        "\r",
        "  0     0    0     0    0     0      0      0 --:--:-- --:--:-- --:--:--     0"
       ]
      },
      {
       "output_type": "stream",
       "stream": "stdout",
       "text": [
        "\r",
        "100  1602    0  1602    0     0   5069      0 --:--:-- --:--:-- --:--:--  5085\r\n"
       ]
      },
      {
       "output_type": "stream",
       "stream": "stdout",
       "text": [
        "  % Total    % Received % Xferd  Average Speed   Time    Time     Time  Current\r\n",
        "                                 Dload  Upload   Total   Spent    Left  Speed\r\n",
        "\r",
        "  0     0    0     0    0     0      0      0 --:--:-- --:--:-- --:--:--     0"
       ]
      },
      {
       "output_type": "stream",
       "stream": "stdout",
       "text": [
        "\r",
        "  0     0    0     0    0     0      0      0 --:--:-- --:--:-- --:--:--     0"
       ]
      },
      {
       "output_type": "stream",
       "stream": "stdout",
       "text": [
        "\r",
        "100  2150    0  2150    0     0   5762      0 --:--:-- --:--:-- --:--:--  5764\r\n"
       ]
      },
      {
       "output_type": "stream",
       "stream": "stdout",
       "text": [
        "  % Total    % Received % Xferd  Average Speed   Time    Time     Time  Current\r\n",
        "                                 Dload  Upload   Total   Spent    Left  Speed\r\n",
        "\r",
        "  0     0    0     0    0     0      0      0 --:--:-- --:--:-- --:--:--     0"
       ]
      },
      {
       "output_type": "stream",
       "stream": "stdout",
       "text": [
        "\r",
        "100  1608    0  1608    0     0   5156      0 --:--:-- --:--:-- --:--:--  5170\r\n"
       ]
      },
      {
       "output_type": "stream",
       "stream": "stdout",
       "text": [
        "  % Total    % Received % Xferd  Average Speed   Time    Time     Time  Current\r\n",
        "                                 Dload  Upload   Total   Spent    Left  Speed\r\n",
        "\r",
        "  0     0    0     0    0     0      0      0 --:--:-- --:--:-- --:--:--     0"
       ]
      },
      {
       "output_type": "stream",
       "stream": "stdout",
       "text": [
        "\r",
        "  0     0    0     0    0     0      0      0 --:--:-- --:--:-- --:--:--     0"
       ]
      },
      {
       "output_type": "stream",
       "stream": "stdout",
       "text": [
        "\r",
        "100  1608    0  1608    0     0   5547      0 --:--:-- --:--:-- --:--:--  5544\r\n"
       ]
      },
      {
       "output_type": "stream",
       "stream": "stdout",
       "text": [
        "  % Total    % Received % Xferd  Average Speed   Time    Time     Time  Current\r\n",
        "                                 Dload  Upload   Total   Spent    Left  Speed\r\n",
        "\r",
        "  0     0    0     0    0     0      0      0 --:--:-- --:--:-- --:--:--     0"
       ]
      },
      {
       "output_type": "stream",
       "stream": "stdout",
       "text": [
        "\r",
        "100  2102    0  2102    0     0   6907      0 --:--:-- --:--:-- --:--:--  6914\r\n"
       ]
      },
      {
       "output_type": "stream",
       "stream": "stdout",
       "text": [
        "  % Total    % Received % Xferd  Average Speed   Time    Time     Time  Current\r\n",
        "                                 Dload  Upload   Total   Spent    Left  Speed\r\n",
        "\r",
        "  0     0    0     0    0     0      0      0 --:--:-- --:--:-- --:--:--     0"
       ]
      },
      {
       "output_type": "stream",
       "stream": "stdout",
       "text": [
        "\r",
        "100  1608    0  1608    0     0   5296      0 --:--:-- --:--:-- --:--:--  5306\r\n"
       ]
      },
      {
       "output_type": "stream",
       "stream": "stdout",
       "text": [
        "  % Total    % Received % Xferd  Average Speed   Time    Time     Time  Current\r\n",
        "                                 Dload  Upload   Total   Spent    Left  Speed\r\n",
        "\r",
        "  0     0    0     0    0     0      0      0 --:--:-- --:--:-- --:--:--     0"
       ]
      },
      {
       "output_type": "stream",
       "stream": "stdout",
       "text": [
        "\r",
        "100  2150    0  2150    0     0   7573      0 --:--:-- --:--:-- --:--:--  7597\r\n"
       ]
      },
      {
       "output_type": "stream",
       "stream": "stdout",
       "text": [
        "  % Total    % Received % Xferd  Average Speed   Time    Time     Time  Current\r\n",
        "                                 Dload  Upload   Total   Spent    Left  Speed\r\n",
        "\r",
        "  0     0    0     0    0     0      0      0 --:--:-- --:--:-- --:--:--     0"
       ]
      },
      {
       "output_type": "stream",
       "stream": "stdout",
       "text": [
        "\r",
        "100  1608    0  1608    0     0   5189      0 --:--:-- --:--:-- --:--:--  5203\r\n"
       ]
      },
      {
       "output_type": "stream",
       "stream": "stdout",
       "text": [
        "  % Total    % Received % Xferd  Average Speed   Time    Time     Time  Current\r\n",
        "                                 Dload  Upload   Total   Spent    Left  Speed\r\n",
        "\r",
        "  0     0    0     0    0     0      0      0 --:--:-- --:--:-- --:--:--     0"
       ]
      },
      {
       "output_type": "stream",
       "stream": "stdout",
       "text": [
        "\r",
        "  0     0    0     0    0     0      0      0 --:--:-- --:--:-- --:--:--     0"
       ]
      },
      {
       "output_type": "stream",
       "stream": "stdout",
       "text": [
        "\r",
        "100  1602    0  1602    0     0   4603      0 --:--:-- --:--:-- --:--:--  4603\r\n"
       ]
      },
      {
       "output_type": "stream",
       "stream": "stdout",
       "text": [
        "  % Total    % Received % Xferd  Average Speed   Time    Time     Time  Current\r\n",
        "                                 Dload  Upload   Total   Spent    Left  Speed\r\n",
        "\r",
        "  0     0    0     0    0     0      0      0 --:--:-- --:--:-- --:--:--     0"
       ]
      },
      {
       "output_type": "stream",
       "stream": "stdout",
       "text": [
        "\r",
        "100  2102    0  2102    0     0   8526      0 --:--:-- --:--:-- --:--:--  8544\r\n"
       ]
      },
      {
       "output_type": "stream",
       "stream": "stdout",
       "text": [
        "  % Total    % Received % Xferd  Average Speed   Time    Time     Time  Current\r\n",
        "                                 Dload  Upload   Total   Spent    Left  Speed\r\n",
        "\r",
        "  0     0    0     0    0     0      0      0 --:--:-- --:--:-- --:--:--     0"
       ]
      },
      {
       "output_type": "stream",
       "stream": "stdout",
       "text": [
        "\r",
        "100  2126    0  2126    0     0   7517      0 --:--:-- --:--:-- --:--:--  7539\r\n"
       ]
      },
      {
       "output_type": "stream",
       "stream": "stdout",
       "text": [
        "  % Total    % Received % Xferd  Average Speed   Time    Time     Time  Current\r\n",
        "                                 Dload  Upload   Total   Spent    Left  Speed\r\n",
        "\r",
        "  0     0    0     0    0     0      0      0 --:--:-- --:--:-- --:--:--     0"
       ]
      },
      {
       "output_type": "stream",
       "stream": "stdout",
       "text": [
        "\r",
        "100  1626    0  1626    0     0   5721      0 --:--:-- --:--:-- --:--:--  5725\r\n"
       ]
      },
      {
       "output_type": "stream",
       "stream": "stdout",
       "text": [
        "  % Total    % Received % Xferd  Average Speed   Time    Time     Time  Current\r\n",
        "                                 Dload  Upload   Total   Spent    Left  Speed\r\n",
        "\r",
        "  0     0    0     0    0     0      0      0 --:--:-- --:--:-- --:--:--     0"
       ]
      },
      {
       "output_type": "stream",
       "stream": "stdout",
       "text": [
        "\r",
        "100  1608    0  1608    0     0   5694      0 --:--:-- --:--:-- --:--:--  5702\r\n"
       ]
      },
      {
       "output_type": "stream",
       "stream": "stdout",
       "text": [
        "  % Total    % Received % Xferd  Average Speed   Time    Time     Time  Current\r\n",
        "                                 Dload  Upload   Total   Spent    Left  Speed\r\n",
        "\r",
        "  0     0    0     0    0     0      0      0 --:--:-- --:--:-- --:--:--     0"
       ]
      },
      {
       "output_type": "stream",
       "stream": "stdout",
       "text": [
        "\r",
        "  0     0    0     0    0     0      0      0 --:--:-- --:--:-- --:--:--     0"
       ]
      },
      {
       "output_type": "stream",
       "stream": "stdout",
       "text": [
        "\r",
        "100  2102    0  2102    0     0   4488      0 --:--:-- --:--:-- --:--:--  4481\r\n"
       ]
      },
      {
       "output_type": "stream",
       "stream": "stdout",
       "text": [
        "  % Total    % Received % Xferd  Average Speed   Time    Time     Time  Current\r\n",
        "                                 Dload  Upload   Total   Spent    Left  Speed\r\n",
        "\r",
        "  0     0    0     0    0     0      0      0 --:--:-- --:--:-- --:--:--     0"
       ]
      },
      {
       "output_type": "stream",
       "stream": "stdout",
       "text": [
        "\r",
        "100  1656    0  1656    0     0   4351      0 --:--:-- --:--:-- --:--:--  4357\r\n"
       ]
      },
      {
       "output_type": "stream",
       "stream": "stdout",
       "text": [
        "  % Total    % Received % Xferd  Average Speed   Time    Time     Time  Current\r\n",
        "                                 Dload  Upload   Total   Spent    Left  Speed\r\n",
        "\r",
        "  0     0    0     0    0     0      0      0 --:--:-- --:--:-- --:--:--     0\r",
        "  0     0    0     0    0     0      0      0 --:--:-- --:--:-- --:--:--     0"
       ]
      },
      {
       "output_type": "stream",
       "stream": "stdout",
       "text": [
        "\r",
        "100  2102    0  2102    0     0   7679      0 --:--:-- --:--:-- --:--:--  7671\r\n"
       ]
      },
      {
       "output_type": "stream",
       "stream": "stdout",
       "text": [
        "  % Total    % Received % Xferd  Average Speed   Time    Time     Time  Current\r\n",
        "                                 Dload  Upload   Total   Spent    Left  Speed\r\n",
        "\r",
        "  0     0    0     0    0     0      0      0 --:--:-- --:--:-- --:--:--     0"
       ]
      },
      {
       "output_type": "stream",
       "stream": "stdout",
       "text": [
        "\r",
        "100  1608    0  1608    0     0   5856      0 --:--:-- --:--:-- --:--:--  5868\r\n"
       ]
      },
      {
       "output_type": "stream",
       "stream": "stdout",
       "text": [
        "  % Total    % Received % Xferd  Average Speed   Time    Time     Time  Current\r\n",
        "                                 Dload  Upload   Total   Spent    Left  Speed\r\n",
        "\r",
        "  0     0    0     0    0     0      0      0 --:--:-- --:--:-- --:--:--     0"
       ]
      },
      {
       "output_type": "stream",
       "stream": "stdout",
       "text": [
        "\r",
        "100  1608    0  1608    0     0   6291      0 --:--:-- --:--:-- --:--:--  6281\r",
        "100  1608    0  1608    0     0   6290      0 --:--:-- --:--:-- --:--:--  6281\r\n"
       ]
      },
      {
       "output_type": "stream",
       "stream": "stdout",
       "text": [
        "  % Total    % Received % Xferd  Average Speed   Time    Time     Time  Current\r\n",
        "                                 Dload  Upload   Total   Spent    Left  Speed\r\n",
        "\r",
        "  0     0    0     0    0     0      0      0 --:--:-- --:--:-- --:--:--     0"
       ]
      },
      {
       "output_type": "stream",
       "stream": "stdout",
       "text": [
        "\r",
        "  0     0    0     0    0     0      0      0 --:--:--  0:00:01 --:--:--     0"
       ]
      },
      {
       "output_type": "stream",
       "stream": "stdout",
       "text": [
        "\r",
        "100  1638    0  1638    0     0   1282      0 --:--:--  0:00:01 --:--:--  1282\r\n"
       ]
      },
      {
       "output_type": "stream",
       "stream": "stdout",
       "text": [
        "  % Total    % Received % Xferd  Average Speed   Time    Time     Time  Current\r\n",
        "                                 Dload  Upload   Total   Spent    Left  Speed\r\n",
        "\r",
        "  0     0    0     0    0     0      0      0 --:--:-- --:--:-- --:--:--     0"
       ]
      },
      {
       "output_type": "stream",
       "stream": "stdout",
       "text": [
        "\r",
        "100  1608    0  1608    0     0   5527      0 --:--:-- --:--:-- --:--:--  5544\r\n"
       ]
      },
      {
       "output_type": "stream",
       "stream": "stdout",
       "text": [
        "  % Total    % Received % Xferd  Average Speed   Time    Time     Time  Current\r\n",
        "                                 Dload  Upload   Total   Spent    Left  Speed\r\n",
        "\r",
        "  0     0    0     0    0     0      0      0 --:--:-- --:--:-- --:--:--     0"
       ]
      },
      {
       "output_type": "stream",
       "stream": "stdout",
       "text": [
        "\r",
        "  0     0    0     0    0     0      0      0 --:--:-- --:--:-- --:--:--     0"
       ]
      },
      {
       "output_type": "stream",
       "stream": "stdout",
       "text": [
        "\r",
        "100  2128    0  2128    0     0   5455      0 --:--:-- --:--:-- --:--:--  5456\r\n"
       ]
      },
      {
       "output_type": "stream",
       "stream": "stdout",
       "text": [
        "  % Total    % Received % Xferd  Average Speed   Time    Time     Time  Current\r\n",
        "                                 Dload  Upload   Total   Spent    Left  Speed\r\n",
        "\r",
        "  0     0    0     0    0     0      0      0 --:--:-- --:--:-- --:--:--     0"
       ]
      },
      {
       "output_type": "stream",
       "stream": "stdout",
       "text": [
        "\r",
        "100  1608    0  1608    0     0   5031      0 --:--:-- --:--:-- --:--:--  5040\r\n"
       ]
      },
      {
       "output_type": "stream",
       "stream": "stdout",
       "text": [
        "  % Total    % Received % Xferd  Average Speed   Time    Time     Time  Current\r\n",
        "                                 Dload  Upload   Total   Spent    Left  Speed\r\n",
        "\r",
        "  0     0    0     0    0     0      0      0 --:--:-- --:--:-- --:--:--     0"
       ]
      },
      {
       "output_type": "stream",
       "stream": "stdout",
       "text": [
        "\r",
        "  0     0    0     0    0     0      0      0 --:--:-- --:--:-- --:--:--     0"
       ]
      },
      {
       "output_type": "stream",
       "stream": "stdout",
       "text": [
        "\r",
        "100  1608    0  1608    0     0   5761      0 --:--:-- --:--:-- --:--:--  5742\r\n"
       ]
      },
      {
       "output_type": "stream",
       "stream": "stdout",
       "text": [
        "  % Total    % Received % Xferd  Average Speed   Time    Time     Time  Current\r\n",
        "                                 Dload  Upload   Total   Spent    Left  Speed\r\n",
        "\r",
        "  0     0    0     0    0     0      0      0 --:--:-- --:--:-- --:--:--     0"
       ]
      },
      {
       "output_type": "stream",
       "stream": "stdout",
       "text": [
        "\r",
        "100  1608    0  1608    0     0   6617      0 --:--:-- --:--:-- --:--:--  6644\r\n"
       ]
      },
      {
       "output_type": "stream",
       "stream": "stdout",
       "text": [
        "  % Total    % Received % Xferd  Average Speed   Time    Time     Time  Current\r\n",
        "                                 Dload  Upload   Total   Spent    Left  Speed\r\n",
        "\r",
        "  0     0    0     0    0     0      0      0 --:--:-- --:--:-- --:--:--     0"
       ]
      },
      {
       "output_type": "stream",
       "stream": "stdout",
       "text": [
        "\r",
        "100  2102    0  2102    0     0   7358      0 --:--:-- --:--:-- --:--:--  7375\r\n"
       ]
      },
      {
       "output_type": "stream",
       "stream": "stdout",
       "text": [
        "  % Total    % Received % Xferd  Average Speed   Time    Time     Time  Current\r\n",
        "                                 Dload  Upload   Total   Spent    Left  Speed\r\n",
        "\r",
        "  0     0    0     0    0     0      0      0 --:--:-- --:--:-- --:--:--     0\r",
        "  0     0    0     0    0     0      0      0 --:--:-- --:--:-- --:--:--     0"
       ]
      },
      {
       "output_type": "stream",
       "stream": "stdout",
       "text": [
        "\r",
        "100  1644    0  1644    0     0   5733      0 --:--:-- --:--:-- --:--:--  5728\r\n"
       ]
      },
      {
       "output_type": "stream",
       "stream": "stdout",
       "text": [
        "  % Total    % Received % Xferd  Average Speed   Time    Time     Time  Current\r\n",
        "                                 Dload  Upload   Total   Spent    Left  Speed\r\n",
        "\r",
        "  0     0    0     0    0     0      0      0 --:--:-- --:--:-- --:--:--     0"
       ]
      },
      {
       "output_type": "stream",
       "stream": "stdout",
       "text": [
        "\r",
        "100  2110    0  2110    0     0   6657      0 --:--:-- --:--:-- --:--:--  6677\r\n"
       ]
      },
      {
       "output_type": "stream",
       "stream": "stdout",
       "text": [
        "  % Total    % Received % Xferd  Average Speed   Time    Time     Time  Current\r\n",
        "                                 Dload  Upload   Total   Spent    Left  Speed\r\n",
        "\r",
        "  0     0    0     0    0     0      0      0 --:--:-- --:--:-- --:--:--     0"
       ]
      },
      {
       "output_type": "stream",
       "stream": "stdout",
       "text": [
        "\r",
        "  0     0    0     0    0     0      0      0 --:--:-- --:--:-- --:--:--     0"
       ]
      },
      {
       "output_type": "stream",
       "stream": "stdout",
       "text": [
        "\r",
        "100  2142    0  2142    0     0   2828      0 --:--:-- --:--:-- --:--:--  2825\r\n"
       ]
      },
      {
       "output_type": "stream",
       "stream": "stdout",
       "text": [
        "  % Total    % Received % Xferd  Average Speed   Time    Time     Time  Current\r\n",
        "                                 Dload  Upload   Total   Spent    Left  Speed\r\n",
        "\r",
        "  0     0    0     0    0     0      0      0 --:--:-- --:--:-- --:--:--     0"
       ]
      },
      {
       "output_type": "stream",
       "stream": "stdout",
       "text": [
        "\r",
        "100  2166    0  2166    0     0   6605      0 --:--:-- --:--:-- --:--:--  6603\r",
        "100  2166    0  2166    0     0   6603      0 --:--:-- --:--:-- --:--:--  6603\r\n"
       ]
      },
      {
       "output_type": "stream",
       "stream": "stdout",
       "text": [
        "  % Total    % Received % Xferd  Average Speed   Time    Time     Time  Current\r\n",
        "                                 Dload  Upload   Total   Spent    Left  Speed\r\n",
        "\r",
        "  0     0    0     0    0     0      0      0 --:--:-- --:--:-- --:--:--     0"
       ]
      },
      {
       "output_type": "stream",
       "stream": "stdout",
       "text": [
        "\r",
        "100  2192    0  2192    0     0   7938      0 --:--:-- --:--:-- --:--:--  7942\r\n"
       ]
      },
      {
       "output_type": "stream",
       "stream": "stdout",
       "text": [
        "  % Total    % Received % Xferd  Average Speed   Time    Time     Time  Current\r\n",
        "                                 Dload  Upload   Total   Spent    Left  Speed\r\n",
        "\r",
        "  0     0    0     0    0     0      0      0 --:--:-- --:--:-- --:--:--     0"
       ]
      },
      {
       "output_type": "stream",
       "stream": "stdout",
       "text": [
        "\r",
        "100   126    0   126    0     0    254      0 --:--:-- --:--:-- --:--:--   254\r",
        "100   126    0   126    0     0    254      0 --:--:-- --:--:-- --:--:--   254\r\n"
       ]
      },
      {
       "output_type": "stream",
       "stream": "stdout",
       "text": [
        "  % Total    % Received % Xferd  Average Speed   Time    Time     Time  Current\r\n",
        "                                 Dload  Upload   Total   Spent    Left  Speed\r\n",
        "\r",
        "  0     0    0     0    0     0      0      0 --:--:-- --:--:-- --:--:--     0"
       ]
      },
      {
       "output_type": "stream",
       "stream": "stdout",
       "text": [
        "\r",
        "100  2134    0  2134    0     0   7834      0 --:--:-- --:--:-- --:--:--  7845\r\n"
       ]
      },
      {
       "output_type": "stream",
       "stream": "stdout",
       "text": [
        "  % Total    % Received % Xferd  Average Speed   Time    Time     Time  Current\r\n",
        "                                 Dload  Upload   Total   Spent    Left  Speed\r\n",
        "\r",
        "  0     0    0     0    0     0      0      0 --:--:-- --:--:-- --:--:--     0"
       ]
      },
      {
       "output_type": "stream",
       "stream": "stdout",
       "text": [
        "\r",
        "100  1626    0  1626    0     0   5687      0 --:--:-- --:--:-- --:--:--  5705\r\n"
       ]
      },
      {
       "output_type": "stream",
       "stream": "stdout",
       "text": [
        "  % Total    % Received % Xferd  Average Speed   Time    Time     Time  Current\r\n",
        "                                 Dload  Upload   Total   Spent    Left  Speed\r\n",
        "\r",
        "  0     0    0     0    0     0      0      0 --:--:-- --:--:-- --:--:--     0"
       ]
      },
      {
       "output_type": "stream",
       "stream": "stdout",
       "text": [
        "\r",
        "  0     0    0     0    0     0      0      0 --:--:-- --:--:-- --:--:--     0"
       ]
      },
      {
       "output_type": "stream",
       "stream": "stdout",
       "text": [
        "\r",
        "100  1632    0  1632    0     0   4748      0 --:--:-- --:--:-- --:--:--  4744\r\n"
       ]
      },
      {
       "output_type": "stream",
       "stream": "stdout",
       "text": [
        "  % Total    % Received % Xferd  Average Speed   Time    Time     Time  Current\r\n",
        "                                 Dload  Upload   Total   Spent    Left  Speed\r\n",
        "\r",
        "  0     0    0     0    0     0      0      0 --:--:-- --:--:-- --:--:--     0"
       ]
      },
      {
       "output_type": "stream",
       "stream": "stdout",
       "text": [
        "\r",
        "100  2126    0  2126    0     0   7487      0 --:--:-- --:--:-- --:--:--  7512\r\n"
       ]
      },
      {
       "output_type": "stream",
       "stream": "stdout",
       "text": [
        "  % Total    % Received % Xferd  Average Speed   Time    Time     Time  Current\r\n",
        "                                 Dload  Upload   Total   Spent    Left  Speed\r\n",
        "\r",
        "  0     0    0     0    0     0      0      0 --:--:-- --:--:-- --:--:--     0"
       ]
      },
      {
       "output_type": "stream",
       "stream": "stdout",
       "text": [
        "\r",
        "  0     0    0     0    0     0      0      0 --:--:-- --:--:-- --:--:--     0"
       ]
      },
      {
       "output_type": "stream",
       "stream": "stdout",
       "text": [
        "\r",
        "100  2126    0  2126    0     0   7788      0 --:--:-- --:--:-- --:--:--  7787\r\n"
       ]
      },
      {
       "output_type": "stream",
       "stream": "stdout",
       "text": [
        "  % Total    % Received % Xferd  Average Speed   Time    Time     Time  Current\r\n",
        "                                 Dload  Upload   Total   Spent    Left  Speed\r\n",
        "\r",
        "  0     0    0     0    0     0      0      0 --:--:-- --:--:-- --:--:--     0"
       ]
      },
      {
       "output_type": "stream",
       "stream": "stdout",
       "text": [
        "\r",
        "100  2174    0  2174    0     0   7645      0 --:--:-- --:--:-- --:--:--  7654\r\n"
       ]
      },
      {
       "output_type": "stream",
       "stream": "stdout",
       "text": [
        "  % Total    % Received % Xferd  Average Speed   Time    Time     Time  Current\r\n",
        "                                 Dload  Upload   Total   Spent    Left  Speed\r\n",
        "\r",
        "  0     0    0     0    0     0      0      0 --:--:-- --:--:-- --:--:--     0"
       ]
      },
      {
       "output_type": "stream",
       "stream": "stdout",
       "text": [
        "\r",
        "100  2150    0  2150    0     0   7690      0 --:--:-- --:--:-- --:--:--  7706\r\n"
       ]
      },
      {
       "output_type": "stream",
       "stream": "stdout",
       "text": [
        "  % Total    % Received % Xferd  Average Speed   Time    Time     Time  Current\r\n",
        "                                 Dload  Upload   Total   Spent    Left  Speed\r\n",
        "\r",
        "  0     0    0     0    0     0      0      0 --:--:-- --:--:-- --:--:--     0"
       ]
      },
      {
       "output_type": "stream",
       "stream": "stdout",
       "text": [
        "\r",
        "100  2038    0  2038    0     0   7431      0 --:--:-- --:--:-- --:--:--  7437\r\n"
       ]
      },
      {
       "output_type": "stream",
       "stream": "stdout",
       "text": [
        "  % Total    % Received % Xferd  Average Speed   Time    Time     Time  Current\r\n",
        "                                 Dload  Upload   Total   Spent    Left  Speed\r\n",
        "\r",
        "  0     0    0     0    0     0      0      0 --:--:-- --:--:-- --:--:--     0"
       ]
      },
      {
       "output_type": "stream",
       "stream": "stdout",
       "text": [
        "\r",
        "100  2038    0  2038    0     0   8496      0 --:--:-- --:--:-- --:--:--  8527\r\n"
       ]
      },
      {
       "output_type": "stream",
       "stream": "stdout",
       "text": [
        "  % Total    % Received % Xferd  Average Speed   Time    Time     Time  Current\r\n",
        "                                 Dload  Upload   Total   Spent    Left  Speed\r\n",
        "\r",
        "  0     0    0     0    0     0      0      0 --:--:-- --:--:-- --:--:--     0\r",
        "  0     0    0     0    0     0      0      0 --:--:-- --:--:-- --:--:--     0"
       ]
      },
      {
       "output_type": "stream",
       "stream": "stdout",
       "text": [
        "\r",
        "100  2014    0  2014    0     0   8484      0 --:--:-- --:--:-- --:--:--  8462\r\n"
       ]
      },
      {
       "output_type": "stream",
       "stream": "stdout",
       "text": [
        "  % Total    % Received % Xferd  Average Speed   Time    Time     Time  Current\r\n",
        "                                 Dload  Upload   Total   Spent    Left  Speed\r\n",
        "\r",
        "  0     0    0     0    0     0      0      0 --:--:-- --:--:-- --:--:--     0"
       ]
      },
      {
       "output_type": "stream",
       "stream": "stdout",
       "text": [
        "\r",
        "100  1536    0  1536    0     0   6594      0 --:--:-- --:--:-- --:--:--  6620\r\n"
       ]
      },
      {
       "output_type": "stream",
       "stream": "stdout",
       "text": [
        "  % Total    % Received % Xferd  Average Speed   Time    Time     Time  Current\r\n",
        "                                 Dload  Upload   Total   Spent    Left  Speed\r\n",
        "\r",
        "  0     0    0     0    0     0      0      0 --:--:-- --:--:-- --:--:--     0"
       ]
      },
      {
       "output_type": "stream",
       "stream": "stdout",
       "text": [
        "\r",
        "100   870    0   870    0     0   3234      0 --:--:-- --:--:-- --:--:--  3246\r\n"
       ]
      },
      {
       "output_type": "stream",
       "stream": "stdout",
       "text": [
        "  % Total    % Received % Xferd  Average Speed   Time    Time     Time  Current\r\n",
        "                                 Dload  Upload   Total   Spent    Left  Speed\r\n",
        "\r",
        "  0     0    0     0    0     0      0      0 --:--:-- --:--:-- --:--:--     0"
       ]
      },
      {
       "output_type": "stream",
       "stream": "stdout",
       "text": [
        "\r",
        "100   870    0   870    0     0   2741      0 --:--:-- --:--:-- --:--:--  2744\r\n"
       ]
      },
      {
       "output_type": "stream",
       "stream": "stdout",
       "text": [
        "  % Total    % Received % Xferd  Average Speed   Time    Time     Time  Current\r\n",
        "                                 Dload  Upload   Total   Spent    Left  Speed\r\n",
        "\r",
        "  0     0    0     0    0     0      0      0 --:--:-- --:--:-- --:--:--     0"
       ]
      },
      {
       "output_type": "stream",
       "stream": "stdout",
       "text": [
        "\r",
        "100   867    0   867    0     0   2757      0 --:--:-- --:--:-- --:--:--  2761\r\n"
       ]
      },
      {
       "output_type": "stream",
       "stream": "stdout",
       "text": [
        "  % Total    % Received % Xferd  Average Speed   Time    Time     Time  Current\r\n",
        "                                 Dload  Upload   Total   Spent    Left  Speed\r\n",
        "\r",
        "  0     0    0     0    0     0      0      0 --:--:-- --:--:-- --:--:--     0"
       ]
      },
      {
       "output_type": "stream",
       "stream": "stdout",
       "text": [
        "\r",
        "  0     0    0     0    0     0      0      0 --:--:-- --:--:-- --:--:--     0"
       ]
      },
      {
       "output_type": "stream",
       "stream": "stdout",
       "text": [
        "\r",
        "100   867    0   867    0     0   2532      0 --:--:-- --:--:-- --:--:--  2527\r\n"
       ]
      },
      {
       "output_type": "stream",
       "stream": "stdout",
       "text": [
        "  % Total    % Received % Xferd  Average Speed   Time    Time     Time  Current\r\n",
        "                                 Dload  Upload   Total   Spent    Left  Speed\r\n",
        "\r",
        "  0     0    0     0    0     0      0      0 --:--:-- --:--:-- --:--:--     0"
       ]
      },
      {
       "output_type": "stream",
       "stream": "stdout",
       "text": [
        "\r",
        "100   870    0   870    0     0   3091      0 --:--:-- --:--:-- --:--:--  3096\r\n"
       ]
      },
      {
       "output_type": "stream",
       "stream": "stdout",
       "text": [
        "  % Total    % Received % Xferd  Average Speed   Time    Time     Time  Current\r\n",
        "                                 Dload  Upload   Total   Spent    Left  Speed\r\n",
        "\r",
        "  0     0    0     0    0     0      0      0 --:--:-- --:--:-- --:--:--     0"
       ]
      },
      {
       "output_type": "stream",
       "stream": "stdout",
       "text": [
        "\r",
        "  0     0    0     0    0     0      0      0 --:--:-- --:--:-- --:--:--     0"
       ]
      },
      {
       "output_type": "stream",
       "stream": "stdout",
       "text": [
        "\r",
        "100   870    0   870    0     0   3051      0 --:--:-- --:--:-- --:--:--  3052\r\n"
       ]
      },
      {
       "output_type": "stream",
       "stream": "stdout",
       "text": [
        "  % Total    % Received % Xferd  Average Speed   Time    Time     Time  Current\r\n",
        "                                 Dload  Upload   Total   Spent    Left  Speed\r\n",
        "\r",
        "  0     0    0     0    0     0      0      0 --:--:-- --:--:-- --:--:--     0"
       ]
      },
      {
       "output_type": "stream",
       "stream": "stdout",
       "text": [
        "\r",
        "100   870    0   870    0     0   2889      0 --:--:-- --:--:-- --:--:--  2890\r\n"
       ]
      },
      {
       "output_type": "stream",
       "stream": "stdout",
       "text": [
        "  % Total    % Received % Xferd  Average Speed   Time    Time     Time  Current\r\n",
        "                                 Dload  Upload   Total   Spent    Left  Speed\r\n",
        "\r",
        "  0     0    0     0    0     0      0      0 --:--:-- --:--:-- --:--:--     0"
       ]
      },
      {
       "output_type": "stream",
       "stream": "stdout",
       "text": [
        "\r",
        "100   867    0   867    0     0   3029      0 --:--:-- --:--:-- --:--:--  3031\r\n"
       ]
      },
      {
       "output_type": "stream",
       "stream": "stdout",
       "text": [
        "  % Total    % Received % Xferd  Average Speed   Time    Time     Time  Current\r\n",
        "                                 Dload  Upload   Total   Spent    Left  Speed\r\n",
        "\r",
        "  0     0    0     0    0     0      0      0 --:--:-- --:--:-- --:--:--     0"
       ]
      },
      {
       "output_type": "stream",
       "stream": "stdout",
       "text": [
        "\r",
        "100   864    0   864    0     0   3046      0 --:--:-- --:--:-- --:--:--  3053\r\n"
       ]
      },
      {
       "output_type": "stream",
       "stream": "stdout",
       "text": [
        "  % Total    % Received % Xferd  Average Speed   Time    Time     Time  Current\r\n",
        "                                 Dload  Upload   Total   Spent    Left  Speed\r\n",
        "\r",
        "  0     0    0     0    0     0      0      0 --:--:-- --:--:-- --:--:--     0"
       ]
      },
      {
       "output_type": "stream",
       "stream": "stdout",
       "text": [
        "\r",
        "100   867    0   867    0     0   3120      0 --:--:-- --:--:-- --:--:--  3129\r\n"
       ]
      },
      {
       "output_type": "stream",
       "stream": "stdout",
       "text": [
        "  % Total    % Received % Xferd  Average Speed   Time    Time     Time  Current\r\n",
        "                                 Dload  Upload   Total   Spent    Left  Speed\r\n",
        "\r",
        "  0     0    0     0    0     0      0      0 --:--:-- --:--:-- --:--:--     0"
       ]
      },
      {
       "output_type": "stream",
       "stream": "stdout",
       "text": [
        "\r",
        "  0     0    0     0    0     0      0      0 --:--:-- --:--:-- --:--:--     0"
       ]
      },
      {
       "output_type": "stream",
       "stream": "stdout",
       "text": [
        "\r",
        "100   882    0   882    0     0   3233      0 --:--:-- --:--:-- --:--:--  3230\r\n"
       ]
      },
      {
       "output_type": "stream",
       "stream": "stdout",
       "text": [
        "  % Total    % Received % Xferd  Average Speed   Time    Time     Time  Current\r\n",
        "                                 Dload  Upload   Total   Spent    Left  Speed\r\n",
        "\r",
        "  0     0    0     0    0     0      0      0 --:--:-- --:--:-- --:--:--     0"
       ]
      },
      {
       "output_type": "stream",
       "stream": "stdout",
       "text": [
        "\r",
        "100   870    0   870    0     0   3518      0 --:--:-- --:--:-- --:--:--  3522\r\n"
       ]
      },
      {
       "output_type": "stream",
       "stream": "stdout",
       "text": [
        "  % Total    % Received % Xferd  Average Speed   Time    Time     Time  Current\r\n",
        "                                 Dload  Upload   Total   Spent    Left  Speed\r\n",
        "\r",
        "  0     0    0     0    0     0      0      0 --:--:-- --:--:-- --:--:--     0"
       ]
      },
      {
       "output_type": "stream",
       "stream": "stdout",
       "text": [
        "\r",
        "100   870    0   870    0     0   3523      0 --:--:-- --:--:-- --:--:--  3536\r\n"
       ]
      },
      {
       "output_type": "stream",
       "stream": "stdout",
       "text": [
        "  % Total    % Received % Xferd  Average Speed   Time    Time     Time  Current\r\n",
        "                                 Dload  Upload   Total   Spent    Left  Speed\r\n",
        "\r",
        "  0     0    0     0    0     0      0      0 --:--:-- --:--:-- --:--:--     0"
       ]
      },
      {
       "output_type": "stream",
       "stream": "stdout",
       "text": [
        "\r",
        "  0     0    0     0    0     0      0      0 --:--:-- --:--:-- --:--:--     0"
       ]
      },
      {
       "output_type": "stream",
       "stream": "stdout",
       "text": [
        "\r",
        "100   870    0   870    0     0   2356      0 --:--:-- --:--:-- --:--:--  2351\r\n"
       ]
      },
      {
       "output_type": "stream",
       "stream": "stdout",
       "text": [
        "  % Total    % Received % Xferd  Average Speed   Time    Time     Time  Current\r\n",
        "                                 Dload  Upload   Total   Spent    Left  Speed\r\n",
        "\r",
        "  0     0    0     0    0     0      0      0 --:--:-- --:--:-- --:--:--     0"
       ]
      },
      {
       "output_type": "stream",
       "stream": "stdout",
       "text": [
        "\r",
        "100   867    0   867    0     0   3142      0 --:--:-- --:--:-- --:--:--  3152\r\n"
       ]
      },
      {
       "output_type": "stream",
       "stream": "stdout",
       "text": [
        "  % Total    % Received % Xferd  Average Speed   Time    Time     Time  Current\r\n",
        "                                 Dload  Upload   Total   Spent    Left  Speed\r\n",
        "\r",
        "  0     0    0     0    0     0      0      0 --:--:-- --:--:-- --:--:--     0"
       ]
      },
      {
       "output_type": "stream",
       "stream": "stdout",
       "text": [
        "\r",
        "  0     0    0     0    0     0      0      0 --:--:-- --:--:-- --:--:--     0\r",
        "100   867    0   867    0     0   3205      0 --:--:-- --:--:-- --:--:--  3199\r\n"
       ]
      },
      {
       "output_type": "stream",
       "stream": "stdout",
       "text": [
        "  % Total    % Received % Xferd  Average Speed   Time    Time     Time  Current\r\n",
        "                                 Dload  Upload   Total   Spent    Left  Speed\r\n",
        "\r",
        "  0     0    0     0    0     0      0      0 --:--:-- --:--:-- --:--:--     0"
       ]
      },
      {
       "output_type": "stream",
       "stream": "stdout",
       "text": [
        "\r",
        "100   867    0   867    0     0   3519      0 --:--:-- --:--:-- --:--:--  3524\r\n"
       ]
      },
      {
       "output_type": "stream",
       "stream": "stdout",
       "text": [
        "  % Total    % Received % Xferd  Average Speed   Time    Time     Time  Current\r\n",
        "                                 Dload  Upload   Total   Spent    Left  Speed\r\n",
        "\r",
        "  0     0    0     0    0     0      0      0 --:--:-- --:--:-- --:--:--     0"
       ]
      },
      {
       "output_type": "stream",
       "stream": "stdout",
       "text": [
        "\r",
        "100   885    0   885    0     0   2801      0 --:--:-- --:--:-- --:--:--  2809\r\n"
       ]
      },
      {
       "output_type": "stream",
       "stream": "stdout",
       "text": [
        "  % Total    % Received % Xferd  Average Speed   Time    Time     Time  Current\r\n",
        "                                 Dload  Upload   Total   Spent    Left  Speed\r\n",
        "\r",
        "  0     0    0     0    0     0      0      0 --:--:-- --:--:-- --:--:--     0\r",
        "  0     0    0     0    0     0      0      0 --:--:-- --:--:-- --:--:--     0"
       ]
      },
      {
       "output_type": "stream",
       "stream": "stdout",
       "text": [
        "\r",
        "100   870    0   870    0     0   2765      0 --:--:-- --:--:-- --:--:--  2761\r\n"
       ]
      },
      {
       "output_type": "stream",
       "stream": "stdout",
       "text": [
        "  % Total    % Received % Xferd  Average Speed   Time    Time     Time  Current\r\n",
        "                                 Dload  Upload   Total   Spent    Left  Speed\r\n",
        "\r",
        "  0     0    0     0    0     0      0      0 --:--:-- --:--:-- --:--:--     0"
       ]
      },
      {
       "output_type": "stream",
       "stream": "stdout",
       "text": [
        "\r",
        "100   867    0   867    0     0   3549      0 --:--:-- --:--:-- --:--:--  3553\r\n"
       ]
      },
      {
       "output_type": "stream",
       "stream": "stdout",
       "text": [
        "  % Total    % Received % Xferd  Average Speed   Time    Time     Time  Current\r\n",
        "                                 Dload  Upload   Total   Spent    Left  Speed\r\n",
        "\r",
        "  0     0    0     0    0     0      0      0 --:--:-- --:--:-- --:--:--     0"
       ]
      },
      {
       "output_type": "stream",
       "stream": "stdout",
       "text": [
        "\r",
        "  0     0    0     0    0     0      0      0 --:--:-- --:--:-- --:--:--     0"
       ]
      },
      {
       "output_type": "stream",
       "stream": "stdout",
       "text": [
        "\r",
        "100   867    0   867    0     0   2674      0 --:--:-- --:--:-- --:--:--  2675\r\n"
       ]
      },
      {
       "output_type": "stream",
       "stream": "stdout",
       "text": [
        "  % Total    % Received % Xferd  Average Speed   Time    Time     Time  Current\r\n",
        "                                 Dload  Upload   Total   Spent    Left  Speed\r\n",
        "\r",
        "  0     0    0     0    0     0      0      0 --:--:-- --:--:-- --:--:--     0"
       ]
      },
      {
       "output_type": "stream",
       "stream": "stdout",
       "text": [
        "\r",
        "100   867    0   867    0     0   3398      0 --:--:-- --:--:-- --:--:--  3413\r\n"
       ]
      },
      {
       "output_type": "stream",
       "stream": "stdout",
       "text": [
        "  % Total    % Received % Xferd  Average Speed   Time    Time     Time  Current\r\n",
        "                                 Dload  Upload   Total   Spent    Left  Speed\r\n",
        "\r",
        "  0     0    0     0    0     0      0      0 --:--:-- --:--:-- --:--:--     0"
       ]
      },
      {
       "output_type": "stream",
       "stream": "stdout",
       "text": [
        "\r",
        "100   867    0   867    0     0   3373      0 --:--:-- --:--:-- --:--:--  3386\r\n"
       ]
      },
      {
       "output_type": "stream",
       "stream": "stdout",
       "text": [
        "  % Total    % Received % Xferd  Average Speed   Time    Time     Time  Current\r\n",
        "                                 Dload  Upload   Total   Spent    Left  Speed\r\n",
        "\r",
        "  0     0    0     0    0     0      0      0 --:--:-- --:--:-- --:--:--     0\r",
        "  0     0    0     0    0     0      0      0 --:--:-- --:--:-- --:--:--     0"
       ]
      },
      {
       "output_type": "stream",
       "stream": "stdout",
       "text": [
        "\r",
        "100   885    0   885    0     0   3103      0 --:--:-- --:--:-- --:--:--  3094\r\n"
       ]
      },
      {
       "output_type": "stream",
       "stream": "stdout",
       "text": [
        "  % Total    % Received % Xferd  Average Speed   Time    Time     Time  Current\r\n",
        "                                 Dload  Upload   Total   Spent    Left  Speed\r\n",
        "\r",
        "  0     0    0     0    0     0      0      0 --:--:-- --:--:-- --:--:--     0"
       ]
      },
      {
       "output_type": "stream",
       "stream": "stdout",
       "text": [
        "\r",
        "100  "
       ]
      },
      {
       "output_type": "stream",
       "stream": "stdout",
       "text": [
        " 867    0   867    0     0   3654      0 --:--:-- --:--:-- --:--:--  3658\r\n"
       ]
      },
      {
       "output_type": "stream",
       "stream": "stdout",
       "text": [
        "  % Total    % Received % Xferd  Average Speed   Time    Time     Time  Current\r\n",
        "                                 Dload  Upload   Total   Spent    Left  Speed\r\n",
        "\r",
        "  0     0    0     0    0     0      0      0 --:--:-- --:--:-- --:--:--     0"
       ]
      },
      {
       "output_type": "stream",
       "stream": "stdout",
       "text": [
        "\r",
        "100   867    0   867    0     0   3105      0 --:--:-- --:--:-- --:--:--  3096\r",
        "100   867    0   867    0     0   3101      0 --:--:-- --:--:-- --:--:--  3096\r\n"
       ]
      },
      {
       "output_type": "stream",
       "stream": "stdout",
       "text": [
        "  % Total    % Received % Xferd  Average Speed   Time    Time     Time  Current\r\n",
        "                                 Dload  Upload   Total   Spent    Left  Speed\r\n",
        "\r",
        "  0     0    0     0    0     0      0      0 --:--:-- --:--:-- --:--:--     0"
       ]
      },
      {
       "output_type": "stream",
       "stream": "stdout",
       "text": [
        "\r",
        "100   867    0   867    0     0   3023      0 --:--:-- --:--:-- --:--:--  3031\r\n"
       ]
      },
      {
       "output_type": "stream",
       "stream": "stdout",
       "text": [
        "  % Total    % Received % Xferd  Average Speed   Time    Time     Time  Current\r\n",
        "                                 Dload  Upload   Total   Spent    Left  Speed\r\n",
        "\r",
        "  0     0    0     0    0     0      0      0 --:--:-- --:--:-- --:--:--     0"
       ]
      },
      {
       "output_type": "stream",
       "stream": "stdout",
       "text": [
        "\r",
        "100   867    0   867    0     0   3481      0 --:--:-- --:--:-- --:--:--  3495\r\n"
       ]
      },
      {
       "output_type": "stream",
       "stream": "stdout",
       "text": [
        "  % Total    % Received % Xferd  Average Speed   Time    Time     Time  Current\r\n",
        "                                 Dload  Upload   Total   Spent    Left  Speed\r\n",
        "\r",
        "  0     0    0     0    0     0      0      0 --:--:-- --:--:-- --:--:--     0"
       ]
      },
      {
       "output_type": "stream",
       "stream": "stdout",
       "text": [
        "\r",
        "  0     0    0     0    0     0      0      0 --:--:-- --:--:-- --:--:--     0"
       ]
      },
      {
       "output_type": "stream",
       "stream": "stdout",
       "text": [
        "\r",
        "100   885    0   885    0     0   2634      0 --:--:-- --:--:-- --:--:--  2633\r\n"
       ]
      },
      {
       "output_type": "stream",
       "stream": "stdout",
       "text": [
        "  % Total    % Received % Xferd  Average Speed   Time    Time     Time  Current\r\n",
        "                                 Dload  Upload   Total   Spent    Left  Speed\r\n",
        "\r",
        "  0     0    0     0    0     0      0      0 --:--:-- --:--:-- --:--:--     0"
       ]
      },
      {
       "output_type": "stream",
       "stream": "stdout",
       "text": [
        "\r",
        "100   870    0   870    0     0   3441      0 --:--:-- --:--:-- --:--:--  3452\r\n"
       ]
      },
      {
       "output_type": "stream",
       "stream": "stdout",
       "text": [
        "  % Total    % Received % Xferd  Average Speed   Time    Time     Time  Current\r\n",
        "                                 Dload  Upload   Total   Spent    Left  Speed\r\n",
        "\r",
        "  0     0    0     0    0     0      0      0 --:--:-- --:--:-- --:--:--     0"
       ]
      },
      {
       "output_type": "stream",
       "stream": "stdout",
       "text": [
        "\r",
        "100   867    0   867    0     0   3562      0 --:--:-- --:--:-- --:--:--  3567\r\n"
       ]
      },
      {
       "output_type": "stream",
       "stream": "stdout",
       "text": [
        "  % Total    % Received % Xferd  Average Speed   Time    Time     Time  Current\r\n",
        "                                 Dload  Upload   Total   Spent    Left  Speed\r\n",
        "\r",
        "  0     0    0     0    0     0      0      0 --:--:-- --:--:-- --:--:--     0"
       ]
      },
      {
       "output_type": "stream",
       "stream": "stdout",
       "text": [
        "\r",
        "100   867    0   867    0     0   3408      0 --:--:-- --:--:-- --:--:--  3413\r\n"
       ]
      },
      {
       "output_type": "stream",
       "stream": "stdout",
       "text": [
        "  % Total    % Received % Xferd  Average Speed   Time    Time     Time  Current\r\n",
        "                                 Dload  Upload   Total   Spent    Left  Speed\r\n",
        "\r",
        "  0     0    0     0    0     0      0      0 --:--:-- --:--:-- --:--:--     0"
       ]
      },
      {
       "output_type": "stream",
       "stream": "stdout",
       "text": [
        "\r",
        "100   867    0   867    0     0   3099      0 --:--:-- --:--:-- --:--:--  3107\r\n"
       ]
      },
      {
       "output_type": "stream",
       "stream": "stdout",
       "text": [
        "  % Total    % Received % Xferd  Average Speed   Time    Time     Time  Current\r\n",
        "                                 Dload  Upload   Total   Spent    Left  Speed\r\n",
        "\r",
        "  0     0    0     0    0     0      0      0 --:--:-- --:--:-- --:--:--     0"
       ]
      },
      {
       "output_type": "stream",
       "stream": "stdout",
       "text": [
        "\r",
        "  0     0    0     0    0     0      0      0 --:--:-- --:--:-- --:--:--     0"
       ]
      },
      {
       "output_type": "stream",
       "stream": "stdout",
       "text": [
        "\r",
        "100   864    0   864    0     0   2971      0 --:--:-- --:--:-- --:--:--  2969\r\n"
       ]
      },
      {
       "output_type": "stream",
       "stream": "stdout",
       "text": [
        "  % Total    % Received % Xferd  Average Speed   Time    Time     Time  Current\r\n",
        "                                 Dload  Upload   Total   Spent    Left  Speed\r\n",
        "\r",
        "  0     0    0     0    0     0      0      0 --:--:-- --:--:-- --:--:--     0"
       ]
      },
      {
       "output_type": "stream",
       "stream": "stdout",
       "text": [
        "\r",
        "100   882    0   882    0     0   3473      0 --:--:-- --:--:-- --:--:--  3486\r\n"
       ]
      },
      {
       "output_type": "stream",
       "stream": "stdout",
       "text": [
        "  % Total    % Received % Xferd  Average Speed   Time    Time     Time  Current\r\n",
        "                                 Dload  Upload   Total   Spent    Left  Speed\r\n",
        "\r",
        "  0     0    0     0    0     0      0      0 --:--:-- --:--:-- --:--:--     0"
       ]
      },
      {
       "output_type": "stream",
       "stream": "stdout",
       "text": [
        "\r",
        "100  1157    0  1157    0     0   3707      0 --:--:-- --:--:-- --:--:--  3720\r\n"
       ]
      },
      {
       "output_type": "stream",
       "stream": "stdout",
       "text": [
        "  % Total    % Received % Xferd  Average Speed   Time    Time     Time  Current\r\n",
        "                                 Dload  Upload   Total   Spent    Left  Speed\r\n",
        "\r",
        "  0     0    0     0    0     0      0      0 --:--:-- --:--:-- --:--:--     0"
       ]
      },
      {
       "output_type": "stream",
       "stream": "stdout",
       "text": [
        "\r",
        "100   864    0   864    0     0   2850      0 --:--:-- --:--:-- --:--:--  2860\r\n"
       ]
      },
      {
       "output_type": "stream",
       "stream": "stdout",
       "text": [
        "  % Total    % Received % Xferd  Average Speed   Time    Time     Time  Current\r\n",
        "                                 Dload  Upload   Total   Spent    Left  Speed\r\n",
        "\r",
        "  0     0    0     0    0     0      0      0 --:--:-- --:--:-- --:--:--     0"
       ]
      },
      {
       "output_type": "stream",
       "stream": "stdout",
       "text": [
        "\r",
        "100   867    0   867    0     0   3466      0 --:--:-- --:--:-- --:--:--  3481\r\n"
       ]
      },
      {
       "output_type": "stream",
       "stream": "stdout",
       "text": [
        "  % Total    % Received % Xferd  Average Speed   Time    Time     Time  Current\r\n",
        "                                 Dload  Upload   Total   Spent    Left  Speed\r\n",
        "\r",
        "  0     0    0     0    0     0      0      0 --:--:-- --:--:-- --:--:--     0"
       ]
      },
      {
       "output_type": "stream",
       "stream": "stdout",
       "text": [
        "\r",
        "  0     0    0     0    0     0      0      0 --:--:-- --:--:-- --:--:--     0"
       ]
      },
      {
       "output_type": "stream",
       "stream": "stdout",
       "text": [
        "\r",
        "100   876    0   876    0     0   3219      0 --:--:-- --:--:-- --:--:--  3220\r\n"
       ]
      },
      {
       "output_type": "stream",
       "stream": "stdout",
       "text": [
        "  % Total    % Received % Xferd  Average Speed   Time    Time     Time  Current\r\n",
        "                                 Dload  Upload   Total   Spent    Left  Speed\r\n",
        "\r",
        "  0     0    0     0    0     0      0      0 --:--:-- --:--:-- --:--:--     0"
       ]
      },
      {
       "output_type": "stream",
       "stream": "stdout",
       "text": [
        "\r",
        "100   885    0   885    0     0   2849      0 --:--:-- --:--:-- --:--:--  2854\r\n"
       ]
      },
      {
       "output_type": "stream",
       "stream": "stdout",
       "text": [
        "  % Total    % Received % Xferd  Average Speed   Time    Time     Time  Current\r\n",
        "                                 Dload  Upload   Total   Spent    Left  Speed\r\n",
        "\r",
        "  0     0    0     0    0     0      0      0 --:--:-- --:--:-- --:--:--     0"
       ]
      },
      {
       "output_type": "stream",
       "stream": "stdout",
       "text": [
        "\r",
        "100   870    0   870    0     0   2591      0 --:--:-- --:--:-- --:--:--  2589\r",
        "100   870    0   870    0     0   2591      0 --:--:-- --:--:-- --:--:--  2589\r\n"
       ]
      },
      {
       "output_type": "stream",
       "stream": "stdout",
       "text": [
        "  % Total    % Received % Xferd  Average Speed   Time    Time     Time  Current\r\n",
        "                                 Dload  Upload   Total   Spent    Left  Speed\r\n",
        "\r",
        "  0     0    0     0    0     0      0      0 --:--:-- --:--:-- --:--:--     0"
       ]
      },
      {
       "output_type": "stream",
       "stream": "stdout",
       "text": [
        "\r",
        "100   867    0   867    0     0   2735      0 --:--:-- --:--:-- --:--:--  2743\r\n"
       ]
      },
      {
       "output_type": "stream",
       "stream": "stdout",
       "text": [
        "  % Total    % Received % Xferd  Average Speed   Time    Time     Time  Current\r\n",
        "                                 Dload  Upload   Total   Spent    Left  Speed\r\n",
        "\r",
        "  0     0    0     0    0     0      0      0 --:--:-- --:--:-- --:--:--     0"
       ]
      },
      {
       "output_type": "stream",
       "stream": "stdout",
       "text": [
        "\r",
        "100   867    0   867    0     0   3152      0 --:--:-- --:--:-- --:--:--  3164\r\n"
       ]
      },
      {
       "output_type": "stream",
       "stream": "stdout",
       "text": [
        "  % Total    % Received % Xferd  Average Speed   Time    Time     Time  Current\r\n",
        "                                 Dload  Upload   Total   Spent    Left  Speed\r\n",
        "\r",
        "  0     0    0     0    0     0      0      0 --:--:-- --:--:-- --:--:--     0"
       ]
      },
      {
       "output_type": "stream",
       "stream": "stdout",
       "text": [
        "\r",
        "  0     0    0     0    0     0      0      0 --:--:-- --:--:-- --:--:--     0"
       ]
      },
      {
       "output_type": "stream",
       "stream": "stdout",
       "text": [
        "\r",
        "100   864    0   864    0     0   2386      0 --:--:-- --:--:-- --:--:--  2380\r\n"
       ]
      },
      {
       "output_type": "stream",
       "stream": "stdout",
       "text": [
        "  % Total    % Received % Xferd  Average Speed   Time    Time     Time  Current\r\n",
        "                                 Dload  Upload   Total   Spent    Left  Speed\r\n",
        "\r",
        "  0     0    0     0    0     0      0      0 --:--:-- --:--:-- --:--:--     0"
       ]
      },
      {
       "output_type": "stream",
       "stream": "stdout",
       "text": [
        "\r",
        "100   885    0   885    0     0   3459      0 --:--:-- --:--:-- --:--:--  3470\r\n"
       ]
      },
      {
       "output_type": "stream",
       "stream": "stdout",
       "text": [
        "  % Total    % Received % Xferd  Average Speed   Time    Time     Time  Current\r\n",
        "                                 Dload  Upload   Total   Spent    Left  Speed\r\n",
        "\r",
        "  0     0    0     0    0     0      0      0 --:--:-- --:--:-- --:--:--     0"
       ]
      },
      {
       "output_type": "stream",
       "stream": "stdout",
       "text": [
        "\r",
        "  0     0    0     0    0     0      0      0 --:--:-- --:--:-- --:--:--     0\r",
        "100   861    0   861    0     0   3142      0 --:--:-- --:--:-- --:--:--  3142\r\n"
       ]
      },
      {
       "output_type": "stream",
       "stream": "stdout",
       "text": [
        "  % Total    % Received % Xferd  Average Speed   Time    Time     Time  Current\r\n",
        "                                 Dload  Upload   Total   Spent    Left  Speed\r\n",
        "\r",
        "  0     0    0     0    0     0      0      0 --:--:-- --:--:-- --:--:--     0"
       ]
      },
      {
       "output_type": "stream",
       "stream": "stdout",
       "text": [
        "\r",
        "100   834    0   834    0     0   3379      0 --:--:-- --:--:-- --:--:--  3390\r\n"
       ]
      },
      {
       "output_type": "stream",
       "stream": "stdout",
       "text": [
        "  % Total    % Received % Xferd  Average Speed   Time    Time     Time  Current\r\n",
        "                                 Dload  Upload   Total   Spent    Left  Speed\r\n",
        "\r",
        "  0     0    0     0    0     0      0      0 --:--:-- --:--:-- --:--:--     0"
       ]
      },
      {
       "output_type": "stream",
       "stream": "stdout",
       "text": [
        "\r",
        "100   834    0   834    0     0   3108      0 --:--:-- --:--:-- --:--:--  3111\r\n"
       ]
      },
      {
       "output_type": "stream",
       "stream": "stdout",
       "text": [
        "  % Total    % Received % Xferd  Average Speed   Time    Time     Time  Current\r\n",
        "                                 Dload  Upload   Total   Spent    Left  Speed\r\n",
        "\r",
        "  0     0    0     0    0     0      0      0 --:--:-- --:--:-- --:--:--     0"
       ]
      },
      {
       "output_type": "stream",
       "stream": "stdout",
       "text": [
        "\r",
        "  0     0    0     0    0     0      0      0 --:--:-- --:--:-- --:--:--     0"
       ]
      },
      {
       "output_type": "stream",
       "stream": "stdout",
       "text": [
        "\r",
        "100   834    0   834    0     0   2446      0 --:--:-- --:--:-- --:--:--  2445\r\n"
       ]
      },
      {
       "output_type": "stream",
       "stream": "stdout",
       "text": [
        "  % Total    % Received % Xferd  Average Speed   Time    Time     Time  Current\r\n",
        "                                 Dload  Upload   Total   Spent    Left  Speed\r\n",
        "\r",
        "  0     0    0     0    0     0      0      0 --:--:-- --:--:-- --:--:--     0"
       ]
      },
      {
       "output_type": "stream",
       "stream": "stdout",
       "text": [
        "\r",
        "100   825    0   825    0     0   3021      0 --:--:-- --:--:-- --:--:--  3033\r\n"
       ]
      },
      {
       "output_type": "stream",
       "stream": "stdout",
       "text": [
        "  % Total    % Received % Xferd  Average Speed   Time    Time     Time  Current\r\n",
        "                                 Dload  Upload   Total   Spent    Left  Speed\r\n",
        "\r",
        "  0     0    0     0    0     0      0      0 --:--:-- --:--:-- --:--:--     0"
       ]
      },
      {
       "output_type": "stream",
       "stream": "stdout",
       "text": [
        "\r",
        "100   831    0   831    0     0   3016      0 --:--:-- --:--:-- --:--:--  3010\r",
        "100   831    0   831    0     0   3015      0 --:--:-- --:--:-- --:--:--  3010\r\n"
       ]
      },
      {
       "output_type": "stream",
       "stream": "stdout",
       "text": [
        "  % Total    % Received % Xferd  Average Speed   Time    Time     Time  Current\r\n",
        "                                 Dload  Upload   Total   Spent    Left  Speed\r\n",
        "\r",
        "  0     0    0     0    0     0      0      0 --:--:-- --:--:-- --:--:--     0"
       ]
      },
      {
       "output_type": "stream",
       "stream": "stdout",
       "text": [
        "\r",
        "100   831    0   831    0     0   2984      0 --:--:-- --:--:-- --:--:--  2989\r\n"
       ]
      },
      {
       "output_type": "stream",
       "stream": "stdout",
       "text": [
        "  % Total    % Received % Xferd  Average Speed   Time    Time     Time  Current\r\n",
        "                                 Dload  Upload   Total   Spent    Left  Speed\r\n",
        "\r",
        "  0     0    0     0    0     0      0      0 --:--:-- --:--:-- --:--:--     0"
       ]
      },
      {
       "output_type": "stream",
       "stream": "stdout",
       "text": [
        "\r",
        "100   843    0   843    0     0   3044      0 --:--:-- --:--:-- --:--:--  3054\r\n"
       ]
      },
      {
       "output_type": "stream",
       "stream": "stdout",
       "text": [
        "  % Total    % Received % Xferd  Average Speed   Time    Time     Time  Current\r\n",
        "                                 Dload  Upload   Total   Spent    Left  Speed\r\n",
        "\r",
        "  0     0    0     0    0     0      0      0 --:--:-- --:--:-- --:--:--     0"
       ]
      },
      {
       "output_type": "stream",
       "stream": "stdout",
       "text": [
        "\r",
        "  0     0    0     0    0     0      0      0 --:--:-- --:--:-- --:--:--     0"
       ]
      },
      {
       "output_type": "stream",
       "stream": "stdout",
       "text": [
        "\r",
        "100   831    0   831    0     0   2415      0 --:--:-- --:--:-- --:--:--  2415\r\n"
       ]
      },
      {
       "output_type": "stream",
       "stream": "stdout",
       "text": [
        "  % Total    % Received % Xferd  Average Speed   Time    Time     Time  Current\r\n",
        "                                 Dload  Upload   Total   Spent    Left  Speed\r\n",
        "\r",
        "  0     0    0     0    0     0      0      0 --:--:-- --:--:-- --:--:--     0"
       ]
      },
      {
       "output_type": "stream",
       "stream": "stdout",
       "text": [
        "\r",
        "100   831    0   831    0     0   3272      0 --:--:-- --:--:-- --:--:--  3284\r\n"
       ]
      },
      {
       "output_type": "stream",
       "stream": "stdout",
       "text": [
        "  % Total    % Received % Xferd  Average Speed   Time    Time     Time  Current\r\n",
        "                                 Dload  Upload   Total   Spent    Left  Speed\r\n",
        "\r",
        "  0     0    0     0    0     0      0      0 --:--:-- --:--:-- --:--:--     0"
       ]
      },
      {
       "output_type": "stream",
       "stream": "stdout",
       "text": [
        "\r",
        "100   831    0   831    0     0   3601      0 --:--:-- --:--:-- --:--:--  3613\r\n"
       ]
      },
      {
       "output_type": "stream",
       "stream": "stdout",
       "text": [
        "  % Total    % Received % Xferd  Average Speed   Time    Time     Time  Current\r\n",
        "                                 Dload  Upload   Total   Spent    Left  Speed\r\n",
        "\r",
        "  0     0    0     0    0     0      0      0 --:--:-- --:--:-- --:--:--     0"
       ]
      },
      {
       "output_type": "stream",
       "stream": "stdout",
       "text": [
        "\r",
        "100   831    0   831    0     0   2744      0 --:--:-- --:--:-- --:--:--  2751\r\n"
       ]
      },
      {
       "output_type": "stream",
       "stream": "stdout",
       "text": [
        "  % Total    % Received % Xferd  Average Speed   Time    Time     Time  Current\r\n",
        "                                 Dload  Upload   Total   Spent    Left  Speed\r\n",
        "\r",
        "  0     0    0     0    0     0      0      0 --:--:-- --:--:-- --:--:--     0"
       ]
      },
      {
       "output_type": "stream",
       "stream": "stdout",
       "text": [
        "\r",
        "100   831    0   831    0     0   2904      0 --:--:-- --:--:-- --:--:--  2915\r\n"
       ]
      },
      {
       "output_type": "stream",
       "stream": "stdout",
       "text": [
        "  % Total    % Received % Xferd  Average Speed   Time    Time     Time  Current\r\n",
        "                                 Dload  Upload   Total   Spent    Left  Speed\r\n",
        "\r",
        "  0     0    0     0    0     0      0      0 --:--:-- --:--:-- --:--:--     0"
       ]
      },
      {
       "output_type": "stream",
       "stream": "stdout",
       "text": [
        "\r",
        "  0     0    0     0    0     0      0      0 --:--:-- --:--:-- --:--:--     0"
       ]
      },
      {
       "output_type": "stream",
       "stream": "stdout",
       "text": [
        "\r",
        "100   831    0   831    0     0   2406      0 --:--:-- --:--:-- --:--:--  2401\r\n"
       ]
      },
      {
       "output_type": "stream",
       "stream": "stdout",
       "text": [
        "  % Total    % Received % Xferd  Average Speed   Time    Time     Time  Current\r\n",
        "                                 Dload  Upload   Total   Spent    Left  Speed\r\n",
        "\r",
        "  0     0    0     0    0     0      0      0 --:--:-- --:--:-- --:--:--     0"
       ]
      },
      {
       "output_type": "stream",
       "stream": "stdout",
       "text": [
        "\r",
        "100   828    0   828    0     0   2610      0 --:--:-- --:--:-- --:--:--  2611\r\n"
       ]
      },
      {
       "output_type": "stream",
       "stream": "stdout",
       "text": [
        "  % Total    % Received % Xferd  Average Speed   Time    Time     Time  Current\r\n",
        "                                 Dload  Upload   Total   Spent    Left  Speed\r\n",
        "\r",
        "  0     0    0     0    0     0      0      0 --:--:-- --:--:-- --:--:--     0"
       ]
      },
      {
       "output_type": "stream",
       "stream": "stdout",
       "text": [
        "\r",
        "  0     0    0     0    0     0      0      0 --:--:-- --:--:-- --:--:--     0"
       ]
      },
      {
       "output_type": "stream",
       "stream": "stdout",
       "text": [
        "\r",
        "100   831    0   831    0     0   3297      0 --:--:-- --:--:-- --:--:--  3297\r\n"
       ]
      },
      {
       "output_type": "stream",
       "stream": "stdout",
       "text": [
        "  % Total    % Received % Xferd  Average Speed   Time    Time     Time  Current\r\n",
        "                                 Dload  Upload   Total   Spent    Left  Speed\r\n",
        "\r",
        "  0     0    0     0    0     0      0      0 --:--:-- --:--:-- --:--:--     0"
       ]
      },
      {
       "output_type": "stream",
       "stream": "stdout",
       "text": [
        "\r",
        "100   831    0   831    0     0   3004      0 --:--:-- --:--:-- --:--:--  3010\r\n"
       ]
      },
      {
       "output_type": "stream",
       "stream": "stdout",
       "text": [
        "  % Total    % Received % Xferd  Average Speed   Time    Time     Time  Current\r\n",
        "                                 Dload  Upload   Total   Spent    Left  Speed\r\n",
        "\r",
        "  0     0    0     0    0     0      0      0 --:--:-- --:--:-- --:--:--     0"
       ]
      },
      {
       "output_type": "stream",
       "stream": "stdout",
       "text": [
        "\r",
        "100   831    0   831    0     0   3483      0 --:--:-- --:--:-- --:--:--  3491\r\n"
       ]
      },
      {
       "output_type": "stream",
       "stream": "stdout",
       "text": [
        "  % Total    % Received % Xferd  Average Speed   Time    Time     Time  Current\r\n",
        "                                 Dload  Upload   Total   Spent    Left  Speed\r\n",
        "\r",
        "  0     0    0     0    0     0      0      0 --:--:-- --:--:-- --:--:--     0"
       ]
      },
      {
       "output_type": "stream",
       "stream": "stdout",
       "text": [
        "\r",
        "  0     0    0     0    0     0      0      0 --:--:-- --:--:-- --:--:--     0"
       ]
      },
      {
       "output_type": "stream",
       "stream": "stdout",
       "text": [
        "\r",
        "100   870    0   870    0     0   2254      0 --:--:-- --:--:-- --:--:--  2253\r\n"
       ]
      },
      {
       "output_type": "stream",
       "stream": "stdout",
       "text": [
        "  % Total    % Received % Xferd  Average Speed   Time    Time     Time  Current\r\n",
        "                                 Dload  Upload   Total   Spent    Left  Speed\r\n",
        "\r",
        "  0     0    0     0    0     0      0      0 --:--:-- --:--:-- --:--:--     0"
       ]
      },
      {
       "output_type": "stream",
       "stream": "stdout",
       "text": [
        "\r",
        "100   870    0   870    0     0   3125      0 --:--:-- --:--:-- --:--:--  3129\r\n"
       ]
      },
      {
       "output_type": "stream",
       "stream": "stdout",
       "text": [
        "  % Total    % Received % Xferd  Average Speed   Time    Time     Time  Current\r\n",
        "                                 Dload  Upload   Total   Spent    Left  Speed\r\n",
        "\r",
        "  0     0    0     0    0     0      0      0 --:--:-- --:--:-- --:--:--     0"
       ]
      },
      {
       "output_type": "stream",
       "stream": "stdout",
       "text": [
        "\r",
        "  0     0    0     0    0     0      0      0 --:--:-- --:--:-- --:--:--     0"
       ]
      },
      {
       "output_type": "stream",
       "stream": "stdout",
       "text": [
        "\r",
        "  0     0    0     0    0     0      0      0 --:--:--  0:00:01 --:--:--     0"
       ]
      },
      {
       "output_type": "stream",
       "stream": "stdout",
       "text": [
        "\r",
        "100   870    0   870    0     0    620      0 --:--:--  0:00:01 --:--:--   620\r\n"
       ]
      },
      {
       "output_type": "stream",
       "stream": "stdout",
       "text": [
        "  % Total    % Received % Xferd  Average Speed   Time    Time     Time  Current\r\n",
        "                                 Dload  Upload   Total   Spent    Left  Speed\r\n",
        "\r",
        "  0     0    0     0    0     0      0      0 --:--:-- --:--:-- --:--:--     0"
       ]
      },
      {
       "output_type": "stream",
       "stream": "stdout",
       "text": [
        "\r",
        "100   870    0   870    0     0   1868      0 --:--:-- --:--:-- --:--:--  1870\r\n"
       ]
      },
      {
       "output_type": "stream",
       "stream": "stdout",
       "text": [
        "  % Total    % Received % Xferd  Average Speed   Time    Time     Time  Current\r\n",
        "                                 Dload  Upload   Total   Spent    Left  Speed\r\n",
        "\r",
        "  0     0    0     0    0     0      0      0 --:--:-- --:--:-- --:--:--     0"
       ]
      },
      {
       "output_type": "stream",
       "stream": "stdout",
       "text": [
        "\r",
        "  0     0    0     0    0     0      0      0 --:--:-- --:--:-- --:--:--     0"
       ]
      },
      {
       "output_type": "stream",
       "stream": "stdout",
       "text": [
        "\r",
        "100   870    0   870    0     0   2340      0 --:--:-- --:--:-- --:--:--  2338\r\n"
       ]
      },
      {
       "output_type": "stream",
       "stream": "stdout",
       "text": [
        "  % Total    % Received % Xferd  Average Speed   Time    Time     Time  Current\r\n",
        "                                 Dload  Upload   Total   Spent    Left  Speed\r\n",
        "\r",
        "  0     0    0     0    0     0      0      0 --:--:-- --:--:-- --:--:--     0"
       ]
      },
      {
       "output_type": "stream",
       "stream": "stdout",
       "text": [
        "\r",
        "100   870    0   870    0     0   2789      0 --:--:-- --:--:-- --:--:--  2797\r\n"
       ]
      },
      {
       "output_type": "stream",
       "stream": "stdout",
       "text": [
        "  % Total    % Received % Xferd  Average Speed   Time    Time     Time  Current\r\n",
        "                                 Dload  Upload   Total   Spent    Left  Speed\r\n",
        "\r",
        "  0     0    0     0    0     0      0      0 --:--:-- --:--:-- --:--:--     0"
       ]
      },
      {
       "output_type": "stream",
       "stream": "stdout",
       "text": [
        "\r",
        "  0     0    0     0    0     0      0      0 --:--:-- --:--:-- --:--:--     0"
       ]
      },
      {
       "output_type": "stream",
       "stream": "stdout",
       "text": [
        "\r",
        "100   870    0   870    0     0   3328      0 --:--:-- --:--:-- --:--:--  3320\r\n"
       ]
      },
      {
       "output_type": "stream",
       "stream": "stdout",
       "text": [
        "  % Total    % Received % Xferd  Average Speed   Time    Time     Time  Current\r\n",
        "                                 Dload  Upload   Total   Spent    Left  Speed\r\n",
        "\r",
        "  0     0    0     0    0     0      0      0 --:--:-- --:--:-- --:--:--     0"
       ]
      },
      {
       "output_type": "stream",
       "stream": "stdout",
       "text": [
        "\r",
        "100   870    0   870    0     0   3505      0 --:--:-- --:--:-- --:--:--  3508\r\n"
       ]
      },
      {
       "output_type": "stream",
       "stream": "stdout",
       "text": [
        "  % Total    % Received % Xferd  Average Speed   Time    Time     Time  Current\r\n",
        "                                 Dload  Upload   Total   Spent    Left  Speed\r\n",
        "\r",
        "  0     0    0     0    0     0      0      0 --:--:-- --:--:-- --:--:--     0"
       ]
      },
      {
       "output_type": "stream",
       "stream": "stdout",
       "text": [
        "\r",
        "100   870    0   870    0     0   3455      0 --:--:-- --:--:-- --:--:--  3466\r\n"
       ]
      },
      {
       "output_type": "stream",
       "stream": "stdout",
       "text": [
        "  % Total    % Received % Xferd  Average Speed   Time    Time     Time  Current\r\n",
        "                                 Dload  Upload   Total   Spent    Left  Speed\r\n",
        "\r",
        "  0     0    0     0    0     0      0      0 --:--:-- --:--:-- --:--:--     0"
       ]
      },
      {
       "output_type": "stream",
       "stream": "stdout",
       "text": [
        "\r",
        "  0     0    0     0    0     0      0      0 --:--:-- --:--:-- --:--:--     0"
       ]
      },
      {
       "output_type": "stream",
       "stream": "stdout",
       "text": [
        "\r",
        "100   870    0   870    0     0   3079      0 --:--:-- --:--:-- --:--:--  3074\r\n"
       ]
      },
      {
       "output_type": "stream",
       "stream": "stdout",
       "text": [
        "  % Total    % Received % Xferd  Average Speed   Time    Time     Time  Current\r\n",
        "                                 Dload  Upload   Total   Spent    Left  Speed\r\n",
        "\r",
        "  0     0    0     0    0     0      0      0 --:--:-- --:--:-- --:--:--     0"
       ]
      },
      {
       "output_type": "stream",
       "stream": "stdout",
       "text": [
        "\r",
        "100   870    0   870    0     0   3061      0 --:--:-- --:--:-- --:--:--  3063\r\n"
       ]
      },
      {
       "output_type": "stream",
       "stream": "stdout",
       "text": [
        "  % Total    % Received % Xferd  Average Speed   Time    Time     Time  Current\r\n",
        "                                 Dload  Upload   Total   Spent    Left  Speed\r\n",
        "\r",
        "  0     0    0     0    0     0      0      0 --:--:-- --:--:-- --:--:--     0"
       ]
      },
      {
       "output_type": "stream",
       "stream": "stdout",
       "text": [
        "\r",
        "  0     0    0     0    0     0      0      0 --:--:-- --:--:-- --:--:--     0"
       ]
      },
      {
       "output_type": "stream",
       "stream": "stdout",
       "text": [
        "\r",
        "100   870    0   870    0     0   3059      0 --:--:-- --:--:-- --:--:--  3052\r\n"
       ]
      },
      {
       "output_type": "stream",
       "stream": "stdout",
       "text": [
        "  % Total    % Received % Xferd  Average Speed   Time    Time     Time  Current\r\n",
        "                                 Dload  Upload   Total   Spent    Left  Speed\r\n",
        "\r",
        "  0     0    0     0    0     0      0      0 --:--:-- --:--:-- --:--:--     0"
       ]
      },
      {
       "output_type": "stream",
       "stream": "stdout",
       "text": [
        "\r",
        "100   870    0   870    0     0   2802      0 --:--:-- --:--:-- --:--:--  2806\r\n"
       ]
      },
      {
       "output_type": "stream",
       "stream": "stdout",
       "text": [
        "  % Total    % Received % Xferd  Average Speed   Time    Time     Time  Current\r\n",
        "                                 Dload  Upload   Total   Spent    Left  Speed\r\n",
        "\r",
        "  0     0    0     0    0     0      0      0 --:--:-- --:--:-- --:--:--     0"
       ]
      },
      {
       "output_type": "stream",
       "stream": "stdout",
       "text": [
        "\r",
        "100   870    0   870    0     0   3422      0 --:--:-- --:--:-- --:--:--  3425\r\n"
       ]
      },
      {
       "output_type": "stream",
       "stream": "stdout",
       "text": [
        "  % Total    % Received % Xferd  Average Speed   Time    Time     Time  Current\r\n",
        "                                 Dload  Upload   Total   Spent    Left  Speed\r\n",
        "\r",
        "  0     0    0     0    0     0      0      0 --:--:-- --:--:-- --:--:--     0"
       ]
      },
      {
       "output_type": "stream",
       "stream": "stdout",
       "text": [
        "\r",
        "  0     0    0     0    0     0      0      0 --:--:-- --:--:-- --:--:--     0"
       ]
      },
      {
       "output_type": "stream",
       "stream": "stdout",
       "text": [
        "\r",
        "100   870    0   870    0     0   2311      0 --:--:-- --:--:-- --:--:--  2307\r\n"
       ]
      },
      {
       "output_type": "stream",
       "stream": "stdout",
       "text": [
        "  % Total    % Received % Xferd  Average Speed   Time    Time     Time  Current\r\n",
        "                                 Dload  Upload   Total   Spent    Left  Speed\r\n",
        "\r",
        "  0     0    0     0    0     0      0      0 --:--:-- --:--:-- --:--:--     0"
       ]
      },
      {
       "output_type": "stream",
       "stream": "stdout",
       "text": [
        "\r",
        "100   870    0   870    0     0   2832      0 --:--:-- --:--:-- --:--:--  2833\r\n"
       ]
      },
      {
       "output_type": "stream",
       "stream": "stdout",
       "text": [
        "  % Total    % Received % Xferd  Average Speed   Time    Time     Time  Current\r\n",
        "                                 Dload  Upload   Total   Spent    Left  Speed\r\n",
        "\r",
        "  0     0    0     0    0     0      0      0 --:--:-- --:--:-- --:--:--     0"
       ]
      },
      {
       "output_type": "stream",
       "stream": "stdout",
       "text": [
        "\r",
        "  0     0    0     0    0     0      0      0 --:--:-- --:--:-- --:--:--     0"
       ]
      },
      {
       "output_type": "stream",
       "stream": "stdout",
       "text": [
        "\r",
        "100   867    0   867    0     0   3445      0 --:--:-- --:--:-- --:--:--  3440\r\n"
       ]
      },
      {
       "output_type": "stream",
       "stream": "stdout",
       "text": [
        "  % Total    % Received % Xferd  Average Speed   Time    Time     Time  Current\r\n",
        "                                 Dload  Upload   Total   Spent    Left  Speed\r\n",
        "\r",
        "  0     0    0     0    0     0      0      0 --:--:-- --:--:-- --:--:--     0"
       ]
      },
      {
       "output_type": "stream",
       "stream": "stdout",
       "text": [
        "\r",
        "100   870    0   870    0     0   3174      0 --:--:-- --:--:-- --:--:--  3186\r\n"
       ]
      },
      {
       "output_type": "stream",
       "stream": "stdout",
       "text": [
        "  % Total    % Received % Xferd  Average Speed   Time    Time     Time  Current\r\n",
        "                                 Dload  Upload   Total   Spent    Left  Speed\r\n",
        "\r",
        "  0     0    0     0    0     0      0      0 --:--:-- --:--:-- --:--:--     0"
       ]
      },
      {
       "output_type": "stream",
       "stream": "stdout",
       "text": [
        "\r",
        "100   870    0   870    0     0   2833      0 --:--:-- --:--:-- --:--:--  2843\r\n"
       ]
      },
      {
       "output_type": "stream",
       "stream": "stdout",
       "text": [
        "  % Total    % Received % Xferd  Average Speed   Time    Time     Time  Current\r\n",
        "                                 Dload  Upload   Total   Spent    Left  Speed\r\n",
        "\r",
        "  0     0    0     0    0     0      0      0 --:--:-- --:--:-- --:--:--     0"
       ]
      },
      {
       "output_type": "stream",
       "stream": "stdout",
       "text": [
        "\r",
        "100   870    0   870    0     0   3034      0 --:--:-- --:--:-- --:--:--  3041\r\n"
       ]
      },
      {
       "output_type": "stream",
       "stream": "stdout",
       "text": [
        "  % Total    % Received % Xferd  Average Speed   Time    Time     Time  Current\r\n",
        "                                 Dload  Upload   Total   Spent    Left  Speed\r\n",
        "\r",
        "  0     0    0     0    0     0      0      0 --:--:-- --:--:-- --:--:--     0"
       ]
      },
      {
       "output_type": "stream",
       "stream": "stdout",
       "text": [
        "\r",
        "100   879    0   879    0     0   3572      0 --:--:-- --:--:-- --:--:--  3587\r\n"
       ]
      },
      {
       "output_type": "stream",
       "stream": "stdout",
       "text": [
        "  % Total    % Received % Xferd  Average Speed   Time    Time     Time  Current\r\n",
        "                                 Dload  Upload   Total   Spent    Left  Speed\r\n",
        "\r",
        "  0     0    0     0    0     0      0      0 --:--:-- --:--:-- --:--:--     0"
       ]
      },
      {
       "output_type": "stream",
       "stream": "stdout",
       "text": [
        "\r",
        "  0     0    0     0    0     0      0      0 --:--:-- --:--:-- --:--:--     0"
       ]
      },
      {
       "output_type": "stream",
       "stream": "stdout",
       "text": [
        "\r",
        "100   870    0   870    0     0   2805      0 --:--:-- --:--:-- --:--:--  2806\r\n"
       ]
      },
      {
       "output_type": "stream",
       "stream": "stdout",
       "text": [
        "  % Total    % Received % Xferd  Average Speed   Time    Time     Time  Current\r\n",
        "                                 Dload  Upload   Total   Spent    Left  Speed\r\n",
        "\r",
        "  0     0    0     0    0     0      0      0 --:--:-- --:--:-- --:--:--     0"
       ]
      },
      {
       "output_type": "stream",
       "stream": "stdout",
       "text": [
        "\r",
        "100   870    0   870    0     0   3543      0 --:--:-- --:--:-- --:--:--  3551\r\n"
       ]
      },
      {
       "output_type": "stream",
       "stream": "stdout",
       "text": [
        "  % Total    % Received % Xferd  Average Speed   Time    Time     Time  Current\r\n",
        "                                 Dload  Upload   Total   Spent    Left  Speed\r\n",
        "\r",
        "  0     0    0     0    0     0      0      0 --:--:-- --:--:-- --:--:--     0"
       ]
      },
      {
       "output_type": "stream",
       "stream": "stdout",
       "text": [
        "\r",
        "100   870    0   870    0     0   3127      0 --:--:-- --:--:-- --:--:--  3129\r\n"
       ]
      },
      {
       "output_type": "stream",
       "stream": "stdout",
       "text": [
        "  % Total    % Received % Xferd  Average Speed   Time    Time     Time  Current\r\n",
        "                                 Dload  Upload   Total   Spent    Left  Speed\r\n",
        "\r",
        "  0     0    0     0    0     0      0      0 --:--:-- --:--:-- --:--:--     0"
       ]
      },
      {
       "output_type": "stream",
       "stream": "stdout",
       "text": [
        "\r",
        "100   876    0   876    0     0   1130      0 --:--:-- --:--:-- --:--:--  1131\r\n"
       ]
      },
      {
       "output_type": "stream",
       "stream": "stdout",
       "text": [
        "  % Total    % Received % Xferd  Average Speed   Time    Time     Time  Current\r\n",
        "                                 Dload  Upload   Total   Spent    Left  Speed\r\n",
        "\r",
        "  0     0    0     0    0     0      0      0 --:--:-- --:--:-- --:--:--     0"
       ]
      },
      {
       "output_type": "stream",
       "stream": "stdout",
       "text": [
        "\r",
        "  0     0    0     0    0     0      0      0 --:--:-- --:--:-- --:--:--     0"
       ]
      },
      {
       "output_type": "stream",
       "stream": "stdout",
       "text": [
        "\r",
        "100   870    0   870    0     0   2630      0 --:--:-- --:--:-- --:--:--  2628\r\n"
       ]
      },
      {
       "output_type": "stream",
       "stream": "stdout",
       "text": [
        "  % Total    % Received % Xferd  Average Speed   Time    Time     Time  Current\r\n",
        "                                 Dload  Upload   Total   Spent    Left  Speed\r\n",
        "\r",
        "  0     0    0     0    0     0      0      0 --:--:-- --:--:-- --:--:--     0"
       ]
      },
      {
       "output_type": "stream",
       "stream": "stdout",
       "text": [
        "\r",
        "100   870    0   870    0     0   3476      0 --:--:-- --:--:-- --:--:--  3480\r\n"
       ]
      },
      {
       "output_type": "stream",
       "stream": "stdout",
       "text": [
        "  % Total    % Received % Xferd  Average Speed   Time    Time     Time  Current\r\n",
        "                                 Dload  Upload   Total   Spent    Left  Speed\r\n",
        "\r",
        "  0     0    0     0    0     0      0      0 --:--:-- --:--:-- --:--:--     0"
       ]
      },
      {
       "output_type": "stream",
       "stream": "stdout",
       "text": [
        "\r",
        "100   876    0   876    0     0   3547      0 --:--:-- --:--:-- --:--:--  3560\r\n"
       ]
      },
      {
       "output_type": "stream",
       "stream": "stdout",
       "text": [
        "  % Total    % Received % Xferd  Average Speed   Time    Time     Time  Current\r\n",
        "                                 Dload  Upload   Total   Spent    Left  Speed\r\n",
        "\r",
        "  0     0    0     0    0     0      0      0 --:--:-- --:--:-- --:--:--     0"
       ]
      },
      {
       "output_type": "stream",
       "stream": "stdout",
       "text": [
        "\r",
        "100   870    0   870    0     0   3180      0 --:--:-- --:--:-- --:--:--  3186\r\n"
       ]
      },
      {
       "output_type": "stream",
       "stream": "stdout",
       "text": [
        "  % Total    % Received % Xferd  Average Speed   Time    Time     Time  Current\r\n",
        "                                 Dload  Upload   Total   Spent    Left  Speed\r\n",
        "\r",
        "  0     0    0     0    0     0      0      0 --:--:-- --:--:-- --:--:--     0"
       ]
      },
      {
       "output_type": "stream",
       "stream": "stdout",
       "text": [
        "\r",
        "100   870    0   870    0     0   2856      0 --:--:-- --:--:-- --:--:--  2861\r\n"
       ]
      },
      {
       "output_type": "stream",
       "stream": "stdout",
       "text": [
        "  % Total    % Received % Xferd  Average Speed   Time    Time     Time  Current\r\n",
        "                                 Dload  Upload   Total   Spent    Left  Speed\r\n",
        "\r",
        "  0     0    0     0    0     0      0      0 --:--:-- --:--:-- --:--:--     0"
       ]
      },
      {
       "output_type": "stream",
       "stream": "stdout",
       "text": [
        "\r",
        "  0     0    0     0    0     0      0      0 --:--:-- --:--:-- --:--:--     0"
       ]
      },
      {
       "output_type": "stream",
       "stream": "stdout",
       "text": [
        "\r",
        "100   870    0   870    0     0   3185      0 --:--:-- --:--:-- --:--:--  3175\r\n"
       ]
      },
      {
       "output_type": "stream",
       "stream": "stdout",
       "text": [
        "  % Total    % Received % Xferd  Average Speed   Time    Time     Time  Current\r\n",
        "                                 Dload  Upload   Total   Spent    Left  Speed\r\n",
        "\r",
        "  0     0    0     0    0     0      0      0 --:--:-- --:--:-- --:--:--     0"
       ]
      },
      {
       "output_type": "stream",
       "stream": "stdout",
       "text": [
        "\r",
        "100  1560    0  1560    0     0   6112      0 --:--:-- --:--:-- --:--:--  6117\r\n"
       ]
      },
      {
       "output_type": "stream",
       "stream": "stdout",
       "text": [
        "  % Total    % Received % Xferd  Average Speed   Time    Time     Time  Current\r\n",
        "                                 Dload  Upload   Total   Spent    Left  Speed\r\n",
        "\r",
        "  0     0    0     0    0     0      0      0 --:--:-- --:--:-- --:--:--     0"
       ]
      },
      {
       "output_type": "stream",
       "stream": "stdout",
       "text": [
        "\r",
        "100  1572    0  1572    0     0   5788      0 --:--:-- --:--:-- --:--:--  5800\r\n"
       ]
      },
      {
       "output_type": "stream",
       "stream": "stdout",
       "text": [
        "  % Total    % Received % Xferd  Average Speed   Time    Time     Time  Current\r\n",
        "                                 Dload  Upload   Total   Spent    Left  Speed\r\n",
        "\r",
        "  0     0    0     0    0     0      0      0 --:--:-- --:--:-- --:--:--     0"
       ]
      },
      {
       "output_type": "stream",
       "stream": "stdout",
       "text": [
        "\r",
        "100  1542    0  1542    0     0   5408      0 --:--:-- --:--:-- --:--:--  5429\r\n"
       ]
      },
      {
       "output_type": "stream",
       "stream": "stdout",
       "text": [
        "  % Total    % Received % Xferd  Average Speed   Time    Time     Time  Current\r\n",
        "                                 Dload  Upload   Total   Spent    Left  Speed\r\n",
        "\r",
        "  0     0    0     0    0     0      0      0 --:--:-- --:--:-- --:--:--     0"
       ]
      },
      {
       "output_type": "stream",
       "stream": "stdout",
       "text": [
        "\r",
        "100  1512    0  1512    0     0   5483      0 --:--:-- --:--:-- --:--:--  5498\r\n"
       ]
      },
      {
       "output_type": "stream",
       "stream": "stdout",
       "text": [
        "  % Total    % Received % Xferd  Average Speed   Time    Time     Time  Current\r\n",
        "                                 Dload  Upload   Total   Spent    Left  Speed\r\n",
        "\r",
        "  0     0    0     0    0     0      0      0 --:--:-- --:--:-- --:--:--     0"
       ]
      },
      {
       "output_type": "stream",
       "stream": "stdout",
       "text": [
        "\r",
        "  0     0    0     0    0     0      0      0 --:--:-- --:--:-- --:--:--     0"
       ]
      },
      {
       "output_type": "stream",
       "stream": "stdout",
       "text": [
        "\r",
        "100  1512    0  1512    0     0   5522      0 --:--:-- --:--:-- --:--:--  5518\r\n"
       ]
      },
      {
       "output_type": "stream",
       "stream": "stdout",
       "text": [
        "  % Total    % Received % Xferd  Average Speed   Time    Time     Time  Current\r\n",
        "                                 Dload  Upload   Total   Spent    Left  Speed\r\n",
        "\r",
        "  0     0    0     0    0     0      0      0 --:--:-- --:--:-- --:--:--     0"
       ]
      },
      {
       "output_type": "stream",
       "stream": "stdout",
       "text": [
        "\r",
        "100  1524    0  1524    0     0   5352      0 --:--:-- --:--:-- --:--:--  5366\r\n"
       ]
      },
      {
       "output_type": "stream",
       "stream": "stdout",
       "text": [
        "  % Total    % Received % Xferd  Average Speed   Time    Time     Time  Current\r\n",
        "                                 Dload  Upload   Total   Spent    Left  Speed\r\n",
        "\r",
        "  0     0    0     0    0     0      0      0 --:--:-- --:--:-- --:--:--     0"
       ]
      },
      {
       "output_type": "stream",
       "stream": "stdout",
       "text": [
        "\r",
        "100  1757    0  1757    0     0   5796      0 --:--:-- --:--:-- --:--:--  5798\r\n"
       ]
      },
      {
       "output_type": "stream",
       "stream": "stdout",
       "text": [
        "  % Total    % Received % Xferd  Average Speed   Time    Time     Time  Current\r\n",
        "                                 Dload  Upload   Total   Spent    Left  Speed\r\n",
        "\r",
        "  0     0    0     0    0     0      0      0 --:--:-- --:--:-- --:--:--     0"
       ]
      },
      {
       "output_type": "stream",
       "stream": "stdout",
       "text": [
        "\r",
        "100  1756    0  1756    0     0   7587      0 --:--:-- --:--:-- --:--:--  7601\r\n"
       ]
      },
      {
       "output_type": "stream",
       "stream": "stdout",
       "text": [
        "  % Total    % Received % Xferd  Average Speed   Time    Time     Time  Current\r\n",
        "                                 Dload  Upload   Total   Spent    Left  Speed\r\n",
        "\r",
        "  0     0    0     0    0     0      0      0 --:--:-- --:--:-- --:--:--     0"
       ]
      },
      {
       "output_type": "stream",
       "stream": "stdout",
       "text": [
        "\r",
        "100  2262    0  2262    0     0   9158      0 --:--:-- --:--:-- --:--:--  9195\r\n"
       ]
      },
      {
       "output_type": "stream",
       "stream": "stdout",
       "text": [
        "  % Total    % Received % Xferd  Average Speed   Time    Time     Time  Current\r\n",
        "                                 Dload  Upload   Total   Spent    Left  Speed\r\n",
        "\r",
        "  0     0    0     0    0     0      0      0 --:--:-- --:--:-- --:--:--     0"
       ]
      },
      {
       "output_type": "stream",
       "stream": "stdout",
       "text": [
        "\r",
        "100  1332    0  1332    0     0   5321      0 --:--:-- --:--:-- --:--:--  5306\r",
        "100  2678    0  2678    0     0  10696      0 --:--:-- --:--:-- --:--:-- 10669\r\n"
       ]
      },
      {
       "output_type": "stream",
       "stream": "stdout",
       "text": [
        "  % Total    % Received % Xferd  Average Speed   Time    Time     Time  Current\r\n",
        "                                 Dload  Upload   Total   Spent    Left  Speed\r\n",
        "\r",
        "  0     0    0     0    0     0      0      0 --:--:-- --:--:-- --:--:--     0"
       ]
      },
      {
       "output_type": "stream",
       "stream": "stdout",
       "text": [
        "\r",
        "100  1524    0  1524    0     0   5896      0 --:--:-- --:--:-- --:--:--  5906\r\n"
       ]
      },
      {
       "output_type": "stream",
       "stream": "stdout",
       "text": [
        "  % Total    % Received % Xferd  Average Speed   Time    Time     Time  Current\r\n",
        "                                 Dload  Upload   Total   Spent    Left  Speed\r\n",
        "\r",
        "  0     0    0     0    0     0      0      0 --:--:-- --:--:-- --:--:--     0"
       ]
      },
      {
       "output_type": "stream",
       "stream": "stdout",
       "text": [
        "\r",
        "100  1512    0  1512    0     0   5943      0 --:--:-- --:--:-- --:--:--  5952\r\n"
       ]
      },
      {
       "output_type": "stream",
       "stream": "stdout",
       "text": [
        "  % Total    % Received % Xferd  Average Speed   Time    Time     Time  Current\r\n",
        "                                 Dload  Upload   Total   Spent    Left  Speed\r\n",
        "\r",
        "  0     0    0     0    0     0      0      0 --:--:-- --:--:-- --:--:--     0"
       ]
      },
      {
       "output_type": "stream",
       "stream": "stdout",
       "text": [
        "\r",
        "  0     0    0     0    0     0      0      0 --:--:-- --:--:-- --:--:--     0"
       ]
      },
      {
       "output_type": "stream",
       "stream": "stdout",
       "text": [
        "\r",
        "100  1524    0  1524    0     0   6188      0 --:--:-- --:--:-- --:--:--  6170\r\n"
       ]
      },
      {
       "output_type": "stream",
       "stream": "stdout",
       "text": [
        "  % Total    % Received % Xferd  Average Speed   Time    Time     Time  Current\r\n",
        "                                 Dload  Upload   Total   Spent    Left  Speed\r\n",
        "\r",
        "  0     0    0     0    0     0      0      0 --:--:-- --:--:-- --:--:--     0"
       ]
      },
      {
       "output_type": "stream",
       "stream": "stdout",
       "text": [
        "\r",
        "100  1518    0  1518    0     0   5400      0 --:--:-- --:--:-- --:--:--  5402\r\n"
       ]
      },
      {
       "output_type": "stream",
       "stream": "stdout",
       "text": [
        "  % Total    % Received % Xferd  Average Speed   Time    Time     Time  Current\r\n",
        "                                 Dload  Upload   Total   Spent    Left  Speed\r\n",
        "\r",
        "  0     0    0     0    0     0      0      0 --:--:-- --:--:-- --:--:--     0"
       ]
      },
      {
       "output_type": "stream",
       "stream": "stdout",
       "text": [
        "\r",
        "100  1542    0  1542    0     0   6325      0 --:--:-- --:--:-- --:--:--  6345\r\n"
       ]
      },
      {
       "output_type": "stream",
       "stream": "stdout",
       "text": [
        "  % Total    % Received % Xferd  Average Speed   Time    Time     Time  Current\r\n",
        "                                 Dload  Upload   Total   Spent    Left  Speed\r\n",
        "\r",
        "  0     0    0     0    0     0      0      0 --:--:-- --:--:-- --:--:--     0\r",
        "  0     0    0     0    0     0      0      0 --:--:-- --:--:-- --:--:--     0"
       ]
      },
      {
       "output_type": "stream",
       "stream": "stdout",
       "text": [
        "\r",
        "100  1542    0  1542    0     0   5456      0 --:--:-- --:--:-- --:--:--  5448\r\n"
       ]
      },
      {
       "output_type": "stream",
       "stream": "stdout",
       "text": [
        "  % Total    % Received % Xferd  Average Speed   Time    Time     Time  Current\r\n",
        "                                 Dload  Upload   Total   Spent    Left  Speed\r\n",
        "\r",
        "  0     0    0     0    0     0      0      0 --:--:-- --:--:-- --:--:--     0"
       ]
      },
      {
       "output_type": "stream",
       "stream": "stdout",
       "text": [
        "\r",
        "100  1536    0  1536    0     0   4884      0 --:--:-- --:--:-- --:--:--  4891\r\n"
       ]
      },
      {
       "output_type": "stream",
       "stream": "stdout",
       "text": [
        "  % Total    % Received % Xferd  Average Speed   Time    Time     Time  Current\r\n",
        "                                 Dload  Upload   Total   Spent    Left  Speed\r\n",
        "\r",
        "  0     0    0     0    0     0      0      0 --:--:-- --:--:-- --:--:--     0"
       ]
      },
      {
       "output_type": "stream",
       "stream": "stdout",
       "text": [
        "\r",
        "100  1572    0  1572    0     0   5809      0 --:--:-- --:--:-- --:--:--  5822\r\n"
       ]
      },
      {
       "output_type": "stream",
       "stream": "stdout",
       "text": [
        "  % Total    % Received % Xferd  Average Speed   Time    Time     Time  Current\r\n",
        "                                 Dload  Upload   Total   Spent    Left  Speed\r\n",
        "\r",
        "  0     0    0     0    0     0      0      0 --:--:-- --:--:-- --:--:--     0"
       ]
      },
      {
       "output_type": "stream",
       "stream": "stdout",
       "text": [
        "\r",
        "100  1536    0  1536    0     0   6384      0 --:--:-- --:--:-- --:--:--  6400\r\n"
       ]
      },
      {
       "output_type": "stream",
       "stream": "stdout",
       "text": [
        "  % Total    % Received % Xferd  Average Speed   Time    Time     Time  Current\r\n",
        "                                 Dload  Upload   Total   Spent    Left  Speed\r\n",
        "\r",
        "  0     0    0     0    0     0      0      0 --:--:-- --:--:-- --:--:--     0"
       ]
      },
      {
       "output_type": "stream",
       "stream": "stdout",
       "text": [
        "\r",
        "  0     0    0     0    0     0      0      0 --:--:-- --:--:-- --:--:--     0"
       ]
      },
      {
       "output_type": "stream",
       "stream": "stdout",
       "text": [
        "\r",
        "100  1566    0  1566    0     0   5720      0 --:--:-- --:--:-- --:--:--  5715\r\n"
       ]
      },
      {
       "output_type": "stream",
       "stream": "stdout",
       "text": [
        "  % Total    % Received % Xferd  Average Speed   Time    Time     Time  Current\r\n",
        "                                 Dload  Upload   Total   Spent    Left  Speed\r\n",
        "\r",
        "  0     0    0     0    0     0      0      0 --:--:-- --:--:-- --:--:--     0"
       ]
      },
      {
       "output_type": "stream",
       "stream": "stdout",
       "text": [
        "\r",
        "100  1530    0  1530    0     0   4928      0 --:--:-- --:--:-- --:--:--  4935\r\n"
       ]
      },
      {
       "output_type": "stream",
       "stream": "stdout",
       "text": [
        "  % Total    % Received % Xferd  Average Speed   Time    Time     Time  Current\r\n",
        "                                 Dload  Upload   Total   Spent    Left  Speed\r\n",
        "\r",
        "  0     0    0     0    0     0      0      0 --:--:-- --:--:-- --:--:--     0"
       ]
      },
      {
       "output_type": "stream",
       "stream": "stdout",
       "text": [
        "\r",
        "100  1554    0  1554    0     0   6089      0 --:--:-- --:--:-- --:--:--  6094\r\n"
       ]
      },
      {
       "output_type": "stream",
       "stream": "stdout",
       "text": [
        "  % Total    % Received % Xferd  Average Speed   Time    Time     Time  Current\r\n",
        "                                 Dload  Upload   Total   Spent    Left  Speed\r\n",
        "\r",
        "  0     0    0     0    0     0      0      0 --:--:-- --:--:-- --:--:--     0\r",
        "  0     0    0     0    0     0      0      0 --:--:-- --:--:-- --:--:--     0"
       ]
      },
      {
       "output_type": "stream",
       "stream": "stdout",
       "text": [
        "\r",
        "100  1536    0  1536    0     0   5146      0 --:--:-- --:--:-- --:--:--  5137\r\n"
       ]
      },
      {
       "output_type": "stream",
       "stream": "stdout",
       "text": [
        "  % Total    % Received % Xferd  Average Speed   Time    Time     Time  Current\r\n",
        "                                 Dload  Upload   Total   Spent    Left  Speed\r\n",
        "\r",
        "  0     0    0     0    0     0      0      0 --:--:-- --:--:-- --:--:--     0"
       ]
      },
      {
       "output_type": "stream",
       "stream": "stdout",
       "text": [
        "\r",
        "100  1536    0  1536    0     0   6186      0 --:--:-- --:--:-- --:--:--  6193\r\n"
       ]
      },
      {
       "output_type": "stream",
       "stream": "stdout",
       "text": [
        "  % Total    % Received % Xferd  Average Speed   Time    Time     Time  Current\r\n",
        "                                 Dload  Upload   Total   Spent    Left  Speed\r\n",
        "\r",
        "  0     0    0     0    0     0      0      0 --:--:-- --:--:-- --:--:--     0"
       ]
      },
      {
       "output_type": "stream",
       "stream": "stdout",
       "text": [
        "\r",
        "  0     0    0     0    0     0      0      0 --:--:-- --:--:-- --:--:--     0"
       ]
      },
      {
       "output_type": "stream",
       "stream": "stdout",
       "text": [
        "\r",
        "100  1524    0  1524    0     0   4938      0 --:--:-- --:--:-- --:--:--  4932\r\n"
       ]
      },
      {
       "output_type": "stream",
       "stream": "stdout",
       "text": [
        "  % Total    % Received % Xferd  Average Speed   Time    Time     Time  Current\r\n",
        "                                 Dload  Upload   Total   Spent    Left  Speed\r\n",
        "\r",
        "  0     0    0     0    0     0      0      0 --:--:-- --:--:-- --:--:--     0"
       ]
      },
      {
       "output_type": "stream",
       "stream": "stdout",
       "text": [
        "\r",
        "100  1548    0  1548    0     0   5804      0 --:--:-- --:--:-- --:--:--  5819\r\n"
       ]
      },
      {
       "output_type": "stream",
       "stream": "stdout",
       "text": [
        "  % Total    % Received % Xferd  Average Speed   Time    Time     Time  Current\r\n",
        "                                 Dload  Upload   Total   Spent    Left  Speed\r\n",
        "\r",
        "  0     0    0     0    0     0      0      0 --:--:-- --:--:-- --:--:--     0"
       ]
      },
      {
       "output_type": "stream",
       "stream": "stdout",
       "text": [
        "\r",
        "  0     0    0     0    0     0      0      0 --:--:--  0:00:01 --:--:--     0"
       ]
      },
      {
       "output_type": "stream",
       "stream": "stdout",
       "text": [
        "\r",
        "100  1536    0  1536    0     0   1176      0 --:--:--  0:00:01 --:--:--  1177\r\n"
       ]
      },
      {
       "output_type": "stream",
       "stream": "stdout",
       "text": [
        "  % Total    % Received % Xferd  Average Speed   Time    Time     Time  Current\r\n",
        "                                 Dload  Upload   Total   Spent    Left  Speed\r\n",
        "\r",
        "  0     0    0     0    0     0      0      0 --:--:-- --:--:-- --:--:--     0"
       ]
      },
      {
       "output_type": "stream",
       "stream": "stdout",
       "text": [
        "\r",
        "100  1524    0  1524    0     0   5371      0 --:--:-- --:--:-- --:--:--  5385\r\n"
       ]
      },
      {
       "output_type": "stream",
       "stream": "stdout",
       "text": [
        "  % Total    % Received % Xferd  Average Speed   Time    Time     Time  Current\r\n",
        "                                 Dload  Upload   Total   Spent    Left  Speed\r\n",
        "\r",
        "  0     0    0     0    0     0      0      0 --:--:-- --:--:-- --:--:--     0"
       ]
      },
      {
       "output_type": "stream",
       "stream": "stdout",
       "text": [
        "\r",
        "100  1572    0  1572    0     0   5630      0 --:--:-- --:--:-- --:--:--  5634\r\n"
       ]
      },
      {
       "output_type": "stream",
       "stream": "stdout",
       "text": [
        "  % Total    % Received % Xferd  Average Speed   Time    Time     Time  Current\r\n",
        "                                 Dload  Upload   Total   Spent    Left  Speed\r\n",
        "\r",
        "  0     0    0     0    0     0      0      0 --:--:-- --:--:-- --:--:--     0"
       ]
      },
      {
       "output_type": "stream",
       "stream": "stdout",
       "text": [
        "\r",
        "  0     0    0     0    0     0      0      0 --:--:-- --:--:-- --:--:--     0\r",
        "100  1536    0  1536    0     0   6584      0 --:--:-- --:--:-- --:--:--  6564\r\n"
       ]
      },
      {
       "output_type": "stream",
       "stream": "stdout",
       "text": [
        "  % Total    % Received % Xferd  Average Speed   Time    Time     Time  Current\r\n",
        "                                 Dload  Upload   Total   Spent    Left  Speed\r\n",
        "\r",
        "  0     0    0     0    0     0      0      0 --:--:-- --:--:-- --:--:--     0"
       ]
      },
      {
       "output_type": "stream",
       "stream": "stdout",
       "text": [
        "\r",
        "100  2223    0  2223    0     0   8630      0 --:--:-- --:--:-- --:--:--  8649\r\n"
       ]
      },
      {
       "output_type": "stream",
       "stream": "stdout",
       "text": [
        "  % Total    % Received % Xferd  Average Speed   Time    Time     Time  Current\r\n",
        "                                 Dload  Upload   Total   Spent    Left  Speed\r\n",
        "\r",
        "  0     0    0     0    0     0      0      0 --:--:-- --:--:-- --:--:--     0"
       ]
      },
      {
       "output_type": "stream",
       "stream": "stdout",
       "text": [
        "\r",
        "100  1536    0  1536    0     0   6196      0 --:--:-- --:--:-- --:--:--  6218\r\n"
       ]
      },
      {
       "output_type": "stream",
       "stream": "stdout",
       "text": [
        "  % Total    % Received % Xferd  Average Speed   Time    Time     Time  Current\r\n",
        "                                 Dload  Upload   Total   Spent    Left  Speed\r\n",
        "\r",
        "  0     0    0     0    0     0      0      0 --:--:-- --:--:-- --:--:--     0"
       ]
      },
      {
       "output_type": "stream",
       "stream": "stdout",
       "text": [
        "\r",
        "  0     0    0     0    0     0      0      0 --:--:-- --:--:-- --:--:--     0"
       ]
      },
      {
       "output_type": "stream",
       "stream": "stdout",
       "text": [
        "\r",
        "100  1524    0  1524    0     0   6544      0 --:--:-- --:--:-- --:--:--  6540\r\n"
       ]
      },
      {
       "output_type": "stream",
       "stream": "stdout",
       "text": [
        "  % Total    % Received % Xferd  Average Speed   Time    Time     Time  Current\r\n",
        "                                 Dload  Upload   Total   Spent    Left  Speed\r\n",
        "\r",
        "  0     0    0     0    0     0      0      0 --:--:-- --:--:-- --:--:--     0"
       ]
      },
      {
       "output_type": "stream",
       "stream": "stdout",
       "text": [
        "\r",
        "100  1536    0  1536    0     0   5015      0 --:--:-- --:--:-- --:--:--  5019\r\n"
       ]
      },
      {
       "output_type": "stream",
       "stream": "stdout",
       "text": [
        "  % Total    % Received % Xferd  Average Speed   Time    Time     Time  Current\r\n",
        "                                 Dload  Upload   Total   Spent    Left  Speed\r\n",
        "\r",
        "  0     0    0     0    0     0      0      0 --:--:-- --:--:-- --:--:--     0"
       ]
      },
      {
       "output_type": "stream",
       "stream": "stdout",
       "text": [
        "\r",
        "100  1536    0  1536    0     0   6058      0 --:--:-- --:--:-- --:--:--  6071\r\n"
       ]
      },
      {
       "output_type": "stream",
       "stream": "stdout",
       "text": [
        "  % Total    % Received % Xferd  Average Speed   Time    Time     Time  Current\r\n",
        "                                 Dload  Upload   Total   Spent    Left  Speed\r\n",
        "\r",
        "  0     0    0     0    0     0      0      0 --:--:-- --:--:-- --:--:--     0"
       ]
      },
      {
       "output_type": "stream",
       "stream": "stdout",
       "text": [
        "\r",
        "100  1524    0  1524    0     0   5444      0 --:--:-- --:--:-- --:--:--  5462\r\n"
       ]
      },
      {
       "output_type": "stream",
       "stream": "stdout",
       "text": [
        "  % Total    % Received % Xferd  Average Speed   Time    Time     Time  Current\r\n",
        "                                 Dload  Upload   Total   Spent    Left  Speed\r\n",
        "\r",
        "  0     0    0     0    0     0      0      0 --:--:-- --:--:-- --:--:--     0"
       ]
      },
      {
       "output_type": "stream",
       "stream": "stdout",
       "text": [
        "\r",
        "100   126    0   126    0     0    156      0 --:--:-- --:--:-- --:--:--   156\r",
        "100   126    0   126    0     0    156      0 --:--:-- --:--:-- --:--:--   155\r\n"
       ]
      },
      {
       "output_type": "stream",
       "stream": "stdout",
       "text": [
        "  % Total    % Received % Xferd  Average Speed   Time    Time     Time  Current\r\n",
        "                                 Dload  Upload   Total   Spent    Left  Speed\r\n",
        "\r",
        "  0     0    0     0    0     0      0      0 --:--:-- --:--:-- --:--:--     0"
       ]
      },
      {
       "output_type": "stream",
       "stream": "stdout",
       "text": [
        "\r",
        "100  1614    0  1614    0     0   5935      0 --:--:-- --:--:-- --:--:--  5955\r\n"
       ]
      },
      {
       "output_type": "stream",
       "stream": "stdout",
       "text": [
        "  % Total    % Received % Xferd  Average Speed   Time    Time     Time  Current\r\n",
        "                                 Dload  Upload   Total   Spent    Left  Speed\r\n",
        "\r",
        "  0     0    0     0    0     0      0      0 --:--:-- --:--:-- --:--:--     0"
       ]
      },
      {
       "output_type": "stream",
       "stream": "stdout",
       "text": [
        "\r",
        "100  1620    0  1620    0     0   6534      0 --:--:-- --:--:-- --:--:--  6558\r\n"
       ]
      },
      {
       "output_type": "stream",
       "stream": "stdout",
       "text": [
        "  % Total    % Received % Xferd  Average Speed   Time    Time     Time  Current\r\n",
        "                                 Dload  Upload   Total   Spent    Left  Speed\r\n",
        "\r",
        "  0     0    0     0    0     0      0      0 --:--:-- --:--:-- --:--:--     0"
       ]
      },
      {
       "output_type": "stream",
       "stream": "stdout",
       "text": [
        "\r",
        "100  1614    0  1614    0     0   5258      0 --:--:-- --:--:-- --:--:--  5274\r\n"
       ]
      },
      {
       "output_type": "stream",
       "stream": "stdout",
       "text": [
        "  % Total    % Received % Xferd  Average Speed   Time    Time     Time  Current\r\n",
        "                                 Dload  Upload   Total   Spent    Left  Speed\r\n",
        "\r",
        "  0     0    0     0    0     0      0      0 --:--:-- --:--:-- --:--:--     0"
       ]
      },
      {
       "output_type": "stream",
       "stream": "stdout",
       "text": [
        "\r",
        "100  1608    0  1608    0     0   6613      0 --:--:-- --:--:-- --:--:--  6617\r\n"
       ]
      },
      {
       "output_type": "stream",
       "stream": "stdout",
       "text": [
        "  % Total    % Received % Xferd  Average Speed   Time    Time     Time  Current\r\n",
        "                                 Dload  Upload   Total   Spent    Left  Speed\r\n",
        "\r",
        "  0     0    0     0    0     0      0      0 --:--:-- --:--:-- --:--:--     0"
       ]
      },
      {
       "output_type": "stream",
       "stream": "stdout",
       "text": [
        "\r",
        "  0     0    0     0    0     0      0      0 --:--:-- --:--:-- --:--:--     0"
       ]
      },
      {
       "output_type": "stream",
       "stream": "stdout",
       "text": [
        "\r",
        "100  1632    0  1632    0     0   4948      0 --:--:-- --:--:-- --:--:--  4945\r\n"
       ]
      },
      {
       "output_type": "stream",
       "stream": "stdout",
       "text": [
        "  % Total    % Received % Xferd  Average Speed   Time    Time     Time  Current\r\n",
        "                                 Dload  Upload   Total   Spent    Left  Speed\r\n",
        "\r",
        "  0     0    0     0    0     0      0      0 --:--:-- --:--:-- --:--:--     0"
       ]
      },
      {
       "output_type": "stream",
       "stream": "stdout",
       "text": [
        "\r",
        "100  1608    0  1608    0     0   5267      0 --:--:-- --:--:-- --:--:--  5272\r\n"
       ]
      },
      {
       "output_type": "stream",
       "stream": "stdout",
       "text": [
        "  % Total    % Received % Xferd  Average Speed   Time    Time     Time  Current\r\n",
        "                                 Dload  Upload   Total   Spent    Left  Speed\r\n",
        "\r",
        "  0     0    0     0    0     0      0      0 --:--:-- --:--:-- --:--:--     0"
       ]
      },
      {
       "output_type": "stream",
       "stream": "stdout",
       "text": [
        "\r",
        "  0     0    0     0    0     0      0      0 --:--:-- --:--:-- --:--:--     0\r",
        "100  1608    0  1608    0     0   5688      0 --:--:-- --:--:-- --:--:--  5681\r\n"
       ]
      },
      {
       "output_type": "stream",
       "stream": "stdout",
       "text": [
        "  % Total    % Received % Xferd  Average Speed   Time    Time     Time  Current\r\n",
        "                                 Dload  Upload   Total   Spent    Left  Speed\r\n",
        "\r",
        "  0     0    0     0    0     0      0      0 --:--:-- --:--:-- --:--:--     0"
       ]
      },
      {
       "output_type": "stream",
       "stream": "stdout",
       "text": [
        "\r",
        "100  1608    0  1608    0     0   5822      0 --:--:-- --:--:-- --:--:--  5826\r\n"
       ]
      },
      {
       "output_type": "stream",
       "stream": "stdout",
       "text": [
        "  % Total    % Received % Xferd  Average Speed   Time    Time     Time  Current\r\n",
        "                                 Dload  Upload   Total   Spent    Left  Speed\r\n",
        "\r",
        "  0     0    0     0    0     0      0      0 --:--:-- --:--:-- --:--:--     0"
       ]
      },
      {
       "output_type": "stream",
       "stream": "stdout",
       "text": [
        "\r",
        "100  1614    0  1614    0     0   5785      0 --:--:-- --:--:-- --:--:--  5805\r\n"
       ]
      },
      {
       "output_type": "stream",
       "stream": "stdout",
       "text": [
        "  % Total    % Received % Xferd  Average Speed   Time    Time     Time  Current\r\n",
        "                                 Dload  Upload   Total   Spent    Left  Speed\r\n",
        "\r",
        "  0     0    0     0    0     0      0      0 --:--:-- --:--:-- --:--:--     0"
       ]
      },
      {
       "output_type": "stream",
       "stream": "stdout",
       "text": [
        "\r",
        "  0     0    0     0    0     0      0      0 --:--:-- --:--:-- --:--:--     0"
       ]
      },
      {
       "output_type": "stream",
       "stream": "stdout",
       "text": [
        "\r",
        "100  1614    0  1614    0     0   4606      0 --:--:-- --:--:-- --:--:--  4598\r\n"
       ]
      },
      {
       "output_type": "stream",
       "stream": "stdout",
       "text": [
        "  % Total    % Received % Xferd  Average Speed   Time    Time     Time  Current\r\n",
        "                                 Dload  Upload   Total   Spent    Left  Speed\r\n",
        "\r",
        "  0     0    0     0    0     0      0      0 --:--:-- --:--:-- --:--:--     0"
       ]
      },
      {
       "output_type": "stream",
       "stream": "stdout",
       "text": [
        "\r",
        "100  2110    0  2110    0     0   7524      0 --:--:-- --:--:-- --:--:--  7535\r\n"
       ]
      },
      {
       "output_type": "stream",
       "stream": "stdout",
       "text": [
        "  % Total    % Received % Xferd  Average Speed   Time    Time     Time  Current\r\n",
        "                                 Dload  Upload   Total   Spent    Left  Speed\r\n",
        "\r",
        "  0     0    0     0    0     0      0      0 --:--:-- --:--:-- --:--:--     0"
       ]
      },
      {
       "output_type": "stream",
       "stream": "stdout",
       "text": [
        "\r",
        "  0     0    0     0    0     0      0      0 --:--:-- --:--:-- --:--:--     0"
       ]
      },
      {
       "output_type": "stream",
       "stream": "stdout",
       "text": [
        "\r",
        "100   619    0   619    0     0   2524      0 --:--:-- --:--:-- --:--:--  2516\r\n"
       ]
      },
      {
       "output_type": "stream",
       "stream": "stdout",
       "text": [
        "  % Total    % Received % Xferd  Average Speed   Time    Time     Time  Current\r\n",
        "                                 Dload  Upload   Total   Spent    Left  Speed\r\n",
        "\r",
        "  0     0    0     0    0     0      0      0 --:--:-- --:--:-- --:--:--     0"
       ]
      },
      {
       "output_type": "stream",
       "stream": "stdout",
       "text": [
        "\r",
        "100  2205    0  2205    0     0   6933      0 --:--:-- --:--:-- --:--:--  6955\r\n"
       ]
      },
      {
       "output_type": "stream",
       "stream": "stdout",
       "text": [
        "  % Total    % Received % Xferd  Average Speed   Time    Time     Time  Current\r\n",
        "                                 Dload  Upload   Total   Spent    Left  Speed\r\n",
        "\r",
        "  0     0    0     0    0     0      0      0 --:--:-- --:--:-- --:--:--     0"
       ]
      },
      {
       "output_type": "stream",
       "stream": "stdout",
       "text": [
        "\r",
        "100  2711    0  2711    0     0  10660      0 --:--:-- --:--:-- --:--:-- 10673\r\n"
       ]
      },
      {
       "output_type": "stream",
       "stream": "stdout",
       "text": [
        "  % Total    % Received % Xferd  Average Speed   Time    Time     Time  Current\r\n",
        "                                 Dload  Upload   Total   Spent    Left  Speed\r\n",
        "\r",
        "  0     0    0     0    0     0      0      0 --:--:-- --:--:-- --:--:--     0\r",
        "  0     0    0     0    0     0      0      0 --:--:-- --:--:-- --:--:--     0"
       ]
      },
      {
       "output_type": "stream",
       "stream": "stdout",
       "text": [
        "\r",
        "100  2722    0  2722    0     0   9539      0 --:--:-- --:--:-- --:--:--  9517\r\n"
       ]
      },
      {
       "output_type": "stream",
       "stream": "stdout",
       "text": [
        "  % Total    % Received % Xferd  Average Speed   Time    Time     Time  Current\r\n",
        "                                 Dload  Upload   Total   Spent    Left  Speed\r\n",
        "\r",
        "  0     0    0     0    0     0      0      0 --:--:-- --:--:-- --:--:--     0"
       ]
      },
      {
       "output_type": "stream",
       "stream": "stdout",
       "text": [
        "\r",
        "100  2755    0  2755    0     0   9665      0 --:--:-- --:--:-- --:--:--  9700\r\n"
       ]
      },
      {
       "output_type": "stream",
       "stream": "stdout",
       "text": [
        "  % Total    % Received % Xferd  Average Speed   Time    Time     Time  Current\r\n",
        "                                 Dload  Upload   Total   Spent    Left  Speed\r\n",
        "\r",
        "  0     0    0     0    0     0      0      0 --:--:-- --:--:-- --:--:--     0"
       ]
      },
      {
       "output_type": "stream",
       "stream": "stdout",
       "text": [
        "\r",
        "  0     0    0     0    0     0      0      0 --:--:-- --:--:-- --:--:--     0"
       ]
      },
      {
       "output_type": "stream",
       "stream": "stdout",
       "text": [
        "\r",
        "100  2358    0  2358    0     0   8533      0 --:--:-- --:--:-- --:--:--  8512\r\n"
       ]
      },
      {
       "output_type": "stream",
       "stream": "stdout",
       "text": [
        "  % Total    % Received % Xferd  Average Speed   Time    Time     Time  Current\r\n",
        "                                 Dload  Upload   Total   Spent    Left  Speed\r\n",
        "\r",
        "  0     0    0     0    0     0      0      0 --:--:-- --:--:-- --:--:--     0"
       ]
      },
      {
       "output_type": "stream",
       "stream": "stdout",
       "text": [
        "\r",
        "100  2358    0  2358    0     0   8466      0 --:--:-- --:--:-- --:--:--  8482\r\n"
       ]
      },
      {
       "output_type": "stream",
       "stream": "stdout",
       "text": [
        "  % Total    % Received % Xferd  Average Speed   Time    Time     Time  Current\r\n",
        "                                 Dload  Upload   Total   Spent    Left  Speed\r\n",
        "\r",
        "  0     0    0     0    0     0      0      0 --:--:-- --:--:-- --:--:--     0"
       ]
      },
      {
       "output_type": "stream",
       "stream": "stdout",
       "text": [
        "\r",
        "100  2843    0  2843    0     0  10883      0 --:--:-- --:--:-- --:--:-- 10892\r\n"
       ]
      },
      {
       "output_type": "stream",
       "stream": "stdout",
       "text": [
        "  % Total    % Received % Xferd  Average Speed   Time    Time     Time  Current\r\n",
        "                                 Dload  Upload   Total   Spent    Left  Speed\r\n",
        "\r",
        "  0     0    0     0    0     0      0      0 --:--:-- --:--:-- --:--:--     0"
       ]
      },
      {
       "output_type": "stream",
       "stream": "stdout",
       "text": [
        "\r",
        "  0     0    0     0    0     0      0      0 --:--:-- --:--:-- --:--:--     0"
       ]
      },
      {
       "output_type": "stream",
       "stream": "stdout",
       "text": [
        "\r",
        "100  1626    0  1626    0     0   4249      0 --:--:-- --:--:-- --:--:--  4245\r\n"
       ]
      },
      {
       "output_type": "stream",
       "stream": "stdout",
       "text": [
        "  % Total    % Received % Xferd  Average Speed   Time    Time     Time  Current\r\n",
        "                                 Dload  Upload   Total   Spent    Left  Speed\r\n",
        "\r",
        "  0     0    0     0    0     0      0      0 --:--:-- --:--:-- --:--:--     0"
       ]
      },
      {
       "output_type": "stream",
       "stream": "stdout",
       "text": [
        "\r",
        "100  1644    0  1644    0     0   6550      0 --:--:-- --:--:-- --:--:--  6576\r\n"
       ]
      },
      {
       "output_type": "stream",
       "stream": "stdout",
       "text": [
        "  % Total    % Received % Xferd  Average Speed   Time    Time     Time  Current\r\n",
        "                                 Dload  Upload   Total   Spent    Left  Speed\r\n",
        "\r",
        "  0     0    0     0    0     0      0      0 --:--:-- --:--:-- --:--:--     0"
       ]
      },
      {
       "output_type": "stream",
       "stream": "stdout",
       "text": [
        "\r",
        "  0     0    0     0    0     0      0      0 --:--:-- --:--:-- --:--:--     0\r",
        "100  1626    0  1626    0     0   5763      0 --:--:-- --:--:-- --:--:--  5745\r\n"
       ]
      },
      {
       "output_type": "stream",
       "stream": "stdout",
       "text": [
        "  % Total    % Received % Xferd  Average Speed   Time    Time     Time  Current\r\n",
        "                                 Dload  Upload   Total   Spent    Left  Speed\r\n",
        "\r",
        "  0     0    0     0    0     0      0      0 --:--:-- --:--:-- --:--:--     0"
       ]
      },
      {
       "output_type": "stream",
       "stream": "stdout",
       "text": [
        "\r",
        "100  1644    0  1644    0     0   5724      0 --:--:-- --:--:-- --:--:--  5728\r\n"
       ]
      },
      {
       "output_type": "stream",
       "stream": "stdout",
       "text": [
        "  % Total    % Received % Xferd  Average Speed   Time    Time     Time  Current\r\n",
        "                                 Dload  Upload   Total   Spent    Left  Speed\r\n",
        "\r",
        "  0     0    0     0    0     0      0      0 --:--:-- --:--:-- --:--:--     0"
       ]
      },
      {
       "output_type": "stream",
       "stream": "stdout",
       "text": [
        "\r",
        "100  1644    0  1644    0     0   5905      0 --:--:-- --:--:-- --:--:--  5913\r\n"
       ]
      },
      {
       "output_type": "stream",
       "stream": "stdout",
       "text": [
        "  % Total    % Received % Xferd  Average Speed   Time    Time     Time  Current\r\n",
        "                                 Dload  Upload   Total   Spent    Left  Speed\r\n",
        "\r",
        "  0     0    0     0    0     0      0      0 --:--:-- --:--:-- --:--:--     0"
       ]
      },
      {
       "output_type": "stream",
       "stream": "stdout",
       "text": [
        "\r",
        "100  1626    0  1626    0     0   5769      0 --:--:-- --:--:-- --:--:--  5786\r\n"
       ]
      },
      {
       "output_type": "stream",
       "stream": "stdout",
       "text": [
        "  % Total    % Received % Xferd  Average Speed   Time    Time     Time  Current\r\n",
        "                                 Dload  Upload   Total   Spent    Left  Speed\r\n",
        "\r",
        "  0     0    0     0    0     0      0      0 --:--:-- --:--:-- --:--:--     0"
       ]
      },
      {
       "output_type": "stream",
       "stream": "stdout",
       "text": [
        "\r",
        "100  2403    0  2403    0     0   9379      0 --:--:-- --:--:-- --:--:--  9386\r\n"
       ]
      },
      {
       "output_type": "stream",
       "stream": "stdout",
       "text": [
        "  % Total    % Received % Xferd  Average Speed   Time    Time     Time  Current\r\n",
        "                                 Dload  Upload   Total   Spent    Left  Speed\r\n",
        "\r",
        "  0     0    0     0    0     0      0      0 --:--:-- --:--:-- --:--:--     0"
       ]
      },
      {
       "output_type": "stream",
       "stream": "stdout",
       "text": [
        "\r",
        "  0     0    0     0    0     0      0      0 --:--:-- --:--:-- --:--:--     0"
       ]
      },
      {
       "output_type": "stream",
       "stream": "stdout",
       "text": [
        "\r",
        "100  2876    0  2876    0     0  10313      0 --:--:-- --:--:-- --:--:-- 10308\r\n"
       ]
      },
      {
       "output_type": "stream",
       "stream": "stdout",
       "text": [
        "  % Total    % Received % Xferd  Average Speed   Time    Time     Time  Current\r\n",
        "                                 Dload  Upload   Total   Spent    Left  Speed\r\n",
        "\r",
        "  0     0    0     0    0     0      0      0 --:--:-- --:--:-- --:--:--     0"
       ]
      },
      {
       "output_type": "stream",
       "stream": "stdout",
       "text": [
        "\r",
        "100  2880    0  2880    0     0  10542      0 --:--:-- --:--:-- --:--:-- 10549\r\n"
       ]
      },
      {
       "output_type": "stream",
       "stream": "stdout",
       "text": [
        "  % Total    % Received % Xferd  Average Speed   Time    Time     Time  Current\r\n",
        "                                 Dload  Upload   Total   Spent    Left  Speed\r\n",
        "\r",
        "  0     0    0     0    0     0      0      0 --:--:-- --:--:-- --:--:--     0"
       ]
      },
      {
       "output_type": "stream",
       "stream": "stdout",
       "text": [
        "\r",
        "100  1332    0  1332    0     0   2150      0 --:--:-- --:--:-- --:--:--  2148"
       ]
      },
      {
       "output_type": "stream",
       "stream": "stdout",
       "text": [
        "\r",
        "100  2909    0  2909    0     0   4004      0 --:--:-- --:--:-- --:--:--  4001\r\n"
       ]
      },
      {
       "output_type": "stream",
       "stream": "stdout",
       "text": [
        "  % Total    % Received % Xferd  Average Speed   Time    Time     Time  Current\r\n",
        "                                 Dload  Upload   Total   Spent    Left  Speed\r\n",
        "\r",
        "  0     0    0     0    0     0      0      0 --:--:-- --:--:-- --:--:--     0"
       ]
      },
      {
       "output_type": "stream",
       "stream": "stdout",
       "text": [
        "\r",
        "100  1626    0  1626    0     0   5892      0 --:--:-- --:--:-- --:--:--  5912\r\n"
       ]
      },
      {
       "output_type": "stream",
       "stream": "stdout",
       "text": [
        "  % Total    % Received % Xferd  Average Speed   Time    Time     Time  Current\r\n",
        "                                 Dload  Upload   Total   Spent    Left  Speed\r\n",
        "\r",
        "  0     0    0     0    0     0      0      0 --:--:-- --:--:-- --:--:--     0"
       ]
      },
      {
       "output_type": "stream",
       "stream": "stdout",
       "text": [
        "\r",
        "  0     0    0     0    0     0      0      0 --:--:-- --:--:-- --:--:--     0\r",
        "100  1614    0  1614    0     0   6026      0 --:--:-- --:--:-- --:--:--  6022\r\n"
       ]
      },
      {
       "output_type": "stream",
       "stream": "stdout",
       "text": [
        "  % Total    % Received % Xferd  Average Speed   Time    Time     Time  Current\r\n",
        "                                 Dload  Upload   Total   Spent    Left  Speed\r\n",
        "\r",
        "  0     0    0     0    0     0      0      0 --:--:-- --:--:-- --:--:--     0"
       ]
      },
      {
       "output_type": "stream",
       "stream": "stdout",
       "text": [
        "\r",
        "100  1614    0  1614    0     0   6812      0 --:--:-- --:--:-- --:--:--  6838\r\n"
       ]
      },
      {
       "output_type": "stream",
       "stream": "stdout",
       "text": [
        "  % Total    % Received % Xferd  Average Speed   Time    Time     Time  Current\r\n",
        "                                 Dload  Upload   Total   Spent    Left  Speed\r\n",
        "\r",
        "  0     0    0     0    0     0      0      0 --:--:-- --:--:-- --:--:--     0"
       ]
      },
      {
       "output_type": "stream",
       "stream": "stdout",
       "text": [
        "\r",
        "100  1614    0  1614    0     0   5871      0 --:--:-- --:--:-- --:--:--  5890\r\n"
       ]
      },
      {
       "output_type": "stream",
       "stream": "stdout",
       "text": [
        "  % Total    % Received % Xferd  Average Speed   Time    Time     Time  Current\r\n",
        "                                 Dload  Upload   Total   Spent    Left  Speed\r\n",
        "\r",
        "  0     0    0     0    0     0      0      0 --:--:-- --:--:-- --:--:--     0"
       ]
      },
      {
       "output_type": "stream",
       "stream": "stdout",
       "text": [
        "\r",
        "  0     0    0     0    0     0      0      0 --:--:-- --:--:-- --:--:--     0"
       ]
      },
      {
       "output_type": "stream",
       "stream": "stdout",
       "text": [
        "\r",
        "100  1614    0  1614    0     0   4618      0 --:--:-- --:--:-- --:--:--  4611\r\n"
       ]
      },
      {
       "output_type": "stream",
       "stream": "stdout",
       "text": [
        "  % Total    % Received % Xferd  Average Speed   Time    Time     Time  Current\r\n",
        "                                 Dload  Upload   Total   Spent    Left  Speed\r\n",
        "\r",
        "  0     0    0     0    0     0      0      0 --:--:-- --:--:-- --:--:--     0"
       ]
      },
      {
       "output_type": "stream",
       "stream": "stdout",
       "text": [
        "\r",
        "100  1638    0  1638    0     0   6149      0 --:--:-- --:--:-- --:--:--  6157\r\n"
       ]
      },
      {
       "output_type": "stream",
       "stream": "stdout",
       "text": [
        "  % Total    % Received % Xferd  Average Speed   Time    Time     Time  Current\r\n",
        "                                 Dload  Upload   Total   Spent    Left  Speed\r\n",
        "\r",
        "  0     0    0     0    0     0      0      0 --:--:-- --:--:-- --:--:--     0"
       ]
      },
      {
       "output_type": "stream",
       "stream": "stdout",
       "text": [
        "\r",
        "  0     0    0     0    0     0      0      0 --:--:-- --:--:-- --:--:--     0\r",
        "100  1602    0  1602    0     0   6753      0 --:--:-- --:--:-- --:--:--  6731\r\n"
       ]
      },
      {
       "output_type": "stream",
       "stream": "stdout",
       "text": [
        "  % Total    % Received % Xferd  Average Speed   Time    Time     Time  Current\r\n",
        "                                 Dload  Upload   Total   Spent    Left  Speed\r\n",
        "\r",
        "  0     0    0     0    0     0      0      0 --:--:-- --:--:-- --:--:--     0"
       ]
      },
      {
       "output_type": "stream",
       "stream": "stdout",
       "text": [
        "\r",
        "100  2403    0  2403    0     0   8400      0 --:--:-- --:--:-- --:--:--  8402\r\n"
       ]
      },
      {
       "output_type": "stream",
       "stream": "stdout",
       "text": [
        "  % Total    % Received % Xferd  Average Speed   Time    Time     Time  Current\r\n",
        "                                 Dload  Upload   Total   Spent    Left  Speed\r\n",
        "\r",
        "  0     0    0     0    0     0      0      0 --:--:-- --:--:-- --:--:--     0"
       ]
      },
      {
       "output_type": "stream",
       "stream": "stdout",
       "text": [
        "\r",
        "100  2358    0  2358    0     0   8511      0 --:--:-- --:--:-- --:--:--  8543\r\n"
       ]
      },
      {
       "output_type": "stream",
       "stream": "stdout",
       "text": [
        "  % Total    % Received % Xferd  Average Speed   Time    Time     Time  Current\r\n",
        "                                 Dload  Upload   Total   Spent    Left  Speed\r\n",
        "\r",
        "  0     0    0     0    0     0      0      0 --:--:-- --:--:-- --:--:--     0"
       ]
      },
      {
       "output_type": "stream",
       "stream": "stdout",
       "text": [
        "\r",
        "  0     0    0     0    0     0      0      0 --:--:-- --:--:-- --:--:--     0"
       ]
      },
      {
       "output_type": "stream",
       "stream": "stdout",
       "text": [
        "\r",
        "  0     0    0     0    0     0      0      0 --:--:--  0:00:01 --:--:--     0"
       ]
      },
      {
       "output_type": "stream",
       "stream": "stdout",
       "text": [
        "\r",
        "100  2854    0  2854    0     0   2127      0 --:--:--  0:00:01 --:--:--  2126\r\n"
       ]
      },
      {
       "output_type": "stream",
       "stream": "stdout",
       "text": [
        "  % Total    % Received % Xferd  Average Speed   Time    Time     Time  Current\r\n",
        "                                 Dload  Upload   Total   Spent    Left  Speed\r\n",
        "\r",
        "  0     0    0     0    0     0      0      0 --:--:-- --:--:-- --:--:--     0"
       ]
      },
      {
       "output_type": "stream",
       "stream": "stdout",
       "text": [
        "\r",
        "100  2876    0  2876    0     0   9952      0 --:--:-- --:--:-- --:--:--  9986\r\n"
       ]
      },
      {
       "output_type": "stream",
       "stream": "stdout",
       "text": [
        "  % Total    % Received % Xferd  Average Speed   Time    Time     Time  Current\r\n",
        "                                 Dload  Upload   Total   Spent    Left  Speed\r\n",
        "\r",
        "  0     0    0     0    0     0      0      0 --:--:-- --:--:-- --:--:--     0"
       ]
      },
      {
       "output_type": "stream",
       "stream": "stdout",
       "text": [
        "\r",
        "  0     0    0     0    0     0      0      0 --:--:-- --:--:-- --:--:--     0"
       ]
      },
      {
       "output_type": "stream",
       "stream": "stdout",
       "text": [
        "\r",
        "100  2865    0  2865    0     0   9050      0 --:--:-- --:--:-- --:--:--  9037\r\n"
       ]
      },
      {
       "output_type": "stream",
       "stream": "stdout",
       "text": [
        "  % Total    % Received % Xferd  Average Speed   Time    Time     Time  Current\r\n",
        "                                 Dload  Upload   Total   Spent    Left  Speed\r\n",
        "\r",
        "  0     0    0     0    0     0      0      0 --:--:-- --:--:-- --:--:--     0"
       ]
      },
      {
       "output_type": "stream",
       "stream": "stdout",
       "text": [
        "\r",
        "100  1626    0  1626    0     0   5923      0 --:--:-- --:--:-- --:--:--  5934\r\n"
       ]
      },
      {
       "output_type": "stream",
       "stream": "stdout",
       "text": [
        "  % Total    % Received % Xferd  Average Speed   Time    Time     Time  Current\r\n",
        "                                 Dload  Upload   Total   Spent    Left  Speed\r\n",
        "\r",
        "  0     0    0     0    0     0      0      0 --:--:-- --:--:-- --:--:--     0"
       ]
      },
      {
       "output_type": "stream",
       "stream": "stdout",
       "text": [
        "\r",
        "100  1626    0  1626    0     0   6868      0 --:--:-- --:--:-- --:--:--  6889\r\n"
       ]
      },
      {
       "output_type": "stream",
       "stream": "stdout",
       "text": [
        "  % Total    % Received % Xferd  Average Speed   Time    Time     Time  Current\r\n",
        "                                 Dload  Upload   Total   Spent    Left  Speed\r\n",
        "\r",
        "  0     0    0     0    0     0      0      0 --:--:-- --:--:-- --:--:--     0\r",
        "  0     0    0     0    0     0      0      0 --:--:-- --:--:-- --:--:--     0"
       ]
      },
      {
       "output_type": "stream",
       "stream": "stdout",
       "text": [
        "\r",
        "100  1620    0  1620    0     0   5899      0 --:--:-- --:--:-- --:--:--  5890\r\n"
       ]
      },
      {
       "output_type": "stream",
       "stream": "stdout",
       "text": [
        "  % Total    % Received % Xferd  Average Speed   Time    Time     Time  Current\r\n",
        "                                 Dload  Upload   Total   Spent    Left  Speed\r\n",
        "\r",
        "  0     0    0     0    0     0      0      0 --:--:-- --:--:-- --:--:--     0"
       ]
      },
      {
       "output_type": "stream",
       "stream": "stdout",
       "text": [
        "\r",
        "100  1644    0  1644    0     0   6624      0 --:--:-- --:--:-- --:--:--  6629\r\n"
       ]
      },
      {
       "output_type": "stream",
       "stream": "stdout",
       "text": [
        "  % Total    % Received % Xferd  Average Speed   Time    Time     Time  Current\r\n",
        "                                 Dload  Upload   Total   Spent    Left  Speed\r\n",
        "\r",
        "  0     0    0     0    0     0      0      0 --:--:-- --:--:-- --:--:--     0"
       ]
      },
      {
       "output_type": "stream",
       "stream": "stdout",
       "text": [
        "\r",
        "100  1626    0  1626    0     0   6197      0 --:--:-- --:--:-- --:--:--  6206\r\n"
       ]
      },
      {
       "output_type": "stream",
       "stream": "stdout",
       "text": [
        "  % Total    % Received % Xferd  Average Speed   Time    Time     Time  Current\r\n",
        "                                 Dload  Upload   Total   Spent    Left  Speed\r\n",
        "\r",
        "  0     0    0     0    0     0      0      0 --:--:-- --:--:-- --:--:--     0"
       ]
      },
      {
       "output_type": "stream",
       "stream": "stdout",
       "text": [
        "\r",
        "100  1626    0  1626    0     0   6437      0 --:--:-- --:--:-- --:--:--  6452\r\n"
       ]
      },
      {
       "output_type": "stream",
       "stream": "stdout",
       "text": [
        "  % Total    % Received % Xferd  Average Speed   Time    Time     Time  Current\r\n",
        "                                 Dload  Upload   Total   Spent    Left  Speed\r\n",
        "\r",
        "  0     0    0     0    0     0      0      0 --:--:-- --:--:-- --:--:--     0"
       ]
      },
      {
       "output_type": "stream",
       "stream": "stdout",
       "text": [
        "\r",
        "100  2376    0  2376    0     0   9858      0 --:--:-- --:--:-- --:--:--  9900\r\n"
       ]
      },
      {
       "output_type": "stream",
       "stream": "stdout",
       "text": [
        "  % Total    % Received % Xferd  Average Speed   Time    Time     Time  Current\r\n",
        "                                 Dload  Upload   Total   Spent    Left  Speed\r\n",
        "\r",
        "  0     0    0     0    0     0      0      0 --:--:-- --:--:-- --:--:--     0"
       ]
      },
      {
       "output_type": "stream",
       "stream": "stdout",
       "text": [
        "\r",
        "  0     0    0     0    0     0      0      0 --:--:-- --:--:-- --:--:--     0"
       ]
      },
      {
       "output_type": "stream",
       "stream": "stdout",
       "text": [
        "\r",
        "100  2376    0  2376    0     0   9427      0 --:--:-- --:--:-- --:--:--  9428\r\n"
       ]
      },
      {
       "output_type": "stream",
       "stream": "stdout",
       "text": [
        "  % Total    % Received % Xferd  Average Speed   Time    Time     Time  Current\r\n",
        "                                 Dload  Upload   Total   Spent    Left  Speed\r\n",
        "\r",
        "  0     0    0     0    0     0      0      0 --:--:-- --:--:-- --:--:--     0"
       ]
      },
      {
       "output_type": "stream",
       "stream": "stdout",
       "text": [
        "\r",
        "100  2854    0  2854    0     0   9862      0 --:--:-- --:--:-- --:--:--  9875\r\n"
       ]
      },
      {
       "output_type": "stream",
       "stream": "stdout",
       "text": [
        "  % Total    % Received % Xferd  Average Speed   Time    Time     Time  Current\r\n",
        "                                 Dload  Upload   Total   Spent    Left  Speed\r\n",
        "\r",
        "  0     0    0     0    0     0      0      0 --:--:-- --:--:-- --:--:--     0"
       ]
      },
      {
       "output_type": "stream",
       "stream": "stdout",
       "text": [
        "\r",
        "100  1602    0  1602    0     0   5304      0 --:--:-- --:--:-- --:--:--  5322\r\n"
       ]
      },
      {
       "output_type": "stream",
       "stream": "stdout",
       "text": [
        "  % Total    % Received % Xferd  Average Speed   Time    Time     Time  Current\r\n",
        "                                 Dload  Upload   Total   Spent    Left  Speed\r\n",
        "\r",
        "  0     0    0     0    0     0      0      0 --:--:-- --:--:-- --:--:--     0"
       ]
      },
      {
       "output_type": "stream",
       "stream": "stdout",
       "text": [
        "\r",
        "100  1614    0  1614    0     0   5896      0 --:--:-- --:--:-- --:--:--  5912\r\n"
       ]
      },
      {
       "output_type": "stream",
       "stream": "stdout",
       "text": [
        "  % Total    % Received % Xferd  Average Speed   Time    Time     Time  Current\r\n",
        "                                 Dload  Upload   Total   Spent    Left  Speed\r\n",
        "\r",
        "  0     0    0     0    0     0      0      0 --:--:-- --:--:-- --:--:--     0"
       ]
      },
      {
       "output_type": "stream",
       "stream": "stdout",
       "text": [
        "\r",
        "100  1602    0  1602    0     0   6396      0 --:--:-- --:--:-- --:--:--  6408\r\n"
       ]
      },
      {
       "output_type": "stream",
       "stream": "stdout",
       "text": [
        "  % Total    % Received % Xferd  Average Speed   Time    Time     Time  Current\r\n",
        "                                 Dload  Upload   Total   Spent    Left  Speed\r\n",
        "\r",
        "  0     0    0     0    0     0      0      0 --:--:-- --:--:-- --:--:--     0"
       ]
      },
      {
       "output_type": "stream",
       "stream": "stdout",
       "text": [
        "\r",
        "  0     0    0     0    0     0      0      0 --:--:-- --:--:-- --:--:--     0\r",
        "100  1614    0  1614    0     0   5639      0 --:--:-- --:--:-- --:--:--  5623\r\n"
       ]
      },
      {
       "output_type": "stream",
       "stream": "stdout",
       "text": [
        "  % Total    % Received % Xferd  Average Speed   Time    Time     Time  Current\r\n",
        "                                 Dload  Upload   Total   Spent    Left  Speed\r\n",
        "\r",
        "  0     0    0     0    0     0      0      0 --:--:-- --:--:-- --:--:--     0"
       ]
      },
      {
       "output_type": "stream",
       "stream": "stdout",
       "text": [
        "\r",
        "100  1620    0  1620    0     0   5792      0 --:--:-- --:--:-- --:--:--  5806\r\n"
       ]
      },
      {
       "output_type": "stream",
       "stream": "stdout",
       "text": [
        "  % Total    % Received % Xferd  Average Speed   Time    Time     Time  Current\r\n",
        "                                 Dload  Upload   Total   Spent    Left  Speed\r\n",
        "\r",
        "  0     0    0     0    0     0      0      0 --:--:-- --:--:-- --:--:--     0"
       ]
      },
      {
       "output_type": "stream",
       "stream": "stdout",
       "text": [
        "\r",
        "100  1626    0  1626    0     0   5943      0 --:--:-- --:--:-- --:--:--  5956\r\n"
       ]
      },
      {
       "output_type": "stream",
       "stream": "stdout",
       "text": [
        "  % Total    % Received % Xferd  Average Speed   Time    Time     Time  Current\r\n",
        "                                 Dload  Upload   Total   Spent    Left  Speed\r\n",
        "\r",
        "  0     0    0     0    0     0      0      0 --:--:-- --:--:-- --:--:--     0"
       ]
      },
      {
       "output_type": "stream",
       "stream": "stdout",
       "text": [
        "\r",
        "100  1626    0  1626    0     0   6379      0 --:--:-- --:--:-- --:--:--  6401\r\n"
       ]
      },
      {
       "output_type": "stream",
       "stream": "stdout",
       "text": [
        "  % Total    % Received % Xferd  Average Speed   Time    Time     Time  Current\r\n",
        "                                 Dload  Upload   Total   Spent    Left  Speed\r\n",
        "\r",
        "  0     0    0     0    0     0      0      0 --:--:-- --:--:-- --:--:--     0"
       ]
      },
      {
       "output_type": "stream",
       "stream": "stdout",
       "text": [
        "\r",
        "100  2376    0  2376    0     0   8452      0 --:--:-- --:--:-- --:--:--  8485\r\n"
       ]
      },
      {
       "output_type": "stream",
       "stream": "stdout",
       "text": [
        "  % Total    % Received % Xferd  Average Speed   Time    Time     Time  Current\r\n",
        "                                 Dload  Upload   Total   Spent    Left  Speed\r\n",
        "\r",
        "  0     0    0     0    0     0      0      0 --:--:-- --:--:-- --:--:--     0"
       ]
      },
      {
       "output_type": "stream",
       "stream": "stdout",
       "text": [
        "\r",
        "  0     0    0     0    0     0      0      0 --:--:-- --:--:-- --:--:--     0"
       ]
      },
      {
       "output_type": "stream",
       "stream": "stdout",
       "text": [
        "\r",
        "100  2854    0  2854    0     0   9756      0 --:--:-- --:--:-- --:--:--  9740\r\n"
       ]
      },
      {
       "output_type": "stream",
       "stream": "stdout",
       "text": [
        "  % Total    % Received % Xferd  Average Speed   Time    Time     Time  Current\r\n",
        "                                 Dload  Upload   Total   Spent    Left  Speed\r\n",
        "\r",
        "  0     0    0     0    0     0      0      0 --:--:-- --:--:-- --:--:--     0"
       ]
      },
      {
       "output_type": "stream",
       "stream": "stdout",
       "text": [
        "\r",
        "100  2854    0  2854    0     0  11955      0 --:--:-- --:--:-- --:--:-- 11991\r\n"
       ]
      },
      {
       "output_type": "stream",
       "stream": "stdout",
       "text": [
        "  % Total    % Received % Xferd  Average Speed   Time    Time     Time  Current\r\n",
        "                                 Dload  Upload   Total   Spent    Left  Speed\r\n",
        "\r",
        "  0     0    0     0    0     0      0      0 --:--:-- --:--:-- --:--:--     0"
       ]
      },
      {
       "output_type": "stream",
       "stream": "stdout",
       "text": [
        "\r",
        "100  1626    0  1626    0     0   6560      0 --:--:-- --:--:-- --:--:--  6582\r\n"
       ]
      },
      {
       "output_type": "stream",
       "stream": "stdout",
       "text": [
        "  % Total    % Received % Xferd  Average Speed   Time    Time     Time  Current\r\n",
        "                                 Dload  Upload   Total   Spent    Left  Speed\r\n",
        "\r",
        "  0     0    0     0    0     0      0      0 --:--:-- --:--:-- --:--:--     0"
       ]
      },
      {
       "output_type": "stream",
       "stream": "stdout",
       "text": [
        "\r",
        "  0     0    0     0    0     0      0      0 --:--:-- --:--:-- --:--:--     0"
       ]
      },
      {
       "output_type": "stream",
       "stream": "stdout",
       "text": [
        "\r",
        "100  1626    0  1626    0     0   4409      0 --:--:-- --:--:-- --:--:--  4406\r\n"
       ]
      },
      {
       "output_type": "stream",
       "stream": "stdout",
       "text": [
        "  % Total    % Received % Xferd  Average Speed   Time    Time     Time  Current\r\n",
        "                                 Dload  Upload   Total   Spent    Left  Speed\r\n",
        "\r",
        "  0     0    0     0    0     0      0      0 --:--:-- --:--:-- --:--:--     0"
       ]
      },
      {
       "output_type": "stream",
       "stream": "stdout",
       "text": [
        "\r",
        "100  1608    0  1608    0     0   6639      0 --:--:-- --:--:-- --:--:--  6644\r\n"
       ]
      },
      {
       "output_type": "stream",
       "stream": "stdout",
       "text": [
        "  % Total    % Received % Xferd  Average Speed   Time    Time     Time  Current\r\n",
        "                                 Dload  Upload   Total   Spent    Left  Speed\r\n",
        "\r",
        "  0     0    0     0    0     0      0      0 --:--:-- --:--:-- --:--:--     0"
       ]
      },
      {
       "output_type": "stream",
       "stream": "stdout",
       "text": [
        "\r",
        "  0     0    0     0    0     0      0      0 --:--:-- --:--:-- --:--:--     0"
       ]
      },
      {
       "output_type": "stream",
       "stream": "stdout",
       "text": [
        "\r",
        "100  1626    0  1626    0     0   5352      0 --:--:-- --:--:-- --:--:--  5348\r\n"
       ]
      },
      {
       "output_type": "stream",
       "stream": "stdout",
       "text": [
        "  % Total    % Received % Xferd  Average Speed   Time    Time     Time  Current\r\n",
        "                                 Dload  Upload   Total   Spent    Left  Speed\r\n",
        "\r",
        "  0     0    0     0    0     0      0      0 --:--:-- --:--:-- --:--:--     0"
       ]
      },
      {
       "output_type": "stream",
       "stream": "stdout",
       "text": [
        "\r",
        "100  1620    0  1620    0     0   6651      0 --:--:-- --:--:-- --:--:--  6666\r\n"
       ]
      },
      {
       "output_type": "stream",
       "stream": "stdout",
       "text": [
        "  % Total    % Received % Xferd  Average Speed   Time    Time     Time  Current\r\n",
        "                                 Dload  Upload   Total   Spent    Left  Speed\r\n",
        "\r",
        "  0     0    0     0    0     0      0      0 --:--:-- --:--:-- --:--:--     0"
       ]
      },
      {
       "output_type": "stream",
       "stream": "stdout",
       "text": [
        "\r",
        "100  1608    0  1608    0     0   5941      0 --:--:-- --:--:-- --:--:--  5955\r\n"
       ]
      },
      {
       "output_type": "stream",
       "stream": "stdout",
       "text": [
        "  % Total    % Received % Xferd  Average Speed   Time    Time     Time  Current\r\n",
        "                                 Dload  Upload   Total   Spent    Left  Speed\r\n",
        "\r",
        "  0     0    0     0    0     0      0      0 --:--:-- --:--:-- --:--:--     0"
       ]
      },
      {
       "output_type": "stream",
       "stream": "stdout",
       "text": [
        "\r",
        "  0     0    0     0    0     0      0      0 --:--:-- --:--:-- --:--:--     0"
       ]
      },
      {
       "output_type": "stream",
       "stream": "stdout",
       "text": [
        "\r",
        "100  1626    0  1626    0     0   4779      0 --:--:-- --:--:-- --:--:--  4768\r\n"
       ]
      },
      {
       "output_type": "stream",
       "stream": "stdout",
       "text": [
        "  % Total    % Received % Xferd  Average Speed   Time    Time     Time  Current\r\n",
        "                                 Dload  Upload   Total   Spent    Left  Speed\r\n",
        "\r",
        "  0     0    0     0    0     0      0      0 --:--:-- --:--:-- --:--:--     0"
       ]
      },
      {
       "output_type": "stream",
       "stream": "stdout",
       "text": [
        "\r",
        "100  2376    0  2376    0     0   9222      0 --:--:-- --:--:-- --:--:--  9245\r\n"
       ]
      },
      {
       "output_type": "stream",
       "stream": "stdout",
       "text": [
        "  % Total    % Received % Xferd  Average Speed   Time    Time     Time  Current\r\n",
        "                                 Dload  Upload   Total   Spent    Left  Speed\r\n",
        "\r",
        "  0     0    0     0    0     0      0      0 --:--:-- --:--:-- --:--:--     0"
       ]
      },
      {
       "output_type": "stream",
       "stream": "stdout",
       "text": [
        "\r",
        "  0     0    0     0    0     0      0      0 --:--:-- --:--:-- --:--:--     0"
       ]
      },
      {
       "output_type": "stream",
       "stream": "stdout",
       "text": [
        "\r",
        "100  2349    0  2349    0     0   7764      0 --:--:-- --:--:-- --:--:--  7752\r\n"
       ]
      },
      {
       "output_type": "stream",
       "stream": "stdout",
       "text": [
        "  % Total    % Received % Xferd  Average Speed   Time    Time     Time  Current\r\n",
        "                                 Dload  Upload   Total   Spent    Left  Speed\r\n",
        "\r",
        "  0     0    0     0    0     0      0      0 --:--:-- --:--:-- --:--:--     0"
       ]
      },
      {
       "output_type": "stream",
       "stream": "stdout",
       "text": [
        "\r",
        "100  2854    0  2854    0     0  11069      0 --:--:-- --:--:-- --:--:-- 11105\r\n"
       ]
      },
      {
       "output_type": "stream",
       "stream": "stdout",
       "text": [
        "  % Total    % Received % Xferd  Average Speed   Time    Time     Time  Current\r\n",
        "                                 Dload  Upload   Total   Spent    Left  Speed\r\n",
        "\r",
        "  0     0    0     0    0     0      0      0 --:--:-- --:--:-- --:--:--     0"
       ]
      },
      {
       "output_type": "stream",
       "stream": "stdout",
       "text": [
        "\r",
        "100  1626    0  1626    0     0   5419      0 --:--:-- --:--:-- --:--:--  5438\r\n"
       ]
      },
      {
       "output_type": "stream",
       "stream": "stdout",
       "text": [
        "  % Total    % Received % Xferd  Average Speed   Time    Time     Time  Current\r\n",
        "                                 Dload  Upload   Total   Spent    Left  Speed\r\n",
        "\r",
        "  0     0    0     0    0     0      0      0 --:--:-- --:--:-- --:--:--     0\r",
        "  0     0    0     0    0     0      0      0 --:--:-- --:--:-- --:--:--     0"
       ]
      },
      {
       "output_type": "stream",
       "stream": "stdout",
       "text": [
        "\r",
        "100  1614    0  1614    0     0   5709      0 --:--:-- --:--:-- --:--:--  5703\r\n"
       ]
      },
      {
       "output_type": "stream",
       "stream": "stdout",
       "text": [
        "  % Total    % Received % Xferd  Average Speed   Time    Time     Time  Current\r\n",
        "                                 Dload  Upload   Total   Spent    Left  Speed\r\n",
        "\r",
        "  0     0    0     0    0     0      0      0 --:--:-- --:--:-- --:--:--     0"
       ]
      },
      {
       "output_type": "stream",
       "stream": "stdout",
       "text": [
        "\r",
        "100  1614    0  1614    0     0   5630      0 --:--:-- --:--:-- --:--:--  5643\r\n"
       ]
      },
      {
       "output_type": "stream",
       "stream": "stdout",
       "text": [
        "  % Total    % Received % Xferd  Average Speed   Time    Time     Time  Current\r\n",
        "                                 Dload  Upload   Total   Spent    Left  Speed\r\n",
        "\r",
        "  0     0    0     0    0     0      0      0 --:--:-- --:--:-- --:--:--     0"
       ]
      },
      {
       "output_type": "stream",
       "stream": "stdout",
       "text": [
        "\r",
        "  0     0    0     0    0     0      0      0 --:--:-- --:--:-- --:--:--     0"
       ]
      },
      {
       "output_type": "stream",
       "stream": "stdout",
       "text": [
        "\r",
        "100  1620    0  1620    0     0   6399      0 --:--:-- --:--:-- --:--:--  6377\r\n"
       ]
      },
      {
       "output_type": "stream",
       "stream": "stdout",
       "text": [
        "  % Total    % Received % Xferd  Average Speed   Time    Time     Time  Current\r\n",
        "                                 Dload  Upload   Total   Spent    Left  Speed\r\n",
        "\r",
        "  0     0    0     0    0     0      0      0 --:--:-- --:--:-- --:--:--     0"
       ]
      },
      {
       "output_type": "stream",
       "stream": "stdout",
       "text": [
        "\r",
        "100  1614    0  1614    0     0   5827      0 --:--:-- --:--:-- --:--:--  5847\r\n"
       ]
      },
      {
       "output_type": "stream",
       "stream": "stdout",
       "text": [
        "  % Total    % Received % Xferd  Average Speed   Time    Time     Time  Current\r\n",
        "                                 Dload  Upload   Total   Spent    Left  Speed\r\n",
        "\r",
        "  0     0    0     0    0     0      0      0 --:--:-- --:--:-- --:--:--     0"
       ]
      },
      {
       "output_type": "stream",
       "stream": "stdout",
       "text": [
        "\r",
        "100  1626    0  1626    0     0   5172      0 --:--:-- --:--:-- --:--:--  5178\r\n"
       ]
      },
      {
       "output_type": "stream",
       "stream": "stdout",
       "text": [
        "  % Total    % Received % Xferd  Average Speed   Time    Time     Time  Current\r\n",
        "                                 Dload  Upload   Total   Spent    Left  Speed\r\n",
        "\r",
        "  0     0    0     0    0     0      0      0 --:--:-- --:--:-- --:--:--     0"
       ]
      },
      {
       "output_type": "stream",
       "stream": "stdout",
       "text": [
        "\r",
        "  0     0    0     0    0     0      0      0 --:--:-- --:--:-- --:--:--     0"
       ]
      },
      {
       "output_type": "stream",
       "stream": "stdout",
       "text": [
        "\r",
        "100  2358    0  2358    0     0   8703      0 --:--:-- --:--:-- --:--:--  8701\r\n"
       ]
      },
      {
       "output_type": "stream",
       "stream": "stdout",
       "text": [
        "  % Total    % Received % Xferd  Average Speed   Time    Time     Time  Current\r\n",
        "                                 Dload  Upload   Total   Spent    Left  Speed\r\n",
        "\r",
        "  0     0    0     0    0     0      0      0 --:--:-- --:--:-- --:--:--     0"
       ]
      },
      {
       "output_type": "stream",
       "stream": "stdout",
       "text": [
        "\r",
        "100  2358    0  2358    0     0   8336      0 --:--:-- --:--:-- --:--:--  8361\r\n"
       ]
      },
      {
       "output_type": "stream",
       "stream": "stdout",
       "text": [
        "  % Total    % Received % Xferd  Average Speed   Time    Time     Time  Current\r\n",
        "                                 Dload  Upload   Total   Spent    Left  Speed\r\n",
        "\r",
        "  0     0    0     0    0     0      0      0 --:--:-- --:--:-- --:--:--     0"
       ]
      },
      {
       "output_type": "stream",
       "stream": "stdout",
       "text": [
        "\r",
        "100  1332    0  1332    0     0   4753      0 --:--:-- --:--:-- --:--:--  4740\r",
        "100  2854    0  2854    0     0  10181      0 --:--:-- --:--:-- --:--:-- 10156\r\n"
       ]
      },
      {
       "output_type": "stream",
       "stream": "stdout",
       "text": [
        "  % Total    % Received % Xferd  Average Speed   Time    Time     Time  Current\r\n",
        "                                 Dload  Upload   Total   Spent    Left  Speed\r\n",
        "\r",
        "  0     0    0     0    0     0      0      0 --:--:-- --:--:-- --:--:--     0"
       ]
      },
      {
       "output_type": "stream",
       "stream": "stdout",
       "text": [
        "\r",
        "100  1626    0  1626    0     0   5143      0 --:--:-- --:--:-- --:--:--  5145\r\n"
       ]
      },
      {
       "output_type": "stream",
       "stream": "stdout",
       "text": [
        "  % Total    % Received % Xferd  Average Speed   Time    Time     Time  Current\r\n",
        "                                 Dload  Upload   Total   Spent    Left  Speed\r\n",
        "\r",
        "  0     0    0     0    0     0      0      0 --:--:-- --:--:-- --:--:--     0"
       ]
      },
      {
       "output_type": "stream",
       "stream": "stdout",
       "text": [
        "\r",
        "100  1626    0  1626    0     0   5871      0 --:--:-- --:--:-- --:--:--  5891\r\n"
       ]
      },
      {
       "output_type": "stream",
       "stream": "stdout",
       "text": [
        "  % Total    % Received % Xferd  Average Speed   Time    Time     Time  Current\r\n",
        "                                 Dload  Upload   Total   Spent    Left  Speed\r\n",
        "\r",
        "  0     0    0     0    0     0      0      0 --:--:-- --:--:-- --:--:--     0\r",
        "  0     0    0     0    0     0      0      0 --:--:-- --:--:-- --:--:--     0"
       ]
      },
      {
       "output_type": "stream",
       "stream": "stdout",
       "text": [
        "\r",
        "100  1620    0  1620    0     0   5363      0 --:--:-- --:--:-- --:--:--  5364\r\n"
       ]
      },
      {
       "output_type": "stream",
       "stream": "stdout",
       "text": [
        "  % Total    % Received % Xferd  Average Speed   Time    Time     Time  Current\r\n",
        "                                 Dload  Upload   Total   Spent    Left  Speed\r\n",
        "\r",
        "  0     0    0     0    0     0      0      0 --:--:-- --:--:-- --:--:--     0"
       ]
      },
      {
       "output_type": "stream",
       "stream": "stdout",
       "text": [
        "\r",
        "100  1620    0  1620    0     0   6536      0 --:--:-- --:--:-- --:--:--  6558\r\n"
       ]
      },
      {
       "output_type": "stream",
       "stream": "stdout",
       "text": [
        "  % Total    % Received % Xferd  Average Speed   Time    Time     Time  Current\r\n",
        "                                 Dload  Upload   Total   Spent    Left  Speed\r\n",
        "\r",
        "  0     0    0     0    0     0      0      0 --:--:-- --:--:-- --:--:--     0"
       ]
      },
      {
       "output_type": "stream",
       "stream": "stdout",
       "text": [
        "\r",
        "  0     0    0     0    0     0      0      0 --:--:-- --:--:-- --:--:--     0"
       ]
      },
      {
       "output_type": "stream",
       "stream": "stdout",
       "text": [
        "\r",
        "100  1626    0  1626    0     0   5634      0 --:--:-- --:--:-- --:--:--  5626\r\n"
       ]
      },
      {
       "output_type": "stream",
       "stream": "stdout",
       "text": [
        "  % Total    % Received % Xferd  Average Speed   Time    Time     Time  Current\r\n",
        "                                 Dload  Upload   Total   Spent    Left  Speed\r\n",
        "\r",
        "  0     0    0     0    0     0      0      0 --:--:-- --:--:-- --:--:--     0"
       ]
      },
      {
       "output_type": "stream",
       "stream": "stdout",
       "text": [
        "\r",
        "100  2475    0  2475    0     0   9002      0 --:--:-- --:--:-- --:--:--  9032\r\n"
       ]
      },
      {
       "output_type": "stream",
       "stream": "stdout",
       "text": [
        "  % Total    % Received % Xferd  Average Speed   Time    Time     Time  Current\r\n",
        "                                 Dload  Upload   Total   Spent    Left  Speed\r\n",
        "\r",
        "  0     0    0     0    0     0      0      0 --:--:-- --:--:-- --:--:--     0"
       ]
      },
      {
       "output_type": "stream",
       "stream": "stdout",
       "text": [
        "\r",
        "100  2376    0  2376    0     0   9335      0 --:--:-- --:--:-- --:--:--  9354\r\n"
       ]
      },
      {
       "output_type": "stream",
       "stream": "stdout",
       "text": [
        "  % Total    % Received % Xferd  Average Speed   Time    Time     Time  Current\r\n",
        "                                 Dload  Upload   Total   Spent    Left  Speed\r\n",
        "\r",
        "  0     0    0     0    0     0      0      0 --:--:-- --:--:-- --:--:--     0"
       ]
      },
      {
       "output_type": "stream",
       "stream": "stdout",
       "text": [
        "\r",
        "  0     0    0     0    0     0      0      0 --:--:-- --:--:-- --:--:--     0"
       ]
      },
      {
       "output_type": "stream",
       "stream": "stdout",
       "text": [
        "\r",
        "100  2876    0  2876    0     0   7795      0 --:--:-- --:--:-- --:--:--  7794\r\n"
       ]
      },
      {
       "output_type": "stream",
       "stream": "stdout",
       "text": [
        "  % Total    % Received % Xferd  Average Speed   Time    Time     Time  Current\r\n",
        "                                 Dload  Upload   Total   Spent    Left  Speed\r\n",
        "\r",
        "  0     0    0     0    0     0      0      0 --:--:-- --:--:-- --:--:--     0"
       ]
      },
      {
       "output_type": "stream",
       "stream": "stdout",
       "text": [
        "\r",
        "100  1626    0  1626    0     0   5828      0 --:--:-- --:--:-- --:--:--  5848\r\n"
       ]
      },
      {
       "output_type": "stream",
       "stream": "stdout",
       "text": [
        "  % Total    % Received % Xferd  Average Speed   Time    Time     Time  Current\r\n",
        "                                 Dload  Upload   Total   Spent    Left  Speed\r\n",
        "\r",
        "  0     0    0     0    0     0      0      0 --:--:-- --:--:-- --:--:--     0"
       ]
      },
      {
       "output_type": "stream",
       "stream": "stdout",
       "text": [
        "\r",
        "  0     0    0     0    0     0      0      0 --:--:-- --:--:-- --:--:--     0"
       ]
      },
      {
       "output_type": "stream",
       "stream": "stdout",
       "text": [
        "\r",
        "100  1620    0  1620    0     0   5844      0 --:--:-- --:--:-- --:--:--  5827\r\n"
       ]
      },
      {
       "output_type": "stream",
       "stream": "stdout",
       "text": [
        "  % Total    % Received % Xferd  Average Speed   Time    Time     Time  Current\r\n",
        "                                 Dload  Upload   Total   Spent    Left  Speed\r\n",
        "\r",
        "  0     0    0     0    0     0      0      0 --:--:-- --:--:-- --:--:--     0"
       ]
      },
      {
       "output_type": "stream",
       "stream": "stdout",
       "text": [
        "\r",
        "100  1614    0  1614    0     0   6628      0 --:--:-- --:--:-- --:--:--  6641\r\n"
       ]
      },
      {
       "output_type": "stream",
       "stream": "stdout",
       "text": [
        "  % Total    % Received % Xferd  Average Speed   Time    Time     Time  Current\r\n",
        "                                 Dload  Upload   Total   Spent    Left  Speed\r\n",
        "\r",
        "  0     0    0     0    0     0      0      0 --:--:-- --:--:-- --:--:--     0"
       ]
      },
      {
       "output_type": "stream",
       "stream": "stdout",
       "text": [
        "\r",
        "100  1626    0  1626    0     0   5912      0 --:--:-- --:--:-- --:--:--  5934\r\n"
       ]
      },
      {
       "output_type": "stream",
       "stream": "stdout",
       "text": [
        "  % Total    % Received % Xferd  Average Speed   Time    Time     Time  Current\r\n",
        "                                 Dload  Upload   Total   Spent    Left  Speed\r\n",
        "\r",
        "  0     0    0     0    0     0      0      0 --:--:-- --:--:-- --:--:--     0"
       ]
      },
      {
       "output_type": "stream",
       "stream": "stdout",
       "text": [
        "\r",
        "  0     0    0     0    0     0      0      0 --:--:-- --:--:-- --:--:--     0"
       ]
      },
      {
       "output_type": "stream",
       "stream": "stdout",
       "text": [
        "\r",
        "100  1626    0  1626    0     0   4839      0 --:--:-- --:--:-- --:--:--  4839\r\n"
       ]
      },
      {
       "output_type": "stream",
       "stream": "stdout",
       "text": [
        "  % Total    % Received % Xferd  Average Speed   Time    Time     Time  Current\r\n",
        "                                 Dload  Upload   Total   Spent    Left  Speed\r\n",
        "\r",
        "  0     0    0     0    0     0      0      0 --:--:-- --:--:-- --:--:--     0"
       ]
      },
      {
       "output_type": "stream",
       "stream": "stdout",
       "text": [
        "\r",
        "  0     0    0     0    0     0      0      0 --:--:-- --:--:-- --:--:--     0\r",
        "100  1626    0  1626    0     0   6444      0 --:--:-- --:--:-- --:--:--  6426\r\n"
       ]
      },
      {
       "output_type": "stream",
       "stream": "stdout",
       "text": [
        "  % Total    % Received % Xferd  Average Speed   Time    Time     Time  Current\r\n",
        "                                 Dload  Upload   Total   Spent    Left  Speed\r\n",
        "\r",
        "  0     0    0     0    0     0      0      0 --:--:-- --:--:-- --:--:--     0"
       ]
      },
      {
       "output_type": "stream",
       "stream": "stdout",
       "text": [
        "\r",
        "100  2920    0  2920    0     0  10624      0 --:--:-- --:--:-- --:--:-- 10656\r\n"
       ]
      },
      {
       "output_type": "stream",
       "stream": "stdout",
       "text": [
        "  % Total    % Received % Xferd  Average Speed   Time    Time     Time  Current\r\n",
        "                                 Dload  Upload   Total   Spent    Left  Speed\r\n",
        "\r",
        "  0     0    0     0    0     0      0      0 --:--:-- --:--:-- --:--:--     0"
       ]
      },
      {
       "output_type": "stream",
       "stream": "stdout",
       "text": [
        "\r",
        "100  2920    0  2920    0     0  12447      0 --:--:-- --:--:-- --:--:-- 12478\r\n"
       ]
      },
      {
       "output_type": "stream",
       "stream": "stdout",
       "text": [
        "  % Total    % Received % Xferd  Average Speed   Time    Time     Time  Current\r\n",
        "                                 Dload  Upload   Total   Spent    Left  Speed\r\n",
        "\r",
        "  0     0    0     0    0     0      0      0 --:--:-- --:--:-- --:--:--     0"
       ]
      },
      {
       "output_type": "stream",
       "stream": "stdout",
       "text": [
        "\r",
        "  0     0    0     0    0     0      0      0 --:--:-- --:--:-- --:--:--     0"
       ]
      },
      {
       "output_type": "stream",
       "stream": "stdout",
       "text": [
        "\r",
        "100  2920    0  2920    0     0   8511      0 --:--:-- --:--:-- --:--:--  8513\r\n"
       ]
      },
      {
       "output_type": "stream",
       "stream": "stdout",
       "text": [
        "  % Total    % Received % Xferd  Average Speed   Time    Time     Time  Current\r\n",
        "                                 Dload  Upload   Total   Spent    Left  Speed\r\n",
        "\r",
        "  0     0    0     0    0     0      0      0 --:--:-- --:--:-- --:--:--     0"
       ]
      },
      {
       "output_type": "stream",
       "stream": "stdout",
       "text": [
        "\r",
        "100  2689    0  2689    0     0   9550      0 --:--:-- --:--:-- --:--:--  9569\r\n"
       ]
      },
      {
       "output_type": "stream",
       "stream": "stdout",
       "text": [
        "  % Total    % Received % Xferd  Average Speed   Time    Time     Time  Current\r\n",
        "                                 Dload  Upload   Total   Spent    Left  Speed\r\n",
        "\r",
        "  0     0    0     0    0     0      0      0 --:--:-- --:--:-- --:--:--     0"
       ]
      },
      {
       "output_type": "stream",
       "stream": "stdout",
       "text": [
        "\r",
        "  0     0    0     0    0     0      0      0 --:--:-- --:--:-- --:--:--     0"
       ]
      },
      {
       "output_type": "stream",
       "stream": "stdout",
       "text": [
        "\r",
        "100   126    0   126    0     0    219      0 --:--:-- --:--:-- --:--:--   219\r\n"
       ]
      },
      {
       "output_type": "stream",
       "stream": "stdout",
       "text": [
        "  % Total    % Received % Xferd  Average Speed   Time    Time     Time  Current\r\n",
        "                                 Dload  Upload   Total   Spent    Left  Speed\r\n",
        "\r",
        "  0     0    0     0    0     0      0      0 --:--:-- --:--:-- --:--:--     0"
       ]
      },
      {
       "output_type": "stream",
       "stream": "stdout",
       "text": [
        "\r",
        "100  1078    0  1078    0     0   3743      0 --:--:-- --:--:-- --:--:--  3756\r\n"
       ]
      },
      {
       "output_type": "stream",
       "stream": "stdout",
       "text": [
        "  % Total    % Received % Xferd  Average Speed   Time    Time     Time  Current\r\n",
        "                                 Dload  Upload   Total   Spent    Left  Speed\r\n",
        "\r",
        "  0     0    0     0    0     0      0      0 --:--:-- --:--:-- --:--:--     0"
       ]
      },
      {
       "output_type": "stream",
       "stream": "stdout",
       "text": [
        "\r",
        "  0     0    0     0    0     0      0      0 --:--:-- --:--:-- --:--:--     0"
       ]
      },
      {
       "output_type": "stream",
       "stream": "stdout",
       "text": [
        "\r",
        "100  1106    0  1106    0     0   2906      0 --:--:-- --:--:-- --:--:--  2902\r\n"
       ]
      },
      {
       "output_type": "stream",
       "stream": "stdout",
       "text": [
        "  % Total    % Received % Xferd  Average Speed   Time    Time     Time  Current\r\n",
        "                                 Dload  Upload   Total   Spent    Left  Speed\r\n",
        "\r",
        "  0     0    0     0    0     0      0      0 --:--:-- --:--:-- --:--:--     0"
       ]
      },
      {
       "output_type": "stream",
       "stream": "stdout",
       "text": [
        "\r",
        "100  1066    0  1066    0     0   4335      0 --:--:-- --:--:-- --:--:--  4351\r\n"
       ]
      },
      {
       "output_type": "stream",
       "stream": "stdout",
       "text": [
        "  % Total    % Received % Xferd  Average Speed   Time    Time     Time  Current\r\n",
        "                                 Dload  Upload   Total   Spent    Left  Speed\r\n",
        "\r",
        "  0     0    0     0    0     0      0      0 --:--:-- --:--:-- --:--:--     0"
       ]
      },
      {
       "output_type": "stream",
       "stream": "stdout",
       "text": [
        "\r",
        "  0     0    0     0    0     0      0      0 --:--:-- --:--:-- --:--:--     0"
       ]
      },
      {
       "output_type": "stream",
       "stream": "stdout",
       "text": [
        "\r",
        "100  1066    0  1066    0     0   4233      0 --:--:-- --:--:-- --:--:--  4230\r\n"
       ]
      },
      {
       "output_type": "stream",
       "stream": "stdout",
       "text": [
        "  % Total    % Received % Xferd  Average Speed   Time    Time     Time  Current\r\n",
        "                                 Dload  Upload   Total   Spent    Left  Speed\r\n",
        "\r",
        "  0     0    0     0    0     0      0      0 --:--:-- --:--:-- --:--:--     0"
       ]
      },
      {
       "output_type": "stream",
       "stream": "stdout",
       "text": [
        "\r",
        "100  1086    0  1086    0     0   4338      0 --:--:-- --:--:-- --:--:--  4344\r\n"
       ]
      },
      {
       "output_type": "stream",
       "stream": "stdout",
       "text": [
        "  % Total    % Received % Xferd  Average Speed   Time    Time     Time  Current\r\n",
        "                                 Dload  Upload   Total   Spent    Left  Speed\r\n",
        "\r",
        "  0     0    0     0    0     0      0      0 --:--:-- --:--:-- --:--:--     0"
       ]
      },
      {
       "output_type": "stream",
       "stream": "stdout",
       "text": [
        "\r",
        "100  1094    0  1094    0     0   3780      0 --:--:-- --:--:-- --:--:--  3785\r\n"
       ]
      },
      {
       "output_type": "stream",
       "stream": "stdout",
       "text": [
        "  % Total    % Received % Xferd  Average Speed   Time    Time     Time  Current\r\n",
        "                                 Dload  Upload   Total   Spent    Left  Speed\r\n",
        "\r",
        "  0     0    0     0    0     0      0      0 --:--:-- --:--:-- --:--:--     0"
       ]
      },
      {
       "output_type": "stream",
       "stream": "stdout",
       "text": [
        "\r",
        "  0     0    0     0    0     0      0      0 --:--:-- --:--:-- --:--:--     0"
       ]
      },
      {
       "output_type": "stream",
       "stream": "stdout",
       "text": [
        "\r",
        "100  1094    0  1094    0     0   2989      0 --:--:-- --:--:-- --:--:--  2989\r\n"
       ]
      },
      {
       "output_type": "stream",
       "stream": "stdout",
       "text": [
        "  % Total    % Received % Xferd  Average Speed   Time    Time     Time  Current\r\n",
        "                                 Dload  Upload   Total   Spent    Left  Speed\r\n",
        "\r",
        "  0     0    0     0    0     0      0      0 --:--:-- --:--:-- --:--:--     0"
       ]
      },
      {
       "output_type": "stream",
       "stream": "stdout",
       "text": [
        "\r",
        "100  1332    0  1332    0     0   2059      0 --:--:-- --:--:-- --:--:--  2058"
       ]
      },
      {
       "output_type": "stream",
       "stream": "stdout",
       "text": [
        "\r",
        "100  1566    0  1566    0     0   2048      0 --:--:-- --:--:-- --:--:--  2047\r\n"
       ]
      },
      {
       "output_type": "stream",
       "stream": "stdout",
       "text": [
        "  % Total    % Received % Xferd  Average Speed   Time    Time     Time  Current\r\n",
        "                                 Dload  Upload   Total   Spent    Left  Speed\r\n",
        "\r",
        "  0     0    0     0    0     0      0      0 --:--:-- --:--:-- --:--:--     0"
       ]
      },
      {
       "output_type": "stream",
       "stream": "stdout",
       "text": [
        "\r",
        "100  1548    0  1548    0     0   6183      0 --:--:-- --:--:-- --:--:--  6192\r\n"
       ]
      },
      {
       "output_type": "stream",
       "stream": "stdout",
       "text": [
        "  % Total    % Received % Xferd  Average Speed   Time    Time     Time  Current\r\n",
        "                                 Dload  Upload   Total   Spent    Left  Speed\r\n",
        "\r",
        "  0     0    0     0    0     0      0      0 --:--:-- --:--:-- --:--:--     0"
       ]
      },
      {
       "output_type": "stream",
       "stream": "stdout",
       "text": [
        "\r",
        "100   626    0   626    0     0   2268      0 --:--:-- --:--:-- --:--:--  2276\r\n"
       ]
      },
      {
       "output_type": "stream",
       "stream": "stdout",
       "text": [
        "  % Total    % Received % Xferd  Average Speed   Time    Time     Time  Current\r\n",
        "                                 Dload  Upload   Total   Spent    Left  Speed\r\n",
        "\r",
        "  0     0    0     0    0     0      0      0 --:--:-- --:--:-- --:--:--     0"
       ]
      },
      {
       "output_type": "stream",
       "stream": "stdout",
       "text": [
        "\r",
        "100   870    0   870    0     0   1373      0 --:--:-- --:--:-- --:--:--  1374\r\n"
       ]
      },
      {
       "output_type": "stream",
       "stream": "stdout",
       "text": [
        "  % Total    % Received % Xferd  Average Speed   Time    Time     Time  Current\r\n",
        "                                 Dload  Upload   Total   Spent    Left  Speed\r\n",
        "\r",
        "  0     0    0     0    0     0      0      0 --:--:-- --:--:-- --:--:--     0"
       ]
      },
      {
       "output_type": "stream",
       "stream": "stdout",
       "text": [
        "\r",
        "  0     0    0     0    0     0      0      0 --:--:-- --:--:-- --:--:--     0"
       ]
      },
      {
       "output_type": "stream",
       "stream": "stdout",
       "text": [
        "\r",
        "100   386    0   386    0     0   1393      0 --:--:-- --:--:-- --:--:--  1393\r\n"
       ]
      },
      {
       "output_type": "stream",
       "stream": "stdout",
       "text": [
        "  % Total    % Received % Xferd  Average Speed   Time    Time     Time  Current\r\n",
        "                                 Dload  Upload   Total   Spent    Left  Speed\r\n",
        "\r",
        "  0     0    0     0    0     0      0      0 --:--:-- --:--:-- --:--:--     0"
       ]
      },
      {
       "output_type": "stream",
       "stream": "stdout",
       "text": [
        "\r",
        "100   390    0   390    0     0   1456      0 --:--:-- --:--:-- --:--:--  1460\r\n"
       ]
      },
      {
       "output_type": "stream",
       "stream": "stdout",
       "text": [
        "  % Total    % Received % Xferd  Average Speed   Time    Time     Time  Current\r\n",
        "                                 Dload  Upload   Total   Spent    Left  Speed\r\n",
        "\r",
        "  0     0    0     0    0     0      0      0 --:--:-- --:--:-- --:--:--     0"
       ]
      },
      {
       "output_type": "stream",
       "stream": "stdout",
       "text": [
        "\r",
        "100   658    0   658    0     0   2331      0 --:--:-- --:--:-- --:--:--  2333\r\n"
       ]
      },
      {
       "output_type": "stream",
       "stream": "stdout",
       "text": [
        "  % Total    % Received % Xferd  Average Speed   Time    Time     Time  Current\r\n",
        "                                 Dload  Upload   Total   Spent    Left  Speed\r\n",
        "\r",
        "  0     0    0     0    0     0      0      0 --:--:-- --:--:-- --:--:--     0"
       ]
      },
      {
       "output_type": "stream",
       "stream": "stdout",
       "text": [
        "\r",
        "  0     0    0     0    0     0      0      0 --:--:-- --:--:-- --:--:--     0"
       ]
      },
      {
       "output_type": "stream",
       "stream": "stdout",
       "text": [
        "\r",
        "100   658    0   658    0     0   1829      0 --:--:-- --:--:-- --:--:--  1827\r\n"
       ]
      },
      {
       "output_type": "stream",
       "stream": "stdout",
       "text": [
        "  % Total    % Received % Xferd  Average Speed   Time    Time     Time  Current\r\n",
        "                                 Dload  Upload   Total   Spent    Left  Speed\r\n",
        "\r",
        "  0     0    0     0    0     0      0      0 --:--:-- --:--:-- --:--:--     0"
       ]
      },
      {
       "output_type": "stream",
       "stream": "stdout",
       "text": [
        "\r",
        "100   945    0   945    0     0   3845      0 --:--:-- --:--:-- --:--:--  3857\r\n"
       ]
      },
      {
       "output_type": "stream",
       "stream": "stdout",
       "text": [
        "  % Total    % Received % Xferd  Average Speed   Time    Time     Time  Current\r\n",
        "                                 Dload  Upload   Total   Spent    Left  Speed\r\n",
        "\r",
        "  0     0    0     0    0     0      0      0 --:--:-- --:--:-- --:--:--     0"
       ]
      },
      {
       "output_type": "stream",
       "stream": "stdout",
       "text": [
        "\r",
        "  0     0    0     0    0     0      0      0 --:--:-- --:--:-- --:--:--     0"
       ]
      },
      {
       "output_type": "stream",
       "stream": "stdout",
       "text": [
        "\r",
        "100   612    0   612    0     0   2243      0 --:--:-- --:--:-- --:--:--  2241\r\n"
       ]
      },
      {
       "output_type": "stream",
       "stream": "stdout",
       "text": [
        "  % Total    % Received % Xferd  Average Speed   Time    Time     Time  Current\r\n",
        "                                 Dload  Upload   Total   Spent    Left  Speed\r\n",
        "\r",
        "  0     0    0     0    0     0      0      0 --:--:-- --:--:-- --:--:--     0"
       ]
      },
      {
       "output_type": "stream",
       "stream": "stdout",
       "text": [
        "\r",
        "100  3041    0  3041    0     0  11826      0 --:--:-- --:--:-- --:--:-- 11832\r\n"
       ]
      },
      {
       "output_type": "stream",
       "stream": "stdout",
       "text": [
        "  % Total    % Received % Xferd  Average Speed   Time    Time     Time  Current\r\n",
        "                                 Dload  Upload   Total   Spent    Left  Speed\r\n",
        "\r",
        "  0     0    0     0    0     0      0      0 --:--:-- --:--:-- --:--:--     0"
       ]
      },
      {
       "output_type": "stream",
       "stream": "stdout",
       "text": [
        "\r",
        "100   385    0   385    0     0   1658      0 --:--:-- --:--:-- --:--:--  1659\r\n"
       ]
      },
      {
       "output_type": "stream",
       "stream": "stdout",
       "text": [
        "  % Total    % Received % Xferd  Average Speed   Time    Time     Time  Current\r\n",
        "                                 Dload  Upload   Total   Spent    Left  Speed\r\n",
        "\r",
        "  0     0    0     0    0     0      0      0 --:--:-- --:--:-- --:--:--     0"
       ]
      },
      {
       "output_type": "stream",
       "stream": "stdout",
       "text": [
        "\r",
        "  0     0    0     0    0     0      0      0 --:--:-- --:--:-- --:--:--     0"
       ]
      },
      {
       "output_type": "stream",
       "stream": "stdout",
       "text": [
        "\r",
        "100   918    0   918    0     0   2393      0 --:--:-- --:--:-- --:--:--  2390\r\n"
       ]
      },
      {
       "output_type": "stream",
       "stream": "stdout",
       "text": [
        "  % Total    % Received % Xferd  Average Speed   Time    Time     Time  Current\r\n",
        "                                 Dload  Upload   Total   Spent    Left  Speed\r\n",
        "\r",
        "  0     0    0     0    0     0      0      0 --:--:-- --:--:-- --:--:--     0"
       ]
      },
      {
       "output_type": "stream",
       "stream": "stdout",
       "text": [
        "\r",
        "100   656    0   656    0     0   2674      0 --:--:-- --:--:-- --:--:--  2677\r\n"
       ]
      },
      {
       "output_type": "stream",
       "stream": "stdout",
       "text": [
        "  % Total    % Received % Xferd  Average Speed   Time    Time     Time  Current\r\n",
        "                                 Dload  Upload   Total   Spent    Left  Speed\r\n",
        "\r",
        "  0     0    0     0    0     0      0      0 --:--:-- --:--:-- --:--:--     0"
       ]
      },
      {
       "output_type": "stream",
       "stream": "stdout",
       "text": [
        "\r",
        "  0     0    0     0    0     0      0      0 --:--:-- --:--:-- --:--:--     0"
       ]
      },
      {
       "output_type": "stream",
       "stream": "stdout",
       "text": [
        "\r",
        "100   650    0   650    0     0   2068      0 --:--:-- --:--:-- --:--:--  2063\r\n"
       ]
      },
      {
       "output_type": "stream",
       "stream": "stdout",
       "text": [
        "  % Total    % Received % Xferd  Average Speed   Time    Time     Time  Current\r\n",
        "                                 Dload  Upload   Total   Spent    Left  Speed\r\n",
        "\r",
        "  0     0    0     0    0     0      0      0 --:--:-- --:--:-- --:--:--     0"
       ]
      },
      {
       "output_type": "stream",
       "stream": "stdout",
       "text": [
        "\r",
        "100   390    0   390    0     0   1580      0 --:--:-- --:--:-- --:--:--  1585\r\n"
       ]
      },
      {
       "output_type": "stream",
       "stream": "stdout",
       "text": [
        "  % Total    % Received % Xferd  Average Speed   Time    Time     Time  Current\r\n",
        "                                 Dload  Upload   Total   Spent    Left  Speed\r\n",
        "\r",
        "  0     0    0     0    0     0      0      0 --:--:-- --:--:-- --:--:--     0"
       ]
      },
      {
       "output_type": "stream",
       "stream": "stdout",
       "text": [
        "\r",
        "100   658    0   658    0     0   2124      0 --:--:-- --:--:-- --:--:--  2129\r\n"
       ]
      },
      {
       "output_type": "stream",
       "stream": "stdout",
       "text": [
        "  % Total    % Received % Xferd  Average Speed   Time    Time     Time  Current\r\n",
        "                                 Dload  Upload   Total   Spent    Left  Speed\r\n",
        "\r",
        "  0     0    0     0    0     0      0      0 --:--:-- --:--:-- --:--:--     0"
       ]
      },
      {
       "output_type": "stream",
       "stream": "stdout",
       "text": [
        "\r",
        "100   386    0   386    0     0   1372      0 --:--:-- --:--:-- --:--:--  1373\r\n"
       ]
      },
      {
       "output_type": "stream",
       "stream": "stdout",
       "text": [
        "  % Total    % Received % Xferd  Average Speed   Time    Time     Time  Current\r\n",
        "                                 Dload  Upload   Total   Spent    Left  Speed\r\n",
        "\r",
        "  0     0    0     0    0     0      0      0 --:--:-- --:--:-- --:--:--     0"
       ]
      },
      {
       "output_type": "stream",
       "stream": "stdout",
       "text": [
        "\r",
        "100   612    0   612    0     0    941      0 --:--:-- --:--:-- --:--:--   941\r",
        "100   612    0   612    0     0    941      0 --:--:-- --:--:-- --:--:--   941\r\n"
       ]
      },
      {
       "output_type": "stream",
       "stream": "stdout",
       "text": [
        "  % Total    % Received % Xferd  Average Speed   Time    Time     Time  Current\r\n",
        "                                 Dload  Upload   Total   Spent    Left  Speed\r\n",
        "\r",
        "  0     0    0     0    0     0      0      0 --:--:-- --:--:-- --:--:--     0"
       ]
      },
      {
       "output_type": "stream",
       "stream": "stdout",
       "text": [
        "\r",
        "100   386    0   386    0     0   1227      0 --:--:-- --:--:-- --:--:--  1229\r\n"
       ]
      },
      {
       "output_type": "stream",
       "stream": "stdout",
       "text": [
        "  % Total    % Received % Xferd  Average Speed   Time    Time     Time  Current\r\n",
        "                                 Dload  Upload   Total   Spent    Left  Speed\r\n",
        "\r",
        "  0     0    0     0    0     0      0      0 --:--:-- --:--:-- --:--:--     0"
       ]
      },
      {
       "output_type": "stream",
       "stream": "stdout",
       "text": [
        "\r",
        "100   386    0   386    0     0   1443      0 --:--:-- --:--:-- --:--:--  1445\r\n"
       ]
      },
      {
       "output_type": "stream",
       "stream": "stdout",
       "text": [
        "  % Total    % Received % Xferd  Average Speed   Time    Time     Time  Current\r\n",
        "                                 Dload  Upload   Total   Spent    Left  Speed\r\n",
        "\r",
        "  0     0    0     0    0     0      0      0 --:--:-- --:--:-- --:--:--     0\r",
        "  0     0    0     0    0     0      0      0 --:--:-- --:--:-- --:--:--     0"
       ]
      },
      {
       "output_type": "stream",
       "stream": "stdout",
       "text": [
        "\r",
        "100   924    0   924    0     0   2887      0 --:--:-- --:--:-- --:--:--  2887\r\n"
       ]
      },
      {
       "output_type": "stream",
       "stream": "stdout",
       "text": [
        "  % Total    % Received % Xferd  Average Speed   Time    Time     Time  Current\r\n",
        "                                 Dload  Upload   Total   Spent    Left  Speed\r\n",
        "\r",
        "  0     0    0     0    0     0      0      0 --:--:-- --:--:-- --:--:--     0"
       ]
      },
      {
       "output_type": "stream",
       "stream": "stdout",
       "text": [
        "\r",
        "100   620    0   620    0     0   2195      0 --:--:-- --:--:-- --:--:--  2198\r\n"
       ]
      },
      {
       "output_type": "stream",
       "stream": "stdout",
       "text": [
        "  % Total    % Received % Xferd  Average Speed   Time    Time     Time  Current\r\n",
        "                                 Dload  Upload   Total   Spent    Left  Speed\r\n",
        "\r",
        "  0     0    0     0    0     0      0      0 --:--:-- --:--:-- --:--:--     0"
       ]
      },
      {
       "output_type": "stream",
       "stream": "stdout",
       "text": [
        "\r",
        "  0     0    0     0    0     0      0      0 --:--:-- --:--:-- --:--:--     0"
       ]
      },
      {
       "output_type": "stream",
       "stream": "stdout",
       "text": [
        "\r",
        "100   604    0   604    0     0   2005      0 --:--:-- --:--:-- --:--:--  2000\r\n"
       ]
      },
      {
       "output_type": "stream",
       "stream": "stdout",
       "text": [
        "  % Total    % Received % Xferd  Average Speed   Time    Time     Time  Current\r\n",
        "                                 Dload  Upload   Total   Spent    Left  Speed\r\n",
        "\r",
        "  0     0    0     0    0     0      0      0 --:--:-- --:--:-- --:--:--     0"
       ]
      },
      {
       "output_type": "stream",
       "stream": "stdout",
       "text": [
        "\r",
        "100  1911    0  1911    0     0   7727      0 --:--:-- --:--:-- --:--:--  7736\r\n"
       ]
      },
      {
       "output_type": "stream",
       "stream": "stdout",
       "text": [
        "  % Total    % Received % Xferd  Average Speed   Time    Time     Time  Current\r\n",
        "                                 Dload  Upload   Total   Spent    Left  Speed\r\n",
        "\r",
        "  0     0    0     0    0     0      0      0 --:--:-- --:--:-- --:--:--     0"
       ]
      },
      {
       "output_type": "stream",
       "stream": "stdout",
       "text": [
        "\r",
        "100  1911    0  1911    0     0   4272      0 --:--:-- --:--:-- --:--:--  4265\r",
        "100  1911    0  1911    0     0   4271      0 --:--:-- --:--:-- --:--:--  4265\r\n"
       ]
      },
      {
       "output_type": "stream",
       "stream": "stdout",
       "text": [
        "  % Total    % Received % Xferd  Average Speed   Time    Time     Time  Current\r\n",
        "                                 Dload  Upload   Total   Spent    Left  Speed\r\n",
        "\r",
        "  0     0    0     0    0     0      0      0 --:--:-- --:--:-- --:--:--     0"
       ]
      },
      {
       "output_type": "stream",
       "stream": "stdout",
       "text": [
        "\r",
        "100  1904    0  1904    0     0   7589      0 --:--:-- --:--:-- --:--:--  7616\r\n"
       ]
      },
      {
       "output_type": "stream",
       "stream": "stdout",
       "text": [
        "  % Total    % Received % Xferd  Average Speed   Time    Time     Time  Current\r\n",
        "                                 Dload  Upload   Total   Spent    Left  Speed\r\n",
        "\r",
        "  0     0    0     0    0     0      0      0 --:--:-- --:--:-- --:--:--     0"
       ]
      },
      {
       "output_type": "stream",
       "stream": "stdout",
       "text": [
        "\r",
        "100  1911    0  1911    0     0   6649      0 --:--:-- --:--:-- --:--:--  6658\r\n"
       ]
      },
      {
       "output_type": "stream",
       "stream": "stdout",
       "text": [
        "  % Total    % Received % Xferd  Average Speed   Time    Time     Time  Current\r\n",
        "                                 Dload  Upload   Total   Spent    Left  Speed\r\n",
        "\r",
        "  0     0    0     0    0     0      0      0 --:--:-- --:--:-- --:--:--     0"
       ]
      },
      {
       "output_type": "stream",
       "stream": "stdout",
       "text": [
        "\r",
        "  0     0    0     0    0     0      0      0 --:--:-- --:--:-- --:--:--     0"
       ]
      },
      {
       "output_type": "stream",
       "stream": "stdout",
       "text": [
        "\r",
        "100  1911    0  1911    0     0   5465      0 --:--:-- --:--:-- --:--:--  5460\r\n"
       ]
      },
      {
       "output_type": "stream",
       "stream": "stdout",
       "text": [
        "  % Total    % Received % Xferd  Average Speed   Time    Time     Time  Current\r\n",
        "                                 Dload  Upload   Total   Spent    Left  Speed\r\n",
        "\r",
        "  0     0    0     0    0     0      0      0 --:--:-- --:--:-- --:--:--     0"
       ]
      },
      {
       "output_type": "stream",
       "stream": "stdout",
       "text": [
        "\r",
        "100  1911    0  1911    0     0   7012      0 --:--:-- --:--:-- --:--:--  7025\r\n"
       ]
      },
      {
       "output_type": "stream",
       "stream": "stdout",
       "text": [
        "  % Total    % Received % Xferd  Average Speed   Time    Time     Time  Current\r\n",
        "                                 Dload  Upload   Total   Spent    Left  Speed\r\n",
        "\r",
        "  0     0    0     0    0     0      0      0 --:--:-- --:--:-- --:--:--     0"
       ]
      },
      {
       "output_type": "stream",
       "stream": "stdout",
       "text": [
        "\r",
        "  0     0    0     0    0     0      0      0 --:--:-- --:--:-- --:--:--     0"
       ]
      },
      {
       "output_type": "stream",
       "stream": "stdout",
       "text": [
        "\r",
        "100  1911    0  1911    0     0   7737      0 --:--:-- --:--:-- --:--:--  7736\r\n"
       ]
      },
      {
       "output_type": "stream",
       "stream": "stdout",
       "text": [
        "  % Total    % Received % Xferd  Average Speed   Time    Time     Time  Current\r\n",
        "                                 Dload  Upload   Total   Spent    Left  Speed\r\n",
        "\r",
        "  0     0    0     0    0     0      0      0 --:--:-- --:--:-- --:--:--     0"
       ]
      },
      {
       "output_type": "stream",
       "stream": "stdout",
       "text": [
        "\r",
        "100  1911    0  1911    0     0   2540      0 --:--:-- --:--:-- --:--:--  2541\r\n"
       ]
      },
      {
       "output_type": "stream",
       "stream": "stdout",
       "text": [
        "  % Total    % Received % Xferd  Average Speed   Time    Time     Time  Current\r\n",
        "                                 Dload  Upload   Total   Spent    Left  Speed\r\n",
        "\r",
        "  0     0    0     0    0     0      0      0 --:--:-- --:--:-- --:--:--     0"
       ]
      },
      {
       "output_type": "stream",
       "stream": "stdout",
       "text": [
        "\r",
        "100  1911    0  1911    0     0   6063      0 --:--:-- --:--:-- --:--:--  6066\r\n"
       ]
      },
      {
       "output_type": "stream",
       "stream": "stdout",
       "text": [
        "  % Total    % Received % Xferd  Average Speed   Time    Time     Time  Current\r\n",
        "                                 Dload  Upload   Total   Spent    Left  Speed\r\n",
        "\r",
        "  0     0    0     0    0     0      0      0 --:--:-- --:--:-- --:--:--     0"
       ]
      },
      {
       "output_type": "stream",
       "stream": "stdout",
       "text": [
        "\r",
        "100  1911    0  1911    0     0   5407      0 --:--:-- --:--:-- --:--:--  5413\r\n"
       ]
      },
      {
       "output_type": "stream",
       "stream": "stdout",
       "text": [
        "  % Total    % Received % Xferd  Average Speed   Time    Time     Time  Current\r\n",
        "                                 Dload  Upload   Total   Spent    Left  Speed\r\n",
        "\r",
        "  0     0    0     0    0     0      0      0 --:--:-- --:--:-- --:--:--     0"
       ]
      },
      {
       "output_type": "stream",
       "stream": "stdout",
       "text": [
        "\r",
        "  0     0    0     0    0     0      0      0 --:--:-- --:--:-- --:--:--     0"
       ]
      },
      {
       "output_type": "stream",
       "stream": "stdout",
       "text": [
        "\r",
        "100  1911    0  1911    0     0   3513      0 --:--:-- --:--:-- --:--:--  3512\r\n"
       ]
      },
      {
       "output_type": "stream",
       "stream": "stdout",
       "text": [
        "  % Total    % Received % Xferd  Average Speed   Time    Time     Time  Current\r\n",
        "                                 Dload  Upload   Total   Spent    Left  Speed\r\n",
        "\r",
        "  0     0    0     0    0     0      0      0 --:--:-- --:--:-- --:--:--     0"
       ]
      },
      {
       "output_type": "stream",
       "stream": "stdout",
       "text": [
        "\r",
        "100  1911    0  1911    0     0   3467      0 --:--:-- --:--:-- --:--:--  3468\r",
        "100  1911    0  1911    0     0   3467      0 --:--:-- --:--:-- --:--:--  3461\r\n"
       ]
      },
      {
       "output_type": "stream",
       "stream": "stdout",
       "text": [
        "  % Total    % Received % Xferd  Average Speed   Time    Time     Time  Current\r\n",
        "                                 Dload  Upload   Total   Spent    Left  Speed\r\n",
        "\r",
        "  0     0    0     0    0     0      0      0 --:--:-- --:--:-- --:--:--     0"
       ]
      },
      {
       "output_type": "stream",
       "stream": "stdout",
       "text": [
        "\r",
        "100  1911    0  1911    0     0   3452      0 --:--:-- --:--:-- --:--:--  3455\r\n"
       ]
      },
      {
       "output_type": "stream",
       "stream": "stdout",
       "text": [
        "  % Total    % Received % Xferd  Average Speed   Time    Time     Time  Current\r\n",
        "                                 Dload  Upload   Total   Spent    Left  Speed\r\n",
        "\r",
        "  0     0    0     0    0     0      0      0 --:--:-- --:--:-- --:--:--     0"
       ]
      },
      {
       "output_type": "stream",
       "stream": "stdout",
       "text": [
        "\r",
        "  0     0    0     0    0     0      0      0 --:--:-- --:--:-- --:--:--     0"
       ]
      },
      {
       "output_type": "stream",
       "stream": "stdout",
       "text": [
        "\r",
        "100  1911    0  1911    0     0   2721      0 --:--:-- --:--:-- --:--:--  2718\r\n"
       ]
      },
      {
       "output_type": "stream",
       "stream": "stdout",
       "text": [
        "  % Total    % Received % Xferd  Average Speed   Time    Time     Time  Current\r\n",
        "                                 Dload  Upload   Total   Spent    Left  Speed\r\n",
        "\r",
        "  0     0    0     0    0     0      0      0 --:--:-- --:--:-- --:--:--     0"
       ]
      },
      {
       "output_type": "stream",
       "stream": "stdout",
       "text": [
        "\r",
        "100  1904    0  1904    0     0   2866      0 --:--:-- --:--:-- --:--:--  2867\r",
        "100  1904    0  1904    0     0   2866      0 --:--:-- --:--:-- --:--:--  2863\r\n"
       ]
      },
      {
       "output_type": "stream",
       "stream": "stdout",
       "text": [
        "  % Total    % Received % Xferd  Average Speed   Time    Time     Time  Current\r\n",
        "                                 Dload  Upload   Total   Spent    Left  Speed\r\n",
        "\r",
        "  0     0    0     0    0     0      0      0 --:--:-- --:--:-- --:--:--     0"
       ]
      },
      {
       "output_type": "stream",
       "stream": "stdout",
       "text": [
        "\r",
        "100  1911    0  1911    0     0   6812      0 --:--:-- --:--:-- --:--:--  6825\r\n"
       ]
      },
      {
       "output_type": "stream",
       "stream": "stdout",
       "text": [
        "  % Total    % Received % Xferd  Average Speed   Time    Time     Time  Current\r\n",
        "                                 Dload  Upload   Total   Spent    Left  Speed\r\n",
        "\r",
        "  0     0    0     0    0     0      0      0 --:--:-- --:--:-- --:--:--     0"
       ]
      },
      {
       "output_type": "stream",
       "stream": "stdout",
       "text": [
        "\r",
        "  0     0    0     0    0     0      0      0 --:--:-- --:--:-- --:--:--     0"
       ]
      },
      {
       "output_type": "stream",
       "stream": "stdout",
       "text": [
        "\r",
        "100  1911    0  1911    0     0   2511      0 --:--:-- --:--:-- --:--:--  2511\r\n"
       ]
      },
      {
       "output_type": "stream",
       "stream": "stdout",
       "text": [
        "  % Total    % Received % Xferd  Average Speed   Time    Time     Time  Current\r\n",
        "                                 Dload  Upload   Total   Spent    Left  Speed\r\n",
        "\r",
        "  0     0    0     0    0     0      0      0 --:--:-- --:--:-- --:--:--     0"
       ]
      },
      {
       "output_type": "stream",
       "stream": "stdout",
       "text": [
        "\r",
        "  0     0    0     0    0     0      0      0 --:--:-- --:--:-- --:--:--     0"
       ]
      },
      {
       "output_type": "stream",
       "stream": "stdout",
       "text": [
        "\r",
        "100  1911    0  1911    0     0   6185      0 --:--:-- --:--:-- --:--:--  6184\r\n"
       ]
      },
      {
       "output_type": "stream",
       "stream": "stdout",
       "text": [
        "  % Total    % Received % Xferd  Average Speed   Time    Time     Time  Current\r\n",
        "                                 Dload  Upload   Total   Spent    Left  Speed\r\n",
        "\r",
        "  0     0    0     0    0     0      0      0 --:--:-- --:--:-- --:--:--     0"
       ]
      },
      {
       "output_type": "stream",
       "stream": "stdout",
       "text": [
        "\r",
        "100  1911    0  1911    0     0   3260      0 --:--:-- --:--:-- --:--:--  3261\r\n"
       ]
      },
      {
       "output_type": "stream",
       "stream": "stdout",
       "text": [
        "  % Total    % Received % Xferd  Average Speed   Time    Time     Time  Current\r\n",
        "                                 Dload  Upload   Total   Spent    Left  Speed\r\n",
        "\r",
        "  0     0    0     0    0     0      0      0 --:--:-- --:--:-- --:--:--     0"
       ]
      },
      {
       "output_type": "stream",
       "stream": "stdout",
       "text": [
        "\r",
        "  0     0    0     0    0     0      0      0 --:--:-- --:--:-- --:--:--     0"
       ]
      },
      {
       "output_type": "stream",
       "stream": "stdout",
       "text": [
        "\r",
        "100  1911    0  1911    0     0   2313      0 --:--:-- --:--:-- --:--:--  2310\r\n"
       ]
      },
      {
       "output_type": "stream",
       "stream": "stdout",
       "text": [
        "  % Total    % Received % Xferd  Average Speed   Time    Time     Time  Current\r\n",
        "                                 Dload  Upload   Total   Spent    Left  Speed\r\n",
        "\r",
        "  0     0    0     0    0     0      0      0 --:--:-- --:--:-- --:--:--     0"
       ]
      },
      {
       "output_type": "stream",
       "stream": "stdout",
       "text": [
        "\r",
        "  0     0    0     0    0     0      0      0 --:--:-- --:--:-- --:--:--     0"
       ]
      },
      {
       "output_type": "stream",
       "stream": "stdout",
       "text": [
        "\r",
        "100  1911    0  1911    0     0   6066      0 --:--:-- --:--:-- --:--:--  6066\r\n"
       ]
      },
      {
       "output_type": "stream",
       "stream": "stdout",
       "text": [
        "  % Total    % Received % Xferd  Average Speed   Time    Time     Time  Current\r\n",
        "                                 Dload  Upload   Total   Spent    Left  Speed\r\n",
        "\r",
        "  0     0    0     0    0     0      0      0 --:--:-- --:--:-- --:--:--     0"
       ]
      },
      {
       "output_type": "stream",
       "stream": "stdout",
       "text": [
        "\r",
        "100  1911    0  1911    0     0   3747      0 --:--:-- --:--:-- --:--:--  3754\r\n"
       ]
      },
      {
       "output_type": "stream",
       "stream": "stdout",
       "text": [
        "  % Total    % Received % Xferd  Average Speed   Time    Time     Time  Current\r\n",
        "                                 Dload  Upload   Total   Spent    Left  Speed\r\n",
        "\r",
        "  0     0    0     0    0     0      0      0 --:--:-- --:--:-- --:--:--     0"
       ]
      },
      {
       "output_type": "stream",
       "stream": "stdout",
       "text": [
        "\r",
        "  0     0    0     0    0     0      0      0 --:--:-- --:--:-- --:--:--     0"
       ]
      },
      {
       "output_type": "stream",
       "stream": "stdout",
       "text": [
        "\r",
        "100  1911    0  1911    0     0   5173      0 --:--:-- --:--:-- --:--:--  5164\r\n"
       ]
      },
      {
       "output_type": "stream",
       "stream": "stdout",
       "text": [
        "  % Total    % Received % Xferd  Average Speed   Time    Time     Time  Current\r\n",
        "                                 Dload  Upload   Total   Spent    Left  Speed\r\n",
        "\r",
        "  0     0    0     0    0     0      0      0 --:--:-- --:--:-- --:--:--     0"
       ]
      },
      {
       "output_type": "stream",
       "stream": "stdout",
       "text": [
        "\r",
        "100  1911    0  1911    0     0   6200      0 --:--:-- --:--:-- --:--:--  6204\r\n"
       ]
      },
      {
       "output_type": "stream",
       "stream": "stdout",
       "text": [
        "  % Total    % Received % Xferd  Average Speed   Time    Time     Time  Current\r\n",
        "                                 Dload  Upload   Total   Spent    Left  Speed\r\n",
        "\r",
        "  0     0    0     0    0     0      0      0 --:--:-- --:--:-- --:--:--     0"
       ]
      },
      {
       "output_type": "stream",
       "stream": "stdout",
       "text": [
        "\r",
        "  0     0    0     0    0     0      0      0 --:--:-- --:--:-- --:--:--     0"
       ]
      },
      {
       "output_type": "stream",
       "stream": "stdout",
       "text": [
        "\r",
        "100  1897    0  1897    0     0   6609      0 --:--:-- --:--:-- --:--:--  6609\r\n"
       ]
      },
      {
       "output_type": "stream",
       "stream": "stdout",
       "text": [
        "  % Total    % Received % Xferd  Average Speed   Time    Time     Time  Current\r\n",
        "                                 Dload  Upload   Total   Spent    Left  Speed\r\n",
        "\r",
        "  0     0    0     0    0     0      0      0 --:--:-- --:--:-- --:--:--     0"
       ]
      },
      {
       "output_type": "stream",
       "stream": "stdout",
       "text": [
        "\r",
        "100  1911    0  1911    0     0   6618      0 --:--:-- --:--:-- --:--:--  6635\r\n"
       ]
      },
      {
       "output_type": "stream",
       "stream": "stdout",
       "text": [
        "  % Total    % Received % Xferd  Average Speed   Time    Time     Time  Current\r\n",
        "                                 Dload  Upload   Total   Spent    Left  Speed\r\n",
        "\r",
        "  0     0    0     0    0     0      0      0 --:--:-- --:--:-- --:--:--     0"
       ]
      },
      {
       "output_type": "stream",
       "stream": "stdout",
       "text": [
        "\r",
        "100  1911    0  1911    0     0   2321      0 --:--:-- --:--:-- --:--:--  2319\r",
        "100  1911    0  1911    0     0   2320      0 --:--:-- --:--:-- --:--:--  2319\r\n"
       ]
      },
      {
       "output_type": "stream",
       "stream": "stdout",
       "text": [
        "  % Total    % Received % Xferd  Average Speed   Time    Time     Time  Current\r\n",
        "                                 Dload  Upload   Total   Spent    Left  Speed\r\n",
        "\r",
        "  0     0    0     0    0     0      0      0 --:--:-- --:--:-- --:--:--     0"
       ]
      },
      {
       "output_type": "stream",
       "stream": "stdout",
       "text": [
        "\r",
        "  0     0    0     0    0     0      0      0 --:--:--  0:00:01 --:--:--     0"
       ]
      },
      {
       "output_type": "stream",
       "stream": "stdout",
       "text": [
        "\r",
        "100  1848    0  1848    0     0   1446      0 --:--:--  0:00:01 --:--:--  1447\r\n"
       ]
      },
      {
       "output_type": "stream",
       "stream": "stdout",
       "text": [
        "  % Total    % Received % Xferd  Average Speed   Time    Time     Time  Current\r\n",
        "                                 Dload  Upload   Total   Spent    Left  Speed\r\n",
        "\r",
        "  0     0    0     0    0     0      0      0 --:--:-- --:--:-- --:--:--     0\r",
        "  0     0    0     0    0     0      0      0 --:--:-- --:--:-- --:--:--     0"
       ]
      },
      {
       "output_type": "stream",
       "stream": "stdout",
       "text": [
        "\r",
        "100  1855    0  1855    0     0   5902      0 --:--:-- --:--:-- --:--:--  5888\r\n"
       ]
      },
      {
       "output_type": "stream",
       "stream": "stdout",
       "text": [
        "  % Total    % Received % Xferd  Average Speed   Time    Time     Time  Current\r\n",
        "                                 Dload  Upload   Total   Spent    Left  Speed\r\n",
        "\r",
        "  0     0    0     0    0     0      0      0 --:--:-- --:--:-- --:--:--     0"
       ]
      },
      {
       "output_type": "stream",
       "stream": "stdout",
       "text": [
        "\r",
        "100  1911    0  1911    0     0   6673      0 --:--:-- --:--:-- --:--:--  6681\r\n"
       ]
      },
      {
       "output_type": "stream",
       "stream": "stdout",
       "text": [
        "  % Total    % Received % Xferd  Average Speed   Time    Time     Time  Current\r\n",
        "                                 Dload  Upload   Total   Spent    Left  Speed\r\n",
        "\r",
        "  0     0    0     0    0     0      0      0 --:--:-- --:--:-- --:--:--     0"
       ]
      },
      {
       "output_type": "stream",
       "stream": "stdout",
       "text": [
        "\r",
        "  0     0    0     0    0     0      0      0 --:--:-- --:--:-- --:--:--     0"
       ]
      },
      {
       "output_type": "stream",
       "stream": "stdout",
       "text": [
        "\r",
        "100  1911    0  1911    0     0   1498      0 --:--:--  0:00:01 --:--:--  1497\r",
        "100  1911    0  1911    0     0   1498      0 --:--:--  0:00:01 --:--:--  1497\r\n"
       ]
      },
      {
       "output_type": "stream",
       "stream": "stdout",
       "text": [
        "  % Total    % Received % Xferd  Average Speed   Time    Time     Time  Current\r\n",
        "                                 Dload  Upload   Total   Spent    Left  Speed\r\n",
        "\r",
        "  0     0    0     0    0     0      0      0 --:--:-- --:--:-- --:--:--     0"
       ]
      },
      {
       "output_type": "stream",
       "stream": "stdout",
       "text": [
        "\r",
        "100  1904    0  1904    0     0   5599      0 --:--:-- --:--:-- --:--:--  5616\r\n"
       ]
      },
      {
       "output_type": "stream",
       "stream": "stdout",
       "text": [
        "  % Total    % Received % Xferd  Average Speed   Time    Time     Time  Current\r\n",
        "                                 Dload  Upload   Total   Spent    Left  Speed\r\n",
        "\r",
        "  0     0    0     0    0     0      0      0 --:--:-- --:--:-- --:--:--     0"
       ]
      },
      {
       "output_type": "stream",
       "stream": "stdout",
       "text": [
        "\r",
        "100  1911    0  1911    0     0   6219      0 --:--:-- --:--:-- --:--:--  6224\r\n"
       ]
      },
      {
       "output_type": "stream",
       "stream": "stdout",
       "text": [
        "  % Total    % Received % Xferd  Average Speed   Time    Time     Time  Current\r\n",
        "                                 Dload  Upload   Total   Spent    Left  Speed\r\n",
        "\r",
        "  0     0    0     0    0     0      0      0 --:--:-- --:--:-- --:--:--     0"
       ]
      },
      {
       "output_type": "stream",
       "stream": "stdout",
       "text": [
        "\r",
        "100  1911    0  1911    0     0   7683      0 --:--:-- --:--:-- --:--:--  7705\r\n"
       ]
      },
      {
       "output_type": "stream",
       "stream": "stdout",
       "text": [
        "  % Total    % Received % Xferd  Average Speed   Time    Time     Time  Current\r\n",
        "                                 Dload  Upload   Total   Spent    Left  Speed\r\n",
        "\r",
        "  0     0    0     0    0     0      0      0 --:--:-- --:--:-- --:--:--     0"
       ]
      },
      {
       "output_type": "stream",
       "stream": "stdout",
       "text": [
        "\r",
        "100  1911    0  1911    0     0   6275      0 --:--:-- --:--:-- --:--:--  6286\r\n"
       ]
      },
      {
       "output_type": "stream",
       "stream": "stdout",
       "text": [
        "  % Total    % Received % Xferd  Average Speed   Time    Time     Time  Current\r\n",
        "                                 Dload  Upload   Total   Spent    Left  Speed\r\n",
        "\r",
        "  0     0    0     0    0     0      0      0 --:--:-- --:--:-- --:--:--     0"
       ]
      },
      {
       "output_type": "stream",
       "stream": "stdout",
       "text": [
        "\r",
        "  0     0    0     0    0     0      0      0 --:--:-- --:--:-- --:--:--     0"
       ]
      },
      {
       "output_type": "stream",
       "stream": "stdout",
       "text": [
        "\r",
        "100  1904    0  1904    0     0   3790      0 --:--:-- --:--:-- --:--:--  3785\r\n"
       ]
      },
      {
       "output_type": "stream",
       "stream": "stdout",
       "text": [
        "  % Total    % Received % Xferd  Average Speed   Time    Time     Time  Current\r\n",
        "                                 Dload  Upload   Total   Spent    Left  Speed\r\n",
        "\r",
        "  0     0    0     0    0     0      0      0 --:--:-- --:--:-- --:--:--     0"
       ]
      },
      {
       "output_type": "stream",
       "stream": "stdout",
       "text": [
        "\r",
        "100  1911    0  1911    0     0   5356      0 --:--:-- --:--:-- --:--:--  5367\r\n"
       ]
      },
      {
       "output_type": "stream",
       "stream": "stdout",
       "text": [
        "  % Total    % Received % Xferd  Average Speed   Time    Time     Time  Current\r\n",
        "                                 Dload  Upload   Total   Spent    Left  Speed\r\n",
        "\r",
        "  0     0    0     0    0     0      0      0 --:--:-- --:--:-- --:--:--     0"
       ]
      },
      {
       "output_type": "stream",
       "stream": "stdout",
       "text": [
        "\r",
        "  0     0    0     0    0     0      0      0 --:--:-- --:--:-- --:--:--     0"
       ]
      },
      {
       "output_type": "stream",
       "stream": "stdout",
       "text": [
        "\r",
        "100  1883    0  1883    0     0   4270      0 --:--:-- --:--:-- --:--:--  4269\r\n"
       ]
      },
      {
       "output_type": "stream",
       "stream": "stdout",
       "text": [
        "  % Total    % Received % Xferd  Average Speed   Time    Time     Time  Current\r\n",
        "                                 Dload  Upload   Total   Spent    Left  Speed\r\n",
        "\r",
        "  0     0    0     0    0     0      0      0 --:--:-- --:--:-- --:--:--     0"
       ]
      },
      {
       "output_type": "stream",
       "stream": "stdout",
       "text": [
        "\r",
        "100  1883    0  1883    0     0   5990      0 --:--:-- --:--:-- --:--:--  5996\r\n"
       ]
      },
      {
       "output_type": "stream",
       "stream": "stdout",
       "text": [
        "  % Total    % Received % Xferd  Average Speed   Time    Time     Time  Current\r\n",
        "                                 Dload  Upload   Total   Spent    Left  Speed\r\n",
        "\r",
        "  0     0    0     0    0     0      0      0 --:--:-- --:--:-- --:--:--     0"
       ]
      },
      {
       "output_type": "stream",
       "stream": "stdout",
       "text": [
        "\r",
        "  0     0    0     0    0     0      0      0 --:--:-- --:--:-- --:--:--     0"
       ]
      },
      {
       "output_type": "stream",
       "stream": "stdout",
       "text": [
        "\r",
        "100  1876    0  1876    0     0   4979      0 --:--:-- --:--:-- --:--:--  4976\r\n"
       ]
      },
      {
       "output_type": "stream",
       "stream": "stdout",
       "text": [
        "  % Total    % Received % Xferd  Average Speed   Time    Time     Time  Current\r\n",
        "                                 Dload  Upload   Total   Spent    Left  Speed\r\n",
        "\r",
        "  0     0    0     0    0     0      0      0 --:--:-- --:--:-- --:--:--     0"
       ]
      },
      {
       "output_type": "stream",
       "stream": "stdout",
       "text": [
        "\r",
        "100  1883    0  1883    0     0   5988      0 --:--:-- --:--:-- --:--:--  5996\r\n"
       ]
      },
      {
       "output_type": "stream",
       "stream": "stdout",
       "text": [
        "  % Total    % Received % Xferd  Average Speed   Time    Time     Time  Current\r\n",
        "                                 Dload  Upload   Total   Spent    Left  Speed\r\n",
        "\r",
        "  0     0    0     0    0     0      0      0 --:--:-- --:--:-- --:--:--     0"
       ]
      },
      {
       "output_type": "stream",
       "stream": "stdout",
       "text": [
        "\r",
        "  0     0    0     0    0     0      0      0 --:--:-- --:--:-- --:--:--     0"
       ]
      },
      {
       "output_type": "stream",
       "stream": "stdout",
       "text": [
        "\r",
        "100  1883    0  1883    0     0   2575      0 --:--:-- --:--:-- --:--:--  2572\r\n"
       ]
      },
      {
       "output_type": "stream",
       "stream": "stdout",
       "text": [
        "  % Total    % Received % Xferd  Average Speed   Time    Time     Time  Current\r\n",
        "                                 Dload  Upload   Total   Spent    Left  Speed\r\n",
        "\r",
        "  0     0    0     0    0     0      0      0 --:--:-- --:--:-- --:--:--     0"
       ]
      },
      {
       "output_type": "stream",
       "stream": "stdout",
       "text": [
        "\r",
        "100  1883    0  1883    0     0   7427      0 --:--:-- --:--:-- --:--:--  7442\r\n"
       ]
      },
      {
       "output_type": "stream",
       "stream": "stdout",
       "text": [
        "  % Total    % Received % Xferd  Average Speed   Time    Time     Time  Current\r\n",
        "                                 Dload  Upload   Total   Spent    Left  Speed\r\n",
        "\r",
        "  0     0    0     0    0     0      0      0 --:--:-- --:--:-- --:--:--     0"
       ]
      },
      {
       "output_type": "stream",
       "stream": "stdout",
       "text": [
        "\r",
        "100  2211    0  2211    0     0   7071      0 --:--:-- --:--:-- --:--:--  7086\r\n"
       ]
      }
     ],
     "prompt_number": 9
    },
    {
     "cell_type": "code",
     "collapsed": false,
     "input": [
      "downloads = !ls project_text/*.txt"
     ],
     "language": "python",
     "metadata": {},
     "outputs": [],
     "prompt_number": 10
    },
    {
     "cell_type": "markdown",
     "metadata": {},
     "source": [
      "Now that I have all the download links as CSV files, I can bring them into pandas, sort them, find out how many unique scientific names there are, etc."
     ]
    },
    {
     "cell_type": "code",
     "collapsed": false,
     "input": [
      "import pandas as pd"
     ],
     "language": "python",
     "metadata": {},
     "outputs": [],
     "prompt_number": 11
    },
    {
     "cell_type": "code",
     "collapsed": false,
     "input": [
      "df = pd.DataFrame()\n",
      "for text_file in downloads:\n",
      "    study = pd.read_csv(text_file, sep='\\t')\n",
      "    study['filename'] = text_file.split(\"/\")[1]\n",
      "    \n",
      "    df = df.append(study, ignore_index=True)\n",
      "len(df)"
     ],
     "language": "python",
     "metadata": {},
     "outputs": [
      {
       "metadata": {},
       "output_type": "pyout",
       "prompt_number": 12,
       "text": [
        "2097"
       ]
      }
     ],
     "prompt_number": 12
    },
    {
     "cell_type": "code",
     "collapsed": false,
     "input": [
      "df"
     ],
     "language": "python",
     "metadata": {},
     "outputs": [
      {
       "html": [
        "<div style=\"max-height:1000px;max-width:1500px;overflow:auto;\">\n",
        "<table border=\"1\" class=\"dataframe\">\n",
        "  <thead>\n",
        "    <tr style=\"text-align: right;\">\n",
        "      <th></th>\n",
        "      <th>study_accession</th>\n",
        "      <th>sample_accession</th>\n",
        "      <th>experiment_accession</th>\n",
        "      <th>run_accession</th>\n",
        "      <th>scientific_name</th>\n",
        "      <th>instrument_model</th>\n",
        "      <th>library_layout</th>\n",
        "      <th>fastq_ftp</th>\n",
        "      <th>filename</th>\n",
        "    </tr>\n",
        "  </thead>\n",
        "  <tbody>\n",
        "    <tr>\n",
        "      <th>0   </th>\n",
        "      <td> PRJNA174539</td>\n",
        "      <td> SAMN01162745</td>\n",
        "      <td> SRX189617</td>\n",
        "      <td>  SRR642855</td>\n",
        "      <td>     Cryptococcus neoformans var. grubii AD1-7a</td>\n",
        "      <td> Illumina HiSeq 2000</td>\n",
        "      <td> PAIRED</td>\n",
        "      <td> ftp.sra.ebi.ac.uk/vol1/fastq/SRR642/SRR642855/...</td>\n",
        "      <td> PRJNA174539.txt</td>\n",
        "    </tr>\n",
        "    <tr>\n",
        "      <th>1   </th>\n",
        "      <td> PRJNA174539</td>\n",
        "      <td> SAMN01162745</td>\n",
        "      <td> SRX189617</td>\n",
        "      <td>  SRR647794</td>\n",
        "      <td>     Cryptococcus neoformans var. grubii AD1-7a</td>\n",
        "      <td> Illumina HiSeq 2000</td>\n",
        "      <td> PAIRED</td>\n",
        "      <td> ftp.sra.ebi.ac.uk/vol1/fastq/SRR647/SRR647794/...</td>\n",
        "      <td> PRJNA174539.txt</td>\n",
        "    </tr>\n",
        "    <tr>\n",
        "      <th>2   </th>\n",
        "      <td> PRJNA174540</td>\n",
        "      <td> SAMN01162746</td>\n",
        "      <td> SRX189370</td>\n",
        "      <td>  SRR576306</td>\n",
        "      <td>   Cryptococcus neoformans var. grubii A2-102-5</td>\n",
        "      <td> Illumina HiSeq 2000</td>\n",
        "      <td> PAIRED</td>\n",
        "      <td> ftp.sra.ebi.ac.uk/vol1/fastq/SRR576/SRR576306/...</td>\n",
        "      <td> PRJNA174540.txt</td>\n",
        "    </tr>\n",
        "    <tr>\n",
        "      <th>3   </th>\n",
        "      <td> PRJNA174540</td>\n",
        "      <td> SAMN01162746</td>\n",
        "      <td> SRX189370</td>\n",
        "      <td>  SRR576320</td>\n",
        "      <td>   Cryptococcus neoformans var. grubii A2-102-5</td>\n",
        "      <td> Illumina HiSeq 2000</td>\n",
        "      <td> PAIRED</td>\n",
        "      <td> ftp.sra.ebi.ac.uk/vol1/fastq/SRR576/SRR576320/...</td>\n",
        "      <td> PRJNA174540.txt</td>\n",
        "    </tr>\n",
        "    <tr>\n",
        "      <th>4   </th>\n",
        "      <td> PRJNA174540</td>\n",
        "      <td> SAMN01162746</td>\n",
        "      <td> SRX189607</td>\n",
        "      <td>  SRR576565</td>\n",
        "      <td>   Cryptococcus neoformans var. grubii A2-102-5</td>\n",
        "      <td> Illumina HiSeq 2000</td>\n",
        "      <td> SINGLE</td>\n",
        "      <td> ftp.sra.ebi.ac.uk/vol1/fastq/SRR576/SRR576565/...</td>\n",
        "      <td> PRJNA174540.txt</td>\n",
        "    </tr>\n",
        "    <tr>\n",
        "      <th>5   </th>\n",
        "      <td> PRJNA174540</td>\n",
        "      <td> SAMN01162746</td>\n",
        "      <td> SRX189607</td>\n",
        "      <td>  SRR576607</td>\n",
        "      <td>   Cryptococcus neoformans var. grubii A2-102-5</td>\n",
        "      <td> Illumina HiSeq 2000</td>\n",
        "      <td> SINGLE</td>\n",
        "      <td> ftp.sra.ebi.ac.uk/vol1/fastq/SRR576/SRR576607/...</td>\n",
        "      <td> PRJNA174540.txt</td>\n",
        "    </tr>\n",
        "    <tr>\n",
        "      <th>6   </th>\n",
        "      <td> PRJNA174540</td>\n",
        "      <td> SAMN01162746</td>\n",
        "      <td> SRX189598</td>\n",
        "      <td>  SRR642223</td>\n",
        "      <td>   Cryptococcus neoformans var. grubii A2-102-5</td>\n",
        "      <td> Illumina HiSeq 2000</td>\n",
        "      <td> PAIRED</td>\n",
        "      <td> ftp.sra.ebi.ac.uk/vol1/fastq/SRR642/SRR642223/...</td>\n",
        "      <td> PRJNA174540.txt</td>\n",
        "    </tr>\n",
        "    <tr>\n",
        "      <th>7   </th>\n",
        "      <td> PRJNA174540</td>\n",
        "      <td> SAMN01162746</td>\n",
        "      <td> SRX189598</td>\n",
        "      <td>  SRR647806</td>\n",
        "      <td>   Cryptococcus neoformans var. grubii A2-102-5</td>\n",
        "      <td> Illumina HiSeq 2000</td>\n",
        "      <td> PAIRED</td>\n",
        "      <td> ftp.sra.ebi.ac.uk/vol1/fastq/SRR647/SRR647806/...</td>\n",
        "      <td> PRJNA174540.txt</td>\n",
        "    </tr>\n",
        "    <tr>\n",
        "      <th>8   </th>\n",
        "      <td> PRJNA174541</td>\n",
        "      <td> SAMN01162747</td>\n",
        "      <td> SRX189596</td>\n",
        "      <td>  SRR642847</td>\n",
        "      <td>      Cryptococcus neoformans var. grubii D17-1</td>\n",
        "      <td> Illumina HiSeq 2000</td>\n",
        "      <td> PAIRED</td>\n",
        "      <td> ftp.sra.ebi.ac.uk/vol1/fastq/SRR642/SRR642847/...</td>\n",
        "      <td> PRJNA174541.txt</td>\n",
        "    </tr>\n",
        "    <tr>\n",
        "      <th>9   </th>\n",
        "      <td> PRJNA174541</td>\n",
        "      <td> SAMN01162747</td>\n",
        "      <td> SRX189596</td>\n",
        "      <td>  SRR647795</td>\n",
        "      <td>      Cryptococcus neoformans var. grubii D17-1</td>\n",
        "      <td> Illumina HiSeq 2000</td>\n",
        "      <td> PAIRED</td>\n",
        "      <td> ftp.sra.ebi.ac.uk/vol1/fastq/SRR647/SRR647795/...</td>\n",
        "      <td> PRJNA174541.txt</td>\n",
        "    </tr>\n",
        "    <tr>\n",
        "      <th>10  </th>\n",
        "      <td> PRJNA174542</td>\n",
        "      <td> SAMN01162748</td>\n",
        "      <td> SRX189368</td>\n",
        "      <td>  SRR576302</td>\n",
        "      <td>    Cryptococcus neoformans var. grubii AD2-60a</td>\n",
        "      <td> Illumina HiSeq 2000</td>\n",
        "      <td> PAIRED</td>\n",
        "      <td> ftp.sra.ebi.ac.uk/vol1/fastq/SRR576/SRR576302/...</td>\n",
        "      <td> PRJNA174542.txt</td>\n",
        "    </tr>\n",
        "    <tr>\n",
        "      <th>11  </th>\n",
        "      <td> PRJNA174542</td>\n",
        "      <td> SAMN01162748</td>\n",
        "      <td> SRX189368</td>\n",
        "      <td>  SRR576315</td>\n",
        "      <td>    Cryptococcus neoformans var. grubii AD2-60a</td>\n",
        "      <td> Illumina HiSeq 2000</td>\n",
        "      <td> PAIRED</td>\n",
        "      <td> ftp.sra.ebi.ac.uk/vol1/fastq/SRR576/SRR576315/...</td>\n",
        "      <td> PRJNA174542.txt</td>\n",
        "    </tr>\n",
        "    <tr>\n",
        "      <th>12  </th>\n",
        "      <td> PRJNA174542</td>\n",
        "      <td> SAMN01162748</td>\n",
        "      <td> SRX189604</td>\n",
        "      <td>  SRR576550</td>\n",
        "      <td>    Cryptococcus neoformans var. grubii AD2-60a</td>\n",
        "      <td> Illumina HiSeq 2000</td>\n",
        "      <td> SINGLE</td>\n",
        "      <td> ftp.sra.ebi.ac.uk/vol1/fastq/SRR576/SRR576550/...</td>\n",
        "      <td> PRJNA174542.txt</td>\n",
        "    </tr>\n",
        "    <tr>\n",
        "      <th>13  </th>\n",
        "      <td> PRJNA174542</td>\n",
        "      <td> SAMN01162748</td>\n",
        "      <td> SRX189604</td>\n",
        "      <td>  SRR576591</td>\n",
        "      <td>    Cryptococcus neoformans var. grubii AD2-60a</td>\n",
        "      <td> Illumina HiSeq 2000</td>\n",
        "      <td> SINGLE</td>\n",
        "      <td> ftp.sra.ebi.ac.uk/vol1/fastq/SRR576/SRR576591/...</td>\n",
        "      <td> PRJNA174542.txt</td>\n",
        "    </tr>\n",
        "    <tr>\n",
        "      <th>14  </th>\n",
        "      <td> PRJNA174542</td>\n",
        "      <td> SAMN01162748</td>\n",
        "      <td> SRX189592</td>\n",
        "      <td>  SRR642849</td>\n",
        "      <td>    Cryptococcus neoformans var. grubii AD2-60a</td>\n",
        "      <td> Illumina HiSeq 2000</td>\n",
        "      <td> PAIRED</td>\n",
        "      <td> ftp.sra.ebi.ac.uk/vol1/fastq/SRR642/SRR642849/...</td>\n",
        "      <td> PRJNA174542.txt</td>\n",
        "    </tr>\n",
        "    <tr>\n",
        "      <th>15  </th>\n",
        "      <td> PRJNA174542</td>\n",
        "      <td> SAMN01162748</td>\n",
        "      <td> SRX189592</td>\n",
        "      <td>  SRR647800</td>\n",
        "      <td>    Cryptococcus neoformans var. grubii AD2-60a</td>\n",
        "      <td> Illumina HiSeq 2000</td>\n",
        "      <td> PAIRED</td>\n",
        "      <td> ftp.sra.ebi.ac.uk/vol1/fastq/SRR647/SRR647800/...</td>\n",
        "      <td> PRJNA174542.txt</td>\n",
        "    </tr>\n",
        "    <tr>\n",
        "      <th>16  </th>\n",
        "      <td> PRJNA174545</td>\n",
        "      <td> SAMN01162751</td>\n",
        "      <td> SRX189629</td>\n",
        "      <td>  SRR642862</td>\n",
        "      <td>   Cryptococcus neoformans var. grubii MW-RSA36</td>\n",
        "      <td> Illumina HiSeq 2000</td>\n",
        "      <td> PAIRED</td>\n",
        "      <td> ftp.sra.ebi.ac.uk/vol1/fastq/SRR642/SRR642862/...</td>\n",
        "      <td> PRJNA174545.txt</td>\n",
        "    </tr>\n",
        "    <tr>\n",
        "      <th>17  </th>\n",
        "      <td> PRJNA174545</td>\n",
        "      <td> SAMN01162751</td>\n",
        "      <td> SRX189629</td>\n",
        "      <td>  SRR647798</td>\n",
        "      <td>   Cryptococcus neoformans var. grubii MW-RSA36</td>\n",
        "      <td> Illumina HiSeq 2000</td>\n",
        "      <td> PAIRED</td>\n",
        "      <td> ftp.sra.ebi.ac.uk/vol1/fastq/SRR647/SRR647798/...</td>\n",
        "      <td> PRJNA174545.txt</td>\n",
        "    </tr>\n",
        "    <tr>\n",
        "      <th>18  </th>\n",
        "      <td> PRJNA174548</td>\n",
        "      <td> SAMN01162754</td>\n",
        "      <td> SRX189622</td>\n",
        "      <td>  SRR642859</td>\n",
        "      <td>    Cryptococcus neoformans var. grubii AD1-83a</td>\n",
        "      <td> Illumina HiSeq 2000</td>\n",
        "      <td> PAIRED</td>\n",
        "      <td> ftp.sra.ebi.ac.uk/vol1/fastq/SRR642/SRR642859/...</td>\n",
        "      <td> PRJNA174548.txt</td>\n",
        "    </tr>\n",
        "    <tr>\n",
        "      <th>19  </th>\n",
        "      <td> PRJNA174548</td>\n",
        "      <td> SAMN01162754</td>\n",
        "      <td> SRX189622</td>\n",
        "      <td>  SRR647789</td>\n",
        "      <td>    Cryptococcus neoformans var. grubii AD1-83a</td>\n",
        "      <td> Illumina HiSeq 2000</td>\n",
        "      <td> PAIRED</td>\n",
        "      <td> ftp.sra.ebi.ac.uk/vol1/fastq/SRR647/SRR647789/...</td>\n",
        "      <td> PRJNA174548.txt</td>\n",
        "    </tr>\n",
        "    <tr>\n",
        "      <th>20  </th>\n",
        "      <td> PRJNA174549</td>\n",
        "      <td> SAMN01162755</td>\n",
        "      <td> SRX189627</td>\n",
        "      <td>  SRR642220</td>\n",
        "      <td> Cryptococcus neoformans var. grubii MW-RSA1955</td>\n",
        "      <td> Illumina HiSeq 2000</td>\n",
        "      <td> PAIRED</td>\n",
        "      <td> ftp.sra.ebi.ac.uk/vol1/fastq/SRR642/SRR642220/...</td>\n",
        "      <td> PRJNA174549.txt</td>\n",
        "    </tr>\n",
        "    <tr>\n",
        "      <th>21  </th>\n",
        "      <td> PRJNA174549</td>\n",
        "      <td> SAMN01162755</td>\n",
        "      <td> SRX189627</td>\n",
        "      <td>  SRR647793</td>\n",
        "      <td> Cryptococcus neoformans var. grubii MW-RSA1955</td>\n",
        "      <td> Illumina HiSeq 2000</td>\n",
        "      <td> PAIRED</td>\n",
        "      <td> ftp.sra.ebi.ac.uk/vol1/fastq/SRR647/SRR647793/...</td>\n",
        "      <td> PRJNA174549.txt</td>\n",
        "    </tr>\n",
        "    <tr>\n",
        "      <th>22  </th>\n",
        "      <td> PRJNA174552</td>\n",
        "      <td> SAMN01162758</td>\n",
        "      <td> SRX189631</td>\n",
        "      <td>  SRR642857</td>\n",
        "      <td>  Cryptococcus neoformans var. grubii MW-RSA852</td>\n",
        "      <td> Illumina HiSeq 2000</td>\n",
        "      <td> PAIRED</td>\n",
        "      <td> ftp.sra.ebi.ac.uk/vol1/fastq/SRR642/SRR642857/...</td>\n",
        "      <td> PRJNA174552.txt</td>\n",
        "    </tr>\n",
        "    <tr>\n",
        "      <th>23  </th>\n",
        "      <td> PRJNA174552</td>\n",
        "      <td> SAMN01162758</td>\n",
        "      <td> SRX189631</td>\n",
        "      <td>  SRR647807</td>\n",
        "      <td>  Cryptococcus neoformans var. grubii MW-RSA852</td>\n",
        "      <td> Illumina HiSeq 2000</td>\n",
        "      <td> PAIRED</td>\n",
        "      <td> ftp.sra.ebi.ac.uk/vol1/fastq/SRR647/SRR647807/...</td>\n",
        "      <td> PRJNA174552.txt</td>\n",
        "    </tr>\n",
        "    <tr>\n",
        "      <th>24  </th>\n",
        "      <td> PRJNA174552</td>\n",
        "      <td> SAMN01162758</td>\n",
        "      <td> SRX219293</td>\n",
        "      <td>  SRR652310</td>\n",
        "      <td>  Cryptococcus neoformans var. grubii MW-RSA852</td>\n",
        "      <td> Illumina HiSeq 2000</td>\n",
        "      <td> PAIRED</td>\n",
        "      <td> ftp.sra.ebi.ac.uk/vol1/fastq/SRR652/SRR652310/...</td>\n",
        "      <td> PRJNA174552.txt</td>\n",
        "    </tr>\n",
        "    <tr>\n",
        "      <th>25  </th>\n",
        "      <td> PRJNA174552</td>\n",
        "      <td> SAMN01162758</td>\n",
        "      <td> SRX219293</td>\n",
        "      <td>  SRR652311</td>\n",
        "      <td>  Cryptococcus neoformans var. grubii MW-RSA852</td>\n",
        "      <td> Illumina HiSeq 2000</td>\n",
        "      <td> PAIRED</td>\n",
        "      <td> ftp.sra.ebi.ac.uk/vol1/fastq/SRR652/SRR652311/...</td>\n",
        "      <td> PRJNA174552.txt</td>\n",
        "    </tr>\n",
        "    <tr>\n",
        "      <th>26  </th>\n",
        "      <td> PRJNA174552</td>\n",
        "      <td> SAMN01162758</td>\n",
        "      <td> SRX219293</td>\n",
        "      <td>  SRR652313</td>\n",
        "      <td>  Cryptococcus neoformans var. grubii MW-RSA852</td>\n",
        "      <td> Illumina HiSeq 2000</td>\n",
        "      <td> PAIRED</td>\n",
        "      <td> ftp.sra.ebi.ac.uk/vol1/fastq/SRR652/SRR652313/...</td>\n",
        "      <td> PRJNA174552.txt</td>\n",
        "    </tr>\n",
        "    <tr>\n",
        "      <th>27  </th>\n",
        "      <td> PRJNA174552</td>\n",
        "      <td> SAMN01162758</td>\n",
        "      <td> SRX256488</td>\n",
        "      <td>  SRR798843</td>\n",
        "      <td>  Cryptococcus neoformans var. grubii MW-RSA852</td>\n",
        "      <td> Illumina HiSeq 2000</td>\n",
        "      <td> PAIRED</td>\n",
        "      <td> ftp.sra.ebi.ac.uk/vol1/fastq/SRR798/SRR798843/...</td>\n",
        "      <td> PRJNA174552.txt</td>\n",
        "    </tr>\n",
        "    <tr>\n",
        "      <th>28  </th>\n",
        "      <td> PRJNA174552</td>\n",
        "      <td> SAMN01162758</td>\n",
        "      <td> SRX256488</td>\n",
        "      <td>  SRR798993</td>\n",
        "      <td>  Cryptococcus neoformans var. grubii MW-RSA852</td>\n",
        "      <td> Illumina HiSeq 2000</td>\n",
        "      <td> PAIRED</td>\n",
        "      <td> ftp.sra.ebi.ac.uk/vol1/fastq/SRR798/SRR798993/...</td>\n",
        "      <td> PRJNA174552.txt</td>\n",
        "    </tr>\n",
        "    <tr>\n",
        "      <th>29  </th>\n",
        "      <td> PRJNA174553</td>\n",
        "      <td> SAMN01162759</td>\n",
        "      <td> SRX189625</td>\n",
        "      <td>  SRR642846</td>\n",
        "      <td>      Cryptococcus neoformans var. grubii Bt120</td>\n",
        "      <td> Illumina HiSeq 2000</td>\n",
        "      <td> PAIRED</td>\n",
        "      <td> ftp.sra.ebi.ac.uk/vol1/fastq/SRR642/SRR642846/...</td>\n",
        "      <td> PRJNA174553.txt</td>\n",
        "    </tr>\n",
        "    <tr>\n",
        "      <th>...</th>\n",
        "      <td>...</td>\n",
        "      <td>...</td>\n",
        "      <td>...</td>\n",
        "      <td>...</td>\n",
        "      <td>...</td>\n",
        "      <td>...</td>\n",
        "      <td>...</td>\n",
        "      <td>...</td>\n",
        "      <td>...</td>\n",
        "    </tr>\n",
        "    <tr>\n",
        "      <th>2067</th>\n",
        "      <td> PRJNA227974</td>\n",
        "      <td> SAMN02412515</td>\n",
        "      <td> SRX399926</td>\n",
        "      <td> SRR1062958</td>\n",
        "      <td>                Cryptococcus gattii RSA-MW-3980</td>\n",
        "      <td> Illumina HiSeq 2000</td>\n",
        "      <td> PAIRED</td>\n",
        "      <td> ftp.sra.ebi.ac.uk/vol1/fastq/SRR106/008/SRR106...</td>\n",
        "      <td> PRJNA227974.txt</td>\n",
        "    </tr>\n",
        "    <tr>\n",
        "      <th>2068</th>\n",
        "      <td> PRJNA227974</td>\n",
        "      <td> SAMN02412515</td>\n",
        "      <td> SRX399926</td>\n",
        "      <td> SRR1062959</td>\n",
        "      <td>                Cryptococcus gattii RSA-MW-3980</td>\n",
        "      <td> Illumina HiSeq 2000</td>\n",
        "      <td> PAIRED</td>\n",
        "      <td> ftp.sra.ebi.ac.uk/vol1/fastq/SRR106/009/SRR106...</td>\n",
        "      <td> PRJNA227974.txt</td>\n",
        "    </tr>\n",
        "    <tr>\n",
        "      <th>2069</th>\n",
        "      <td> PRJNA227974</td>\n",
        "      <td> SAMN02412515</td>\n",
        "      <td> SRX399924</td>\n",
        "      <td> SRR1062960</td>\n",
        "      <td>                Cryptococcus gattii RSA-MW-3980</td>\n",
        "      <td> Illumina HiSeq 2000</td>\n",
        "      <td> PAIRED</td>\n",
        "      <td> ftp.sra.ebi.ac.uk/vol1/fastq/SRR106/000/SRR106...</td>\n",
        "      <td> PRJNA227974.txt</td>\n",
        "    </tr>\n",
        "    <tr>\n",
        "      <th>2070</th>\n",
        "      <td> PRJNA227974</td>\n",
        "      <td> SAMN02412515</td>\n",
        "      <td> SRX399924</td>\n",
        "      <td> SRR1062961</td>\n",
        "      <td>                Cryptococcus gattii RSA-MW-3980</td>\n",
        "      <td> Illumina HiSeq 2000</td>\n",
        "      <td> PAIRED</td>\n",
        "      <td> ftp.sra.ebi.ac.uk/vol1/fastq/SRR106/001/SRR106...</td>\n",
        "      <td> PRJNA227974.txt</td>\n",
        "    </tr>\n",
        "    <tr>\n",
        "      <th>2071</th>\n",
        "      <td> PRJNA227974</td>\n",
        "      <td> SAMN02412515</td>\n",
        "      <td> SRX399926</td>\n",
        "      <td> SRR1062962</td>\n",
        "      <td>                Cryptococcus gattii RSA-MW-3980</td>\n",
        "      <td> Illumina HiSeq 2000</td>\n",
        "      <td> PAIRED</td>\n",
        "      <td> ftp.sra.ebi.ac.uk/vol1/fastq/SRR106/002/SRR106...</td>\n",
        "      <td> PRJNA227974.txt</td>\n",
        "    </tr>\n",
        "    <tr>\n",
        "      <th>2072</th>\n",
        "      <td> PRJNA227974</td>\n",
        "      <td> SAMN02412515</td>\n",
        "      <td> SRX399925</td>\n",
        "      <td> SRR1062963</td>\n",
        "      <td>                Cryptococcus gattii RSA-MW-3980</td>\n",
        "      <td> Illumina HiSeq 2000</td>\n",
        "      <td> PAIRED</td>\n",
        "      <td> ftp.sra.ebi.ac.uk/vol1/fastq/SRR106/003/SRR106...</td>\n",
        "      <td> PRJNA227974.txt</td>\n",
        "    </tr>\n",
        "    <tr>\n",
        "      <th>2073</th>\n",
        "      <td> PRJNA227974</td>\n",
        "      <td> SAMN02412515</td>\n",
        "      <td> SRX399924</td>\n",
        "      <td> SRR1062964</td>\n",
        "      <td>                Cryptococcus gattii RSA-MW-3980</td>\n",
        "      <td> Illumina HiSeq 2000</td>\n",
        "      <td> PAIRED</td>\n",
        "      <td> ftp.sra.ebi.ac.uk/vol1/fastq/SRR106/004/SRR106...</td>\n",
        "      <td> PRJNA227974.txt</td>\n",
        "    </tr>\n",
        "    <tr>\n",
        "      <th>2074</th>\n",
        "      <td> PRJNA227975</td>\n",
        "      <td> SAMN02412516</td>\n",
        "      <td> SRX399922</td>\n",
        "      <td> SRR1062951</td>\n",
        "      <td>                Cryptococcus gattii RSA-MW-2399</td>\n",
        "      <td> Illumina HiSeq 2000</td>\n",
        "      <td> PAIRED</td>\n",
        "      <td> ftp.sra.ebi.ac.uk/vol1/fastq/SRR106/001/SRR106...</td>\n",
        "      <td> PRJNA227975.txt</td>\n",
        "    </tr>\n",
        "    <tr>\n",
        "      <th>2075</th>\n",
        "      <td> PRJNA227975</td>\n",
        "      <td> SAMN02412516</td>\n",
        "      <td> SRX399921</td>\n",
        "      <td> SRR1062952</td>\n",
        "      <td>                Cryptococcus gattii RSA-MW-2399</td>\n",
        "      <td> Illumina HiSeq 2000</td>\n",
        "      <td> PAIRED</td>\n",
        "      <td> ftp.sra.ebi.ac.uk/vol1/fastq/SRR106/002/SRR106...</td>\n",
        "      <td> PRJNA227975.txt</td>\n",
        "    </tr>\n",
        "    <tr>\n",
        "      <th>2076</th>\n",
        "      <td> PRJNA227975</td>\n",
        "      <td> SAMN02412516</td>\n",
        "      <td> SRX399923</td>\n",
        "      <td> SRR1062953</td>\n",
        "      <td>                Cryptococcus gattii RSA-MW-2399</td>\n",
        "      <td> Illumina HiSeq 2000</td>\n",
        "      <td> PAIRED</td>\n",
        "      <td> ftp.sra.ebi.ac.uk/vol1/fastq/SRR106/003/SRR106...</td>\n",
        "      <td> PRJNA227975.txt</td>\n",
        "    </tr>\n",
        "    <tr>\n",
        "      <th>2077</th>\n",
        "      <td> PRJNA227975</td>\n",
        "      <td> SAMN02412516</td>\n",
        "      <td> SRX399922</td>\n",
        "      <td> SRR1062954</td>\n",
        "      <td>                Cryptococcus gattii RSA-MW-2399</td>\n",
        "      <td> Illumina HiSeq 2000</td>\n",
        "      <td> PAIRED</td>\n",
        "      <td> ftp.sra.ebi.ac.uk/vol1/fastq/SRR106/004/SRR106...</td>\n",
        "      <td> PRJNA227975.txt</td>\n",
        "    </tr>\n",
        "    <tr>\n",
        "      <th>2078</th>\n",
        "      <td> PRJNA227975</td>\n",
        "      <td> SAMN02412516</td>\n",
        "      <td> SRX399921</td>\n",
        "      <td> SRR1062955</td>\n",
        "      <td>                Cryptococcus gattii RSA-MW-2399</td>\n",
        "      <td> Illumina HiSeq 2000</td>\n",
        "      <td> PAIRED</td>\n",
        "      <td> ftp.sra.ebi.ac.uk/vol1/fastq/SRR106/005/SRR106...</td>\n",
        "      <td> PRJNA227975.txt</td>\n",
        "    </tr>\n",
        "    <tr>\n",
        "      <th>2079</th>\n",
        "      <td> PRJNA227975</td>\n",
        "      <td> SAMN02412516</td>\n",
        "      <td> SRX399922</td>\n",
        "      <td> SRR1062956</td>\n",
        "      <td>                Cryptococcus gattii RSA-MW-2399</td>\n",
        "      <td> Illumina HiSeq 2000</td>\n",
        "      <td> PAIRED</td>\n",
        "      <td> ftp.sra.ebi.ac.uk/vol1/fastq/SRR106/006/SRR106...</td>\n",
        "      <td> PRJNA227975.txt</td>\n",
        "    </tr>\n",
        "    <tr>\n",
        "      <th>2080</th>\n",
        "      <td> PRJNA227975</td>\n",
        "      <td> SAMN02412516</td>\n",
        "      <td> SRX399921</td>\n",
        "      <td> SRR1062957</td>\n",
        "      <td>                Cryptococcus gattii RSA-MW-2399</td>\n",
        "      <td> Illumina HiSeq 2000</td>\n",
        "      <td> PAIRED</td>\n",
        "      <td> ftp.sra.ebi.ac.uk/vol1/fastq/SRR106/007/SRR106...</td>\n",
        "      <td> PRJNA227975.txt</td>\n",
        "    </tr>\n",
        "    <tr>\n",
        "      <th>2081</th>\n",
        "      <td> PRJNA227976</td>\n",
        "      <td> SAMN02412517</td>\n",
        "      <td> SRX399918</td>\n",
        "      <td> SRR1062944</td>\n",
        "      <td>                Cryptococcus gattii RSA-MW-2343</td>\n",
        "      <td> Illumina HiSeq 2000</td>\n",
        "      <td> PAIRED</td>\n",
        "      <td> ftp.sra.ebi.ac.uk/vol1/fastq/SRR106/004/SRR106...</td>\n",
        "      <td> PRJNA227976.txt</td>\n",
        "    </tr>\n",
        "    <tr>\n",
        "      <th>2082</th>\n",
        "      <td> PRJNA227976</td>\n",
        "      <td> SAMN02412517</td>\n",
        "      <td> SRX399919</td>\n",
        "      <td> SRR1062945</td>\n",
        "      <td>                Cryptococcus gattii RSA-MW-2343</td>\n",
        "      <td> Illumina HiSeq 2000</td>\n",
        "      <td> PAIRED</td>\n",
        "      <td> ftp.sra.ebi.ac.uk/vol1/fastq/SRR106/005/SRR106...</td>\n",
        "      <td> PRJNA227976.txt</td>\n",
        "    </tr>\n",
        "    <tr>\n",
        "      <th>2083</th>\n",
        "      <td> PRJNA227976</td>\n",
        "      <td> SAMN02412517</td>\n",
        "      <td> SRX399918</td>\n",
        "      <td> SRR1062946</td>\n",
        "      <td>                Cryptococcus gattii RSA-MW-2343</td>\n",
        "      <td> Illumina HiSeq 2000</td>\n",
        "      <td> PAIRED</td>\n",
        "      <td> ftp.sra.ebi.ac.uk/vol1/fastq/SRR106/006/SRR106...</td>\n",
        "      <td> PRJNA227976.txt</td>\n",
        "    </tr>\n",
        "    <tr>\n",
        "      <th>2084</th>\n",
        "      <td> PRJNA227976</td>\n",
        "      <td> SAMN02412517</td>\n",
        "      <td> SRX399920</td>\n",
        "      <td> SRR1062947</td>\n",
        "      <td>                Cryptococcus gattii RSA-MW-2343</td>\n",
        "      <td> Illumina HiSeq 2000</td>\n",
        "      <td> PAIRED</td>\n",
        "      <td> ftp.sra.ebi.ac.uk/vol1/fastq/SRR106/007/SRR106...</td>\n",
        "      <td> PRJNA227976.txt</td>\n",
        "    </tr>\n",
        "    <tr>\n",
        "      <th>2085</th>\n",
        "      <td> PRJNA227976</td>\n",
        "      <td> SAMN02412517</td>\n",
        "      <td> SRX399920</td>\n",
        "      <td> SRR1062948</td>\n",
        "      <td>                Cryptococcus gattii RSA-MW-2343</td>\n",
        "      <td> Illumina HiSeq 2000</td>\n",
        "      <td> PAIRED</td>\n",
        "      <td> ftp.sra.ebi.ac.uk/vol1/fastq/SRR106/008/SRR106...</td>\n",
        "      <td> PRJNA227976.txt</td>\n",
        "    </tr>\n",
        "    <tr>\n",
        "      <th>2086</th>\n",
        "      <td> PRJNA227976</td>\n",
        "      <td> SAMN02412517</td>\n",
        "      <td> SRX399920</td>\n",
        "      <td> SRR1062949</td>\n",
        "      <td>                Cryptococcus gattii RSA-MW-2343</td>\n",
        "      <td> Illumina HiSeq 2000</td>\n",
        "      <td> PAIRED</td>\n",
        "      <td> ftp.sra.ebi.ac.uk/vol1/fastq/SRR106/009/SRR106...</td>\n",
        "      <td> PRJNA227976.txt</td>\n",
        "    </tr>\n",
        "    <tr>\n",
        "      <th>2087</th>\n",
        "      <td> PRJNA227976</td>\n",
        "      <td> SAMN02412517</td>\n",
        "      <td> SRX399918</td>\n",
        "      <td> SRR1062950</td>\n",
        "      <td>                Cryptococcus gattii RSA-MW-2343</td>\n",
        "      <td> Illumina HiSeq 2000</td>\n",
        "      <td> PAIRED</td>\n",
        "      <td> ftp.sra.ebi.ac.uk/vol1/fastq/SRR106/000/SRR106...</td>\n",
        "      <td> PRJNA227976.txt</td>\n",
        "    </tr>\n",
        "    <tr>\n",
        "      <th>2088</th>\n",
        "      <td>  PRJNA89741</td>\n",
        "      <td> SAMN00210786</td>\n",
        "      <td> SRX404362</td>\n",
        "      <td> SRR1068207</td>\n",
        "      <td>                               Cryptococcus sp.</td>\n",
        "      <td> Illumina HiSeq 2000</td>\n",
        "      <td> PAIRED</td>\n",
        "      <td> ftp.sra.ebi.ac.uk/vol1/fastq/SRR106/007/SRR106...</td>\n",
        "      <td>  PRJNA89741.txt</td>\n",
        "    </tr>\n",
        "    <tr>\n",
        "      <th>2089</th>\n",
        "      <td>  PRJNA89741</td>\n",
        "      <td> SAMN00103447</td>\n",
        "      <td> SRX404363</td>\n",
        "      <td> SRR1068208</td>\n",
        "      <td>                               Cryptococcus sp.</td>\n",
        "      <td> Illumina HiSeq 2000</td>\n",
        "      <td> PAIRED</td>\n",
        "      <td> ftp.sra.ebi.ac.uk/vol1/fastq/SRR106/008/SRR106...</td>\n",
        "      <td>  PRJNA89741.txt</td>\n",
        "    </tr>\n",
        "    <tr>\n",
        "      <th>2090</th>\n",
        "      <td>  PRJNA89741</td>\n",
        "      <td> SAMN00210786</td>\n",
        "      <td> SRX404362</td>\n",
        "      <td> SRR1068209</td>\n",
        "      <td>                               Cryptococcus sp.</td>\n",
        "      <td> Illumina HiSeq 2000</td>\n",
        "      <td> PAIRED</td>\n",
        "      <td> ftp.sra.ebi.ac.uk/vol1/fastq/SRR106/009/SRR106...</td>\n",
        "      <td>  PRJNA89741.txt</td>\n",
        "    </tr>\n",
        "    <tr>\n",
        "      <th>2091</th>\n",
        "      <td>  PRJNA89741</td>\n",
        "      <td> SAMN00103447</td>\n",
        "      <td> SRX404363</td>\n",
        "      <td> SRR1068210</td>\n",
        "      <td>                               Cryptococcus sp.</td>\n",
        "      <td> Illumina HiSeq 2000</td>\n",
        "      <td> PAIRED</td>\n",
        "      <td> ftp.sra.ebi.ac.uk/vol1/fastq/SRR106/000/SRR106...</td>\n",
        "      <td>  PRJNA89741.txt</td>\n",
        "    </tr>\n",
        "    <tr>\n",
        "      <th>2092</th>\n",
        "      <td>  PRJNA89741</td>\n",
        "      <td> SAMN00001748</td>\n",
        "      <td> SRX189612</td>\n",
        "      <td>  SRR642222</td>\n",
        "      <td>                        Cryptococcus neoformans</td>\n",
        "      <td> Illumina HiSeq 2000</td>\n",
        "      <td> PAIRED</td>\n",
        "      <td> ftp.sra.ebi.ac.uk/vol1/fastq/SRR642/SRR642222/...</td>\n",
        "      <td>  PRJNA89741.txt</td>\n",
        "    </tr>\n",
        "    <tr>\n",
        "      <th>2093</th>\n",
        "      <td>  PRJNA89741</td>\n",
        "      <td> SAMN00001748</td>\n",
        "      <td> SRX189612</td>\n",
        "      <td>  SRR647805</td>\n",
        "      <td>                        Cryptococcus neoformans</td>\n",
        "      <td> Illumina HiSeq 2000</td>\n",
        "      <td> PAIRED</td>\n",
        "      <td> ftp.sra.ebi.ac.uk/vol1/fastq/SRR647/SRR647805/...</td>\n",
        "      <td>  PRJNA89741.txt</td>\n",
        "    </tr>\n",
        "    <tr>\n",
        "      <th>2094</th>\n",
        "      <td>  PRJNA89741</td>\n",
        "      <td> SAMN00001748</td>\n",
        "      <td> SRX219294</td>\n",
        "      <td>  SRR652308</td>\n",
        "      <td>                        Cryptococcus neoformans</td>\n",
        "      <td> Illumina HiSeq 2000</td>\n",
        "      <td> PAIRED</td>\n",
        "      <td> ftp.sra.ebi.ac.uk/vol1/fastq/SRR652/SRR652308/...</td>\n",
        "      <td>  PRJNA89741.txt</td>\n",
        "    </tr>\n",
        "    <tr>\n",
        "      <th>2095</th>\n",
        "      <td>  PRJNA89741</td>\n",
        "      <td> SAMN00001748</td>\n",
        "      <td> SRX219294</td>\n",
        "      <td>  SRR652309</td>\n",
        "      <td>                        Cryptococcus neoformans</td>\n",
        "      <td> Illumina HiSeq 2000</td>\n",
        "      <td> PAIRED</td>\n",
        "      <td> ftp.sra.ebi.ac.uk/vol1/fastq/SRR652/SRR652309/...</td>\n",
        "      <td>  PRJNA89741.txt</td>\n",
        "    </tr>\n",
        "    <tr>\n",
        "      <th>2096</th>\n",
        "      <td>  PRJNA89741</td>\n",
        "      <td> SAMN00001748</td>\n",
        "      <td> SRX219294</td>\n",
        "      <td>  SRR652312</td>\n",
        "      <td>                        Cryptococcus neoformans</td>\n",
        "      <td> Illumina HiSeq 2000</td>\n",
        "      <td> PAIRED</td>\n",
        "      <td> ftp.sra.ebi.ac.uk/vol1/fastq/SRR652/SRR652312/...</td>\n",
        "      <td>  PRJNA89741.txt</td>\n",
        "    </tr>\n",
        "  </tbody>\n",
        "</table>\n",
        "<p>2097 rows \u00d7 9 columns</p>\n",
        "</div>"
       ],
       "metadata": {},
       "output_type": "pyout",
       "prompt_number": 13,
       "text": [
        "     study_accession sample_accession experiment_accession run_accession  \\\n",
        "0        PRJNA174539     SAMN01162745            SRX189617     SRR642855   \n",
        "1        PRJNA174539     SAMN01162745            SRX189617     SRR647794   \n",
        "2        PRJNA174540     SAMN01162746            SRX189370     SRR576306   \n",
        "3        PRJNA174540     SAMN01162746            SRX189370     SRR576320   \n",
        "4        PRJNA174540     SAMN01162746            SRX189607     SRR576565   \n",
        "5        PRJNA174540     SAMN01162746            SRX189607     SRR576607   \n",
        "6        PRJNA174540     SAMN01162746            SRX189598     SRR642223   \n",
        "7        PRJNA174540     SAMN01162746            SRX189598     SRR647806   \n",
        "8        PRJNA174541     SAMN01162747            SRX189596     SRR642847   \n",
        "9        PRJNA174541     SAMN01162747            SRX189596     SRR647795   \n",
        "10       PRJNA174542     SAMN01162748            SRX189368     SRR576302   \n",
        "11       PRJNA174542     SAMN01162748            SRX189368     SRR576315   \n",
        "12       PRJNA174542     SAMN01162748            SRX189604     SRR576550   \n",
        "13       PRJNA174542     SAMN01162748            SRX189604     SRR576591   \n",
        "14       PRJNA174542     SAMN01162748            SRX189592     SRR642849   \n",
        "15       PRJNA174542     SAMN01162748            SRX189592     SRR647800   \n",
        "16       PRJNA174545     SAMN01162751            SRX189629     SRR642862   \n",
        "17       PRJNA174545     SAMN01162751            SRX189629     SRR647798   \n",
        "18       PRJNA174548     SAMN01162754            SRX189622     SRR642859   \n",
        "19       PRJNA174548     SAMN01162754            SRX189622     SRR647789   \n",
        "20       PRJNA174549     SAMN01162755            SRX189627     SRR642220   \n",
        "21       PRJNA174549     SAMN01162755            SRX189627     SRR647793   \n",
        "22       PRJNA174552     SAMN01162758            SRX189631     SRR642857   \n",
        "23       PRJNA174552     SAMN01162758            SRX189631     SRR647807   \n",
        "24       PRJNA174552     SAMN01162758            SRX219293     SRR652310   \n",
        "25       PRJNA174552     SAMN01162758            SRX219293     SRR652311   \n",
        "26       PRJNA174552     SAMN01162758            SRX219293     SRR652313   \n",
        "27       PRJNA174552     SAMN01162758            SRX256488     SRR798843   \n",
        "28       PRJNA174552     SAMN01162758            SRX256488     SRR798993   \n",
        "29       PRJNA174553     SAMN01162759            SRX189625     SRR642846   \n",
        "...              ...              ...                  ...           ...   \n",
        "2067     PRJNA227974     SAMN02412515            SRX399926    SRR1062958   \n",
        "2068     PRJNA227974     SAMN02412515            SRX399926    SRR1062959   \n",
        "2069     PRJNA227974     SAMN02412515            SRX399924    SRR1062960   \n",
        "2070     PRJNA227974     SAMN02412515            SRX399924    SRR1062961   \n",
        "2071     PRJNA227974     SAMN02412515            SRX399926    SRR1062962   \n",
        "2072     PRJNA227974     SAMN02412515            SRX399925    SRR1062963   \n",
        "2073     PRJNA227974     SAMN02412515            SRX399924    SRR1062964   \n",
        "2074     PRJNA227975     SAMN02412516            SRX399922    SRR1062951   \n",
        "2075     PRJNA227975     SAMN02412516            SRX399921    SRR1062952   \n",
        "2076     PRJNA227975     SAMN02412516            SRX399923    SRR1062953   \n",
        "2077     PRJNA227975     SAMN02412516            SRX399922    SRR1062954   \n",
        "2078     PRJNA227975     SAMN02412516            SRX399921    SRR1062955   \n",
        "2079     PRJNA227975     SAMN02412516            SRX399922    SRR1062956   \n",
        "2080     PRJNA227975     SAMN02412516            SRX399921    SRR1062957   \n",
        "2081     PRJNA227976     SAMN02412517            SRX399918    SRR1062944   \n",
        "2082     PRJNA227976     SAMN02412517            SRX399919    SRR1062945   \n",
        "2083     PRJNA227976     SAMN02412517            SRX399918    SRR1062946   \n",
        "2084     PRJNA227976     SAMN02412517            SRX399920    SRR1062947   \n",
        "2085     PRJNA227976     SAMN02412517            SRX399920    SRR1062948   \n",
        "2086     PRJNA227976     SAMN02412517            SRX399920    SRR1062949   \n",
        "2087     PRJNA227976     SAMN02412517            SRX399918    SRR1062950   \n",
        "2088      PRJNA89741     SAMN00210786            SRX404362    SRR1068207   \n",
        "2089      PRJNA89741     SAMN00103447            SRX404363    SRR1068208   \n",
        "2090      PRJNA89741     SAMN00210786            SRX404362    SRR1068209   \n",
        "2091      PRJNA89741     SAMN00103447            SRX404363    SRR1068210   \n",
        "2092      PRJNA89741     SAMN00001748            SRX189612     SRR642222   \n",
        "2093      PRJNA89741     SAMN00001748            SRX189612     SRR647805   \n",
        "2094      PRJNA89741     SAMN00001748            SRX219294     SRR652308   \n",
        "2095      PRJNA89741     SAMN00001748            SRX219294     SRR652309   \n",
        "2096      PRJNA89741     SAMN00001748            SRX219294     SRR652312   \n",
        "\n",
        "                                     scientific_name     instrument_model  \\\n",
        "0         Cryptococcus neoformans var. grubii AD1-7a  Illumina HiSeq 2000   \n",
        "1         Cryptococcus neoformans var. grubii AD1-7a  Illumina HiSeq 2000   \n",
        "2       Cryptococcus neoformans var. grubii A2-102-5  Illumina HiSeq 2000   \n",
        "3       Cryptococcus neoformans var. grubii A2-102-5  Illumina HiSeq 2000   \n",
        "4       Cryptococcus neoformans var. grubii A2-102-5  Illumina HiSeq 2000   \n",
        "5       Cryptococcus neoformans var. grubii A2-102-5  Illumina HiSeq 2000   \n",
        "6       Cryptococcus neoformans var. grubii A2-102-5  Illumina HiSeq 2000   \n",
        "7       Cryptococcus neoformans var. grubii A2-102-5  Illumina HiSeq 2000   \n",
        "8          Cryptococcus neoformans var. grubii D17-1  Illumina HiSeq 2000   \n",
        "9          Cryptococcus neoformans var. grubii D17-1  Illumina HiSeq 2000   \n",
        "10       Cryptococcus neoformans var. grubii AD2-60a  Illumina HiSeq 2000   \n",
        "11       Cryptococcus neoformans var. grubii AD2-60a  Illumina HiSeq 2000   \n",
        "12       Cryptococcus neoformans var. grubii AD2-60a  Illumina HiSeq 2000   \n",
        "13       Cryptococcus neoformans var. grubii AD2-60a  Illumina HiSeq 2000   \n",
        "14       Cryptococcus neoformans var. grubii AD2-60a  Illumina HiSeq 2000   \n",
        "15       Cryptococcus neoformans var. grubii AD2-60a  Illumina HiSeq 2000   \n",
        "16      Cryptococcus neoformans var. grubii MW-RSA36  Illumina HiSeq 2000   \n",
        "17      Cryptococcus neoformans var. grubii MW-RSA36  Illumina HiSeq 2000   \n",
        "18       Cryptococcus neoformans var. grubii AD1-83a  Illumina HiSeq 2000   \n",
        "19       Cryptococcus neoformans var. grubii AD1-83a  Illumina HiSeq 2000   \n",
        "20    Cryptococcus neoformans var. grubii MW-RSA1955  Illumina HiSeq 2000   \n",
        "21    Cryptococcus neoformans var. grubii MW-RSA1955  Illumina HiSeq 2000   \n",
        "22     Cryptococcus neoformans var. grubii MW-RSA852  Illumina HiSeq 2000   \n",
        "23     Cryptococcus neoformans var. grubii MW-RSA852  Illumina HiSeq 2000   \n",
        "24     Cryptococcus neoformans var. grubii MW-RSA852  Illumina HiSeq 2000   \n",
        "25     Cryptococcus neoformans var. grubii MW-RSA852  Illumina HiSeq 2000   \n",
        "26     Cryptococcus neoformans var. grubii MW-RSA852  Illumina HiSeq 2000   \n",
        "27     Cryptococcus neoformans var. grubii MW-RSA852  Illumina HiSeq 2000   \n",
        "28     Cryptococcus neoformans var. grubii MW-RSA852  Illumina HiSeq 2000   \n",
        "29         Cryptococcus neoformans var. grubii Bt120  Illumina HiSeq 2000   \n",
        "...                                              ...                  ...   \n",
        "2067                 Cryptococcus gattii RSA-MW-3980  Illumina HiSeq 2000   \n",
        "2068                 Cryptococcus gattii RSA-MW-3980  Illumina HiSeq 2000   \n",
        "2069                 Cryptococcus gattii RSA-MW-3980  Illumina HiSeq 2000   \n",
        "2070                 Cryptococcus gattii RSA-MW-3980  Illumina HiSeq 2000   \n",
        "2071                 Cryptococcus gattii RSA-MW-3980  Illumina HiSeq 2000   \n",
        "2072                 Cryptococcus gattii RSA-MW-3980  Illumina HiSeq 2000   \n",
        "2073                 Cryptococcus gattii RSA-MW-3980  Illumina HiSeq 2000   \n",
        "2074                 Cryptococcus gattii RSA-MW-2399  Illumina HiSeq 2000   \n",
        "2075                 Cryptococcus gattii RSA-MW-2399  Illumina HiSeq 2000   \n",
        "2076                 Cryptococcus gattii RSA-MW-2399  Illumina HiSeq 2000   \n",
        "2077                 Cryptococcus gattii RSA-MW-2399  Illumina HiSeq 2000   \n",
        "2078                 Cryptococcus gattii RSA-MW-2399  Illumina HiSeq 2000   \n",
        "2079                 Cryptococcus gattii RSA-MW-2399  Illumina HiSeq 2000   \n",
        "2080                 Cryptococcus gattii RSA-MW-2399  Illumina HiSeq 2000   \n",
        "2081                 Cryptococcus gattii RSA-MW-2343  Illumina HiSeq 2000   \n",
        "2082                 Cryptococcus gattii RSA-MW-2343  Illumina HiSeq 2000   \n",
        "2083                 Cryptococcus gattii RSA-MW-2343  Illumina HiSeq 2000   \n",
        "2084                 Cryptococcus gattii RSA-MW-2343  Illumina HiSeq 2000   \n",
        "2085                 Cryptococcus gattii RSA-MW-2343  Illumina HiSeq 2000   \n",
        "2086                 Cryptococcus gattii RSA-MW-2343  Illumina HiSeq 2000   \n",
        "2087                 Cryptococcus gattii RSA-MW-2343  Illumina HiSeq 2000   \n",
        "2088                                Cryptococcus sp.  Illumina HiSeq 2000   \n",
        "2089                                Cryptococcus sp.  Illumina HiSeq 2000   \n",
        "2090                                Cryptococcus sp.  Illumina HiSeq 2000   \n",
        "2091                                Cryptococcus sp.  Illumina HiSeq 2000   \n",
        "2092                         Cryptococcus neoformans  Illumina HiSeq 2000   \n",
        "2093                         Cryptococcus neoformans  Illumina HiSeq 2000   \n",
        "2094                         Cryptococcus neoformans  Illumina HiSeq 2000   \n",
        "2095                         Cryptococcus neoformans  Illumina HiSeq 2000   \n",
        "2096                         Cryptococcus neoformans  Illumina HiSeq 2000   \n",
        "\n",
        "     library_layout                                          fastq_ftp  \\\n",
        "0            PAIRED  ftp.sra.ebi.ac.uk/vol1/fastq/SRR642/SRR642855/...   \n",
        "1            PAIRED  ftp.sra.ebi.ac.uk/vol1/fastq/SRR647/SRR647794/...   \n",
        "2            PAIRED  ftp.sra.ebi.ac.uk/vol1/fastq/SRR576/SRR576306/...   \n",
        "3            PAIRED  ftp.sra.ebi.ac.uk/vol1/fastq/SRR576/SRR576320/...   \n",
        "4            SINGLE  ftp.sra.ebi.ac.uk/vol1/fastq/SRR576/SRR576565/...   \n",
        "5            SINGLE  ftp.sra.ebi.ac.uk/vol1/fastq/SRR576/SRR576607/...   \n",
        "6            PAIRED  ftp.sra.ebi.ac.uk/vol1/fastq/SRR642/SRR642223/...   \n",
        "7            PAIRED  ftp.sra.ebi.ac.uk/vol1/fastq/SRR647/SRR647806/...   \n",
        "8            PAIRED  ftp.sra.ebi.ac.uk/vol1/fastq/SRR642/SRR642847/...   \n",
        "9            PAIRED  ftp.sra.ebi.ac.uk/vol1/fastq/SRR647/SRR647795/...   \n",
        "10           PAIRED  ftp.sra.ebi.ac.uk/vol1/fastq/SRR576/SRR576302/...   \n",
        "11           PAIRED  ftp.sra.ebi.ac.uk/vol1/fastq/SRR576/SRR576315/...   \n",
        "12           SINGLE  ftp.sra.ebi.ac.uk/vol1/fastq/SRR576/SRR576550/...   \n",
        "13           SINGLE  ftp.sra.ebi.ac.uk/vol1/fastq/SRR576/SRR576591/...   \n",
        "14           PAIRED  ftp.sra.ebi.ac.uk/vol1/fastq/SRR642/SRR642849/...   \n",
        "15           PAIRED  ftp.sra.ebi.ac.uk/vol1/fastq/SRR647/SRR647800/...   \n",
        "16           PAIRED  ftp.sra.ebi.ac.uk/vol1/fastq/SRR642/SRR642862/...   \n",
        "17           PAIRED  ftp.sra.ebi.ac.uk/vol1/fastq/SRR647/SRR647798/...   \n",
        "18           PAIRED  ftp.sra.ebi.ac.uk/vol1/fastq/SRR642/SRR642859/...   \n",
        "19           PAIRED  ftp.sra.ebi.ac.uk/vol1/fastq/SRR647/SRR647789/...   \n",
        "20           PAIRED  ftp.sra.ebi.ac.uk/vol1/fastq/SRR642/SRR642220/...   \n",
        "21           PAIRED  ftp.sra.ebi.ac.uk/vol1/fastq/SRR647/SRR647793/...   \n",
        "22           PAIRED  ftp.sra.ebi.ac.uk/vol1/fastq/SRR642/SRR642857/...   \n",
        "23           PAIRED  ftp.sra.ebi.ac.uk/vol1/fastq/SRR647/SRR647807/...   \n",
        "24           PAIRED  ftp.sra.ebi.ac.uk/vol1/fastq/SRR652/SRR652310/...   \n",
        "25           PAIRED  ftp.sra.ebi.ac.uk/vol1/fastq/SRR652/SRR652311/...   \n",
        "26           PAIRED  ftp.sra.ebi.ac.uk/vol1/fastq/SRR652/SRR652313/...   \n",
        "27           PAIRED  ftp.sra.ebi.ac.uk/vol1/fastq/SRR798/SRR798843/...   \n",
        "28           PAIRED  ftp.sra.ebi.ac.uk/vol1/fastq/SRR798/SRR798993/...   \n",
        "29           PAIRED  ftp.sra.ebi.ac.uk/vol1/fastq/SRR642/SRR642846/...   \n",
        "...             ...                                                ...   \n",
        "2067         PAIRED  ftp.sra.ebi.ac.uk/vol1/fastq/SRR106/008/SRR106...   \n",
        "2068         PAIRED  ftp.sra.ebi.ac.uk/vol1/fastq/SRR106/009/SRR106...   \n",
        "2069         PAIRED  ftp.sra.ebi.ac.uk/vol1/fastq/SRR106/000/SRR106...   \n",
        "2070         PAIRED  ftp.sra.ebi.ac.uk/vol1/fastq/SRR106/001/SRR106...   \n",
        "2071         PAIRED  ftp.sra.ebi.ac.uk/vol1/fastq/SRR106/002/SRR106...   \n",
        "2072         PAIRED  ftp.sra.ebi.ac.uk/vol1/fastq/SRR106/003/SRR106...   \n",
        "2073         PAIRED  ftp.sra.ebi.ac.uk/vol1/fastq/SRR106/004/SRR106...   \n",
        "2074         PAIRED  ftp.sra.ebi.ac.uk/vol1/fastq/SRR106/001/SRR106...   \n",
        "2075         PAIRED  ftp.sra.ebi.ac.uk/vol1/fastq/SRR106/002/SRR106...   \n",
        "2076         PAIRED  ftp.sra.ebi.ac.uk/vol1/fastq/SRR106/003/SRR106...   \n",
        "2077         PAIRED  ftp.sra.ebi.ac.uk/vol1/fastq/SRR106/004/SRR106...   \n",
        "2078         PAIRED  ftp.sra.ebi.ac.uk/vol1/fastq/SRR106/005/SRR106...   \n",
        "2079         PAIRED  ftp.sra.ebi.ac.uk/vol1/fastq/SRR106/006/SRR106...   \n",
        "2080         PAIRED  ftp.sra.ebi.ac.uk/vol1/fastq/SRR106/007/SRR106...   \n",
        "2081         PAIRED  ftp.sra.ebi.ac.uk/vol1/fastq/SRR106/004/SRR106...   \n",
        "2082         PAIRED  ftp.sra.ebi.ac.uk/vol1/fastq/SRR106/005/SRR106...   \n",
        "2083         PAIRED  ftp.sra.ebi.ac.uk/vol1/fastq/SRR106/006/SRR106...   \n",
        "2084         PAIRED  ftp.sra.ebi.ac.uk/vol1/fastq/SRR106/007/SRR106...   \n",
        "2085         PAIRED  ftp.sra.ebi.ac.uk/vol1/fastq/SRR106/008/SRR106...   \n",
        "2086         PAIRED  ftp.sra.ebi.ac.uk/vol1/fastq/SRR106/009/SRR106...   \n",
        "2087         PAIRED  ftp.sra.ebi.ac.uk/vol1/fastq/SRR106/000/SRR106...   \n",
        "2088         PAIRED  ftp.sra.ebi.ac.uk/vol1/fastq/SRR106/007/SRR106...   \n",
        "2089         PAIRED  ftp.sra.ebi.ac.uk/vol1/fastq/SRR106/008/SRR106...   \n",
        "2090         PAIRED  ftp.sra.ebi.ac.uk/vol1/fastq/SRR106/009/SRR106...   \n",
        "2091         PAIRED  ftp.sra.ebi.ac.uk/vol1/fastq/SRR106/000/SRR106...   \n",
        "2092         PAIRED  ftp.sra.ebi.ac.uk/vol1/fastq/SRR642/SRR642222/...   \n",
        "2093         PAIRED  ftp.sra.ebi.ac.uk/vol1/fastq/SRR647/SRR647805/...   \n",
        "2094         PAIRED  ftp.sra.ebi.ac.uk/vol1/fastq/SRR652/SRR652308/...   \n",
        "2095         PAIRED  ftp.sra.ebi.ac.uk/vol1/fastq/SRR652/SRR652309/...   \n",
        "2096         PAIRED  ftp.sra.ebi.ac.uk/vol1/fastq/SRR652/SRR652312/...   \n",
        "\n",
        "             filename  \n",
        "0     PRJNA174539.txt  \n",
        "1     PRJNA174539.txt  \n",
        "2     PRJNA174540.txt  \n",
        "3     PRJNA174540.txt  \n",
        "4     PRJNA174540.txt  \n",
        "5     PRJNA174540.txt  \n",
        "6     PRJNA174540.txt  \n",
        "7     PRJNA174540.txt  \n",
        "8     PRJNA174541.txt  \n",
        "9     PRJNA174541.txt  \n",
        "10    PRJNA174542.txt  \n",
        "11    PRJNA174542.txt  \n",
        "12    PRJNA174542.txt  \n",
        "13    PRJNA174542.txt  \n",
        "14    PRJNA174542.txt  \n",
        "15    PRJNA174542.txt  \n",
        "16    PRJNA174545.txt  \n",
        "17    PRJNA174545.txt  \n",
        "18    PRJNA174548.txt  \n",
        "19    PRJNA174548.txt  \n",
        "20    PRJNA174549.txt  \n",
        "21    PRJNA174549.txt  \n",
        "22    PRJNA174552.txt  \n",
        "23    PRJNA174552.txt  \n",
        "24    PRJNA174552.txt  \n",
        "25    PRJNA174552.txt  \n",
        "26    PRJNA174552.txt  \n",
        "27    PRJNA174552.txt  \n",
        "28    PRJNA174552.txt  \n",
        "29    PRJNA174553.txt  \n",
        "...               ...  \n",
        "2067  PRJNA227974.txt  \n",
        "2068  PRJNA227974.txt  \n",
        "2069  PRJNA227974.txt  \n",
        "2070  PRJNA227974.txt  \n",
        "2071  PRJNA227974.txt  \n",
        "2072  PRJNA227974.txt  \n",
        "2073  PRJNA227974.txt  \n",
        "2074  PRJNA227975.txt  \n",
        "2075  PRJNA227975.txt  \n",
        "2076  PRJNA227975.txt  \n",
        "2077  PRJNA227975.txt  \n",
        "2078  PRJNA227975.txt  \n",
        "2079  PRJNA227975.txt  \n",
        "2080  PRJNA227975.txt  \n",
        "2081  PRJNA227976.txt  \n",
        "2082  PRJNA227976.txt  \n",
        "2083  PRJNA227976.txt  \n",
        "2084  PRJNA227976.txt  \n",
        "2085  PRJNA227976.txt  \n",
        "2086  PRJNA227976.txt  \n",
        "2087  PRJNA227976.txt  \n",
        "2088   PRJNA89741.txt  \n",
        "2089   PRJNA89741.txt  \n",
        "2090   PRJNA89741.txt  \n",
        "2091   PRJNA89741.txt  \n",
        "2092   PRJNA89741.txt  \n",
        "2093   PRJNA89741.txt  \n",
        "2094   PRJNA89741.txt  \n",
        "2095   PRJNA89741.txt  \n",
        "2096   PRJNA89741.txt  \n",
        "\n",
        "[2097 rows x 9 columns]"
       ]
      }
     ],
     "prompt_number": 13
    },
    {
     "cell_type": "code",
     "collapsed": false,
     "input": [
      "df.sort(['scientific_name'], inplace=True)"
     ],
     "language": "python",
     "metadata": {},
     "outputs": [],
     "prompt_number": 14
    },
    {
     "cell_type": "code",
     "collapsed": false,
     "input": [
      "len(df[df['scientific_name'].str.contains(\"grubii\")])"
     ],
     "language": "python",
     "metadata": {},
     "outputs": [
      {
       "metadata": {},
       "output_type": "pyout",
       "prompt_number": 15,
       "text": [
        "1196"
       ]
      }
     ],
     "prompt_number": 15
    },
    {
     "cell_type": "code",
     "collapsed": false,
     "input": [
      "df2 = df[df['scientific_name'].str.contains(\"grubii\")]"
     ],
     "language": "python",
     "metadata": {},
     "outputs": [],
     "prompt_number": 16
    },
    {
     "cell_type": "code",
     "collapsed": false,
     "input": [
      "len(df2['scientific_name'].unique())"
     ],
     "language": "python",
     "metadata": {},
     "outputs": [
      {
       "metadata": {},
       "output_type": "pyout",
       "prompt_number": 17,
       "text": [
        "229"
       ]
      }
     ],
     "prompt_number": 17
    },
    {
     "cell_type": "code",
     "collapsed": false,
     "input": [
      "len(df2['experiment_accession'].unique())"
     ],
     "language": "python",
     "metadata": {},
     "outputs": [
      {
       "metadata": {},
       "output_type": "pyout",
       "prompt_number": 18,
       "text": [
        "411"
       ]
      }
     ],
     "prompt_number": 18
    },
    {
     "cell_type": "code",
     "collapsed": false,
     "input": [
      "len(df2['sample_accession'].unique())"
     ],
     "language": "python",
     "metadata": {},
     "outputs": [
      {
       "metadata": {},
       "output_type": "pyout",
       "prompt_number": 19,
       "text": [
        "229"
       ]
      }
     ],
     "prompt_number": 19
    },
    {
     "cell_type": "code",
     "collapsed": false,
     "input": [
      "df2"
     ],
     "language": "python",
     "metadata": {},
     "outputs": [
      {
       "html": [
        "<div style=\"max-height:1000px;max-width:1500px;overflow:auto;\">\n",
        "<table border=\"1\" class=\"dataframe\">\n",
        "  <thead>\n",
        "    <tr style=\"text-align: right;\">\n",
        "      <th></th>\n",
        "      <th>study_accession</th>\n",
        "      <th>sample_accession</th>\n",
        "      <th>experiment_accession</th>\n",
        "      <th>run_accession</th>\n",
        "      <th>scientific_name</th>\n",
        "      <th>instrument_model</th>\n",
        "      <th>library_layout</th>\n",
        "      <th>fastq_ftp</th>\n",
        "      <th>filename</th>\n",
        "    </tr>\n",
        "  </thead>\n",
        "  <tbody>\n",
        "    <tr>\n",
        "      <th>1770</th>\n",
        "      <td> PRJNA227924</td>\n",
        "      <td> SAMN02412465</td>\n",
        "      <td> SRX400053</td>\n",
        "      <td> SRR1063247</td>\n",
        "      <td>        Cryptococcus neoformans var. grubii 102-14</td>\n",
        "      <td> Illumina HiSeq 2000</td>\n",
        "      <td> PAIRED</td>\n",
        "      <td> ftp.sra.ebi.ac.uk/vol1/fastq/SRR106/007/SRR106...</td>\n",
        "      <td> PRJNA227924.txt</td>\n",
        "    </tr>\n",
        "    <tr>\n",
        "      <th>1771</th>\n",
        "      <td> PRJNA227924</td>\n",
        "      <td> SAMN02412465</td>\n",
        "      <td> SRX400052</td>\n",
        "      <td> SRR1063248</td>\n",
        "      <td>        Cryptococcus neoformans var. grubii 102-14</td>\n",
        "      <td> Illumina HiSeq 2000</td>\n",
        "      <td> PAIRED</td>\n",
        "      <td> ftp.sra.ebi.ac.uk/vol1/fastq/SRR106/008/SRR106...</td>\n",
        "      <td> PRJNA227924.txt</td>\n",
        "    </tr>\n",
        "    <tr>\n",
        "      <th>1742</th>\n",
        "      <td> PRJNA227914</td>\n",
        "      <td> SAMN02412455</td>\n",
        "      <td> SRX400054</td>\n",
        "      <td> SRR1063249</td>\n",
        "      <td>          Cryptococcus neoformans var. grubii 1033</td>\n",
        "      <td> Illumina HiSeq 2000</td>\n",
        "      <td> PAIRED</td>\n",
        "      <td> ftp.sra.ebi.ac.uk/vol1/fastq/SRR106/009/SRR106...</td>\n",
        "      <td> PRJNA227914.txt</td>\n",
        "    </tr>\n",
        "    <tr>\n",
        "      <th>1778</th>\n",
        "      <td> PRJNA227929</td>\n",
        "      <td> SAMN02412470</td>\n",
        "      <td> SRX400055</td>\n",
        "      <td> SRR1063250</td>\n",
        "      <td>          Cryptococcus neoformans var. grubii 1035</td>\n",
        "      <td> Illumina HiSeq 2000</td>\n",
        "      <td> PAIRED</td>\n",
        "      <td> ftp.sra.ebi.ac.uk/vol1/fastq/SRR106/000/SRR106...</td>\n",
        "      <td> PRJNA227929.txt</td>\n",
        "    </tr>\n",
        "    <tr>\n",
        "      <th>1779</th>\n",
        "      <td> PRJNA227930</td>\n",
        "      <td> SAMN02412471</td>\n",
        "      <td> SRX400056</td>\n",
        "      <td> SRR1063251</td>\n",
        "      <td>          Cryptococcus neoformans var. grubii 1052</td>\n",
        "      <td> Illumina HiSeq 2000</td>\n",
        "      <td> PAIRED</td>\n",
        "      <td> ftp.sra.ebi.ac.uk/vol1/fastq/SRR106/001/SRR106...</td>\n",
        "      <td> PRJNA227930.txt</td>\n",
        "    </tr>\n",
        "    <tr>\n",
        "      <th>1775</th>\n",
        "      <td> PRJNA227927</td>\n",
        "      <td> SAMN02412468</td>\n",
        "      <td> SRX400057</td>\n",
        "      <td> SRR1063252</td>\n",
        "      <td>          Cryptococcus neoformans var. grubii 1054</td>\n",
        "      <td> Illumina HiSeq 2000</td>\n",
        "      <td> PAIRED</td>\n",
        "      <td> ftp.sra.ebi.ac.uk/vol1/fastq/SRR106/002/SRR106...</td>\n",
        "      <td> PRJNA227927.txt</td>\n",
        "    </tr>\n",
        "    <tr>\n",
        "      <th>1349</th>\n",
        "      <td> PRJNA191409</td>\n",
        "      <td> SAMN01932923</td>\n",
        "      <td> SRX273085</td>\n",
        "      <td>  SRR836535</td>\n",
        "      <td>           Cryptococcus neoformans var. grubii 8-1</td>\n",
        "      <td> Illumina HiSeq 2000</td>\n",
        "      <td> PAIRED</td>\n",
        "      <td> ftp.sra.ebi.ac.uk/vol1/fastq/SRR836/SRR836535/...</td>\n",
        "      <td> PRJNA191409.txt</td>\n",
        "    </tr>\n",
        "    <tr>\n",
        "      <th>1350</th>\n",
        "      <td> PRJNA191409</td>\n",
        "      <td> SAMN01932923</td>\n",
        "      <td> SRX273085</td>\n",
        "      <td>  SRR836536</td>\n",
        "      <td>           Cryptococcus neoformans var. grubii 8-1</td>\n",
        "      <td> Illumina HiSeq 2000</td>\n",
        "      <td> PAIRED</td>\n",
        "      <td> ftp.sra.ebi.ac.uk/vol1/fastq/SRR836/SRR836536/...</td>\n",
        "      <td> PRJNA191409.txt</td>\n",
        "    </tr>\n",
        "    <tr>\n",
        "      <th>1351</th>\n",
        "      <td> PRJNA191409</td>\n",
        "      <td> SAMN01932923</td>\n",
        "      <td> SRX273085</td>\n",
        "      <td>  SRR836537</td>\n",
        "      <td>           Cryptococcus neoformans var. grubii 8-1</td>\n",
        "      <td> Illumina HiSeq 2000</td>\n",
        "      <td> PAIRED</td>\n",
        "      <td> ftp.sra.ebi.ac.uk/vol1/fastq/SRR836/SRR836537/...</td>\n",
        "      <td> PRJNA191409.txt</td>\n",
        "    </tr>\n",
        "    <tr>\n",
        "      <th>1352</th>\n",
        "      <td> PRJNA191409</td>\n",
        "      <td> SAMN01932923</td>\n",
        "      <td> SRX273085</td>\n",
        "      <td>  SRR836538</td>\n",
        "      <td>           Cryptococcus neoformans var. grubii 8-1</td>\n",
        "      <td> Illumina HiSeq 2000</td>\n",
        "      <td> PAIRED</td>\n",
        "      <td> ftp.sra.ebi.ac.uk/vol1/fastq/SRR836/SRR836538/...</td>\n",
        "      <td> PRJNA191409.txt</td>\n",
        "    </tr>\n",
        "    <tr>\n",
        "      <th>1353</th>\n",
        "      <td> PRJNA191409</td>\n",
        "      <td> SAMN01932923</td>\n",
        "      <td> SRX273085</td>\n",
        "      <td>  SRR836539</td>\n",
        "      <td>           Cryptococcus neoformans var. grubii 8-1</td>\n",
        "      <td> Illumina HiSeq 2000</td>\n",
        "      <td> PAIRED</td>\n",
        "      <td> ftp.sra.ebi.ac.uk/vol1/fastq/SRR836/SRR836539/...</td>\n",
        "      <td> PRJNA191409.txt</td>\n",
        "    </tr>\n",
        "    <tr>\n",
        "      <th>1354</th>\n",
        "      <td> PRJNA191409</td>\n",
        "      <td> SAMN01932923</td>\n",
        "      <td> SRX273085</td>\n",
        "      <td>  SRR841967</td>\n",
        "      <td>           Cryptococcus neoformans var. grubii 8-1</td>\n",
        "      <td> Illumina HiSeq 2000</td>\n",
        "      <td> PAIRED</td>\n",
        "      <td> ftp.sra.ebi.ac.uk/vol1/fastq/SRR841/SRR841967/...</td>\n",
        "      <td> PRJNA191409.txt</td>\n",
        "    </tr>\n",
        "    <tr>\n",
        "      <th>54  </th>\n",
        "      <td> PRJNA174564</td>\n",
        "      <td> SAMN01162770</td>\n",
        "      <td> SRX255598</td>\n",
        "      <td>  SRR797727</td>\n",
        "      <td>       Cryptococcus neoformans var. grubii A1-35-8</td>\n",
        "      <td> Illumina HiSeq 2000</td>\n",
        "      <td> PAIRED</td>\n",
        "      <td> ftp.sra.ebi.ac.uk/vol1/fastq/SRR797/SRR797727/...</td>\n",
        "      <td> PRJNA174564.txt</td>\n",
        "    </tr>\n",
        "    <tr>\n",
        "      <th>55  </th>\n",
        "      <td> PRJNA174564</td>\n",
        "      <td> SAMN01162770</td>\n",
        "      <td> SRX256045</td>\n",
        "      <td>  SRR798266</td>\n",
        "      <td>       Cryptococcus neoformans var. grubii A1-35-8</td>\n",
        "      <td> Illumina HiSeq 2000</td>\n",
        "      <td> PAIRED</td>\n",
        "      <td> ftp.sra.ebi.ac.uk/vol1/fastq/SRR798/SRR798266/...</td>\n",
        "      <td> PRJNA174564.txt</td>\n",
        "    </tr>\n",
        "    <tr>\n",
        "      <th>56  </th>\n",
        "      <td> PRJNA174564</td>\n",
        "      <td> SAMN01162770</td>\n",
        "      <td> SRX256414</td>\n",
        "      <td>  SRR798691</td>\n",
        "      <td>       Cryptococcus neoformans var. grubii A1-35-8</td>\n",
        "      <td> Illumina HiSeq 2000</td>\n",
        "      <td> PAIRED</td>\n",
        "      <td> ftp.sra.ebi.ac.uk/vol1/fastq/SRR798/SRR798691/...</td>\n",
        "      <td> PRJNA174564.txt</td>\n",
        "    </tr>\n",
        "    <tr>\n",
        "      <th>57  </th>\n",
        "      <td> PRJNA174564</td>\n",
        "      <td> SAMN01162770</td>\n",
        "      <td> SRX256414</td>\n",
        "      <td>  SRR798733</td>\n",
        "      <td>       Cryptococcus neoformans var. grubii A1-35-8</td>\n",
        "      <td> Illumina HiSeq 2000</td>\n",
        "      <td> PAIRED</td>\n",
        "      <td> ftp.sra.ebi.ac.uk/vol1/fastq/SRR798/SRR798733/...</td>\n",
        "      <td> PRJNA174564.txt</td>\n",
        "    </tr>\n",
        "    <tr>\n",
        "      <th>58  </th>\n",
        "      <td> PRJNA174564</td>\n",
        "      <td> SAMN01162770</td>\n",
        "      <td> SRX256414</td>\n",
        "      <td>  SRR799048</td>\n",
        "      <td>       Cryptococcus neoformans var. grubii A1-35-8</td>\n",
        "      <td> Illumina HiSeq 2000</td>\n",
        "      <td> PAIRED</td>\n",
        "      <td> ftp.sra.ebi.ac.uk/vol1/fastq/SRR799/SRR799048/...</td>\n",
        "      <td> PRJNA174564.txt</td>\n",
        "    </tr>\n",
        "    <tr>\n",
        "      <th>59  </th>\n",
        "      <td> PRJNA174564</td>\n",
        "      <td> SAMN01162770</td>\n",
        "      <td> SRX256045</td>\n",
        "      <td>  SRR823351</td>\n",
        "      <td>       Cryptococcus neoformans var. grubii A1-35-8</td>\n",
        "      <td> Illumina HiSeq 2000</td>\n",
        "      <td> PAIRED</td>\n",
        "      <td> ftp.sra.ebi.ac.uk/vol1/fastq/SRR823/SRR823351/...</td>\n",
        "      <td> PRJNA174564.txt</td>\n",
        "    </tr>\n",
        "    <tr>\n",
        "      <th>1765</th>\n",
        "      <td> PRJNA227922</td>\n",
        "      <td> SAMN02412463</td>\n",
        "      <td> SRX400058</td>\n",
        "      <td> SRR1063253</td>\n",
        "      <td>      Cryptococcus neoformans var. grubii A1-84-14</td>\n",
        "      <td> Illumina HiSeq 2000</td>\n",
        "      <td> PAIRED</td>\n",
        "      <td> ftp.sra.ebi.ac.uk/vol1/fastq/SRR106/003/SRR106...</td>\n",
        "      <td> PRJNA227922.txt</td>\n",
        "    </tr>\n",
        "    <tr>\n",
        "      <th>1766</th>\n",
        "      <td> PRJNA227922</td>\n",
        "      <td> SAMN02412463</td>\n",
        "      <td> SRX400058</td>\n",
        "      <td> SRR1063254</td>\n",
        "      <td>      Cryptococcus neoformans var. grubii A1-84-14</td>\n",
        "      <td> Illumina HiSeq 2000</td>\n",
        "      <td> PAIRED</td>\n",
        "      <td> ftp.sra.ebi.ac.uk/vol1/fastq/SRR106/004/SRR106...</td>\n",
        "      <td> PRJNA227922.txt</td>\n",
        "    </tr>\n",
        "    <tr>\n",
        "      <th>1767</th>\n",
        "      <td> PRJNA227922</td>\n",
        "      <td> SAMN02412463</td>\n",
        "      <td> SRX400058</td>\n",
        "      <td> SRR1063255</td>\n",
        "      <td>      Cryptococcus neoformans var. grubii A1-84-14</td>\n",
        "      <td> Illumina HiSeq 2000</td>\n",
        "      <td> PAIRED</td>\n",
        "      <td> ftp.sra.ebi.ac.uk/vol1/fastq/SRR106/005/SRR106...</td>\n",
        "      <td> PRJNA227922.txt</td>\n",
        "    </tr>\n",
        "    <tr>\n",
        "      <th>2   </th>\n",
        "      <td> PRJNA174540</td>\n",
        "      <td> SAMN01162746</td>\n",
        "      <td> SRX189370</td>\n",
        "      <td>  SRR576306</td>\n",
        "      <td>      Cryptococcus neoformans var. grubii A2-102-5</td>\n",
        "      <td> Illumina HiSeq 2000</td>\n",
        "      <td> PAIRED</td>\n",
        "      <td> ftp.sra.ebi.ac.uk/vol1/fastq/SRR576/SRR576306/...</td>\n",
        "      <td> PRJNA174540.txt</td>\n",
        "    </tr>\n",
        "    <tr>\n",
        "      <th>3   </th>\n",
        "      <td> PRJNA174540</td>\n",
        "      <td> SAMN01162746</td>\n",
        "      <td> SRX189370</td>\n",
        "      <td>  SRR576320</td>\n",
        "      <td>      Cryptococcus neoformans var. grubii A2-102-5</td>\n",
        "      <td> Illumina HiSeq 2000</td>\n",
        "      <td> PAIRED</td>\n",
        "      <td> ftp.sra.ebi.ac.uk/vol1/fastq/SRR576/SRR576320/...</td>\n",
        "      <td> PRJNA174540.txt</td>\n",
        "    </tr>\n",
        "    <tr>\n",
        "      <th>4   </th>\n",
        "      <td> PRJNA174540</td>\n",
        "      <td> SAMN01162746</td>\n",
        "      <td> SRX189607</td>\n",
        "      <td>  SRR576565</td>\n",
        "      <td>      Cryptococcus neoformans var. grubii A2-102-5</td>\n",
        "      <td> Illumina HiSeq 2000</td>\n",
        "      <td> SINGLE</td>\n",
        "      <td> ftp.sra.ebi.ac.uk/vol1/fastq/SRR576/SRR576565/...</td>\n",
        "      <td> PRJNA174540.txt</td>\n",
        "    </tr>\n",
        "    <tr>\n",
        "      <th>5   </th>\n",
        "      <td> PRJNA174540</td>\n",
        "      <td> SAMN01162746</td>\n",
        "      <td> SRX189607</td>\n",
        "      <td>  SRR576607</td>\n",
        "      <td>      Cryptococcus neoformans var. grubii A2-102-5</td>\n",
        "      <td> Illumina HiSeq 2000</td>\n",
        "      <td> SINGLE</td>\n",
        "      <td> ftp.sra.ebi.ac.uk/vol1/fastq/SRR576/SRR576607/...</td>\n",
        "      <td> PRJNA174540.txt</td>\n",
        "    </tr>\n",
        "    <tr>\n",
        "      <th>6   </th>\n",
        "      <td> PRJNA174540</td>\n",
        "      <td> SAMN01162746</td>\n",
        "      <td> SRX189598</td>\n",
        "      <td>  SRR642223</td>\n",
        "      <td>      Cryptococcus neoformans var. grubii A2-102-5</td>\n",
        "      <td> Illumina HiSeq 2000</td>\n",
        "      <td> PAIRED</td>\n",
        "      <td> ftp.sra.ebi.ac.uk/vol1/fastq/SRR642/SRR642223/...</td>\n",
        "      <td> PRJNA174540.txt</td>\n",
        "    </tr>\n",
        "    <tr>\n",
        "      <th>7   </th>\n",
        "      <td> PRJNA174540</td>\n",
        "      <td> SAMN01162746</td>\n",
        "      <td> SRX189598</td>\n",
        "      <td>  SRR647806</td>\n",
        "      <td>      Cryptococcus neoformans var. grubii A2-102-5</td>\n",
        "      <td> Illumina HiSeq 2000</td>\n",
        "      <td> PAIRED</td>\n",
        "      <td> ftp.sra.ebi.ac.uk/vol1/fastq/SRR647/SRR647806/...</td>\n",
        "      <td> PRJNA174540.txt</td>\n",
        "    </tr>\n",
        "    <tr>\n",
        "      <th>978 </th>\n",
        "      <td> PRJNA191360</td>\n",
        "      <td> SAMN01932874</td>\n",
        "      <td> SRX255639</td>\n",
        "      <td>  SRR797775</td>\n",
        "      <td>        Cryptococcus neoformans var. grubii A3-1-1</td>\n",
        "      <td> Illumina HiSeq 2000</td>\n",
        "      <td> PAIRED</td>\n",
        "      <td> ftp.sra.ebi.ac.uk/vol1/fastq/SRR797/SRR797775/...</td>\n",
        "      <td> PRJNA191360.txt</td>\n",
        "    </tr>\n",
        "    <tr>\n",
        "      <th>979 </th>\n",
        "      <td> PRJNA191360</td>\n",
        "      <td> SAMN01932874</td>\n",
        "      <td> SRX256003</td>\n",
        "      <td>  SRR798211</td>\n",
        "      <td>        Cryptococcus neoformans var. grubii A3-1-1</td>\n",
        "      <td> Illumina HiSeq 2000</td>\n",
        "      <td> PAIRED</td>\n",
        "      <td> ftp.sra.ebi.ac.uk/vol1/fastq/SRR798/SRR798211/...</td>\n",
        "      <td> PRJNA191360.txt</td>\n",
        "    </tr>\n",
        "    <tr>\n",
        "      <th>980 </th>\n",
        "      <td> PRJNA191360</td>\n",
        "      <td> SAMN01932874</td>\n",
        "      <td> SRX256020</td>\n",
        "      <td>  SRR798256</td>\n",
        "      <td>        Cryptococcus neoformans var. grubii A3-1-1</td>\n",
        "      <td> Illumina HiSeq 2000</td>\n",
        "      <td> PAIRED</td>\n",
        "      <td> ftp.sra.ebi.ac.uk/vol1/fastq/SRR798/SRR798256/...</td>\n",
        "      <td> PRJNA191360.txt</td>\n",
        "    </tr>\n",
        "    <tr>\n",
        "      <th>...</th>\n",
        "      <td>...</td>\n",
        "      <td>...</td>\n",
        "      <td>...</td>\n",
        "      <td>...</td>\n",
        "      <td>...</td>\n",
        "      <td>...</td>\n",
        "      <td>...</td>\n",
        "      <td>...</td>\n",
        "      <td>...</td>\n",
        "    </tr>\n",
        "    <tr>\n",
        "      <th>1375</th>\n",
        "      <td> PRJNA191413</td>\n",
        "      <td> SAMN01932927</td>\n",
        "      <td> SRX273266</td>\n",
        "      <td>  SRR837093</td>\n",
        "      <td>        Cryptococcus neoformans var. grubii Ug2462</td>\n",
        "      <td> Illumina HiSeq 2000</td>\n",
        "      <td> PAIRED</td>\n",
        "      <td> ftp.sra.ebi.ac.uk/vol1/fastq/SRR837/SRR837093/...</td>\n",
        "      <td> PRJNA191413.txt</td>\n",
        "    </tr>\n",
        "    <tr>\n",
        "      <th>1376</th>\n",
        "      <td> PRJNA191413</td>\n",
        "      <td> SAMN01932927</td>\n",
        "      <td> SRX273266</td>\n",
        "      <td>  SRR837094</td>\n",
        "      <td>        Cryptococcus neoformans var. grubii Ug2462</td>\n",
        "      <td> Illumina HiSeq 2000</td>\n",
        "      <td> PAIRED</td>\n",
        "      <td> ftp.sra.ebi.ac.uk/vol1/fastq/SRR837/SRR837094/...</td>\n",
        "      <td> PRJNA191413.txt</td>\n",
        "    </tr>\n",
        "    <tr>\n",
        "      <th>1377</th>\n",
        "      <td> PRJNA191413</td>\n",
        "      <td> SAMN01932927</td>\n",
        "      <td> SRX273266</td>\n",
        "      <td>  SRR837095</td>\n",
        "      <td>        Cryptococcus neoformans var. grubii Ug2462</td>\n",
        "      <td> Illumina HiSeq 2000</td>\n",
        "      <td> PAIRED</td>\n",
        "      <td> ftp.sra.ebi.ac.uk/vol1/fastq/SRR837/SRR837095/...</td>\n",
        "      <td> PRJNA191413.txt</td>\n",
        "    </tr>\n",
        "    <tr>\n",
        "      <th>1378</th>\n",
        "      <td> PRJNA191413</td>\n",
        "      <td> SAMN01932927</td>\n",
        "      <td> SRX273266</td>\n",
        "      <td>  SRR837096</td>\n",
        "      <td>        Cryptococcus neoformans var. grubii Ug2462</td>\n",
        "      <td> Illumina HiSeq 2000</td>\n",
        "      <td> PAIRED</td>\n",
        "      <td> ftp.sra.ebi.ac.uk/vol1/fastq/SRR837/SRR837096/...</td>\n",
        "      <td> PRJNA191413.txt</td>\n",
        "    </tr>\n",
        "    <tr>\n",
        "      <th>1296</th>\n",
        "      <td> PRJNA191402</td>\n",
        "      <td> SAMN01932916</td>\n",
        "      <td> SRX273271</td>\n",
        "      <td>  SRR837099</td>\n",
        "      <td>        Cryptococcus neoformans var. grubii Ug2463</td>\n",
        "      <td> Illumina HiSeq 2000</td>\n",
        "      <td> PAIRED</td>\n",
        "      <td> ftp.sra.ebi.ac.uk/vol1/fastq/SRR837/SRR837099/...</td>\n",
        "      <td> PRJNA191402.txt</td>\n",
        "    </tr>\n",
        "    <tr>\n",
        "      <th>1297</th>\n",
        "      <td> PRJNA191402</td>\n",
        "      <td> SAMN01932916</td>\n",
        "      <td> SRX273271</td>\n",
        "      <td>  SRR837100</td>\n",
        "      <td>        Cryptococcus neoformans var. grubii Ug2463</td>\n",
        "      <td> Illumina HiSeq 2000</td>\n",
        "      <td> PAIRED</td>\n",
        "      <td> ftp.sra.ebi.ac.uk/vol1/fastq/SRR837/SRR837100/...</td>\n",
        "      <td> PRJNA191402.txt</td>\n",
        "    </tr>\n",
        "    <tr>\n",
        "      <th>1298</th>\n",
        "      <td> PRJNA191402</td>\n",
        "      <td> SAMN01932916</td>\n",
        "      <td> SRX273271</td>\n",
        "      <td>  SRR837101</td>\n",
        "      <td>        Cryptococcus neoformans var. grubii Ug2463</td>\n",
        "      <td> Illumina HiSeq 2000</td>\n",
        "      <td> PAIRED</td>\n",
        "      <td> ftp.sra.ebi.ac.uk/vol1/fastq/SRR837/SRR837101/...</td>\n",
        "      <td> PRJNA191402.txt</td>\n",
        "    </tr>\n",
        "    <tr>\n",
        "      <th>1299</th>\n",
        "      <td> PRJNA191402</td>\n",
        "      <td> SAMN01932916</td>\n",
        "      <td> SRX273271</td>\n",
        "      <td>  SRR837102</td>\n",
        "      <td>        Cryptococcus neoformans var. grubii Ug2463</td>\n",
        "      <td> Illumina HiSeq 2000</td>\n",
        "      <td> PAIRED</td>\n",
        "      <td> ftp.sra.ebi.ac.uk/vol1/fastq/SRR837/SRR837102/...</td>\n",
        "      <td> PRJNA191402.txt</td>\n",
        "    </tr>\n",
        "    <tr>\n",
        "      <th>1300</th>\n",
        "      <td> PRJNA191402</td>\n",
        "      <td> SAMN01932916</td>\n",
        "      <td> SRX273271</td>\n",
        "      <td>  SRR837103</td>\n",
        "      <td>        Cryptococcus neoformans var. grubii Ug2463</td>\n",
        "      <td> Illumina HiSeq 2000</td>\n",
        "      <td> PAIRED</td>\n",
        "      <td> ftp.sra.ebi.ac.uk/vol1/fastq/SRR837/SRR837103/...</td>\n",
        "      <td> PRJNA191402.txt</td>\n",
        "    </tr>\n",
        "    <tr>\n",
        "      <th>1301</th>\n",
        "      <td> PRJNA191402</td>\n",
        "      <td> SAMN01932916</td>\n",
        "      <td> SRX273271</td>\n",
        "      <td>  SRR842069</td>\n",
        "      <td>        Cryptococcus neoformans var. grubii Ug2463</td>\n",
        "      <td> Illumina HiSeq 2000</td>\n",
        "      <td> PAIRED</td>\n",
        "      <td> ftp.sra.ebi.ac.uk/vol1/fastq/SRR842/SRR842069/...</td>\n",
        "      <td> PRJNA191402.txt</td>\n",
        "    </tr>\n",
        "    <tr>\n",
        "      <th>493 </th>\n",
        "      <td> PRJNA191238</td>\n",
        "      <td> SAMN01932753</td>\n",
        "      <td> SRX255617</td>\n",
        "      <td>  SRR797751</td>\n",
        "      <td>         Cryptococcus neoformans var. grubii WM148</td>\n",
        "      <td> Illumina HiSeq 2000</td>\n",
        "      <td> PAIRED</td>\n",
        "      <td> ftp.sra.ebi.ac.uk/vol1/fastq/SRR797/SRR797751/...</td>\n",
        "      <td> PRJNA191238.txt</td>\n",
        "    </tr>\n",
        "    <tr>\n",
        "      <th>494 </th>\n",
        "      <td> PRJNA191238</td>\n",
        "      <td> SAMN01932753</td>\n",
        "      <td> SRX255666</td>\n",
        "      <td>  SRR797807</td>\n",
        "      <td>         Cryptococcus neoformans var. grubii WM148</td>\n",
        "      <td> Illumina HiSeq 2000</td>\n",
        "      <td> PAIRED</td>\n",
        "      <td> ftp.sra.ebi.ac.uk/vol1/fastq/SRR797/SRR797807/...</td>\n",
        "      <td> PRJNA191238.txt</td>\n",
        "    </tr>\n",
        "    <tr>\n",
        "      <th>495 </th>\n",
        "      <td> PRJNA191238</td>\n",
        "      <td> SAMN01932753</td>\n",
        "      <td> SRX255666</td>\n",
        "      <td>  SRR798901</td>\n",
        "      <td>         Cryptococcus neoformans var. grubii WM148</td>\n",
        "      <td> Illumina HiSeq 2000</td>\n",
        "      <td> PAIRED</td>\n",
        "      <td> ftp.sra.ebi.ac.uk/vol1/fastq/SRR798/SRR798901/...</td>\n",
        "      <td> PRJNA191238.txt</td>\n",
        "    </tr>\n",
        "    <tr>\n",
        "      <th>1748</th>\n",
        "      <td> PRJNA227918</td>\n",
        "      <td> SAMN02412459</td>\n",
        "      <td> SRX400076</td>\n",
        "      <td> SRR1063282</td>\n",
        "      <td> Cryptococcus neoformans var. grubii WM626 (MMR...</td>\n",
        "      <td> Illumina HiSeq 2000</td>\n",
        "      <td> PAIRED</td>\n",
        "      <td> ftp.sra.ebi.ac.uk/vol1/fastq/SRR106/002/SRR106...</td>\n",
        "      <td> PRJNA227918.txt</td>\n",
        "    </tr>\n",
        "    <tr>\n",
        "      <th>1749</th>\n",
        "      <td> PRJNA227918</td>\n",
        "      <td> SAMN02412459</td>\n",
        "      <td> SRX400075</td>\n",
        "      <td> SRR1063283</td>\n",
        "      <td> Cryptococcus neoformans var. grubii WM626 (MMR...</td>\n",
        "      <td> Illumina HiSeq 2000</td>\n",
        "      <td> PAIRED</td>\n",
        "      <td> ftp.sra.ebi.ac.uk/vol1/fastq/SRR106/003/SRR106...</td>\n",
        "      <td> PRJNA227918.txt</td>\n",
        "    </tr>\n",
        "    <tr>\n",
        "      <th>1750</th>\n",
        "      <td> PRJNA227918</td>\n",
        "      <td> SAMN02412459</td>\n",
        "      <td> SRX400075</td>\n",
        "      <td> SRR1063284</td>\n",
        "      <td> Cryptococcus neoformans var. grubii WM626 (MMR...</td>\n",
        "      <td> Illumina HiSeq 2000</td>\n",
        "      <td> PAIRED</td>\n",
        "      <td> ftp.sra.ebi.ac.uk/vol1/fastq/SRR106/004/SRR106...</td>\n",
        "      <td> PRJNA227918.txt</td>\n",
        "    </tr>\n",
        "    <tr>\n",
        "      <th>346 </th>\n",
        "      <td> PRJNA191211</td>\n",
        "      <td> SAMN01932726</td>\n",
        "      <td> SRX255595</td>\n",
        "      <td>  SRR797739</td>\n",
        "      <td>         Cryptococcus neoformans var. grubii WM629</td>\n",
        "      <td> Illumina HiSeq 2000</td>\n",
        "      <td> PAIRED</td>\n",
        "      <td> ftp.sra.ebi.ac.uk/vol1/fastq/SRR797/SRR797739/...</td>\n",
        "      <td> PRJNA191211.txt</td>\n",
        "    </tr>\n",
        "    <tr>\n",
        "      <th>347 </th>\n",
        "      <td> PRJNA191211</td>\n",
        "      <td> SAMN01932726</td>\n",
        "      <td> SRX255595</td>\n",
        "      <td>  SRR798674</td>\n",
        "      <td>         Cryptococcus neoformans var. grubii WM629</td>\n",
        "      <td> Illumina HiSeq 2000</td>\n",
        "      <td> PAIRED</td>\n",
        "      <td> ftp.sra.ebi.ac.uk/vol1/fastq/SRR798/SRR798674/...</td>\n",
        "      <td> PRJNA191211.txt</td>\n",
        "    </tr>\n",
        "    <tr>\n",
        "      <th>348 </th>\n",
        "      <td> PRJNA191211</td>\n",
        "      <td> SAMN01932726</td>\n",
        "      <td> SRX256470</td>\n",
        "      <td>  SRR798792</td>\n",
        "      <td>         Cryptococcus neoformans var. grubii WM629</td>\n",
        "      <td> Illumina HiSeq 2000</td>\n",
        "      <td> PAIRED</td>\n",
        "      <td> ftp.sra.ebi.ac.uk/vol1/fastq/SRR798/SRR798792/...</td>\n",
        "      <td> PRJNA191211.txt</td>\n",
        "    </tr>\n",
        "    <tr>\n",
        "      <th>349 </th>\n",
        "      <td> PRJNA191211</td>\n",
        "      <td> SAMN01932726</td>\n",
        "      <td> SRX255595</td>\n",
        "      <td>  SRR798887</td>\n",
        "      <td>         Cryptococcus neoformans var. grubii WM629</td>\n",
        "      <td> Illumina HiSeq 2000</td>\n",
        "      <td> PAIRED</td>\n",
        "      <td> ftp.sra.ebi.ac.uk/vol1/fastq/SRR798/SRR798887/...</td>\n",
        "      <td> PRJNA191211.txt</td>\n",
        "    </tr>\n",
        "    <tr>\n",
        "      <th>350 </th>\n",
        "      <td> PRJNA191211</td>\n",
        "      <td> SAMN01932726</td>\n",
        "      <td> SRX256470</td>\n",
        "      <td>  SRR798955</td>\n",
        "      <td>         Cryptococcus neoformans var. grubii WM629</td>\n",
        "      <td> Illumina HiSeq 2000</td>\n",
        "      <td> PAIRED</td>\n",
        "      <td> ftp.sra.ebi.ac.uk/vol1/fastq/SRR798/SRR798955/...</td>\n",
        "      <td> PRJNA191211.txt</td>\n",
        "    </tr>\n",
        "    <tr>\n",
        "      <th>351 </th>\n",
        "      <td> PRJNA191211</td>\n",
        "      <td> SAMN01932726</td>\n",
        "      <td> SRX256470</td>\n",
        "      <td>  SRR798991</td>\n",
        "      <td>         Cryptococcus neoformans var. grubii WM629</td>\n",
        "      <td> Illumina HiSeq 2000</td>\n",
        "      <td> PAIRED</td>\n",
        "      <td> ftp.sra.ebi.ac.uk/vol1/fastq/SRR798/SRR798991/...</td>\n",
        "      <td> PRJNA191211.txt</td>\n",
        "    </tr>\n",
        "    <tr>\n",
        "      <th>352 </th>\n",
        "      <td> PRJNA191211</td>\n",
        "      <td> SAMN01932726</td>\n",
        "      <td> SRX272113</td>\n",
        "      <td>  SRR835471</td>\n",
        "      <td>         Cryptococcus neoformans var. grubii WM629</td>\n",
        "      <td> Illumina HiSeq 2000</td>\n",
        "      <td> PAIRED</td>\n",
        "      <td> ftp.sra.ebi.ac.uk/vol1/fastq/SRR835/SRR835471/...</td>\n",
        "      <td> PRJNA191211.txt</td>\n",
        "    </tr>\n",
        "    <tr>\n",
        "      <th>353 </th>\n",
        "      <td> PRJNA191211</td>\n",
        "      <td> SAMN01932726</td>\n",
        "      <td> SRX272113</td>\n",
        "      <td>  SRR835472</td>\n",
        "      <td>         Cryptococcus neoformans var. grubii WM629</td>\n",
        "      <td> Illumina HiSeq 2000</td>\n",
        "      <td> PAIRED</td>\n",
        "      <td> ftp.sra.ebi.ac.uk/vol1/fastq/SRR835/SRR835472/...</td>\n",
        "      <td> PRJNA191211.txt</td>\n",
        "    </tr>\n",
        "    <tr>\n",
        "      <th>42  </th>\n",
        "      <td> PRJNA174561</td>\n",
        "      <td> SAMN01162767</td>\n",
        "      <td> SRX189369</td>\n",
        "      <td>  SRR576305</td>\n",
        "      <td>        Cryptococcus neoformans var. grubii Ze90-1</td>\n",
        "      <td> Illumina HiSeq 2000</td>\n",
        "      <td> PAIRED</td>\n",
        "      <td> ftp.sra.ebi.ac.uk/vol1/fastq/SRR576/SRR576305/...</td>\n",
        "      <td> PRJNA174561.txt</td>\n",
        "    </tr>\n",
        "    <tr>\n",
        "      <th>43  </th>\n",
        "      <td> PRJNA174561</td>\n",
        "      <td> SAMN01162767</td>\n",
        "      <td> SRX189369</td>\n",
        "      <td>  SRR576317</td>\n",
        "      <td>        Cryptococcus neoformans var. grubii Ze90-1</td>\n",
        "      <td> Illumina HiSeq 2000</td>\n",
        "      <td> PAIRED</td>\n",
        "      <td> ftp.sra.ebi.ac.uk/vol1/fastq/SRR576/SRR576317/...</td>\n",
        "      <td> PRJNA174561.txt</td>\n",
        "    </tr>\n",
        "    <tr>\n",
        "      <th>44  </th>\n",
        "      <td> PRJNA174561</td>\n",
        "      <td> SAMN01162767</td>\n",
        "      <td> SRX189608</td>\n",
        "      <td>  SRR576559</td>\n",
        "      <td>        Cryptococcus neoformans var. grubii Ze90-1</td>\n",
        "      <td> Illumina HiSeq 2000</td>\n",
        "      <td> SINGLE</td>\n",
        "      <td> ftp.sra.ebi.ac.uk/vol1/fastq/SRR576/SRR576559/...</td>\n",
        "      <td> PRJNA174561.txt</td>\n",
        "    </tr>\n",
        "    <tr>\n",
        "      <th>45  </th>\n",
        "      <td> PRJNA174561</td>\n",
        "      <td> SAMN01162767</td>\n",
        "      <td> SRX189608</td>\n",
        "      <td>  SRR576605</td>\n",
        "      <td>        Cryptococcus neoformans var. grubii Ze90-1</td>\n",
        "      <td> Illumina HiSeq 2000</td>\n",
        "      <td> SINGLE</td>\n",
        "      <td> ftp.sra.ebi.ac.uk/vol1/fastq/SRR576/SRR576605/...</td>\n",
        "      <td> PRJNA174561.txt</td>\n",
        "    </tr>\n",
        "    <tr>\n",
        "      <th>46  </th>\n",
        "      <td> PRJNA174561</td>\n",
        "      <td> SAMN01162767</td>\n",
        "      <td> SRX189605</td>\n",
        "      <td>  SRR642850</td>\n",
        "      <td>        Cryptococcus neoformans var. grubii Ze90-1</td>\n",
        "      <td> Illumina HiSeq 2000</td>\n",
        "      <td> PAIRED</td>\n",
        "      <td> ftp.sra.ebi.ac.uk/vol1/fastq/SRR642/SRR642850/...</td>\n",
        "      <td> PRJNA174561.txt</td>\n",
        "    </tr>\n",
        "    <tr>\n",
        "      <th>47  </th>\n",
        "      <td> PRJNA174561</td>\n",
        "      <td> SAMN01162767</td>\n",
        "      <td> SRX189605</td>\n",
        "      <td>  SRR647785</td>\n",
        "      <td>        Cryptococcus neoformans var. grubii Ze90-1</td>\n",
        "      <td> Illumina HiSeq 2000</td>\n",
        "      <td> PAIRED</td>\n",
        "      <td> ftp.sra.ebi.ac.uk/vol1/fastq/SRR647/SRR647785/...</td>\n",
        "      <td> PRJNA174561.txt</td>\n",
        "    </tr>\n",
        "  </tbody>\n",
        "</table>\n",
        "<p>1196 rows \u00d7 9 columns</p>\n",
        "</div>"
       ],
       "metadata": {},
       "output_type": "pyout",
       "prompt_number": 20,
       "text": [
        "     study_accession sample_accession experiment_accession run_accession  \\\n",
        "1770     PRJNA227924     SAMN02412465            SRX400053    SRR1063247   \n",
        "1771     PRJNA227924     SAMN02412465            SRX400052    SRR1063248   \n",
        "1742     PRJNA227914     SAMN02412455            SRX400054    SRR1063249   \n",
        "1778     PRJNA227929     SAMN02412470            SRX400055    SRR1063250   \n",
        "1779     PRJNA227930     SAMN02412471            SRX400056    SRR1063251   \n",
        "1775     PRJNA227927     SAMN02412468            SRX400057    SRR1063252   \n",
        "1349     PRJNA191409     SAMN01932923            SRX273085     SRR836535   \n",
        "1350     PRJNA191409     SAMN01932923            SRX273085     SRR836536   \n",
        "1351     PRJNA191409     SAMN01932923            SRX273085     SRR836537   \n",
        "1352     PRJNA191409     SAMN01932923            SRX273085     SRR836538   \n",
        "1353     PRJNA191409     SAMN01932923            SRX273085     SRR836539   \n",
        "1354     PRJNA191409     SAMN01932923            SRX273085     SRR841967   \n",
        "54       PRJNA174564     SAMN01162770            SRX255598     SRR797727   \n",
        "55       PRJNA174564     SAMN01162770            SRX256045     SRR798266   \n",
        "56       PRJNA174564     SAMN01162770            SRX256414     SRR798691   \n",
        "57       PRJNA174564     SAMN01162770            SRX256414     SRR798733   \n",
        "58       PRJNA174564     SAMN01162770            SRX256414     SRR799048   \n",
        "59       PRJNA174564     SAMN01162770            SRX256045     SRR823351   \n",
        "1765     PRJNA227922     SAMN02412463            SRX400058    SRR1063253   \n",
        "1766     PRJNA227922     SAMN02412463            SRX400058    SRR1063254   \n",
        "1767     PRJNA227922     SAMN02412463            SRX400058    SRR1063255   \n",
        "2        PRJNA174540     SAMN01162746            SRX189370     SRR576306   \n",
        "3        PRJNA174540     SAMN01162746            SRX189370     SRR576320   \n",
        "4        PRJNA174540     SAMN01162746            SRX189607     SRR576565   \n",
        "5        PRJNA174540     SAMN01162746            SRX189607     SRR576607   \n",
        "6        PRJNA174540     SAMN01162746            SRX189598     SRR642223   \n",
        "7        PRJNA174540     SAMN01162746            SRX189598     SRR647806   \n",
        "978      PRJNA191360     SAMN01932874            SRX255639     SRR797775   \n",
        "979      PRJNA191360     SAMN01932874            SRX256003     SRR798211   \n",
        "980      PRJNA191360     SAMN01932874            SRX256020     SRR798256   \n",
        "...              ...              ...                  ...           ...   \n",
        "1375     PRJNA191413     SAMN01932927            SRX273266     SRR837093   \n",
        "1376     PRJNA191413     SAMN01932927            SRX273266     SRR837094   \n",
        "1377     PRJNA191413     SAMN01932927            SRX273266     SRR837095   \n",
        "1378     PRJNA191413     SAMN01932927            SRX273266     SRR837096   \n",
        "1296     PRJNA191402     SAMN01932916            SRX273271     SRR837099   \n",
        "1297     PRJNA191402     SAMN01932916            SRX273271     SRR837100   \n",
        "1298     PRJNA191402     SAMN01932916            SRX273271     SRR837101   \n",
        "1299     PRJNA191402     SAMN01932916            SRX273271     SRR837102   \n",
        "1300     PRJNA191402     SAMN01932916            SRX273271     SRR837103   \n",
        "1301     PRJNA191402     SAMN01932916            SRX273271     SRR842069   \n",
        "493      PRJNA191238     SAMN01932753            SRX255617     SRR797751   \n",
        "494      PRJNA191238     SAMN01932753            SRX255666     SRR797807   \n",
        "495      PRJNA191238     SAMN01932753            SRX255666     SRR798901   \n",
        "1748     PRJNA227918     SAMN02412459            SRX400076    SRR1063282   \n",
        "1749     PRJNA227918     SAMN02412459            SRX400075    SRR1063283   \n",
        "1750     PRJNA227918     SAMN02412459            SRX400075    SRR1063284   \n",
        "346      PRJNA191211     SAMN01932726            SRX255595     SRR797739   \n",
        "347      PRJNA191211     SAMN01932726            SRX255595     SRR798674   \n",
        "348      PRJNA191211     SAMN01932726            SRX256470     SRR798792   \n",
        "349      PRJNA191211     SAMN01932726            SRX255595     SRR798887   \n",
        "350      PRJNA191211     SAMN01932726            SRX256470     SRR798955   \n",
        "351      PRJNA191211     SAMN01932726            SRX256470     SRR798991   \n",
        "352      PRJNA191211     SAMN01932726            SRX272113     SRR835471   \n",
        "353      PRJNA191211     SAMN01932726            SRX272113     SRR835472   \n",
        "42       PRJNA174561     SAMN01162767            SRX189369     SRR576305   \n",
        "43       PRJNA174561     SAMN01162767            SRX189369     SRR576317   \n",
        "44       PRJNA174561     SAMN01162767            SRX189608     SRR576559   \n",
        "45       PRJNA174561     SAMN01162767            SRX189608     SRR576605   \n",
        "46       PRJNA174561     SAMN01162767            SRX189605     SRR642850   \n",
        "47       PRJNA174561     SAMN01162767            SRX189605     SRR647785   \n",
        "\n",
        "                                        scientific_name     instrument_model  \\\n",
        "1770         Cryptococcus neoformans var. grubii 102-14  Illumina HiSeq 2000   \n",
        "1771         Cryptococcus neoformans var. grubii 102-14  Illumina HiSeq 2000   \n",
        "1742           Cryptococcus neoformans var. grubii 1033  Illumina HiSeq 2000   \n",
        "1778           Cryptococcus neoformans var. grubii 1035  Illumina HiSeq 2000   \n",
        "1779           Cryptococcus neoformans var. grubii 1052  Illumina HiSeq 2000   \n",
        "1775           Cryptococcus neoformans var. grubii 1054  Illumina HiSeq 2000   \n",
        "1349            Cryptococcus neoformans var. grubii 8-1  Illumina HiSeq 2000   \n",
        "1350            Cryptococcus neoformans var. grubii 8-1  Illumina HiSeq 2000   \n",
        "1351            Cryptococcus neoformans var. grubii 8-1  Illumina HiSeq 2000   \n",
        "1352            Cryptococcus neoformans var. grubii 8-1  Illumina HiSeq 2000   \n",
        "1353            Cryptococcus neoformans var. grubii 8-1  Illumina HiSeq 2000   \n",
        "1354            Cryptococcus neoformans var. grubii 8-1  Illumina HiSeq 2000   \n",
        "54          Cryptococcus neoformans var. grubii A1-35-8  Illumina HiSeq 2000   \n",
        "55          Cryptococcus neoformans var. grubii A1-35-8  Illumina HiSeq 2000   \n",
        "56          Cryptococcus neoformans var. grubii A1-35-8  Illumina HiSeq 2000   \n",
        "57          Cryptococcus neoformans var. grubii A1-35-8  Illumina HiSeq 2000   \n",
        "58          Cryptococcus neoformans var. grubii A1-35-8  Illumina HiSeq 2000   \n",
        "59          Cryptococcus neoformans var. grubii A1-35-8  Illumina HiSeq 2000   \n",
        "1765       Cryptococcus neoformans var. grubii A1-84-14  Illumina HiSeq 2000   \n",
        "1766       Cryptococcus neoformans var. grubii A1-84-14  Illumina HiSeq 2000   \n",
        "1767       Cryptococcus neoformans var. grubii A1-84-14  Illumina HiSeq 2000   \n",
        "2          Cryptococcus neoformans var. grubii A2-102-5  Illumina HiSeq 2000   \n",
        "3          Cryptococcus neoformans var. grubii A2-102-5  Illumina HiSeq 2000   \n",
        "4          Cryptococcus neoformans var. grubii A2-102-5  Illumina HiSeq 2000   \n",
        "5          Cryptococcus neoformans var. grubii A2-102-5  Illumina HiSeq 2000   \n",
        "6          Cryptococcus neoformans var. grubii A2-102-5  Illumina HiSeq 2000   \n",
        "7          Cryptococcus neoformans var. grubii A2-102-5  Illumina HiSeq 2000   \n",
        "978          Cryptococcus neoformans var. grubii A3-1-1  Illumina HiSeq 2000   \n",
        "979          Cryptococcus neoformans var. grubii A3-1-1  Illumina HiSeq 2000   \n",
        "980          Cryptococcus neoformans var. grubii A3-1-1  Illumina HiSeq 2000   \n",
        "...                                                 ...                  ...   \n",
        "1375         Cryptococcus neoformans var. grubii Ug2462  Illumina HiSeq 2000   \n",
        "1376         Cryptococcus neoformans var. grubii Ug2462  Illumina HiSeq 2000   \n",
        "1377         Cryptococcus neoformans var. grubii Ug2462  Illumina HiSeq 2000   \n",
        "1378         Cryptococcus neoformans var. grubii Ug2462  Illumina HiSeq 2000   \n",
        "1296         Cryptococcus neoformans var. grubii Ug2463  Illumina HiSeq 2000   \n",
        "1297         Cryptococcus neoformans var. grubii Ug2463  Illumina HiSeq 2000   \n",
        "1298         Cryptococcus neoformans var. grubii Ug2463  Illumina HiSeq 2000   \n",
        "1299         Cryptococcus neoformans var. grubii Ug2463  Illumina HiSeq 2000   \n",
        "1300         Cryptococcus neoformans var. grubii Ug2463  Illumina HiSeq 2000   \n",
        "1301         Cryptococcus neoformans var. grubii Ug2463  Illumina HiSeq 2000   \n",
        "493           Cryptococcus neoformans var. grubii WM148  Illumina HiSeq 2000   \n",
        "494           Cryptococcus neoformans var. grubii WM148  Illumina HiSeq 2000   \n",
        "495           Cryptococcus neoformans var. grubii WM148  Illumina HiSeq 2000   \n",
        "1748  Cryptococcus neoformans var. grubii WM626 (MMR...  Illumina HiSeq 2000   \n",
        "1749  Cryptococcus neoformans var. grubii WM626 (MMR...  Illumina HiSeq 2000   \n",
        "1750  Cryptococcus neoformans var. grubii WM626 (MMR...  Illumina HiSeq 2000   \n",
        "346           Cryptococcus neoformans var. grubii WM629  Illumina HiSeq 2000   \n",
        "347           Cryptococcus neoformans var. grubii WM629  Illumina HiSeq 2000   \n",
        "348           Cryptococcus neoformans var. grubii WM629  Illumina HiSeq 2000   \n",
        "349           Cryptococcus neoformans var. grubii WM629  Illumina HiSeq 2000   \n",
        "350           Cryptococcus neoformans var. grubii WM629  Illumina HiSeq 2000   \n",
        "351           Cryptococcus neoformans var. grubii WM629  Illumina HiSeq 2000   \n",
        "352           Cryptococcus neoformans var. grubii WM629  Illumina HiSeq 2000   \n",
        "353           Cryptococcus neoformans var. grubii WM629  Illumina HiSeq 2000   \n",
        "42           Cryptococcus neoformans var. grubii Ze90-1  Illumina HiSeq 2000   \n",
        "43           Cryptococcus neoformans var. grubii Ze90-1  Illumina HiSeq 2000   \n",
        "44           Cryptococcus neoformans var. grubii Ze90-1  Illumina HiSeq 2000   \n",
        "45           Cryptococcus neoformans var. grubii Ze90-1  Illumina HiSeq 2000   \n",
        "46           Cryptococcus neoformans var. grubii Ze90-1  Illumina HiSeq 2000   \n",
        "47           Cryptococcus neoformans var. grubii Ze90-1  Illumina HiSeq 2000   \n",
        "\n",
        "     library_layout                                          fastq_ftp  \\\n",
        "1770         PAIRED  ftp.sra.ebi.ac.uk/vol1/fastq/SRR106/007/SRR106...   \n",
        "1771         PAIRED  ftp.sra.ebi.ac.uk/vol1/fastq/SRR106/008/SRR106...   \n",
        "1742         PAIRED  ftp.sra.ebi.ac.uk/vol1/fastq/SRR106/009/SRR106...   \n",
        "1778         PAIRED  ftp.sra.ebi.ac.uk/vol1/fastq/SRR106/000/SRR106...   \n",
        "1779         PAIRED  ftp.sra.ebi.ac.uk/vol1/fastq/SRR106/001/SRR106...   \n",
        "1775         PAIRED  ftp.sra.ebi.ac.uk/vol1/fastq/SRR106/002/SRR106...   \n",
        "1349         PAIRED  ftp.sra.ebi.ac.uk/vol1/fastq/SRR836/SRR836535/...   \n",
        "1350         PAIRED  ftp.sra.ebi.ac.uk/vol1/fastq/SRR836/SRR836536/...   \n",
        "1351         PAIRED  ftp.sra.ebi.ac.uk/vol1/fastq/SRR836/SRR836537/...   \n",
        "1352         PAIRED  ftp.sra.ebi.ac.uk/vol1/fastq/SRR836/SRR836538/...   \n",
        "1353         PAIRED  ftp.sra.ebi.ac.uk/vol1/fastq/SRR836/SRR836539/...   \n",
        "1354         PAIRED  ftp.sra.ebi.ac.uk/vol1/fastq/SRR841/SRR841967/...   \n",
        "54           PAIRED  ftp.sra.ebi.ac.uk/vol1/fastq/SRR797/SRR797727/...   \n",
        "55           PAIRED  ftp.sra.ebi.ac.uk/vol1/fastq/SRR798/SRR798266/...   \n",
        "56           PAIRED  ftp.sra.ebi.ac.uk/vol1/fastq/SRR798/SRR798691/...   \n",
        "57           PAIRED  ftp.sra.ebi.ac.uk/vol1/fastq/SRR798/SRR798733/...   \n",
        "58           PAIRED  ftp.sra.ebi.ac.uk/vol1/fastq/SRR799/SRR799048/...   \n",
        "59           PAIRED  ftp.sra.ebi.ac.uk/vol1/fastq/SRR823/SRR823351/...   \n",
        "1765         PAIRED  ftp.sra.ebi.ac.uk/vol1/fastq/SRR106/003/SRR106...   \n",
        "1766         PAIRED  ftp.sra.ebi.ac.uk/vol1/fastq/SRR106/004/SRR106...   \n",
        "1767         PAIRED  ftp.sra.ebi.ac.uk/vol1/fastq/SRR106/005/SRR106...   \n",
        "2            PAIRED  ftp.sra.ebi.ac.uk/vol1/fastq/SRR576/SRR576306/...   \n",
        "3            PAIRED  ftp.sra.ebi.ac.uk/vol1/fastq/SRR576/SRR576320/...   \n",
        "4            SINGLE  ftp.sra.ebi.ac.uk/vol1/fastq/SRR576/SRR576565/...   \n",
        "5            SINGLE  ftp.sra.ebi.ac.uk/vol1/fastq/SRR576/SRR576607/...   \n",
        "6            PAIRED  ftp.sra.ebi.ac.uk/vol1/fastq/SRR642/SRR642223/...   \n",
        "7            PAIRED  ftp.sra.ebi.ac.uk/vol1/fastq/SRR647/SRR647806/...   \n",
        "978          PAIRED  ftp.sra.ebi.ac.uk/vol1/fastq/SRR797/SRR797775/...   \n",
        "979          PAIRED  ftp.sra.ebi.ac.uk/vol1/fastq/SRR798/SRR798211/...   \n",
        "980          PAIRED  ftp.sra.ebi.ac.uk/vol1/fastq/SRR798/SRR798256/...   \n",
        "...             ...                                                ...   \n",
        "1375         PAIRED  ftp.sra.ebi.ac.uk/vol1/fastq/SRR837/SRR837093/...   \n",
        "1376         PAIRED  ftp.sra.ebi.ac.uk/vol1/fastq/SRR837/SRR837094/...   \n",
        "1377         PAIRED  ftp.sra.ebi.ac.uk/vol1/fastq/SRR837/SRR837095/...   \n",
        "1378         PAIRED  ftp.sra.ebi.ac.uk/vol1/fastq/SRR837/SRR837096/...   \n",
        "1296         PAIRED  ftp.sra.ebi.ac.uk/vol1/fastq/SRR837/SRR837099/...   \n",
        "1297         PAIRED  ftp.sra.ebi.ac.uk/vol1/fastq/SRR837/SRR837100/...   \n",
        "1298         PAIRED  ftp.sra.ebi.ac.uk/vol1/fastq/SRR837/SRR837101/...   \n",
        "1299         PAIRED  ftp.sra.ebi.ac.uk/vol1/fastq/SRR837/SRR837102/...   \n",
        "1300         PAIRED  ftp.sra.ebi.ac.uk/vol1/fastq/SRR837/SRR837103/...   \n",
        "1301         PAIRED  ftp.sra.ebi.ac.uk/vol1/fastq/SRR842/SRR842069/...   \n",
        "493          PAIRED  ftp.sra.ebi.ac.uk/vol1/fastq/SRR797/SRR797751/...   \n",
        "494          PAIRED  ftp.sra.ebi.ac.uk/vol1/fastq/SRR797/SRR797807/...   \n",
        "495          PAIRED  ftp.sra.ebi.ac.uk/vol1/fastq/SRR798/SRR798901/...   \n",
        "1748         PAIRED  ftp.sra.ebi.ac.uk/vol1/fastq/SRR106/002/SRR106...   \n",
        "1749         PAIRED  ftp.sra.ebi.ac.uk/vol1/fastq/SRR106/003/SRR106...   \n",
        "1750         PAIRED  ftp.sra.ebi.ac.uk/vol1/fastq/SRR106/004/SRR106...   \n",
        "346          PAIRED  ftp.sra.ebi.ac.uk/vol1/fastq/SRR797/SRR797739/...   \n",
        "347          PAIRED  ftp.sra.ebi.ac.uk/vol1/fastq/SRR798/SRR798674/...   \n",
        "348          PAIRED  ftp.sra.ebi.ac.uk/vol1/fastq/SRR798/SRR798792/...   \n",
        "349          PAIRED  ftp.sra.ebi.ac.uk/vol1/fastq/SRR798/SRR798887/...   \n",
        "350          PAIRED  ftp.sra.ebi.ac.uk/vol1/fastq/SRR798/SRR798955/...   \n",
        "351          PAIRED  ftp.sra.ebi.ac.uk/vol1/fastq/SRR798/SRR798991/...   \n",
        "352          PAIRED  ftp.sra.ebi.ac.uk/vol1/fastq/SRR835/SRR835471/...   \n",
        "353          PAIRED  ftp.sra.ebi.ac.uk/vol1/fastq/SRR835/SRR835472/...   \n",
        "42           PAIRED  ftp.sra.ebi.ac.uk/vol1/fastq/SRR576/SRR576305/...   \n",
        "43           PAIRED  ftp.sra.ebi.ac.uk/vol1/fastq/SRR576/SRR576317/...   \n",
        "44           SINGLE  ftp.sra.ebi.ac.uk/vol1/fastq/SRR576/SRR576559/...   \n",
        "45           SINGLE  ftp.sra.ebi.ac.uk/vol1/fastq/SRR576/SRR576605/...   \n",
        "46           PAIRED  ftp.sra.ebi.ac.uk/vol1/fastq/SRR642/SRR642850/...   \n",
        "47           PAIRED  ftp.sra.ebi.ac.uk/vol1/fastq/SRR647/SRR647785/...   \n",
        "\n",
        "             filename  \n",
        "1770  PRJNA227924.txt  \n",
        "1771  PRJNA227924.txt  \n",
        "1742  PRJNA227914.txt  \n",
        "1778  PRJNA227929.txt  \n",
        "1779  PRJNA227930.txt  \n",
        "1775  PRJNA227927.txt  \n",
        "1349  PRJNA191409.txt  \n",
        "1350  PRJNA191409.txt  \n",
        "1351  PRJNA191409.txt  \n",
        "1352  PRJNA191409.txt  \n",
        "1353  PRJNA191409.txt  \n",
        "1354  PRJNA191409.txt  \n",
        "54    PRJNA174564.txt  \n",
        "55    PRJNA174564.txt  \n",
        "56    PRJNA174564.txt  \n",
        "57    PRJNA174564.txt  \n",
        "58    PRJNA174564.txt  \n",
        "59    PRJNA174564.txt  \n",
        "1765  PRJNA227922.txt  \n",
        "1766  PRJNA227922.txt  \n",
        "1767  PRJNA227922.txt  \n",
        "2     PRJNA174540.txt  \n",
        "3     PRJNA174540.txt  \n",
        "4     PRJNA174540.txt  \n",
        "5     PRJNA174540.txt  \n",
        "6     PRJNA174540.txt  \n",
        "7     PRJNA174540.txt  \n",
        "978   PRJNA191360.txt  \n",
        "979   PRJNA191360.txt  \n",
        "980   PRJNA191360.txt  \n",
        "...               ...  \n",
        "1375  PRJNA191413.txt  \n",
        "1376  PRJNA191413.txt  \n",
        "1377  PRJNA191413.txt  \n",
        "1378  PRJNA191413.txt  \n",
        "1296  PRJNA191402.txt  \n",
        "1297  PRJNA191402.txt  \n",
        "1298  PRJNA191402.txt  \n",
        "1299  PRJNA191402.txt  \n",
        "1300  PRJNA191402.txt  \n",
        "1301  PRJNA191402.txt  \n",
        "493   PRJNA191238.txt  \n",
        "494   PRJNA191238.txt  \n",
        "495   PRJNA191238.txt  \n",
        "1748  PRJNA227918.txt  \n",
        "1749  PRJNA227918.txt  \n",
        "1750  PRJNA227918.txt  \n",
        "346   PRJNA191211.txt  \n",
        "347   PRJNA191211.txt  \n",
        "348   PRJNA191211.txt  \n",
        "349   PRJNA191211.txt  \n",
        "350   PRJNA191211.txt  \n",
        "351   PRJNA191211.txt  \n",
        "352   PRJNA191211.txt  \n",
        "353   PRJNA191211.txt  \n",
        "42    PRJNA174561.txt  \n",
        "43    PRJNA174561.txt  \n",
        "44    PRJNA174561.txt  \n",
        "45    PRJNA174561.txt  \n",
        "46    PRJNA174561.txt  \n",
        "47    PRJNA174561.txt  \n",
        "\n",
        "[1196 rows x 9 columns]"
       ]
      }
     ],
     "prompt_number": 20
    },
    {
     "cell_type": "code",
     "collapsed": false,
     "input": [
      "import string\n",
      "\n",
      "scientific_names = df2['scientific_name'].unique()\n",
      "for names in scientific_names:\n",
      "    stripped = names.translate(string.maketrans(\"\",\"\"), string.punctuation)\n",
      "    directory_name = '_'.join(stripped.split())\n",
      "    !mkdir $directory_name\n",
      "\n",
      "# for rows in df2.iterrows():\n",
      "#     print rows['scientific_name']"
     ],
     "language": "python",
     "metadata": {},
     "outputs": [
      {
       "output_type": "stream",
       "stream": "stdout",
       "text": [
        "mkdir: cannot create directory \u2018Cryptococcus_neoformans_var_grubii_10214\u2019: File exists\r\n"
       ]
      },
      {
       "output_type": "stream",
       "stream": "stdout",
       "text": [
        "mkdir: cannot create directory \u2018Cryptococcus_neoformans_var_grubii_1033\u2019: File exists\r\n"
       ]
      },
      {
       "output_type": "stream",
       "stream": "stdout",
       "text": [
        "mkdir: cannot create directory \u2018Cryptococcus_neoformans_var_grubii_1035\u2019: File exists\r\n"
       ]
      },
      {
       "output_type": "stream",
       "stream": "stdout",
       "text": [
        "mkdir: cannot create directory \u2018Cryptococcus_neoformans_var_grubii_1052\u2019: File exists\r\n"
       ]
      },
      {
       "output_type": "stream",
       "stream": "stdout",
       "text": [
        "mkdir: cannot create directory \u2018Cryptococcus_neoformans_var_grubii_1054\u2019: File exists\r\n"
       ]
      },
      {
       "output_type": "stream",
       "stream": "stdout",
       "text": [
        "mkdir: cannot create directory \u2018Cryptococcus_neoformans_var_grubii_81\u2019: File exists\r\n"
       ]
      },
      {
       "output_type": "stream",
       "stream": "stdout",
       "text": [
        "mkdir: cannot create directory \u2018Cryptococcus_neoformans_var_grubii_A1358\u2019: File exists\r\n"
       ]
      },
      {
       "output_type": "stream",
       "stream": "stdout",
       "text": [
        "mkdir: cannot create directory \u2018Cryptococcus_neoformans_var_grubii_A18414\u2019: File exists\r\n"
       ]
      },
      {
       "output_type": "stream",
       "stream": "stdout",
       "text": [
        "mkdir: cannot create directory \u2018Cryptococcus_neoformans_var_grubii_A21025\u2019: File exists\r\n"
       ]
      },
      {
       "output_type": "stream",
       "stream": "stdout",
       "text": [
        "mkdir: cannot create directory \u2018Cryptococcus_neoformans_var_grubii_A311\u2019: File exists\r\n"
       ]
      },
      {
       "output_type": "stream",
       "stream": "stdout",
       "text": [
        "mkdir: cannot create directory \u2018Cryptococcus_neoformans_var_grubii_A33820\u2019: File exists\r\n"
       ]
      },
      {
       "output_type": "stream",
       "stream": "stdout",
       "text": [
        "mkdir: cannot create directory \u2018Cryptococcus_neoformans_var_grubii_A4112\u2019: File exists\r\n"
       ]
      },
      {
       "output_type": "stream",
       "stream": "stdout",
       "text": [
        "mkdir: cannot create directory \u2018Cryptococcus_neoformans_var_grubii_A4346\u2019: File exists\r\n"
       ]
      },
      {
       "output_type": "stream",
       "stream": "stdout",
       "text": [
        "mkdir: cannot create directory \u2018Cryptococcus_neoformans_var_grubii_A53517\u2019: File exists\r\n"
       ]
      },
      {
       "output_type": "stream",
       "stream": "stdout",
       "text": [
        "mkdir: cannot create directory \u2018Cryptococcus_neoformans_var_grubii_A73523\u2019: File exists\r\n"
       ]
      },
      {
       "output_type": "stream",
       "stream": "stdout",
       "text": [
        "mkdir: cannot create directory \u2018Cryptococcus_neoformans_var_grubii_AD168a\u2019: File exists\r\n"
       ]
      },
      {
       "output_type": "stream",
       "stream": "stdout",
       "text": [
        "mkdir: cannot create directory \u2018Cryptococcus_neoformans_var_grubii_AD17a\u2019: File exists\r\n"
       ]
      },
      {
       "output_type": "stream",
       "stream": "stdout",
       "text": [
        "mkdir: cannot create directory \u2018Cryptococcus_neoformans_var_grubii_AD183a\u2019: File exists\r\n"
       ]
      },
      {
       "output_type": "stream",
       "stream": "stdout",
       "text": [
        "mkdir: cannot create directory \u2018Cryptococcus_neoformans_var_grubii_AD186a\u2019: File exists\r\n"
       ]
      },
      {
       "output_type": "stream",
       "stream": "stdout",
       "text": [
        "mkdir: cannot create directory \u2018Cryptococcus_neoformans_var_grubii_AD190a\u2019: File exists\r\n"
       ]
      },
      {
       "output_type": "stream",
       "stream": "stdout",
       "text": [
        "mkdir: cannot create directory \u2018Cryptococcus_neoformans_var_grubii_AD195a\u2019: File exists\r\n"
       ]
      },
      {
       "output_type": "stream",
       "stream": "stdout",
       "text": [
        "mkdir: cannot create directory \u2018Cryptococcus_neoformans_var_grubii_AD204a\u2019: File exists\r\n"
       ]
      },
      {
       "output_type": "stream",
       "stream": "stdout",
       "text": [
        "mkdir: cannot create directory \u2018Cryptococcus_neoformans_var_grubii_AD260a\u2019: File exists\r\n"
       ]
      },
      {
       "output_type": "stream",
       "stream": "stdout",
       "text": [
        "mkdir: cannot create directory \u2018Cryptococcus_neoformans_var_grubii_AD26a\u2019: File exists\r\n"
       ]
      },
      {
       "output_type": "stream",
       "stream": "stdout",
       "text": [
        "mkdir: cannot create directory \u2018Cryptococcus_neoformans_var_grubii_AD282a\u2019: File exists\r\n"
       ]
      },
      {
       "output_type": "stream",
       "stream": "stdout",
       "text": [
        "mkdir: cannot create directory \u2018Cryptococcus_neoformans_var_grubii_AD299a\u2019: File exists\r\n"
       ]
      },
      {
       "output_type": "stream",
       "stream": "stdout",
       "text": [
        "mkdir: cannot create directory \u2018Cryptococcus_neoformans_var_grubii_AD311a\u2019: File exists\r\n"
       ]
      },
      {
       "output_type": "stream",
       "stream": "stdout",
       "text": [
        "mkdir: cannot create directory \u2018Cryptococcus_neoformans_var_grubii_AD341a\u2019: File exists\r\n"
       ]
      },
      {
       "output_type": "stream",
       "stream": "stdout",
       "text": [
        "mkdir: cannot create directory \u2018Cryptococcus_neoformans_var_grubii_AD355a\u2019: File exists\r\n"
       ]
      },
      {
       "output_type": "stream",
       "stream": "stdout",
       "text": [
        "mkdir: cannot create directory \u2018Cryptococcus_neoformans_var_grubii_AD358\u2019: File exists\r\n"
       ]
      },
      {
       "output_type": "stream",
       "stream": "stdout",
       "text": [
        "mkdir: cannot create directory \u2018Cryptococcus_neoformans_var_grubii_AD383a\u2019: File exists\r\n"
       ]
      },
      {
       "output_type": "stream",
       "stream": "stdout",
       "text": [
        "mkdir: cannot create directory \u2018Cryptococcus_neoformans_var_grubii_AD395a\u2019: File exists\r\n"
       ]
      },
      {
       "output_type": "stream",
       "stream": "stdout",
       "text": [
        "mkdir: cannot create directory \u2018Cryptococcus_neoformans_var_grubii_AD39a\u2019: File exists\r\n"
       ]
      },
      {
       "output_type": "stream",
       "stream": "stdout",
       "text": [
        "mkdir: cannot create directory \u2018Cryptococcus_neoformans_var_grubii_AD447a\u2019: File exists\r\n"
       ]
      },
      {
       "output_type": "stream",
       "stream": "stdout",
       "text": [
        "mkdir: cannot create directory \u2018Cryptococcus_neoformans_var_grubii_AD463a\u2019: File exists\r\n"
       ]
      },
      {
       "output_type": "stream",
       "stream": "stdout",
       "text": [
        "mkdir: cannot create directory \u2018Cryptococcus_neoformans_var_grubii_AD476a\u2019: File exists\r\n"
       ]
      },
      {
       "output_type": "stream",
       "stream": "stdout",
       "text": [
        "mkdir: cannot create directory \u2018Cryptococcus_neoformans_var_grubii_AD492a\u2019: File exists\r\n"
       ]
      },
      {
       "output_type": "stream",
       "stream": "stdout",
       "text": [
        "mkdir: cannot create directory \u2018Cryptococcus_neoformans_var_grubii_AD539a\u2019: File exists\r\n"
       ]
      },
      {
       "output_type": "stream",
       "stream": "stdout",
       "text": [
        "mkdir: cannot create directory \u2018Cryptococcus_neoformans_var_grubii_AD545a\u2019: File exists\r\n"
       ]
      },
      {
       "output_type": "stream",
       "stream": "stdout",
       "text": [
        "mkdir: cannot create directory \u2018Cryptococcus_neoformans_var_grubii_AD553a\u2019: File exists\r\n"
       ]
      },
      {
       "output_type": "stream",
       "stream": "stdout",
       "text": [
        "mkdir: cannot create directory \u2018Cryptococcus_neoformans_var_grubii_AD567a\u2019: File exists\r\n"
       ]
      },
      {
       "output_type": "stream",
       "stream": "stdout",
       "text": [
        "mkdir: cannot create directory \u2018Cryptococcus_neoformans_var_grubii_AD654a\u2019: File exists\r\n"
       ]
      },
      {
       "output_type": "stream",
       "stream": "stdout",
       "text": [
        "mkdir: cannot create directory \u2018Cryptococcus_neoformans_var_grubii_AD655a\u2019: File exists\r\n"
       ]
      },
      {
       "output_type": "stream",
       "stream": "stdout",
       "text": [
        "mkdir: cannot create directory \u2018Cryptococcus_neoformans_var_grubii_Arg1366\u2019: File exists\r\n"
       ]
      },
      {
       "output_type": "stream",
       "stream": "stdout",
       "text": [
        "mkdir: cannot create directory \u2018Cryptococcus_neoformans_var_grubii_Bt10\u2019: File exists\r\n"
       ]
      },
      {
       "output_type": "stream",
       "stream": "stdout",
       "text": [
        "mkdir: cannot create directory \u2018Cryptococcus_neoformans_var_grubii_Bt100\u2019: File exists\r\n"
       ]
      },
      {
       "output_type": "stream",
       "stream": "stdout",
       "text": [
        "mkdir: cannot create directory \u2018Cryptococcus_neoformans_var_grubii_Bt101\u2019: File exists\r\n"
       ]
      },
      {
       "output_type": "stream",
       "stream": "stdout",
       "text": [
        "mkdir: cannot create directory \u2018Cryptococcus_neoformans_var_grubii_Bt102\u2019: File exists\r\n"
       ]
      },
      {
       "output_type": "stream",
       "stream": "stdout",
       "text": [
        "mkdir: cannot create directory \u2018Cryptococcus_neoformans_var_grubii_Bt103\u2019: File exists\r\n"
       ]
      },
      {
       "output_type": "stream",
       "stream": "stdout",
       "text": [
        "mkdir: cannot create directory \u2018Cryptococcus_neoformans_var_grubii_Bt104\u2019: File exists\r\n"
       ]
      },
      {
       "output_type": "stream",
       "stream": "stdout",
       "text": [
        "mkdir: cannot create directory \u2018Cryptococcus_neoformans_var_grubii_Bt105\u2019: File exists\r\n"
       ]
      },
      {
       "output_type": "stream",
       "stream": "stdout",
       "text": [
        "mkdir: cannot create directory \u2018Cryptococcus_neoformans_var_grubii_Bt106\u2019: File exists\r\n"
       ]
      },
      {
       "output_type": "stream",
       "stream": "stdout",
       "text": [
        "mkdir: cannot create directory \u2018Cryptococcus_neoformans_var_grubii_Bt107\u2019: File exists\r\n"
       ]
      },
      {
       "output_type": "stream",
       "stream": "stdout",
       "text": [
        "mkdir: cannot create directory \u2018Cryptococcus_neoformans_var_grubii_Bt108\u2019: File exists\r\n"
       ]
      },
      {
       "output_type": "stream",
       "stream": "stdout",
       "text": [
        "mkdir: cannot create directory \u2018Cryptococcus_neoformans_var_grubii_Bt109\u2019: File exists\r\n"
       ]
      },
      {
       "output_type": "stream",
       "stream": "stdout",
       "text": [
        "mkdir: cannot create directory \u2018Cryptococcus_neoformans_var_grubii_Bt11\u2019: File exists\r\n"
       ]
      },
      {
       "output_type": "stream",
       "stream": "stdout",
       "text": [
        "mkdir: cannot create directory \u2018Cryptococcus_neoformans_var_grubii_Bt110\u2019: File exists\r\n"
       ]
      },
      {
       "output_type": "stream",
       "stream": "stdout",
       "text": [
        "mkdir: cannot create directory \u2018Cryptococcus_neoformans_var_grubii_Bt111\u2019: File exists\r\n"
       ]
      },
      {
       "output_type": "stream",
       "stream": "stdout",
       "text": [
        "mkdir: cannot create directory \u2018Cryptococcus_neoformans_var_grubii_Bt114\u2019: File exists\r\n"
       ]
      },
      {
       "output_type": "stream",
       "stream": "stdout",
       "text": [
        "mkdir: cannot create directory \u2018Cryptococcus_neoformans_var_grubii_Bt115\u2019: File exists\r\n"
       ]
      },
      {
       "output_type": "stream",
       "stream": "stdout",
       "text": [
        "mkdir: cannot create directory \u2018Cryptococcus_neoformans_var_grubii_Bt116\u2019: File exists\r\n"
       ]
      },
      {
       "output_type": "stream",
       "stream": "stdout",
       "text": [
        "mkdir: cannot create directory \u2018Cryptococcus_neoformans_var_grubii_Bt117\u2019: File exists\r\n"
       ]
      },
      {
       "output_type": "stream",
       "stream": "stdout",
       "text": [
        "mkdir: cannot create directory \u2018Cryptococcus_neoformans_var_grubii_Bt118\u2019: File exists\r\n"
       ]
      },
      {
       "output_type": "stream",
       "stream": "stdout",
       "text": [
        "mkdir: cannot create directory \u2018Cryptococcus_neoformans_var_grubii_Bt119\u2019: File exists\r\n"
       ]
      },
      {
       "output_type": "stream",
       "stream": "stdout",
       "text": [
        "mkdir: cannot create directory \u2018Cryptococcus_neoformans_var_grubii_Bt120\u2019: File exists\r\n"
       ]
      },
      {
       "output_type": "stream",
       "stream": "stdout",
       "text": [
        "mkdir: cannot create directory \u2018Cryptococcus_neoformans_var_grubii_Bt121\u2019: File exists\r\n"
       ]
      },
      {
       "output_type": "stream",
       "stream": "stdout",
       "text": [
        "mkdir: cannot create directory \u2018Cryptococcus_neoformans_var_grubii_Bt123\u2019: File exists\r\n"
       ]
      },
      {
       "output_type": "stream",
       "stream": "stdout",
       "text": [
        "mkdir: cannot create directory \u2018Cryptococcus_neoformans_var_grubii_Bt125\u2019: File exists\r\n"
       ]
      },
      {
       "output_type": "stream",
       "stream": "stdout",
       "text": [
        "mkdir: cannot create directory \u2018Cryptococcus_neoformans_var_grubii_Bt126\u2019: File exists\r\n"
       ]
      },
      {
       "output_type": "stream",
       "stream": "stdout",
       "text": [
        "mkdir: cannot create directory \u2018Cryptococcus_neoformans_var_grubii_Bt127\u2019: File exists\r\n"
       ]
      },
      {
       "output_type": "stream",
       "stream": "stdout",
       "text": [
        "mkdir: cannot create directory \u2018Cryptococcus_neoformans_var_grubii_Bt128\u2019: File exists\r\n"
       ]
      },
      {
       "output_type": "stream",
       "stream": "stdout",
       "text": [
        "mkdir: cannot create directory \u2018Cryptococcus_neoformans_var_grubii_Bt129\u2019: File exists\r\n"
       ]
      },
      {
       "output_type": "stream",
       "stream": "stdout",
       "text": [
        "mkdir: cannot create directory \u2018Cryptococcus_neoformans_var_grubii_Bt130\u2019: File exists\r\n"
       ]
      },
      {
       "output_type": "stream",
       "stream": "stdout",
       "text": [
        "mkdir: cannot create directory \u2018Cryptococcus_neoformans_var_grubii_Bt131\u2019: File exists\r\n"
       ]
      },
      {
       "output_type": "stream",
       "stream": "stdout",
       "text": [
        "mkdir: cannot create directory \u2018Cryptococcus_neoformans_var_grubii_Bt133\u2019: File exists\r\n"
       ]
      },
      {
       "output_type": "stream",
       "stream": "stdout",
       "text": [
        "mkdir: cannot create directory \u2018Cryptococcus_neoformans_var_grubii_Bt134\u2019: File exists\r\n"
       ]
      },
      {
       "output_type": "stream",
       "stream": "stdout",
       "text": [
        "mkdir: cannot create directory \u2018Cryptococcus_neoformans_var_grubii_Bt136\u2019: File exists\r\n"
       ]
      },
      {
       "output_type": "stream",
       "stream": "stdout",
       "text": [
        "mkdir: cannot create directory \u2018Cryptococcus_neoformans_var_grubii_Bt137\u2019: File exists\r\n"
       ]
      },
      {
       "output_type": "stream",
       "stream": "stdout",
       "text": [
        "mkdir: cannot create directory \u2018Cryptococcus_neoformans_var_grubii_Bt138\u2019: File exists\r\n"
       ]
      },
      {
       "output_type": "stream",
       "stream": "stdout",
       "text": [
        "mkdir: cannot create directory \u2018Cryptococcus_neoformans_var_grubii_Bt139\u2019: File exists\r\n"
       ]
      },
      {
       "output_type": "stream",
       "stream": "stdout",
       "text": [
        "mkdir: cannot create directory \u2018Cryptococcus_neoformans_var_grubii_Bt141\u2019: File exists\r\n"
       ]
      },
      {
       "output_type": "stream",
       "stream": "stdout",
       "text": [
        "mkdir: cannot create directory \u2018Cryptococcus_neoformans_var_grubii_Bt142\u2019: File exists\r\n"
       ]
      },
      {
       "output_type": "stream",
       "stream": "stdout",
       "text": [
        "mkdir: cannot create directory \u2018Cryptococcus_neoformans_var_grubii_Bt143\u2019: File exists\r\n"
       ]
      },
      {
       "output_type": "stream",
       "stream": "stdout",
       "text": [
        "mkdir: cannot create directory \u2018Cryptococcus_neoformans_var_grubii_Bt146\u2019: File exists\r\n"
       ]
      },
      {
       "output_type": "stream",
       "stream": "stdout",
       "text": [
        "mkdir: cannot create directory \u2018Cryptococcus_neoformans_var_grubii_Bt147\u2019: File exists\r\n"
       ]
      },
      {
       "output_type": "stream",
       "stream": "stdout",
       "text": [
        "mkdir: cannot create directory \u2018Cryptococcus_neoformans_var_grubii_Bt148\u2019: File exists\r\n"
       ]
      },
      {
       "output_type": "stream",
       "stream": "stdout",
       "text": [
        "mkdir: cannot create directory \u2018Cryptococcus_neoformans_var_grubii_Bt149\u2019: File exists\r\n"
       ]
      },
      {
       "output_type": "stream",
       "stream": "stdout",
       "text": [
        "mkdir: cannot create directory \u2018Cryptococcus_neoformans_var_grubii_Bt150\u2019: File exists\r\n"
       ]
      },
      {
       "output_type": "stream",
       "stream": "stdout",
       "text": [
        "mkdir: cannot create directory \u2018Cryptococcus_neoformans_var_grubii_Bt151\u2019: File exists\r\n"
       ]
      },
      {
       "output_type": "stream",
       "stream": "stdout",
       "text": [
        "mkdir: cannot create directory \u2018Cryptococcus_neoformans_var_grubii_Bt152\u2019: File exists\r\n"
       ]
      },
      {
       "output_type": "stream",
       "stream": "stdout",
       "text": [
        "mkdir: cannot create directory \u2018Cryptococcus_neoformans_var_grubii_Bt153\u2019: File exists\r\n"
       ]
      },
      {
       "output_type": "stream",
       "stream": "stdout",
       "text": [
        "mkdir: cannot create directory \u2018Cryptococcus_neoformans_var_grubii_Bt154\u2019: File exists\r\n"
       ]
      },
      {
       "output_type": "stream",
       "stream": "stdout",
       "text": [
        "mkdir: cannot create directory \u2018Cryptococcus_neoformans_var_grubii_Bt155\u2019: File exists\r\n"
       ]
      },
      {
       "output_type": "stream",
       "stream": "stdout",
       "text": [
        "mkdir: cannot create directory \u2018Cryptococcus_neoformans_var_grubii_Bt156\u2019: File exists\r\n"
       ]
      },
      {
       "output_type": "stream",
       "stream": "stdout",
       "text": [
        "mkdir: cannot create directory \u2018Cryptococcus_neoformans_var_grubii_Bt157\u2019: File exists\r\n"
       ]
      },
      {
       "output_type": "stream",
       "stream": "stdout",
       "text": [
        "mkdir: cannot create directory \u2018Cryptococcus_neoformans_var_grubii_Bt158\u2019: File exists\r\n"
       ]
      },
      {
       "output_type": "stream",
       "stream": "stdout",
       "text": [
        "mkdir: cannot create directory \u2018Cryptococcus_neoformans_var_grubii_Bt160\u2019: File exists\r\n"
       ]
      },
      {
       "output_type": "stream",
       "stream": "stdout",
       "text": [
        "mkdir: cannot create directory \u2018Cryptococcus_neoformans_var_grubii_Bt161\u2019: File exists\r\n"
       ]
      },
      {
       "output_type": "stream",
       "stream": "stdout",
       "text": [
        "mkdir: cannot create directory \u2018Cryptococcus_neoformans_var_grubii_Bt162\u2019: File exists\r\n"
       ]
      },
      {
       "output_type": "stream",
       "stream": "stdout",
       "text": [
        "mkdir: cannot create directory \u2018Cryptococcus_neoformans_var_grubii_Bt163\u2019: File exists\r\n"
       ]
      },
      {
       "output_type": "stream",
       "stream": "stdout",
       "text": [
        "mkdir: cannot create directory \u2018Cryptococcus_neoformans_var_grubii_Bt203\u2019: File exists\r\n"
       ]
      },
      {
       "output_type": "stream",
       "stream": "stdout",
       "text": [
        "mkdir: cannot create directory \u2018Cryptococcus_neoformans_var_grubii_Bt204\u2019: File exists\r\n"
       ]
      },
      {
       "output_type": "stream",
       "stream": "stdout",
       "text": [
        "mkdir: cannot create directory \u2018Cryptococcus_neoformans_var_grubii_Bt205\u2019: File exists\r\n"
       ]
      },
      {
       "output_type": "stream",
       "stream": "stdout",
       "text": [
        "mkdir: cannot create directory \u2018Cryptococcus_neoformans_var_grubii_Bt207\u2019: File exists\r\n"
       ]
      },
      {
       "output_type": "stream",
       "stream": "stdout",
       "text": [
        "mkdir: cannot create directory \u2018Cryptococcus_neoformans_var_grubii_Bt208\u2019: File exists\r\n"
       ]
      },
      {
       "output_type": "stream",
       "stream": "stdout",
       "text": [
        "mkdir: cannot create directory \u2018Cryptococcus_neoformans_var_grubii_Bt209\u2019: File exists\r\n"
       ]
      },
      {
       "output_type": "stream",
       "stream": "stdout",
       "text": [
        "mkdir: cannot create directory \u2018Cryptococcus_neoformans_var_grubii_Bt210\u2019: File exists\r\n"
       ]
      },
      {
       "output_type": "stream",
       "stream": "stdout",
       "text": [
        "mkdir: cannot create directory \u2018Cryptococcus_neoformans_var_grubii_Bt211\u2019: File exists\r\n"
       ]
      },
      {
       "output_type": "stream",
       "stream": "stdout",
       "text": [
        "mkdir: cannot create directory \u2018Cryptococcus_neoformans_var_grubii_Bt212\u2019: File exists\r\n"
       ]
      },
      {
       "output_type": "stream",
       "stream": "stdout",
       "text": [
        "mkdir: cannot create directory \u2018Cryptococcus_neoformans_var_grubii_Bt213\u2019: File exists\r\n"
       ]
      },
      {
       "output_type": "stream",
       "stream": "stdout",
       "text": [
        "mkdir: cannot create directory \u2018Cryptococcus_neoformans_var_grubii_Bt214\u2019: File exists\r\n"
       ]
      },
      {
       "output_type": "stream",
       "stream": "stdout",
       "text": [
        "mkdir: cannot create directory \u2018Cryptococcus_neoformans_var_grubii_Bt22\u2019: File exists\r\n"
       ]
      },
      {
       "output_type": "stream",
       "stream": "stdout",
       "text": [
        "mkdir: cannot create directory \u2018Cryptococcus_neoformans_var_grubii_Bt23\u2019: File exists\r\n"
       ]
      },
      {
       "output_type": "stream",
       "stream": "stdout",
       "text": [
        "mkdir: cannot create directory \u2018Cryptococcus_neoformans_var_grubii_Bt24\u2019: File exists\r\n"
       ]
      },
      {
       "output_type": "stream",
       "stream": "stdout",
       "text": [
        "mkdir: cannot create directory \u2018Cryptococcus_neoformans_var_grubii_Bt25\u2019: File exists\r\n"
       ]
      },
      {
       "output_type": "stream",
       "stream": "stdout",
       "text": [
        "mkdir: cannot create directory \u2018Cryptococcus_neoformans_var_grubii_Bt27\u2019: File exists\r\n"
       ]
      },
      {
       "output_type": "stream",
       "stream": "stdout",
       "text": [
        "mkdir: cannot create directory \u2018Cryptococcus_neoformans_var_grubii_Bt28\u2019: File exists\r\n"
       ]
      },
      {
       "output_type": "stream",
       "stream": "stdout",
       "text": [
        "mkdir: cannot create directory \u2018Cryptococcus_neoformans_var_grubii_Bt29\u2019: File exists\r\n"
       ]
      },
      {
       "output_type": "stream",
       "stream": "stdout",
       "text": [
        "mkdir: cannot create directory \u2018Cryptococcus_neoformans_var_grubii_Bt3\u2019: File exists\r\n"
       ]
      },
      {
       "output_type": "stream",
       "stream": "stdout",
       "text": [
        "mkdir: cannot create directory \u2018Cryptococcus_neoformans_var_grubii_Bt30\u2019: File exists\r\n"
       ]
      },
      {
       "output_type": "stream",
       "stream": "stdout",
       "text": [
        "mkdir: cannot create directory \u2018Cryptococcus_neoformans_var_grubii_Bt31\u2019: File exists\r\n"
       ]
      },
      {
       "output_type": "stream",
       "stream": "stdout",
       "text": [
        "mkdir: cannot create directory \u2018Cryptococcus_neoformans_var_grubii_Bt32\u2019: File exists\r\n"
       ]
      },
      {
       "output_type": "stream",
       "stream": "stdout",
       "text": [
        "mkdir: cannot create directory \u2018Cryptococcus_neoformans_var_grubii_Bt33\u2019: File exists\r\n"
       ]
      },
      {
       "output_type": "stream",
       "stream": "stdout",
       "text": [
        "mkdir: cannot create directory \u2018Cryptococcus_neoformans_var_grubii_Bt34\u2019: File exists\r\n"
       ]
      },
      {
       "output_type": "stream",
       "stream": "stdout",
       "text": [
        "mkdir: cannot create directory \u2018Cryptococcus_neoformans_var_grubii_Bt36\u2019: File exists\r\n"
       ]
      },
      {
       "output_type": "stream",
       "stream": "stdout",
       "text": [
        "mkdir: cannot create directory \u2018Cryptococcus_neoformans_var_grubii_Bt37\u2019: File exists\r\n"
       ]
      },
      {
       "output_type": "stream",
       "stream": "stdout",
       "text": [
        "mkdir: cannot create directory \u2018Cryptococcus_neoformans_var_grubii_Bt38\u2019: File exists\r\n"
       ]
      },
      {
       "output_type": "stream",
       "stream": "stdout",
       "text": [
        "mkdir: cannot create directory \u2018Cryptococcus_neoformans_var_grubii_Bt39\u2019: File exists\r\n"
       ]
      },
      {
       "output_type": "stream",
       "stream": "stdout",
       "text": [
        "mkdir: cannot create directory \u2018Cryptococcus_neoformans_var_grubii_Bt4\u2019: File exists\r\n"
       ]
      },
      {
       "output_type": "stream",
       "stream": "stdout",
       "text": [
        "mkdir: cannot create directory \u2018Cryptococcus_neoformans_var_grubii_Bt40\u2019: File exists\r\n"
       ]
      },
      {
       "output_type": "stream",
       "stream": "stdout",
       "text": [
        "mkdir: cannot create directory \u2018Cryptococcus_neoformans_var_grubii_Bt41\u2019: File exists\r\n"
       ]
      },
      {
       "output_type": "stream",
       "stream": "stdout",
       "text": [
        "mkdir: cannot create directory \u2018Cryptococcus_neoformans_var_grubii_Bt42\u2019: File exists\r\n"
       ]
      },
      {
       "output_type": "stream",
       "stream": "stdout",
       "text": [
        "mkdir: cannot create directory \u2018Cryptococcus_neoformans_var_grubii_Bt48\u2019: File exists\r\n"
       ]
      },
      {
       "output_type": "stream",
       "stream": "stdout",
       "text": [
        "mkdir: cannot create directory \u2018Cryptococcus_neoformans_var_grubii_Bt49\u2019: File exists\r\n"
       ]
      },
      {
       "output_type": "stream",
       "stream": "stdout",
       "text": [
        "mkdir: cannot create directory \u2018Cryptococcus_neoformans_var_grubii_Bt5\u2019: File exists\r\n"
       ]
      },
      {
       "output_type": "stream",
       "stream": "stdout",
       "text": [
        "mkdir: cannot create directory \u2018Cryptococcus_neoformans_var_grubii_Bt50\u2019: File exists\r\n"
       ]
      },
      {
       "output_type": "stream",
       "stream": "stdout",
       "text": [
        "mkdir: cannot create directory \u2018Cryptococcus_neoformans_var_grubii_Bt51\u2019: File exists\r\n"
       ]
      },
      {
       "output_type": "stream",
       "stream": "stdout",
       "text": [
        "mkdir: cannot create directory \u2018Cryptococcus_neoformans_var_grubii_Bt52\u2019: File exists\r\n"
       ]
      },
      {
       "output_type": "stream",
       "stream": "stdout",
       "text": [
        "mkdir: cannot create directory \u2018Cryptococcus_neoformans_var_grubii_Bt53\u2019: File exists\r\n"
       ]
      },
      {
       "output_type": "stream",
       "stream": "stdout",
       "text": [
        "mkdir: cannot create directory \u2018Cryptococcus_neoformans_var_grubii_Bt54\u2019: File exists\r\n"
       ]
      },
      {
       "output_type": "stream",
       "stream": "stdout",
       "text": [
        "mkdir: cannot create directory \u2018Cryptococcus_neoformans_var_grubii_Bt55\u2019: File exists\r\n"
       ]
      },
      {
       "output_type": "stream",
       "stream": "stdout",
       "text": [
        "mkdir: cannot create directory \u2018Cryptococcus_neoformans_var_grubii_Bt56\u2019: File exists\r\n"
       ]
      },
      {
       "output_type": "stream",
       "stream": "stdout",
       "text": [
        "mkdir: cannot create directory \u2018Cryptococcus_neoformans_var_grubii_Bt57\u2019: File exists\r\n"
       ]
      },
      {
       "output_type": "stream",
       "stream": "stdout",
       "text": [
        "mkdir: cannot create directory \u2018Cryptococcus_neoformans_var_grubii_Bt58\u2019: File exists\r\n"
       ]
      },
      {
       "output_type": "stream",
       "stream": "stdout",
       "text": [
        "mkdir: cannot create directory \u2018Cryptococcus_neoformans_var_grubii_Bt59\u2019: File exists\r\n"
       ]
      },
      {
       "output_type": "stream",
       "stream": "stdout",
       "text": [
        "mkdir: cannot create directory \u2018Cryptococcus_neoformans_var_grubii_Bt6\u2019: File exists\r\n"
       ]
      },
      {
       "output_type": "stream",
       "stream": "stdout",
       "text": [
        "mkdir: cannot create directory \u2018Cryptococcus_neoformans_var_grubii_Bt65\u2019: File exists\r\n"
       ]
      },
      {
       "output_type": "stream",
       "stream": "stdout",
       "text": [
        "mkdir: cannot create directory \u2018Cryptococcus_neoformans_var_grubii_Bt72\u2019: File exists\r\n"
       ]
      },
      {
       "output_type": "stream",
       "stream": "stdout",
       "text": [
        "mkdir: cannot create directory \u2018Cryptococcus_neoformans_var_grubii_Bt75\u2019: File exists\r\n"
       ]
      },
      {
       "output_type": "stream",
       "stream": "stdout",
       "text": [
        "mkdir: cannot create directory \u2018Cryptococcus_neoformans_var_grubii_Bt76\u2019: File exists\r\n"
       ]
      },
      {
       "output_type": "stream",
       "stream": "stdout",
       "text": [
        "mkdir: cannot create directory \u2018Cryptococcus_neoformans_var_grubii_Bt77\u2019: File exists\r\n"
       ]
      },
      {
       "output_type": "stream",
       "stream": "stdout",
       "text": [
        "mkdir: cannot create directory \u2018Cryptococcus_neoformans_var_grubii_Bt78\u2019: File exists\r\n"
       ]
      },
      {
       "output_type": "stream",
       "stream": "stdout",
       "text": [
        "mkdir: cannot create directory \u2018Cryptococcus_neoformans_var_grubii_Bt79\u2019: File exists\r\n"
       ]
      },
      {
       "output_type": "stream",
       "stream": "stdout",
       "text": [
        "mkdir: cannot create directory \u2018Cryptococcus_neoformans_var_grubii_Bt8\u2019: File exists\r\n"
       ]
      },
      {
       "output_type": "stream",
       "stream": "stdout",
       "text": [
        "mkdir: cannot create directory \u2018Cryptococcus_neoformans_var_grubii_Bt81\u2019: File exists\r\n"
       ]
      },
      {
       "output_type": "stream",
       "stream": "stdout",
       "text": [
        "mkdir: cannot create directory \u2018Cryptococcus_neoformans_var_grubii_Bt83\u2019: File exists\r\n"
       ]
      },
      {
       "output_type": "stream",
       "stream": "stdout",
       "text": [
        "mkdir: cannot create directory \u2018Cryptococcus_neoformans_var_grubii_Bt84\u2019: File exists\r\n"
       ]
      },
      {
       "output_type": "stream",
       "stream": "stdout",
       "text": [
        "mkdir: cannot create directory \u2018Cryptococcus_neoformans_var_grubii_Bt87\u2019: File exists\r\n"
       ]
      },
      {
       "output_type": "stream",
       "stream": "stdout",
       "text": [
        "mkdir: cannot create directory \u2018Cryptococcus_neoformans_var_grubii_Bt88\u2019: File exists\r\n"
       ]
      },
      {
       "output_type": "stream",
       "stream": "stdout",
       "text": [
        "mkdir: cannot create directory \u2018Cryptococcus_neoformans_var_grubii_Bt89\u2019: File exists\r\n"
       ]
      },
      {
       "output_type": "stream",
       "stream": "stdout",
       "text": [
        "mkdir: cannot create directory \u2018Cryptococcus_neoformans_var_grubii_Bt9\u2019: File exists\r\n"
       ]
      },
      {
       "output_type": "stream",
       "stream": "stdout",
       "text": [
        "mkdir: cannot create directory \u2018Cryptococcus_neoformans_var_grubii_Bt90\u2019: File exists\r\n"
       ]
      },
      {
       "output_type": "stream",
       "stream": "stdout",
       "text": [
        "mkdir: cannot create directory \u2018Cryptococcus_neoformans_var_grubii_Bt92\u2019: File exists\r\n"
       ]
      },
      {
       "output_type": "stream",
       "stream": "stdout",
       "text": [
        "mkdir: cannot create directory \u2018Cryptococcus_neoformans_var_grubii_Bt93\u2019: File exists\r\n"
       ]
      },
      {
       "output_type": "stream",
       "stream": "stdout",
       "text": [
        "mkdir: cannot create directory \u2018Cryptococcus_neoformans_var_grubii_Bt95\u2019: File exists\r\n"
       ]
      },
      {
       "output_type": "stream",
       "stream": "stdout",
       "text": [
        "mkdir: cannot create directory \u2018Cryptococcus_neoformans_var_grubii_C12\u2019: File exists\r\n"
       ]
      },
      {
       "output_type": "stream",
       "stream": "stdout",
       "text": [
        "mkdir: cannot create directory \u2018Cryptococcus_neoformans_var_grubii_C27\u2019: File exists\r\n"
       ]
      },
      {
       "output_type": "stream",
       "stream": "stdout",
       "text": [
        "mkdir: cannot create directory \u2018Cryptococcus_neoformans_var_grubii_D171\u2019: File exists\r\n"
       ]
      },
      {
       "output_type": "stream",
       "stream": "stdout",
       "text": [
        "mkdir: cannot create directory \u2018Cryptococcus_neoformans_var_grubii_Gb1591\u2019: File exists\r\n"
       ]
      },
      {
       "output_type": "stream",
       "stream": "stdout",
       "text": [
        "mkdir: cannot create directory \u2018Cryptococcus_neoformans_var_grubii_IUM_962828\u2019: File exists\r\n"
       ]
      },
      {
       "output_type": "stream",
       "stream": "stdout",
       "text": [
        "mkdir: cannot create directory \u2018Cryptococcus_neoformans_var_grubii_In2632\u2019: File exists\r\n"
       ]
      },
      {
       "output_type": "stream",
       "stream": "stdout",
       "text": [
        "mkdir: cannot create directory \u2018Cryptococcus_neoformans_var_grubii_Jo2781\u2019: File exists\r\n"
       ]
      },
      {
       "output_type": "stream",
       "stream": "stdout",
       "text": [
        "mkdir: cannot create directory \u2018Cryptococcus_neoformans_var_grubii_Jp1088\u2019: File exists\r\n"
       ]
      },
      {
       "output_type": "stream",
       "stream": "stdout",
       "text": [
        "mkdir: cannot create directory \u2018Cryptococcus_neoformans_var_grubii_LPRSA116\u2019: File exists\r\n"
       ]
      },
      {
       "output_type": "stream",
       "stream": "stdout",
       "text": [
        "mkdir: cannot create directory \u2018Cryptococcus_neoformans_var_grubii_LPRSA1343\u2019: File exists\r\n"
       ]
      },
      {
       "output_type": "stream",
       "stream": "stdout",
       "text": [
        "mkdir: cannot create directory \u2018Cryptococcus_neoformans_var_grubii_LPRSA1684\u2019: File exists\r\n"
       ]
      },
      {
       "output_type": "stream",
       "stream": "stdout",
       "text": [
        "mkdir: cannot create directory \u2018Cryptococcus_neoformans_var_grubii_LPRSA2296\u2019: File exists\r\n"
       ]
      },
      {
       "output_type": "stream",
       "stream": "stdout",
       "text": [
        "mkdir: cannot create directory \u2018Cryptococcus_neoformans_var_grubii_LPRSA2297\u2019: File exists\r\n"
       ]
      },
      {
       "output_type": "stream",
       "stream": "stdout",
       "text": [
        "mkdir: cannot create directory \u2018Cryptococcus_neoformans_var_grubii_LPRSA3042\u2019: File exists\r\n"
       ]
      },
      {
       "output_type": "stream",
       "stream": "stdout",
       "text": [
        "mkdir: cannot create directory \u2018Cryptococcus_neoformans_var_grubii_LPRSA3144\u2019: File exists\r\n"
       ]
      },
      {
       "output_type": "stream",
       "stream": "stdout",
       "text": [
        "mkdir: cannot create directory \u2018Cryptococcus_neoformans_var_grubii_LPRSA6618\u2019: File exists\r\n"
       ]
      },
      {
       "output_type": "stream",
       "stream": "stdout",
       "text": [
        "mkdir: cannot create directory \u2018Cryptococcus_neoformans_var_grubii_LPRSA756\u2019: File exists\r\n"
       ]
      },
      {
       "output_type": "stream",
       "stream": "stdout",
       "text": [
        "mkdir: cannot create directory \u2018Cryptococcus_neoformans_var_grubii_LPRSA848\u2019: File exists\r\n"
       ]
      },
      {
       "output_type": "stream",
       "stream": "stdout",
       "text": [
        "mkdir: cannot create directory \u2018Cryptococcus_neoformans_var_grubii_MMRL1368\u2019: File exists\r\n"
       ]
      },
      {
       "output_type": "stream",
       "stream": "stdout",
       "text": [
        "mkdir: cannot create directory \u2018Cryptococcus_neoformans_var_grubii_MMRL2445\u2019: File exists\r\n"
       ]
      },
      {
       "output_type": "stream",
       "stream": "stdout",
       "text": [
        "mkdir: cannot create directory \u2018Cryptococcus_neoformans_var_grubii_MWRSA1186\u2019: File exists\r\n"
       ]
      },
      {
       "output_type": "stream",
       "stream": "stdout",
       "text": [
        "mkdir: cannot create directory \u2018Cryptococcus_neoformans_var_grubii_MWRSA1327\u2019: File exists\r\n"
       ]
      },
      {
       "output_type": "stream",
       "stream": "stdout",
       "text": [
        "mkdir: cannot create directory \u2018Cryptococcus_neoformans_var_grubii_MWRSA1607\u2019: File exists\r\n"
       ]
      },
      {
       "output_type": "stream",
       "stream": "stdout",
       "text": [
        "mkdir: cannot create directory \u2018Cryptococcus_neoformans_var_grubii_MWRSA1869\u2019: File exists\r\n"
       ]
      },
      {
       "output_type": "stream",
       "stream": "stdout",
       "text": [
        "mkdir: cannot create directory \u2018Cryptococcus_neoformans_var_grubii_MWRSA1955\u2019: File exists\r\n"
       ]
      },
      {
       "output_type": "stream",
       "stream": "stdout",
       "text": [
        "mkdir: cannot create directory \u2018Cryptococcus_neoformans_var_grubii_MWRSA2628\u2019: File exists\r\n"
       ]
      },
      {
       "output_type": "stream",
       "stream": "stdout",
       "text": [
        "mkdir: cannot create directory \u2018Cryptococcus_neoformans_var_grubii_MWRSA2967\u2019: File exists\r\n"
       ]
      },
      {
       "output_type": "stream",
       "stream": "stdout",
       "text": [
        "mkdir: cannot create directory \u2018Cryptococcus_neoformans_var_grubii_MWRSA3179\u2019: File exists\r\n"
       ]
      },
      {
       "output_type": "stream",
       "stream": "stdout",
       "text": [
        "mkdir: cannot create directory \u2018Cryptococcus_neoformans_var_grubii_MWRSA3321\u2019: File exists\r\n"
       ]
      },
      {
       "output_type": "stream",
       "stream": "stdout",
       "text": [
        "mkdir: cannot create directory \u2018Cryptococcus_neoformans_var_grubii_MWRSA36\u2019: File exists\r\n"
       ]
      },
      {
       "output_type": "stream",
       "stream": "stdout",
       "text": [
        "mkdir: cannot create directory \u2018Cryptococcus_neoformans_var_grubii_MWRSA3834\u2019: File exists\r\n"
       ]
      },
      {
       "output_type": "stream",
       "stream": "stdout",
       "text": [
        "mkdir: cannot create directory \u2018Cryptococcus_neoformans_var_grubii_MWRSA3956\u2019: File exists\r\n"
       ]
      },
      {
       "output_type": "stream",
       "stream": "stdout",
       "text": [
        "mkdir: cannot create directory \u2018Cryptococcus_neoformans_var_grubii_MWRSA4119\u2019: File exists\r\n"
       ]
      },
      {
       "output_type": "stream",
       "stream": "stdout",
       "text": [
        "mkdir: cannot create directory \u2018Cryptococcus_neoformans_var_grubii_MWRSA524\u2019: File exists\r\n"
       ]
      },
      {
       "output_type": "stream",
       "stream": "stdout",
       "text": [
        "mkdir: cannot create directory \u2018Cryptococcus_neoformans_var_grubii_MWRSA5387\u2019: File exists\r\n"
       ]
      },
      {
       "output_type": "stream",
       "stream": "stdout",
       "text": [
        "mkdir: cannot create directory \u2018Cryptococcus_neoformans_var_grubii_MWRSA606\u2019: File exists\r\n"
       ]
      },
      {
       "output_type": "stream",
       "stream": "stdout",
       "text": [
        "mkdir: cannot create directory \u2018Cryptococcus_neoformans_var_grubii_MWRSA6134\u2019: File exists\r\n"
       ]
      },
      {
       "output_type": "stream",
       "stream": "stdout",
       "text": [
        "mkdir: cannot create directory \u2018Cryptococcus_neoformans_var_grubii_MWRSA852\u2019: File exists\r\n"
       ]
      },
      {
       "output_type": "stream",
       "stream": "stdout",
       "text": [
        "mkdir: cannot create directory \u2018Cryptococcus_neoformans_var_grubii_MWRSA913\u2019: File exists\r\n"
       ]
      },
      {
       "output_type": "stream",
       "stream": "stdout",
       "text": [
        "mkdir: cannot create directory \u2018Cryptococcus_neoformans_var_grubii_PLR10\u2019: File exists\r\n"
       ]
      },
      {
       "output_type": "stream",
       "stream": "stdout",
       "text": [
        "mkdir: cannot create directory \u2018Cryptococcus_neoformans_var_grubii_Pr2841\u2019: File exists\r\n"
       ]
      },
      {
       "output_type": "stream",
       "stream": "stdout",
       "text": [
        "mkdir: cannot create directory \u2018Cryptococcus_neoformans_var_grubii_RTC1\u2019: File exists\r\n"
       ]
      },
      {
       "output_type": "stream",
       "stream": "stdout",
       "text": [
        "mkdir: cannot create directory \u2018Cryptococcus_neoformans_var_grubii_RTC3\u2019: File exists\r\n"
       ]
      },
      {
       "output_type": "stream",
       "stream": "stdout",
       "text": [
        "mkdir: cannot create directory \u2018Cryptococcus_neoformans_var_grubii_RTC5\u2019: File exists\r\n"
       ]
      },
      {
       "output_type": "stream",
       "stream": "stdout",
       "text": [
        "mkdir: cannot create directory \u2018Cryptococcus_neoformans_var_grubii_SB4\u2019: File exists\r\n"
       ]
      },
      {
       "output_type": "stream",
       "stream": "stdout",
       "text": [
        "mkdir: cannot create directory \u2018Cryptococcus_neoformans_var_grubii_T4\u2019: File exists\r\n"
       ]
      },
      {
       "output_type": "stream",
       "stream": "stdout",
       "text": [
        "mkdir: cannot create directory \u2018Cryptococcus_neoformans_var_grubii_Th206\u2019: File exists\r\n"
       ]
      },
      {
       "output_type": "stream",
       "stream": "stdout",
       "text": [
        "mkdir: cannot create directory \u2018Cryptococcus_neoformans_var_grubii_Tu2291\u2019: File exists\r\n"
       ]
      },
      {
       "output_type": "stream",
       "stream": "stdout",
       "text": [
        "mkdir: cannot create directory \u2018Cryptococcus_neoformans_var_grubii_Tu2411\u2019: File exists\r\n"
       ]
      },
      {
       "output_type": "stream",
       "stream": "stdout",
       "text": [
        "mkdir: cannot create directory \u2018Cryptococcus_neoformans_var_grubii_Tu2481\u2019: File exists\r\n"
       ]
      },
      {
       "output_type": "stream",
       "stream": "stdout",
       "text": [
        "mkdir: cannot create directory \u2018Cryptococcus_neoformans_var_grubii_Tu2591\u2019: File exists\r\n"
       ]
      },
      {
       "output_type": "stream",
       "stream": "stdout",
       "text": [
        "mkdir: cannot create directory \u2018Cryptococcus_neoformans_var_grubii_Tu3601\u2019: File exists\r\n"
       ]
      },
      {
       "output_type": "stream",
       "stream": "stdout",
       "text": [
        "mkdir: cannot create directory \u2018Cryptococcus_neoformans_var_grubii_Tu3691\u2019: File exists\r\n"
       ]
      },
      {
       "output_type": "stream",
       "stream": "stdout",
       "text": [
        "mkdir: cannot create directory \u2018Cryptococcus_neoformans_var_grubii_Tu4011\u2019: File exists\r\n"
       ]
      },
      {
       "output_type": "stream",
       "stream": "stdout",
       "text": [
        "mkdir: cannot create directory \u2018Cryptococcus_neoformans_var_grubii_Tu4061\u2019: File exists\r\n"
       ]
      },
      {
       "output_type": "stream",
       "stream": "stdout",
       "text": [
        "mkdir: cannot create directory \u2018Cryptococcus_neoformans_var_grubii_Tu4161\u2019: File exists\r\n"
       ]
      },
      {
       "output_type": "stream",
       "stream": "stdout",
       "text": [
        "mkdir: cannot create directory \u2018Cryptococcus_neoformans_var_grubii_Tu4221\u2019: File exists\r\n"
       ]
      },
      {
       "output_type": "stream",
       "stream": "stdout",
       "text": [
        "mkdir: cannot create directory \u2018Cryptococcus_neoformans_var_grubii_Ug2459\u2019: File exists\r\n"
       ]
      },
      {
       "output_type": "stream",
       "stream": "stdout",
       "text": [
        "mkdir: cannot create directory \u2018Cryptococcus_neoformans_var_grubii_Ug2462\u2019: File exists\r\n"
       ]
      },
      {
       "output_type": "stream",
       "stream": "stdout",
       "text": [
        "mkdir: cannot create directory \u2018Cryptococcus_neoformans_var_grubii_Ug2463\u2019: File exists\r\n"
       ]
      },
      {
       "output_type": "stream",
       "stream": "stdout",
       "text": [
        "mkdir: cannot create directory \u2018Cryptococcus_neoformans_var_grubii_WM148\u2019: File exists\r\n"
       ]
      },
      {
       "output_type": "stream",
       "stream": "stdout",
       "text": [
        "mkdir: cannot create directory \u2018Cryptococcus_neoformans_var_grubii_WM626_MMRL_3150\u2019: File exists\r\n"
       ]
      },
      {
       "output_type": "stream",
       "stream": "stdout",
       "text": [
        "mkdir: cannot create directory \u2018Cryptococcus_neoformans_var_grubii_WM629\u2019: File exists\r\n"
       ]
      },
      {
       "output_type": "stream",
       "stream": "stdout",
       "text": [
        "mkdir: cannot create directory \u2018Cryptococcus_neoformans_var_grubii_Ze901\u2019: File exists\r\n"
       ]
      }
     ],
     "prompt_number": 21
    },
    {
     "cell_type": "code",
     "collapsed": false,
     "input": [
      "df2.head()"
     ],
     "language": "python",
     "metadata": {},
     "outputs": [
      {
       "html": [
        "<div style=\"max-height:1000px;max-width:1500px;overflow:auto;\">\n",
        "<table border=\"1\" class=\"dataframe\">\n",
        "  <thead>\n",
        "    <tr style=\"text-align: right;\">\n",
        "      <th></th>\n",
        "      <th>study_accession</th>\n",
        "      <th>sample_accession</th>\n",
        "      <th>experiment_accession</th>\n",
        "      <th>run_accession</th>\n",
        "      <th>scientific_name</th>\n",
        "      <th>instrument_model</th>\n",
        "      <th>library_layout</th>\n",
        "      <th>fastq_ftp</th>\n",
        "      <th>filename</th>\n",
        "    </tr>\n",
        "  </thead>\n",
        "  <tbody>\n",
        "    <tr>\n",
        "      <th>1770</th>\n",
        "      <td> PRJNA227924</td>\n",
        "      <td> SAMN02412465</td>\n",
        "      <td> SRX400053</td>\n",
        "      <td> SRR1063247</td>\n",
        "      <td> Cryptococcus neoformans var. grubii 102-14</td>\n",
        "      <td> Illumina HiSeq 2000</td>\n",
        "      <td> PAIRED</td>\n",
        "      <td> ftp.sra.ebi.ac.uk/vol1/fastq/SRR106/007/SRR106...</td>\n",
        "      <td> PRJNA227924.txt</td>\n",
        "    </tr>\n",
        "    <tr>\n",
        "      <th>1771</th>\n",
        "      <td> PRJNA227924</td>\n",
        "      <td> SAMN02412465</td>\n",
        "      <td> SRX400052</td>\n",
        "      <td> SRR1063248</td>\n",
        "      <td> Cryptococcus neoformans var. grubii 102-14</td>\n",
        "      <td> Illumina HiSeq 2000</td>\n",
        "      <td> PAIRED</td>\n",
        "      <td> ftp.sra.ebi.ac.uk/vol1/fastq/SRR106/008/SRR106...</td>\n",
        "      <td> PRJNA227924.txt</td>\n",
        "    </tr>\n",
        "    <tr>\n",
        "      <th>1742</th>\n",
        "      <td> PRJNA227914</td>\n",
        "      <td> SAMN02412455</td>\n",
        "      <td> SRX400054</td>\n",
        "      <td> SRR1063249</td>\n",
        "      <td>   Cryptococcus neoformans var. grubii 1033</td>\n",
        "      <td> Illumina HiSeq 2000</td>\n",
        "      <td> PAIRED</td>\n",
        "      <td> ftp.sra.ebi.ac.uk/vol1/fastq/SRR106/009/SRR106...</td>\n",
        "      <td> PRJNA227914.txt</td>\n",
        "    </tr>\n",
        "    <tr>\n",
        "      <th>1778</th>\n",
        "      <td> PRJNA227929</td>\n",
        "      <td> SAMN02412470</td>\n",
        "      <td> SRX400055</td>\n",
        "      <td> SRR1063250</td>\n",
        "      <td>   Cryptococcus neoformans var. grubii 1035</td>\n",
        "      <td> Illumina HiSeq 2000</td>\n",
        "      <td> PAIRED</td>\n",
        "      <td> ftp.sra.ebi.ac.uk/vol1/fastq/SRR106/000/SRR106...</td>\n",
        "      <td> PRJNA227929.txt</td>\n",
        "    </tr>\n",
        "    <tr>\n",
        "      <th>1779</th>\n",
        "      <td> PRJNA227930</td>\n",
        "      <td> SAMN02412471</td>\n",
        "      <td> SRX400056</td>\n",
        "      <td> SRR1063251</td>\n",
        "      <td>   Cryptococcus neoformans var. grubii 1052</td>\n",
        "      <td> Illumina HiSeq 2000</td>\n",
        "      <td> PAIRED</td>\n",
        "      <td> ftp.sra.ebi.ac.uk/vol1/fastq/SRR106/001/SRR106...</td>\n",
        "      <td> PRJNA227930.txt</td>\n",
        "    </tr>\n",
        "  </tbody>\n",
        "</table>\n",
        "</div>"
       ],
       "metadata": {},
       "output_type": "pyout",
       "prompt_number": 22,
       "text": [
        "     study_accession sample_accession experiment_accession run_accession  \\\n",
        "1770     PRJNA227924     SAMN02412465            SRX400053    SRR1063247   \n",
        "1771     PRJNA227924     SAMN02412465            SRX400052    SRR1063248   \n",
        "1742     PRJNA227914     SAMN02412455            SRX400054    SRR1063249   \n",
        "1778     PRJNA227929     SAMN02412470            SRX400055    SRR1063250   \n",
        "1779     PRJNA227930     SAMN02412471            SRX400056    SRR1063251   \n",
        "\n",
        "                                 scientific_name     instrument_model  \\\n",
        "1770  Cryptococcus neoformans var. grubii 102-14  Illumina HiSeq 2000   \n",
        "1771  Cryptococcus neoformans var. grubii 102-14  Illumina HiSeq 2000   \n",
        "1742    Cryptococcus neoformans var. grubii 1033  Illumina HiSeq 2000   \n",
        "1778    Cryptococcus neoformans var. grubii 1035  Illumina HiSeq 2000   \n",
        "1779    Cryptococcus neoformans var. grubii 1052  Illumina HiSeq 2000   \n",
        "\n",
        "     library_layout                                          fastq_ftp  \\\n",
        "1770         PAIRED  ftp.sra.ebi.ac.uk/vol1/fastq/SRR106/007/SRR106...   \n",
        "1771         PAIRED  ftp.sra.ebi.ac.uk/vol1/fastq/SRR106/008/SRR106...   \n",
        "1742         PAIRED  ftp.sra.ebi.ac.uk/vol1/fastq/SRR106/009/SRR106...   \n",
        "1778         PAIRED  ftp.sra.ebi.ac.uk/vol1/fastq/SRR106/000/SRR106...   \n",
        "1779         PAIRED  ftp.sra.ebi.ac.uk/vol1/fastq/SRR106/001/SRR106...   \n",
        "\n",
        "             filename  \n",
        "1770  PRJNA227924.txt  \n",
        "1771  PRJNA227924.txt  \n",
        "1742  PRJNA227914.txt  \n",
        "1778  PRJNA227929.txt  \n",
        "1779  PRJNA227930.txt  "
       ]
      }
     ],
     "prompt_number": 22
    },
    {
     "cell_type": "code",
     "collapsed": false,
     "input": [
      "itervar = 0\n",
      "for row_index, row in df2.iterrows():\n",
      "    stripped = row['scientific_name'].translate(string.maketrans(\"\",\"\"), string.punctuation)\n",
      "    directory_name = '_'.join(stripped.split())\n",
      "    links = row['fastq_ftp'].split(';')\n",
      "    run_names = row['run_accession']\n",
      "#     for downloads in links:\n",
      "#         !echo $downloads >> $directory_name/download_links.txt\n",
      "    !echo $run_names >> $directory_name/run_names.txt\n",
      "    itervar = itervar + 1"
     ],
     "language": "python",
     "metadata": {},
     "outputs": [],
     "prompt_number": 23
    },
    {
     "cell_type": "code",
     "collapsed": false,
     "input": [],
     "language": "python",
     "metadata": {},
     "outputs": []
    }
   ],
   "metadata": {}
  }
 ]
}